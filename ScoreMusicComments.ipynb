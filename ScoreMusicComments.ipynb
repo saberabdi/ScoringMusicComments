{
  "nbformat": 4,
  "nbformat_minor": 0,
  "metadata": {
    "colab": {
      "name": "ScoreMusicComments.ipynb",
      "provenance": [],
      "collapsed_sections": []
    },
    "kernelspec": {
      "name": "python3",
      "display_name": "Python 3"
    }
  },
  "cells": [
    {
      "cell_type": "markdown",
      "metadata": {
        "id": "vxwP8WagSa7-"
      },
      "source": [
        "#Preparation of the environment "
      ]
    },
    {
      "cell_type": "markdown",
      "metadata": {
        "id": "TQjqMsh7Tp9E"
      },
      "source": [
        "Importing the libraries"
      ]
    },
    {
      "cell_type": "code",
      "metadata": {
        "id": "534J5rv8SwnF"
      },
      "source": [
        "import pandas as pd\n",
        "import numpy as np \n",
        "import matplotlib.pyplot as plt \n",
        "import re\n",
        "import string\n",
        "from google.colab import files\n",
        "import seaborn as sns\n",
        "import spacy\n",
        "sns.set()"
      ],
      "execution_count": null,
      "outputs": []
    },
    {
      "cell_type": "markdown",
      "metadata": {
        "id": "IHm-ohhyTtYM"
      },
      "source": [
        "Uploading the csv file on the notebbook"
      ]
    },
    {
      "cell_type": "code",
      "metadata": {
        "colab": {
          "resources": {
            "http://localhost:8080/nbextensions/google.colab/files.js": {
              "data": "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",
              "ok": true,
              "headers": [
                [
                  "content-type",
                  "application/javascript"
                ]
              ],
              "status": 200,
              "status_text": ""
            }
          },
          "base_uri": "https://localhost:8080/",
          "height": 89
        },
        "id": "UUyGhgGlTjOT",
        "outputId": "83bfb9c0-d6b1-4363-d187-f611ee25ba20"
      },
      "source": [
        "uploaded = files.upload()\n",
        "\n",
        "for fn in uploaded.keys():\n",
        "  print('User uploaded file \"{name}\" with length {length} bytes'.format(\n",
        "      name=fn, length=len(uploaded[fn])))\n"
      ],
      "execution_count": null,
      "outputs": [
        {
          "output_type": "display_data",
          "data": {
            "text/html": [
              "\n",
              "     <input type=\"file\" id=\"files-2143c26a-2fea-46bf-8626-ae6384b6d8fa\" name=\"files[]\" multiple disabled\n",
              "        style=\"border:none\" />\n",
              "     <output id=\"result-2143c26a-2fea-46bf-8626-ae6384b6d8fa\">\n",
              "      Upload widget is only available when the cell has been executed in the\n",
              "      current browser session. Please rerun this cell to enable.\n",
              "      </output>\n",
              "      <script src=\"/nbextensions/google.colab/files.js\"></script> "
            ],
            "text/plain": [
              "<IPython.core.display.HTML object>"
            ]
          },
          "metadata": {
            "tags": []
          }
        },
        {
          "output_type": "stream",
          "text": [
            "Saving groover_dataset_challenge.csv to groover_dataset_challenge.csv\n",
            "User uploaded file \"groover_dataset_challenge.csv\" with length 3276492 bytes\n"
          ],
          "name": "stdout"
        }
      ]
    },
    {
      "cell_type": "markdown",
      "metadata": {
        "id": "gUtiu0XPT_O2"
      },
      "source": [
        "Reading the csv and creating the dataset"
      ]
    },
    {
      "cell_type": "code",
      "metadata": {
        "colab": {
          "base_uri": "https://localhost:8080/",
          "height": 359
        },
        "id": "HIdn7zIxT-5W",
        "outputId": "ad30cb99-0622-4742-d4b7-4081969e0129"
      },
      "source": [
        "data=pd.read_csv('groover_dataset_challenge.csv')\n",
        "data.head(10)"
      ],
      "execution_count": null,
      "outputs": [
        {
          "output_type": "execute_result",
          "data": {
            "text/html": [
              "<div>\n",
              "<style scoped>\n",
              "    .dataframe tbody tr th:only-of-type {\n",
              "        vertical-align: middle;\n",
              "    }\n",
              "\n",
              "    .dataframe tbody tr th {\n",
              "        vertical-align: top;\n",
              "    }\n",
              "\n",
              "    .dataframe thead th {\n",
              "        text-align: right;\n",
              "    }\n",
              "</style>\n",
              "<table border=\"1\" class=\"dataframe\">\n",
              "  <thead>\n",
              "    <tr style=\"text-align: right;\">\n",
              "      <th></th>\n",
              "      <th>Unnamed: 0</th>\n",
              "      <th>id</th>\n",
              "      <th>band_id</th>\n",
              "      <th>influencer_id</th>\n",
              "      <th>feedback</th>\n",
              "      <th>score</th>\n",
              "    </tr>\n",
              "  </thead>\n",
              "  <tbody>\n",
              "    <tr>\n",
              "      <th>0</th>\n",
              "      <td>0</td>\n",
              "      <td>920636</td>\n",
              "      <td>24665</td>\n",
              "      <td>1642</td>\n",
              "      <td>Bonjour Diogo Ramos,\\n\\n\\nMerci pour le partag...</td>\n",
              "      <td>0.0</td>\n",
              "    </tr>\n",
              "    <tr>\n",
              "      <th>1</th>\n",
              "      <td>1</td>\n",
              "      <td>920637</td>\n",
              "      <td>24665</td>\n",
              "      <td>118</td>\n",
              "      <td>Un message touchant, développé sur une onde mu...</td>\n",
              "      <td>0.0</td>\n",
              "    </tr>\n",
              "    <tr>\n",
              "      <th>2</th>\n",
              "      <td>2</td>\n",
              "      <td>920639</td>\n",
              "      <td>24665</td>\n",
              "      <td>226</td>\n",
              "      <td>Bonjour ! Merci beaucoup pour l'envoi ! On n'e...</td>\n",
              "      <td>0.0</td>\n",
              "    </tr>\n",
              "    <tr>\n",
              "      <th>3</th>\n",
              "      <td>3</td>\n",
              "      <td>920640</td>\n",
              "      <td>24665</td>\n",
              "      <td>1603</td>\n",
              "      <td>Bonjour. Merci pour cette fraîcheur et cet hym...</td>\n",
              "      <td>1.0</td>\n",
              "    </tr>\n",
              "    <tr>\n",
              "      <th>4</th>\n",
              "      <td>4</td>\n",
              "      <td>920641</td>\n",
              "      <td>24665</td>\n",
              "      <td>111</td>\n",
              "      <td>Salut Diogo, alors c'est un peu éloigné de ce ...</td>\n",
              "      <td>1.0</td>\n",
              "    </tr>\n",
              "    <tr>\n",
              "      <th>5</th>\n",
              "      <td>5</td>\n",
              "      <td>920642</td>\n",
              "      <td>24665</td>\n",
              "      <td>2024</td>\n",
              "      <td>Bonjour\\nMerci le titre est très frais! Mais m...</td>\n",
              "      <td>0.0</td>\n",
              "    </tr>\n",
              "    <tr>\n",
              "      <th>6</th>\n",
              "      <td>6</td>\n",
              "      <td>920643</td>\n",
              "      <td>24665</td>\n",
              "      <td>3113</td>\n",
              "      <td>Une chanson qui nous fait voyager dans des con...</td>\n",
              "      <td>0.0</td>\n",
              "    </tr>\n",
              "    <tr>\n",
              "      <th>7</th>\n",
              "      <td>7</td>\n",
              "      <td>920644</td>\n",
              "      <td>24665</td>\n",
              "      <td>2563</td>\n",
              "      <td>Bonjour,\\n\\nExcellent morceau alliant la langu...</td>\n",
              "      <td>1.0</td>\n",
              "    </tr>\n",
              "    <tr>\n",
              "      <th>8</th>\n",
              "      <td>8</td>\n",
              "      <td>920646</td>\n",
              "      <td>24665</td>\n",
              "      <td>681</td>\n",
              "      <td>c'est très agréable à écouter, et les mélodies...</td>\n",
              "      <td>0.0</td>\n",
              "    </tr>\n",
              "    <tr>\n",
              "      <th>9</th>\n",
              "      <td>9</td>\n",
              "      <td>920647</td>\n",
              "      <td>24665</td>\n",
              "      <td>1297</td>\n",
              "      <td>C'est vrai qu'est ce qu'on l'aime la liberté w...</td>\n",
              "      <td>1.0</td>\n",
              "    </tr>\n",
              "  </tbody>\n",
              "</table>\n",
              "</div>"
            ],
            "text/plain": [
              "   Unnamed: 0      id  ...                                           feedback  score\n",
              "0           0  920636  ...  Bonjour Diogo Ramos,\\n\\n\\nMerci pour le partag...    0.0\n",
              "1           1  920637  ...  Un message touchant, développé sur une onde mu...    0.0\n",
              "2           2  920639  ...  Bonjour ! Merci beaucoup pour l'envoi ! On n'e...    0.0\n",
              "3           3  920640  ...  Bonjour. Merci pour cette fraîcheur et cet hym...    1.0\n",
              "4           4  920641  ...  Salut Diogo, alors c'est un peu éloigné de ce ...    1.0\n",
              "5           5  920642  ...  Bonjour\\nMerci le titre est très frais! Mais m...    0.0\n",
              "6           6  920643  ...  Une chanson qui nous fait voyager dans des con...    0.0\n",
              "7           7  920644  ...  Bonjour,\\n\\nExcellent morceau alliant la langu...    1.0\n",
              "8           8  920646  ...  c'est très agréable à écouter, et les mélodies...    0.0\n",
              "9           9  920647  ...  C'est vrai qu'est ce qu'on l'aime la liberté w...    1.0\n",
              "\n",
              "[10 rows x 6 columns]"
            ]
          },
          "metadata": {
            "tags": []
          },
          "execution_count": 3
        }
      ]
    },
    {
      "cell_type": "code",
      "metadata": {
        "id": "Lg17k25IUKyB"
      },
      "source": [
        "data=data.drop(columns=\"Unnamed: 0\") #removing the first column since it's just the index"
      ],
      "execution_count": null,
      "outputs": []
    },
    {
      "cell_type": "code",
      "metadata": {
        "colab": {
          "base_uri": "https://localhost:8080/",
          "height": 359
        },
        "id": "zSLoAK6oUeWf",
        "outputId": "bc77f012-a66f-4ce1-973c-9d3435c9105a"
      },
      "source": [
        "data.head(10)"
      ],
      "execution_count": null,
      "outputs": [
        {
          "output_type": "execute_result",
          "data": {
            "text/html": [
              "<div>\n",
              "<style scoped>\n",
              "    .dataframe tbody tr th:only-of-type {\n",
              "        vertical-align: middle;\n",
              "    }\n",
              "\n",
              "    .dataframe tbody tr th {\n",
              "        vertical-align: top;\n",
              "    }\n",
              "\n",
              "    .dataframe thead th {\n",
              "        text-align: right;\n",
              "    }\n",
              "</style>\n",
              "<table border=\"1\" class=\"dataframe\">\n",
              "  <thead>\n",
              "    <tr style=\"text-align: right;\">\n",
              "      <th></th>\n",
              "      <th>id</th>\n",
              "      <th>band_id</th>\n",
              "      <th>influencer_id</th>\n",
              "      <th>feedback</th>\n",
              "      <th>score</th>\n",
              "    </tr>\n",
              "  </thead>\n",
              "  <tbody>\n",
              "    <tr>\n",
              "      <th>0</th>\n",
              "      <td>920636</td>\n",
              "      <td>24665</td>\n",
              "      <td>1642</td>\n",
              "      <td>Bonjour Diogo Ramos,\\n\\n\\nMerci pour le partag...</td>\n",
              "      <td>0.0</td>\n",
              "    </tr>\n",
              "    <tr>\n",
              "      <th>1</th>\n",
              "      <td>920637</td>\n",
              "      <td>24665</td>\n",
              "      <td>118</td>\n",
              "      <td>Un message touchant, développé sur une onde mu...</td>\n",
              "      <td>0.0</td>\n",
              "    </tr>\n",
              "    <tr>\n",
              "      <th>2</th>\n",
              "      <td>920639</td>\n",
              "      <td>24665</td>\n",
              "      <td>226</td>\n",
              "      <td>Bonjour ! Merci beaucoup pour l'envoi ! On n'e...</td>\n",
              "      <td>0.0</td>\n",
              "    </tr>\n",
              "    <tr>\n",
              "      <th>3</th>\n",
              "      <td>920640</td>\n",
              "      <td>24665</td>\n",
              "      <td>1603</td>\n",
              "      <td>Bonjour. Merci pour cette fraîcheur et cet hym...</td>\n",
              "      <td>1.0</td>\n",
              "    </tr>\n",
              "    <tr>\n",
              "      <th>4</th>\n",
              "      <td>920641</td>\n",
              "      <td>24665</td>\n",
              "      <td>111</td>\n",
              "      <td>Salut Diogo, alors c'est un peu éloigné de ce ...</td>\n",
              "      <td>1.0</td>\n",
              "    </tr>\n",
              "    <tr>\n",
              "      <th>5</th>\n",
              "      <td>920642</td>\n",
              "      <td>24665</td>\n",
              "      <td>2024</td>\n",
              "      <td>Bonjour\\nMerci le titre est très frais! Mais m...</td>\n",
              "      <td>0.0</td>\n",
              "    </tr>\n",
              "    <tr>\n",
              "      <th>6</th>\n",
              "      <td>920643</td>\n",
              "      <td>24665</td>\n",
              "      <td>3113</td>\n",
              "      <td>Une chanson qui nous fait voyager dans des con...</td>\n",
              "      <td>0.0</td>\n",
              "    </tr>\n",
              "    <tr>\n",
              "      <th>7</th>\n",
              "      <td>920644</td>\n",
              "      <td>24665</td>\n",
              "      <td>2563</td>\n",
              "      <td>Bonjour,\\n\\nExcellent morceau alliant la langu...</td>\n",
              "      <td>1.0</td>\n",
              "    </tr>\n",
              "    <tr>\n",
              "      <th>8</th>\n",
              "      <td>920646</td>\n",
              "      <td>24665</td>\n",
              "      <td>681</td>\n",
              "      <td>c'est très agréable à écouter, et les mélodies...</td>\n",
              "      <td>0.0</td>\n",
              "    </tr>\n",
              "    <tr>\n",
              "      <th>9</th>\n",
              "      <td>920647</td>\n",
              "      <td>24665</td>\n",
              "      <td>1297</td>\n",
              "      <td>C'est vrai qu'est ce qu'on l'aime la liberté w...</td>\n",
              "      <td>1.0</td>\n",
              "    </tr>\n",
              "  </tbody>\n",
              "</table>\n",
              "</div>"
            ],
            "text/plain": [
              "       id  band_id  ...                                           feedback score\n",
              "0  920636    24665  ...  Bonjour Diogo Ramos,\\n\\n\\nMerci pour le partag...   0.0\n",
              "1  920637    24665  ...  Un message touchant, développé sur une onde mu...   0.0\n",
              "2  920639    24665  ...  Bonjour ! Merci beaucoup pour l'envoi ! On n'e...   0.0\n",
              "3  920640    24665  ...  Bonjour. Merci pour cette fraîcheur et cet hym...   1.0\n",
              "4  920641    24665  ...  Salut Diogo, alors c'est un peu éloigné de ce ...   1.0\n",
              "5  920642    24665  ...  Bonjour\\nMerci le titre est très frais! Mais m...   0.0\n",
              "6  920643    24665  ...  Une chanson qui nous fait voyager dans des con...   0.0\n",
              "7  920644    24665  ...  Bonjour,\\n\\nExcellent morceau alliant la langu...   1.0\n",
              "8  920646    24665  ...  c'est très agréable à écouter, et les mélodies...   0.0\n",
              "9  920647    24665  ...  C'est vrai qu'est ce qu'on l'aime la liberté w...   1.0\n",
              "\n",
              "[10 rows x 5 columns]"
            ]
          },
          "metadata": {
            "tags": []
          },
          "execution_count": 5
        }
      ]
    },
    {
      "cell_type": "markdown",
      "metadata": {
        "id": "1jQrQ6ZBSSj3"
      },
      "source": [
        "#General Statistics"
      ]
    },
    {
      "cell_type": "markdown",
      "metadata": {
        "id": "GhMp_AgVVdUg"
      },
      "source": [
        "Standard procedure to make sure that there aren't any values missing"
      ]
    },
    {
      "cell_type": "code",
      "metadata": {
        "colab": {
          "base_uri": "https://localhost:8080/"
        },
        "id": "z6OY8bzZVmaE",
        "outputId": "9c84c3c9-24b2-4358-c7b6-c996fed2584d"
      },
      "source": [
        "data.shape"
      ],
      "execution_count": null,
      "outputs": [
        {
          "output_type": "execute_result",
          "data": {
            "text/plain": [
              "(10000, 5)"
            ]
          },
          "metadata": {
            "tags": []
          },
          "execution_count": 6
        }
      ]
    },
    {
      "cell_type": "code",
      "metadata": {
        "colab": {
          "base_uri": "https://localhost:8080/",
          "height": 297
        },
        "id": "rI_gCSxGR_hv",
        "outputId": "88db32a4-6908-4695-dcbd-c56989c6773c"
      },
      "source": [
        "data.describe()"
      ],
      "execution_count": null,
      "outputs": [
        {
          "output_type": "execute_result",
          "data": {
            "text/html": [
              "<div>\n",
              "<style scoped>\n",
              "    .dataframe tbody tr th:only-of-type {\n",
              "        vertical-align: middle;\n",
              "    }\n",
              "\n",
              "    .dataframe tbody tr th {\n",
              "        vertical-align: top;\n",
              "    }\n",
              "\n",
              "    .dataframe thead th {\n",
              "        text-align: right;\n",
              "    }\n",
              "</style>\n",
              "<table border=\"1\" class=\"dataframe\">\n",
              "  <thead>\n",
              "    <tr style=\"text-align: right;\">\n",
              "      <th></th>\n",
              "      <th>id</th>\n",
              "      <th>band_id</th>\n",
              "      <th>influencer_id</th>\n",
              "      <th>score</th>\n",
              "    </tr>\n",
              "  </thead>\n",
              "  <tbody>\n",
              "    <tr>\n",
              "      <th>count</th>\n",
              "      <td>10000.000000</td>\n",
              "      <td>10000.000000</td>\n",
              "      <td>10000.000000</td>\n",
              "      <td>10000.000000</td>\n",
              "    </tr>\n",
              "    <tr>\n",
              "      <th>mean</th>\n",
              "      <td>926854.910400</td>\n",
              "      <td>23102.095500</td>\n",
              "      <td>1833.041600</td>\n",
              "      <td>0.268475</td>\n",
              "    </tr>\n",
              "    <tr>\n",
              "      <th>std</th>\n",
              "      <td>3932.233648</td>\n",
              "      <td>11313.591936</td>\n",
              "      <td>971.624905</td>\n",
              "      <td>0.414164</td>\n",
              "    </tr>\n",
              "    <tr>\n",
              "      <th>min</th>\n",
              "      <td>920636.000000</td>\n",
              "      <td>425.000000</td>\n",
              "      <td>102.000000</td>\n",
              "      <td>0.000000</td>\n",
              "    </tr>\n",
              "    <tr>\n",
              "      <th>25%</th>\n",
              "      <td>923560.750000</td>\n",
              "      <td>12979.000000</td>\n",
              "      <td>1081.000000</td>\n",
              "      <td>0.000000</td>\n",
              "    </tr>\n",
              "    <tr>\n",
              "      <th>50%</th>\n",
              "      <td>926461.500000</td>\n",
              "      <td>28611.000000</td>\n",
              "      <td>1896.000000</td>\n",
              "      <td>0.000000</td>\n",
              "    </tr>\n",
              "    <tr>\n",
              "      <th>75%</th>\n",
              "      <td>929746.250000</td>\n",
              "      <td>32990.000000</td>\n",
              "      <td>2587.000000</td>\n",
              "      <td>0.250000</td>\n",
              "    </tr>\n",
              "    <tr>\n",
              "      <th>max</th>\n",
              "      <td>936392.000000</td>\n",
              "      <td>34101.000000</td>\n",
              "      <td>3643.000000</td>\n",
              "      <td>1.000000</td>\n",
              "    </tr>\n",
              "  </tbody>\n",
              "</table>\n",
              "</div>"
            ],
            "text/plain": [
              "                  id       band_id  influencer_id         score\n",
              "count   10000.000000  10000.000000   10000.000000  10000.000000\n",
              "mean   926854.910400  23102.095500    1833.041600      0.268475\n",
              "std      3932.233648  11313.591936     971.624905      0.414164\n",
              "min    920636.000000    425.000000     102.000000      0.000000\n",
              "25%    923560.750000  12979.000000    1081.000000      0.000000\n",
              "50%    926461.500000  28611.000000    1896.000000      0.000000\n",
              "75%    929746.250000  32990.000000    2587.000000      0.250000\n",
              "max    936392.000000  34101.000000    3643.000000      1.000000"
            ]
          },
          "metadata": {
            "tags": []
          },
          "execution_count": 7
        }
      ]
    },
    {
      "cell_type": "code",
      "metadata": {
        "colab": {
          "base_uri": "https://localhost:8080/"
        },
        "id": "XwjkugiqVPkJ",
        "outputId": "c42881de-5824-40f5-99e0-745edd045e65"
      },
      "source": [
        "data.feedback.describe()"
      ],
      "execution_count": null,
      "outputs": [
        {
          "output_type": "execute_result",
          "data": {
            "text/plain": [
              "count                                                 10000\n",
              "unique                                                 8954\n",
              "top       Bonjour, merci de m'avoir contacté. Votre morc...\n",
              "freq                                                     33\n",
              "Name: feedback, dtype: object"
            ]
          },
          "metadata": {
            "tags": []
          },
          "execution_count": 8
        }
      ]
    },
    {
      "cell_type": "markdown",
      "metadata": {
        "id": "Jy1DWjMLVsey"
      },
      "source": [
        "When I opened the file on excel, I noticed that the scores are either 0 , 0.25 ,  0.5 , 1. And now when I used the describe method, I noticed that 75% are under 0.25. Just to make sure."
      ]
    },
    {
      "cell_type": "code",
      "metadata": {
        "colab": {
          "base_uri": "https://localhost:8080/"
        },
        "id": "JaDM97Y2VsK5",
        "outputId": "bcbc4737-4eef-4ac6-a5cb-eaaeb24ce7be"
      },
      "source": [
        "data.score.value_counts()"
      ],
      "execution_count": null,
      "outputs": [
        {
          "output_type": "execute_result",
          "data": {
            "text/plain": [
              "0.00    6401\n",
              "1.00    2326\n",
              "0.25    1111\n",
              "0.50     162\n",
              "Name: score, dtype: int64"
            ]
          },
          "metadata": {
            "tags": []
          },
          "execution_count": 9
        }
      ]
    },
    {
      "cell_type": "markdown",
      "metadata": {
        "id": "JMKQB0TRXv1F"
      },
      "source": [
        "As we see the score take 4 values. This could be useful in the machine learning part where we can conscider the problem as a classification problem (0=bad,0.25 or 0.5= average and 1= Great)"
      ]
    },
    {
      "cell_type": "markdown",
      "metadata": {
        "id": "djgZ-YbDYtzO"
      },
      "source": [
        "For now i'll conscider teh score as a float. Here's a boxplot that represents the values."
      ]
    },
    {
      "cell_type": "code",
      "metadata": {
        "colab": {
          "base_uri": "https://localhost:8080/",
          "height": 268
        },
        "id": "x0sLO2bEYtGR",
        "outputId": "e5e33d6c-e59f-48ff-e9f9-5646349e5d47"
      },
      "source": [
        "sns.set_style(\"whitegrid\")\n",
        "sns.boxplot(data=data.score);"
      ],
      "execution_count": null,
      "outputs": [
        {
          "output_type": "display_data",
          "data": {
            "image/png": "[encoded data removed]",
            "text/plain": [
              "<Figure size 432x288 with 1 Axes>"
            ]
          },
          "metadata": {
            "tags": []
          }
        }
      ]
    },
    {
      "cell_type": "markdown",
      "metadata": {
        "id": "GefY-hOfZ8At"
      },
      "source": [
        "The critics are pretty harsh! (more than half of the feedbacks are scored as 0)\n",
        "\n",
        "\n",
        "\n"
      ]
    },
    {
      "cell_type": "markdown",
      "metadata": {
        "id": "vXu86M1FaSlI"
      },
      "source": [
        "Enough with the scores let's move to the the influencers and the bands"
      ]
    },
    {
      "cell_type": "code",
      "metadata": {
        "colab": {
          "base_uri": "https://localhost:8080/",
          "height": 450
        },
        "id": "JbqZ1jgpXu7T",
        "outputId": "b89e411c-dc19-43e9-a0ed-0d08f2091aa1"
      },
      "source": [
        "data_band=data.groupby('band_id').agg({'feedback':'count', 'score': 'mean'})\n",
        "data_band"
      ],
      "execution_count": null,
      "outputs": [
        {
          "output_type": "execute_result",
          "data": {
            "text/html": [
              "<div>\n",
              "<style scoped>\n",
              "    .dataframe tbody tr th:only-of-type {\n",
              "        vertical-align: middle;\n",
              "    }\n",
              "\n",
              "    .dataframe tbody tr th {\n",
              "        vertical-align: top;\n",
              "    }\n",
              "\n",
              "    .dataframe thead th {\n",
              "        text-align: right;\n",
              "    }\n",
              "</style>\n",
              "<table border=\"1\" class=\"dataframe\">\n",
              "  <thead>\n",
              "    <tr style=\"text-align: right;\">\n",
              "      <th></th>\n",
              "      <th>feedback</th>\n",
              "      <th>score</th>\n",
              "    </tr>\n",
              "    <tr>\n",
              "      <th>band_id</th>\n",
              "      <th></th>\n",
              "      <th></th>\n",
              "    </tr>\n",
              "  </thead>\n",
              "  <tbody>\n",
              "    <tr>\n",
              "      <th>425</th>\n",
              "      <td>14</td>\n",
              "      <td>0.196429</td>\n",
              "    </tr>\n",
              "    <tr>\n",
              "      <th>455</th>\n",
              "      <td>1</td>\n",
              "      <td>1.000000</td>\n",
              "    </tr>\n",
              "    <tr>\n",
              "      <th>603</th>\n",
              "      <td>169</td>\n",
              "      <td>0.465976</td>\n",
              "    </tr>\n",
              "    <tr>\n",
              "      <th>788</th>\n",
              "      <td>2</td>\n",
              "      <td>0.000000</td>\n",
              "    </tr>\n",
              "    <tr>\n",
              "      <th>814</th>\n",
              "      <td>23</td>\n",
              "      <td>0.130435</td>\n",
              "    </tr>\n",
              "    <tr>\n",
              "      <th>...</th>\n",
              "      <td>...</td>\n",
              "      <td>...</td>\n",
              "    </tr>\n",
              "    <tr>\n",
              "      <th>34071</th>\n",
              "      <td>1</td>\n",
              "      <td>1.000000</td>\n",
              "    </tr>\n",
              "    <tr>\n",
              "      <th>34077</th>\n",
              "      <td>3</td>\n",
              "      <td>0.333333</td>\n",
              "    </tr>\n",
              "    <tr>\n",
              "      <th>34080</th>\n",
              "      <td>3</td>\n",
              "      <td>0.666667</td>\n",
              "    </tr>\n",
              "    <tr>\n",
              "      <th>34097</th>\n",
              "      <td>1</td>\n",
              "      <td>0.000000</td>\n",
              "    </tr>\n",
              "    <tr>\n",
              "      <th>34101</th>\n",
              "      <td>1</td>\n",
              "      <td>0.000000</td>\n",
              "    </tr>\n",
              "  </tbody>\n",
              "</table>\n",
              "<p>970 rows × 2 columns</p>\n",
              "</div>"
            ],
            "text/plain": [
              "         feedback     score\n",
              "band_id                    \n",
              "425            14  0.196429\n",
              "455             1  1.000000\n",
              "603           169  0.465976\n",
              "788             2  0.000000\n",
              "814            23  0.130435\n",
              "...           ...       ...\n",
              "34071           1  1.000000\n",
              "34077           3  0.333333\n",
              "34080           3  0.666667\n",
              "34097           1  0.000000\n",
              "34101           1  0.000000\n",
              "\n",
              "[970 rows x 2 columns]"
            ]
          },
          "metadata": {
            "tags": []
          },
          "execution_count": 11
        }
      ]
    },
    {
      "cell_type": "markdown",
      "metadata": {
        "id": "vUwN6JsVcTNt"
      },
      "source": [
        "We have feedbacks on 970 bands on this datasets.\n",
        "\n",
        "It would be more usefull if this serie was sorted"
      ]
    },
    {
      "cell_type": "code",
      "metadata": {
        "colab": {
          "base_uri": "https://localhost:8080/",
          "height": 450
        },
        "id": "0E6M39gQcRlv",
        "outputId": "31930532-a1fb-4771-8ebb-a2c1142b02ad"
      },
      "source": [
        "data_band=data_band.sort_values(by='feedback',ascending=False)\n",
        "data_band"
      ],
      "execution_count": null,
      "outputs": [
        {
          "output_type": "execute_result",
          "data": {
            "text/html": [
              "<div>\n",
              "<style scoped>\n",
              "    .dataframe tbody tr th:only-of-type {\n",
              "        vertical-align: middle;\n",
              "    }\n",
              "\n",
              "    .dataframe tbody tr th {\n",
              "        vertical-align: top;\n",
              "    }\n",
              "\n",
              "    .dataframe thead th {\n",
              "        text-align: right;\n",
              "    }\n",
              "</style>\n",
              "<table border=\"1\" class=\"dataframe\">\n",
              "  <thead>\n",
              "    <tr style=\"text-align: right;\">\n",
              "      <th></th>\n",
              "      <th>feedback</th>\n",
              "      <th>score</th>\n",
              "    </tr>\n",
              "    <tr>\n",
              "      <th>band_id</th>\n",
              "      <th></th>\n",
              "      <th></th>\n",
              "    </tr>\n",
              "  </thead>\n",
              "  <tbody>\n",
              "    <tr>\n",
              "      <th>603</th>\n",
              "      <td>169</td>\n",
              "      <td>0.465976</td>\n",
              "    </tr>\n",
              "    <tr>\n",
              "      <th>4942</th>\n",
              "      <td>168</td>\n",
              "      <td>0.319940</td>\n",
              "    </tr>\n",
              "    <tr>\n",
              "      <th>3949</th>\n",
              "      <td>156</td>\n",
              "      <td>0.209936</td>\n",
              "    </tr>\n",
              "    <tr>\n",
              "      <th>32787</th>\n",
              "      <td>134</td>\n",
              "      <td>0.335821</td>\n",
              "    </tr>\n",
              "    <tr>\n",
              "      <th>8046</th>\n",
              "      <td>127</td>\n",
              "      <td>0.269685</td>\n",
              "    </tr>\n",
              "    <tr>\n",
              "      <th>...</th>\n",
              "      <td>...</td>\n",
              "      <td>...</td>\n",
              "    </tr>\n",
              "    <tr>\n",
              "      <th>28653</th>\n",
              "      <td>1</td>\n",
              "      <td>1.000000</td>\n",
              "    </tr>\n",
              "    <tr>\n",
              "      <th>33533</th>\n",
              "      <td>1</td>\n",
              "      <td>1.000000</td>\n",
              "    </tr>\n",
              "    <tr>\n",
              "      <th>33546</th>\n",
              "      <td>1</td>\n",
              "      <td>1.000000</td>\n",
              "    </tr>\n",
              "    <tr>\n",
              "      <th>33560</th>\n",
              "      <td>1</td>\n",
              "      <td>1.000000</td>\n",
              "    </tr>\n",
              "    <tr>\n",
              "      <th>34101</th>\n",
              "      <td>1</td>\n",
              "      <td>0.000000</td>\n",
              "    </tr>\n",
              "  </tbody>\n",
              "</table>\n",
              "<p>970 rows × 2 columns</p>\n",
              "</div>"
            ],
            "text/plain": [
              "         feedback     score\n",
              "band_id                    \n",
              "603           169  0.465976\n",
              "4942          168  0.319940\n",
              "3949          156  0.209936\n",
              "32787         134  0.335821\n",
              "8046          127  0.269685\n",
              "...           ...       ...\n",
              "28653           1  1.000000\n",
              "33533           1  1.000000\n",
              "33546           1  1.000000\n",
              "33560           1  1.000000\n",
              "34101           1  0.000000\n",
              "\n",
              "[970 rows x 2 columns]"
            ]
          },
          "metadata": {
            "tags": []
          },
          "execution_count": 12
        }
      ]
    },
    {
      "cell_type": "markdown",
      "metadata": {
        "id": "ivXgXitLeBEc"
      },
      "source": [
        "The bands with most numbers of feedbacks and their average scores.\n",
        "\n",
        "Top 5 bands and their average score"
      ]
    },
    {
      "cell_type": "code",
      "metadata": {
        "colab": {
          "base_uri": "https://localhost:8080/",
          "height": 235
        },
        "id": "-3MqZNMgdKYP",
        "outputId": "2566dfd5-5dee-43d3-f4fc-3f6c9630a2ab"
      },
      "source": [
        "data_band[:5]"
      ],
      "execution_count": null,
      "outputs": [
        {
          "output_type": "execute_result",
          "data": {
            "text/html": [
              "<div>\n",
              "<style scoped>\n",
              "    .dataframe tbody tr th:only-of-type {\n",
              "        vertical-align: middle;\n",
              "    }\n",
              "\n",
              "    .dataframe tbody tr th {\n",
              "        vertical-align: top;\n",
              "    }\n",
              "\n",
              "    .dataframe thead th {\n",
              "        text-align: right;\n",
              "    }\n",
              "</style>\n",
              "<table border=\"1\" class=\"dataframe\">\n",
              "  <thead>\n",
              "    <tr style=\"text-align: right;\">\n",
              "      <th></th>\n",
              "      <th>feedback</th>\n",
              "      <th>score</th>\n",
              "    </tr>\n",
              "    <tr>\n",
              "      <th>band_id</th>\n",
              "      <th></th>\n",
              "      <th></th>\n",
              "    </tr>\n",
              "  </thead>\n",
              "  <tbody>\n",
              "    <tr>\n",
              "      <th>603</th>\n",
              "      <td>169</td>\n",
              "      <td>0.465976</td>\n",
              "    </tr>\n",
              "    <tr>\n",
              "      <th>4942</th>\n",
              "      <td>168</td>\n",
              "      <td>0.319940</td>\n",
              "    </tr>\n",
              "    <tr>\n",
              "      <th>3949</th>\n",
              "      <td>156</td>\n",
              "      <td>0.209936</td>\n",
              "    </tr>\n",
              "    <tr>\n",
              "      <th>32787</th>\n",
              "      <td>134</td>\n",
              "      <td>0.335821</td>\n",
              "    </tr>\n",
              "    <tr>\n",
              "      <th>8046</th>\n",
              "      <td>127</td>\n",
              "      <td>0.269685</td>\n",
              "    </tr>\n",
              "  </tbody>\n",
              "</table>\n",
              "</div>"
            ],
            "text/plain": [
              "         feedback     score\n",
              "band_id                    \n",
              "603           169  0.465976\n",
              "4942          168  0.319940\n",
              "3949          156  0.209936\n",
              "32787         134  0.335821\n",
              "8046          127  0.269685"
            ]
          },
          "metadata": {
            "tags": []
          },
          "execution_count": 13
        }
      ]
    },
    {
      "cell_type": "markdown",
      "metadata": {
        "id": "vrP_o8nPXro7"
      },
      "source": [
        "And now idem for infulencers"
      ]
    },
    {
      "cell_type": "code",
      "metadata": {
        "id": "KH2INIhAkpjb"
      },
      "source": [
        "data_inf=data.groupby('influencer_id').agg({'feedback':'count', 'score': 'mean'})\n",
        "data_inf=data_inf.sort_values(by='feedback',ascending=False)"
      ],
      "execution_count": null,
      "outputs": []
    },
    {
      "cell_type": "code",
      "metadata": {
        "colab": {
          "base_uri": "https://localhost:8080/",
          "height": 235
        },
        "id": "luVrENvfkxxa",
        "outputId": "4c3f484d-73ea-419e-caf9-a7b0a0ac0385"
      },
      "source": [
        "data_inf[:5]"
      ],
      "execution_count": null,
      "outputs": [
        {
          "output_type": "execute_result",
          "data": {
            "text/html": [
              "<div>\n",
              "<style scoped>\n",
              "    .dataframe tbody tr th:only-of-type {\n",
              "        vertical-align: middle;\n",
              "    }\n",
              "\n",
              "    .dataframe tbody tr th {\n",
              "        vertical-align: top;\n",
              "    }\n",
              "\n",
              "    .dataframe thead th {\n",
              "        text-align: right;\n",
              "    }\n",
              "</style>\n",
              "<table border=\"1\" class=\"dataframe\">\n",
              "  <thead>\n",
              "    <tr style=\"text-align: right;\">\n",
              "      <th></th>\n",
              "      <th>feedback</th>\n",
              "      <th>score</th>\n",
              "    </tr>\n",
              "    <tr>\n",
              "      <th>influencer_id</th>\n",
              "      <th></th>\n",
              "      <th></th>\n",
              "    </tr>\n",
              "  </thead>\n",
              "  <tbody>\n",
              "    <tr>\n",
              "      <th>3592</th>\n",
              "      <td>87</td>\n",
              "      <td>1.000000</td>\n",
              "    </tr>\n",
              "    <tr>\n",
              "      <th>385</th>\n",
              "      <td>81</td>\n",
              "      <td>0.000000</td>\n",
              "    </tr>\n",
              "    <tr>\n",
              "      <th>2064</th>\n",
              "      <td>81</td>\n",
              "      <td>0.271605</td>\n",
              "    </tr>\n",
              "    <tr>\n",
              "      <th>1821</th>\n",
              "      <td>69</td>\n",
              "      <td>0.108696</td>\n",
              "    </tr>\n",
              "    <tr>\n",
              "      <th>1675</th>\n",
              "      <td>69</td>\n",
              "      <td>0.014493</td>\n",
              "    </tr>\n",
              "  </tbody>\n",
              "</table>\n",
              "</div>"
            ],
            "text/plain": [
              "               feedback     score\n",
              "influencer_id                    \n",
              "3592                 87  1.000000\n",
              "385                  81  0.000000\n",
              "2064                 81  0.271605\n",
              "1821                 69  0.108696\n",
              "1675                 69  0.014493"
            ]
          },
          "metadata": {
            "tags": []
          },
          "execution_count": 15
        }
      ]
    },
    {
      "cell_type": "markdown",
      "metadata": {
        "id": "f6rXnX2TXyNh"
      },
      "source": [
        "Now I noticed that the feedbacks are in different laguages. So knowing what laguages they are is interesting"
      ]
    },
    {
      "cell_type": "code",
      "metadata": {
        "colab": {
          "base_uri": "https://localhost:8080/"
        },
        "id": "PNF3cEcPujJ4",
        "outputId": "436bfbf2-bfda-496a-bd03-ce90782d05b3"
      },
      "source": [
        "!pip install langdetect"
      ],
      "execution_count": null,
      "outputs": [
        {
          "output_type": "stream",
          "text": [
            "Collecting langdetect\n",
            "\u001b[?25l  Downloading https://files.pythonhosted.org/packages/56/a3/8407c1e62d5980188b4acc45ef3d94b933d14a2ebc9ef3505f22cf772570/langdetect-1.0.8.tar.gz (981kB)\n",
            "\u001b[K     |████████████████████████████████| 983kB 5.5MB/s \n",
            "\u001b[?25hRequirement already satisfied: six in /usr/local/lib/python3.6/dist-packages (from langdetect) (1.15.0)\n",
            "Building wheels for collected packages: langdetect\n",
            "  Building wheel for langdetect (setup.py) ... \u001b[?25l\u001b[?25hdone\n",
            "  Created wheel for langdetect: filename=langdetect-1.0.8-cp36-none-any.whl size=993194 sha256=36853b1274e0854db643727d8f66f866227ee4ce846cf298e5bd399dd9efd151\n",
            "  Stored in directory: /root/.cache/pip/wheels/8d/b3/aa/6d99de9f3841d7d3d40a60ea06e6d669e8e5012e6c8b947a57\n",
            "Successfully built langdetect\n",
            "Installing collected packages: langdetect\n",
            "Successfully installed langdetect-1.0.8\n"
          ],
          "name": "stdout"
        }
      ]
    },
    {
      "cell_type": "code",
      "metadata": {
        "id": "rhCPUyOfXXrB"
      },
      "source": [
        "from langdetect import detect #needs to be installed if it's not "
      ],
      "execution_count": null,
      "outputs": []
    },
    {
      "cell_type": "code",
      "metadata": {
        "id": "a_2sD5_lYY-_"
      },
      "source": [
        "L=[]\n",
        "for t in data.feedback:\n",
        "  L.append(detect(t))\n",
        "L=np.array(L)"
      ],
      "execution_count": null,
      "outputs": []
    },
    {
      "cell_type": "code",
      "metadata": {
        "id": "tZo29XIsZg9c"
      },
      "source": [
        "lang=pd.DataFrame(L,columns=['lang'])"
      ],
      "execution_count": null,
      "outputs": []
    },
    {
      "cell_type": "code",
      "metadata": {
        "colab": {
          "base_uri": "https://localhost:8080/"
        },
        "id": "UXSXWMLwaXVr",
        "outputId": "2bf379c5-f88c-4c9a-90db-3fe90876bf52"
      },
      "source": [
        "lang.value_counts()"
      ],
      "execution_count": null,
      "outputs": [
        {
          "output_type": "execute_result",
          "data": {
            "text/plain": [
              "lang\n",
              "en      4836\n",
              "fr      4704\n",
              "it       335\n",
              "pt        87\n",
              "de        24\n",
              "es        11\n",
              "sv         3\n",
              "dtype: int64"
            ]
          },
          "metadata": {
            "tags": []
          },
          "execution_count": 20
        }
      ]
    },
    {
      "cell_type": "code",
      "metadata": {
        "colab": {
          "base_uri": "https://localhost:8080/",
          "height": 879
        },
        "id": "eutm3TZzeZBI",
        "outputId": "b36cdece-a132-4008-e621-d861df58a0c2"
      },
      "source": [
        "plt.figure(figsize=(15,15))\n",
        "plt.title('Languages of the feedbacks')\n",
        "lang.value_counts().plot.pie()"
      ],
      "execution_count": null,
      "outputs": [
        {
          "output_type": "execute_result",
          "data": {
            "text/plain": [
              "<matplotlib.axes._subplots.AxesSubplot at 0x7fd58d375160>"
            ]
          },
          "metadata": {
            "tags": []
          },
          "execution_count": 21
        },
        {
          "output_type": "display_data",
          "data": {
            "image/png": "[encoded data removed]",
            "text/plain": [
              "<Figure size 1080x1080 with 1 Axes>"
            ]
          },
          "metadata": {
            "tags": []
          }
        }
      ]
    },
    {
      "cell_type": "markdown",
      "metadata": {
        "id": "2fri4BZ1auFG"
      },
      "source": [
        "So we have feedbacks in english, frensh, italian, portugese, deutsch, spanish and sweedish.  But most of them are either english or frensh.\n",
        "\n",
        "Source: https://en.wikipedia.org/wiki/List_of_ISO_639-1_codes"
      ]
    },
    {
      "cell_type": "code",
      "metadata": {
        "id": "syUIPHIwbsOn"
      },
      "source": [
        "data=data.join(lang)"
      ],
      "execution_count": null,
      "outputs": []
    },
    {
      "cell_type": "markdown",
      "metadata": {
        "id": "hVxyCBWidJ5a"
      },
      "source": [
        "Here I'm just making sure that the feedbacks are actually in said language"
      ]
    },
    {
      "cell_type": "code",
      "metadata": {
        "colab": {
          "base_uri": "https://localhost:8080/",
          "height": 142
        },
        "id": "h9SLNo5tcuVc",
        "outputId": "7f761a28-9cda-4fb2-a97b-bc6fe72ec168"
      },
      "source": [
        "data[data.lang=='sv']"
      ],
      "execution_count": null,
      "outputs": [
        {
          "output_type": "execute_result",
          "data": {
            "text/html": [
              "<div>\n",
              "<style scoped>\n",
              "    .dataframe tbody tr th:only-of-type {\n",
              "        vertical-align: middle;\n",
              "    }\n",
              "\n",
              "    .dataframe tbody tr th {\n",
              "        vertical-align: top;\n",
              "    }\n",
              "\n",
              "    .dataframe thead th {\n",
              "        text-align: right;\n",
              "    }\n",
              "</style>\n",
              "<table border=\"1\" class=\"dataframe\">\n",
              "  <thead>\n",
              "    <tr style=\"text-align: right;\">\n",
              "      <th></th>\n",
              "      <th>id</th>\n",
              "      <th>band_id</th>\n",
              "      <th>influencer_id</th>\n",
              "      <th>feedback</th>\n",
              "      <th>score</th>\n",
              "      <th>lang</th>\n",
              "    </tr>\n",
              "  </thead>\n",
              "  <tbody>\n",
              "    <tr>\n",
              "      <th>1783</th>\n",
              "      <td>922730</td>\n",
              "      <td>12637</td>\n",
              "      <td>3459</td>\n",
              "      <td>Hej Rebecca &amp; Fiona, tack för er låt. Vi tycke...</td>\n",
              "      <td>1.0</td>\n",
              "      <td>sv</td>\n",
              "    </tr>\n",
              "    <tr>\n",
              "      <th>1812</th>\n",
              "      <td>922761</td>\n",
              "      <td>12637</td>\n",
              "      <td>2441</td>\n",
              "      <td>Grym låt! Gillade originalet och tycker att de...</td>\n",
              "      <td>1.0</td>\n",
              "      <td>sv</td>\n",
              "    </tr>\n",
              "    <tr>\n",
              "      <th>1814</th>\n",
              "      <td>922764</td>\n",
              "      <td>12637</td>\n",
              "      <td>1524</td>\n",
              "      <td>Grym prod! Skön blandning av klassisk piano ho...</td>\n",
              "      <td>1.0</td>\n",
              "      <td>sv</td>\n",
              "    </tr>\n",
              "  </tbody>\n",
              "</table>\n",
              "</div>"
            ],
            "text/plain": [
              "          id  band_id  ...  score lang\n",
              "1783  922730    12637  ...    1.0   sv\n",
              "1812  922761    12637  ...    1.0   sv\n",
              "1814  922764    12637  ...    1.0   sv\n",
              "\n",
              "[3 rows x 6 columns]"
            ]
          },
          "metadata": {
            "tags": []
          },
          "execution_count": 23
        }
      ]
    },
    {
      "cell_type": "markdown",
      "metadata": {
        "id": "lpptoGlKe_g8"
      },
      "source": [
        "# Data preprocessing"
      ]
    },
    {
      "cell_type": "markdown",
      "metadata": {
        "id": "xixiJXenvFKg"
      },
      "source": [
        "The fact that the feedbacks come in different laguages adds more complexity to this problem.\n",
        "To solve this problem we can use different approaches:\n",
        "1.   Translate all the feedbacks to english and treat it as standard nlp problem: can be misleading because of syntactic differences between languages. (I'll use it in this problem)\n",
        "2.   Use Multilangual NLP models like mBert (I never used it so it might take time to get the hang of it so i'll avoid this method for now)\n",
        "3.   Treat each language separately: we can have bad results in some languages because we don't have enough data (for example sweedish).\n",
        "\n"
      ]
    },
    {
      "cell_type": "markdown",
      "metadata": {
        "id": "qZE-e7co3DOP"
      },
      "source": [
        "### Traduction du feedback"
      ]
    },
    {
      "cell_type": "code",
      "metadata": {
        "colab": {
          "base_uri": "https://localhost:8080/"
        },
        "id": "zPdIDeib0yh2",
        "outputId": "98a5df4d-d4dc-44a7-efa7-edb5469f564e"
      },
      "source": [
        "!pip install translate"
      ],
      "execution_count": null,
      "outputs": [
        {
          "output_type": "stream",
          "text": [
            "Collecting translate\n",
            "  Downloading https://files.pythonhosted.org/packages/85/b2/2ea329a07bbc0c7227eef84ca89ffd6895e7ec237d6c0b26574d56103e53/translate-3.5.0-py2.py3-none-any.whl\n",
            "Collecting pre-commit\n",
            "\u001b[?25l  Downloading https://files.pythonhosted.org/packages/7d/ce/382156bfb1919168354dd6b441b9dd553e264fa7190073a0af3ee52b001e/pre_commit-2.10.1-py2.py3-none-any.whl (185kB)\n",
            "\u001b[K     |████████████████████████████████| 194kB 9.8MB/s \n",
            "\u001b[?25hRequirement already satisfied: requests in /usr/local/lib/python3.6/dist-packages (from translate) (2.23.0)\n",
            "Requirement already satisfied: click in /usr/local/lib/python3.6/dist-packages (from translate) (7.1.2)\n",
            "Collecting tox\n",
            "\u001b[?25l  Downloading https://files.pythonhosted.org/packages/4f/e2/ab817be1680bc6d39c24c6cc05253d1bfa3e8b57d034352be266ea95a5d8/tox-3.21.4-py2.py3-none-any.whl (84kB)\n",
            "\u001b[K     |████████████████████████████████| 92kB 8.9MB/s \n",
            "\u001b[?25hRequirement already satisfied: lxml in /usr/local/lib/python3.6/dist-packages (from translate) (4.2.6)\n",
            "Collecting nodeenv>=0.11.1\n",
            "  Downloading https://files.pythonhosted.org/packages/ae/d0/efdf54539948315cc76e5a66b709212963101d002822c3b54369dbf9b5e0/nodeenv-1.5.0-py2.py3-none-any.whl\n",
            "Requirement already satisfied: importlib-metadata; python_version < \"3.8\" in /usr/local/lib/python3.6/dist-packages (from pre-commit->translate) (3.4.0)\n",
            "Requirement already satisfied: toml in /usr/local/lib/python3.6/dist-packages (from pre-commit->translate) (0.10.2)\n",
            "Requirement already satisfied: importlib-resources; python_version < \"3.7\" in /usr/local/lib/python3.6/dist-packages (from pre-commit->translate) (5.1.0)\n",
            "Collecting cfgv>=2.0.0\n",
            "  Downloading https://files.pythonhosted.org/packages/45/cd/3878c9248e59e5e2ebd0dc741ab984b18d86e7283ae9b127b05fc287d239/cfgv-3.2.0-py2.py3-none-any.whl\n",
            "Collecting identify>=1.0.0\n",
            "\u001b[?25l  Downloading https://files.pythonhosted.org/packages/1c/38/ba246c1c12f7413cdbb680a3a0af235fba8416f66536d60c593665c13da3/identify-1.5.13-py2.py3-none-any.whl (97kB)\n",
            "\u001b[K     |████████████████████████████████| 102kB 9.6MB/s \n",
            "\u001b[?25hCollecting pyyaml>=5.1\n",
            "\u001b[?25l  Downloading https://files.pythonhosted.org/packages/7a/5b/bc0b5ab38247bba158504a410112b6c03f153c652734ece1849749e5f518/PyYAML-5.4.1-cp36-cp36m-manylinux1_x86_64.whl (640kB)\n",
            "\u001b[K     |████████████████████████████████| 645kB 24.8MB/s \n",
            "\u001b[?25hCollecting virtualenv>=20.0.8\n",
            "\u001b[?25l  Downloading https://files.pythonhosted.org/packages/9f/fb/7423637e48cffbb2e567ca113d2b05068f8b457dde998ab487adf7386c86/virtualenv-20.4.2-py2.py3-none-any.whl (7.2MB)\n",
            "\u001b[K     |████████████████████████████████| 7.2MB 29.8MB/s \n",
            "\u001b[?25hRequirement already satisfied: chardet<4,>=3.0.2 in /usr/local/lib/python3.6/dist-packages (from requests->translate) (3.0.4)\n",
            "Requirement already satisfied: certifi>=2017.4.17 in /usr/local/lib/python3.6/dist-packages (from requests->translate) (2020.12.5)\n",
            "Requirement already satisfied: urllib3!=1.25.0,!=1.25.1,<1.26,>=1.21.1 in /usr/local/lib/python3.6/dist-packages (from requests->translate) (1.24.3)\n",
            "Requirement already satisfied: idna<3,>=2.5 in /usr/local/lib/python3.6/dist-packages (from requests->translate) (2.10)\n",
            "Requirement already satisfied: six>=1.14.0 in /usr/local/lib/python3.6/dist-packages (from tox->translate) (1.15.0)\n",
            "Requirement already satisfied: py>=1.4.17 in /usr/local/lib/python3.6/dist-packages (from tox->translate) (1.10.0)\n",
            "Collecting pluggy>=0.12.0\n",
            "  Downloading https://files.pythonhosted.org/packages/a0/28/85c7aa31b80d150b772fbe4a229487bc6644da9ccb7e427dd8cc60cb8a62/pluggy-0.13.1-py2.py3-none-any.whl\n",
            "Requirement already satisfied: filelock>=3.0.0 in /usr/local/lib/python3.6/dist-packages (from tox->translate) (3.0.12)\n",
            "Requirement already satisfied: packaging>=14 in /usr/local/lib/python3.6/dist-packages (from tox->translate) (20.9)\n",
            "Requirement already satisfied: typing-extensions>=3.6.4; python_version < \"3.8\" in /usr/local/lib/python3.6/dist-packages (from importlib-metadata; python_version < \"3.8\"->pre-commit->translate) (3.7.4.3)\n",
            "Requirement already satisfied: zipp>=0.5 in /usr/local/lib/python3.6/dist-packages (from importlib-metadata; python_version < \"3.8\"->pre-commit->translate) (3.4.0)\n",
            "Collecting distlib<1,>=0.3.1\n",
            "\u001b[?25l  Downloading https://files.pythonhosted.org/packages/f5/0a/490fa011d699bb5a5f3a0cf57de82237f52a6db9d40f33c53b2736c9a1f9/distlib-0.3.1-py2.py3-none-any.whl (335kB)\n",
            "\u001b[K     |████████████████████████████████| 337kB 44.8MB/s \n",
            "\u001b[?25hRequirement already satisfied: appdirs<2,>=1.4.3 in /usr/local/lib/python3.6/dist-packages (from virtualenv>=20.0.8->pre-commit->translate) (1.4.4)\n",
            "Requirement already satisfied: pyparsing>=2.0.2 in /usr/local/lib/python3.6/dist-packages (from packaging>=14->tox->translate) (2.4.7)\n",
            "\u001b[31mERROR: pytest 3.6.4 has requirement pluggy<0.8,>=0.5, but you'll have pluggy 0.13.1 which is incompatible.\u001b[0m\n",
            "\u001b[31mERROR: datascience 0.10.6 has requirement folium==0.2.1, but you'll have folium 0.8.3 which is incompatible.\u001b[0m\n",
            "Installing collected packages: nodeenv, cfgv, identify, pyyaml, distlib, virtualenv, pre-commit, pluggy, tox, translate\n",
            "  Found existing installation: PyYAML 3.13\n",
            "    Uninstalling PyYAML-3.13:\n",
            "      Successfully uninstalled PyYAML-3.13\n",
            "  Found existing installation: pluggy 0.7.1\n",
            "    Uninstalling pluggy-0.7.1:\n",
            "      Successfully uninstalled pluggy-0.7.1\n",
            "Successfully installed cfgv-3.2.0 distlib-0.3.1 identify-1.5.13 nodeenv-1.5.0 pluggy-0.13.1 pre-commit-2.10.1 pyyaml-5.4.1 tox-3.21.4 translate-3.5.0 virtualenv-20.4.2\n"
          ],
          "name": "stdout"
        }
      ]
    },
    {
      "cell_type": "markdown",
      "metadata": {
        "id": "Q7P94lZ7kLQb"
      },
      "source": [
        "This is a test run for the module"
      ]
    },
    {
      "cell_type": "code",
      "metadata": {
        "id": "sBJFzQeZicPp"
      },
      "source": [
        "from translate import Translator"
      ],
      "execution_count": null,
      "outputs": []
    },
    {
      "cell_type": "code",
      "metadata": {
        "id": "1a6j38ogii0n"
      },
      "source": [
        "translator=Translator(to_lang='en',from_lang='fr')"
      ],
      "execution_count": null,
      "outputs": []
    },
    {
      "cell_type": "code",
      "metadata": {
        "colab": {
          "base_uri": "https://localhost:8080/",
          "height": 35
        },
        "id": "jmybbnnNj_6B",
        "outputId": "26153e1f-eb17-479b-d1d8-2ba79743a116"
      },
      "source": [
        "translation=translator.translate('Bonjour les amis')\n",
        "translation"
      ],
      "execution_count": null,
      "outputs": [
        {
          "output_type": "execute_result",
          "data": {
            "application/vnd.google.colaboratory.intrinsic+json": {
              "type": "string"
            },
            "text/plain": [
              "'Hello, everyone!'"
            ]
          },
          "metadata": {
            "tags": []
          },
          "execution_count": 36
        }
      ]
    },
    {
      "cell_type": "code",
      "metadata": {
        "id": "p-5GVFY-kQR-"
      },
      "source": [
        "def trans_eng(text,lang):\n",
        "  if lang=='en':\n",
        "    return text\n",
        "  else:\n",
        "    return Translator(to_lang='en',from_lang=lang).translate(text)\n"
      ],
      "execution_count": null,
      "outputs": []
    },
    {
      "cell_type": "code",
      "metadata": {
        "colab": {
          "base_uri": "https://localhost:8080/",
          "height": 204
        },
        "id": "ezQXMprDl-8h",
        "outputId": "485715ba-495e-442d-8f63-e7e3a36fa59b"
      },
      "source": [
        "data.head()"
      ],
      "execution_count": null,
      "outputs": [
        {
          "output_type": "execute_result",
          "data": {
            "text/html": [
              "<div>\n",
              "<style scoped>\n",
              "    .dataframe tbody tr th:only-of-type {\n",
              "        vertical-align: middle;\n",
              "    }\n",
              "\n",
              "    .dataframe tbody tr th {\n",
              "        vertical-align: top;\n",
              "    }\n",
              "\n",
              "    .dataframe thead th {\n",
              "        text-align: right;\n",
              "    }\n",
              "</style>\n",
              "<table border=\"1\" class=\"dataframe\">\n",
              "  <thead>\n",
              "    <tr style=\"text-align: right;\">\n",
              "      <th></th>\n",
              "      <th>id</th>\n",
              "      <th>band_id</th>\n",
              "      <th>influencer_id</th>\n",
              "      <th>feedback</th>\n",
              "      <th>score</th>\n",
              "      <th>lang</th>\n",
              "    </tr>\n",
              "  </thead>\n",
              "  <tbody>\n",
              "    <tr>\n",
              "      <th>0</th>\n",
              "      <td>920636</td>\n",
              "      <td>24665</td>\n",
              "      <td>1642</td>\n",
              "      <td>Bonjour Diogo Ramos,\\n\\n\\nMerci pour le partag...</td>\n",
              "      <td>0.0</td>\n",
              "      <td>fr</td>\n",
              "    </tr>\n",
              "    <tr>\n",
              "      <th>1</th>\n",
              "      <td>920637</td>\n",
              "      <td>24665</td>\n",
              "      <td>118</td>\n",
              "      <td>Un message touchant, développé sur une onde mu...</td>\n",
              "      <td>0.0</td>\n",
              "      <td>fr</td>\n",
              "    </tr>\n",
              "    <tr>\n",
              "      <th>2</th>\n",
              "      <td>920639</td>\n",
              "      <td>24665</td>\n",
              "      <td>226</td>\n",
              "      <td>Bonjour ! Merci beaucoup pour l'envoi ! On n'e...</td>\n",
              "      <td>0.0</td>\n",
              "      <td>fr</td>\n",
              "    </tr>\n",
              "    <tr>\n",
              "      <th>3</th>\n",
              "      <td>920640</td>\n",
              "      <td>24665</td>\n",
              "      <td>1603</td>\n",
              "      <td>Bonjour. Merci pour cette fraîcheur et cet hym...</td>\n",
              "      <td>1.0</td>\n",
              "      <td>fr</td>\n",
              "    </tr>\n",
              "    <tr>\n",
              "      <th>4</th>\n",
              "      <td>920641</td>\n",
              "      <td>24665</td>\n",
              "      <td>111</td>\n",
              "      <td>Salut Diogo, alors c'est un peu éloigné de ce ...</td>\n",
              "      <td>1.0</td>\n",
              "      <td>fr</td>\n",
              "    </tr>\n",
              "  </tbody>\n",
              "</table>\n",
              "</div>"
            ],
            "text/plain": [
              "       id  band_id  ...  score lang\n",
              "0  920636    24665  ...    0.0   fr\n",
              "1  920637    24665  ...    0.0   fr\n",
              "2  920639    24665  ...    0.0   fr\n",
              "3  920640    24665  ...    1.0   fr\n",
              "4  920641    24665  ...    1.0   fr\n",
              "\n",
              "[5 rows x 6 columns]"
            ]
          },
          "metadata": {
            "tags": []
          },
          "execution_count": 38
        }
      ]
    },
    {
      "cell_type": "code",
      "metadata": {
        "id": "9ah6u6EqlCRd"
      },
      "source": [
        "L=[]\n",
        "for k in range(10000):\n",
        "  row=data.iloc[k]\n",
        "  L.append(trans_eng(row.feedback,row.lang))"
      ],
      "execution_count": null,
      "outputs": []
    },
    {
      "cell_type": "code",
      "metadata": {
        "colab": {
          "base_uri": "https://localhost:8080/"
        },
        "id": "7xaP4H3Pn1oC",
        "outputId": "af22647e-737c-47ab-965e-1cab8aec86fb"
      },
      "source": [
        "L"
      ],
      "execution_count": null,
      "outputs": [
        {
          "output_type": "execute_result",
          "data": {
            "text/plain": [
              "[\"Hello Diogo Ramos,\\n\\nThanks for sharing.\\nCurrently the title does not correspond to our programming line.\\n\\nDon't hesitate to send us your next sounds.\\n\\nGood luck,\\n\\nAndré\\nThe Lab\",\n",
              " 'A touching message, developed on a light musical wave full of oxygen. Music direction too folk, however, although endearing tracks result here and there during your record.',\n",
              " 'Good morning! Thank you so much for sending it! We are not totally seduced by the song but next time maybe :)',\n",
              " 'MYMEMORY WARNING: YOU USED ALL AVAILABLE FREE TRANSLATIONS FOR TODAY. NEXT AVAILABLE IN  17 HOURS 07 MINUTES 49 SECONDSVISIT HTTPS://MYMEMORY.TRANSLATED.NET/DOC/USAGELIMITS.PHP TO TRANSLATE MORE',\n",
              " 'MYMEMORY WARNING: YOU USED ALL AVAILABLE FREE TRANSLATIONS FOR TODAY. NEXT AVAILABLE IN  17 HOURS 07 MINUTES 49 SECONDSVISIT HTTPS://MYMEMORY.TRANSLATED.NET/DOC/USAGELIMITS.PHP TO TRANSLATE MORE',\n",
              " 'MYMEMORY WARNING: YOU USED ALL AVAILABLE FREE TRANSLATIONS FOR TODAY. NEXT AVAILABLE IN  17 HOURS 07 MINUTES 49 SECONDSVISIT HTTPS://MYMEMORY.TRANSLATED.NET/DOC/USAGELIMITS.PHP TO TRANSLATE MORE',\n",
              " 'MYMEMORY WARNING: YOU USED ALL AVAILABLE FREE TRANSLATIONS FOR TODAY. NEXT AVAILABLE IN  17 HOURS 07 MINUTES 49 SECONDSVISIT HTTPS://MYMEMORY.TRANSLATED.NET/DOC/USAGELIMITS.PHP TO TRANSLATE MORE',\n",
              " 'MYMEMORY WARNING: YOU USED ALL AVAILABLE FREE TRANSLATIONS FOR TODAY. NEXT AVAILABLE IN  17 HOURS 07 MINUTES 49 SECONDSVISIT HTTPS://MYMEMORY.TRANSLATED.NET/DOC/USAGELIMITS.PHP TO TRANSLATE MORE',\n",
              " 'MYMEMORY WARNING: YOU USED ALL AVAILABLE FREE TRANSLATIONS FOR TODAY. NEXT AVAILABLE IN  17 HOURS 07 MINUTES 49 SECONDSVISIT HTTPS://MYMEMORY.TRANSLATED.NET/DOC/USAGELIMITS.PHP TO TRANSLATE MORE',\n",
              " 'MYMEMORY WARNING: YOU USED ALL AVAILABLE FREE TRANSLATIONS FOR TODAY. NEXT AVAILABLE IN  17 HOURS 07 MINUTES 49 SECONDSVISIT HTTPS://MYMEMORY.TRANSLATED.NET/DOC/USAGELIMITS.PHP TO TRANSLATE MORE',\n",
              " \"Hello and thanks for sharing your music with us. Honestly is  beautiful track and we are pretty sure you'll find your way with it. Concerning us is far from what we broadcast on the radio. Basically we are looking for another type of sound to the radio. We wish you the best with it ! Thanks.\",\n",
              " '\\nHello, we have listened to your track. Unfortunately we did not have the crush. Good continuation!',\n",
              " \"Hi! I liked the song, it has a nice beat. The lyrics are also interesting. Unfortunately, I still don't have a list with that mood! Good luck!\",\n",
              " 'MYMEMORY WARNING: YOU USED ALL AVAILABLE FREE TRANSLATIONS FOR TODAY. NEXT AVAILABLE IN  17 HOURS 07 MINUTES 49 SECONDSVISIT HTTPS://MYMEMORY.TRANSLATED.NET/DOC/USAGELIMITS.PHP TO TRANSLATE MORE',\n",
              " 'Hi\\n\\nGood News \"Liberté je t\\'aime\" as been added to the playlist \"TOP CARNAVAL 2021\"\\nLink here - https://spoti.fi/2LXgUl5\\n\\nThank You and good luck.',\n",
              " 'MYMEMORY WARNING: YOU USED ALL AVAILABLE FREE TRANSLATIONS FOR TODAY. NEXT AVAILABLE IN  17 HOURS 07 MINUTES 49 SECONDSVISIT HTTPS://MYMEMORY.TRANSLATED.NET/DOC/USAGELIMITS.PHP TO TRANSLATE MORE',\n",
              " 'MYMEMORY WARNING: YOU USED ALL AVAILABLE FREE TRANSLATIONS FOR TODAY. NEXT AVAILABLE IN  17 HOURS 07 MINUTES 49 SECONDSVISIT HTTPS://MYMEMORY.TRANSLATED.NET/DOC/USAGELIMITS.PHP TO TRANSLATE MORE',\n",
              " 'Hey, thanks for sending out. We’ll pass on that one unfortunately - really interesting but not a firm yes. Surely on a forthcoming project!\\n',\n",
              " 'Hello\\nThanks for the proposal,\\nThe production is good but too mainstream for our channel.\\nBest regards',\n",
              " 'some really nice vocals here but overall the melody was too pop oriented for us as well as the lyrics. bassline also felt too fast for the BPM',\n",
              " \"Overall i think that the track is good and that you have used good sounds for the production! I like the rythm and the chord progression is nice. The bass line is really nice and groovy! Probably what caught my attention the most. :) Good and catchy vocals as well, i think the lyrics are great and the chorus is good and easy to sing along to. - Big plus! Nice and catchy lead melody as well. Good arrengement of the track and the production sounds good with a clean mix & master. Unfortunately i'm afraid that the track does not really match the style & vibe of my playlist tho. Personally i like the track and i think that it's a good song, but as a playlist curator i must always consider that a song perfectly matches the style & vibe of the playlist i'm curating. Therefore i am kindly declining your submission this time. I wish you the best and good luck with the track nonetheless!\",\n",
              " '\\nHi thanks for submitting, I really like the production and hooks on here. Unfortunately the song does not quite fit the style of the playlist. Good luck in the future! \\n',\n",
              " 'I like the song a lot actually! Such a mess that the overall production lacks a lot of clarity in the mix. Maybe think about hiring a mixing engineer next time. I actually am one myself, I will add the link to hire me for a low price on another platform if you want to! :) just send me a mail to get more informations about my services (like vocal tuning etc.). Because that way, the song quality is just not on a sharable level which is really dragging down the actual good overall song.',\n",
              " 'Very good, I really liked the music, and the whole production, we will certainly include it in our playlist on Spotify!',\n",
              " \"Hey Glass Animals! Big floor filler this one, if Blondie was a product of 2021 she'd sound like this for sure.\\n\\nThe dirty beat under the sleek synths are awesome, great vocals, i really like what you have done here. Will share on Twitter over next few days, bravo!\",\n",
              " \"hello there Glass Spells! I like the synths used in this one. You find some good harmonies. I like your vocal melody as well. Unfortunately the track doesn't quite fit the genre of my playlists but keep going!\",\n",
              " \"That's a realy good song! When it beggins  you fell like in a 80's thriller movie, and that feeling continues throughout the song, even when the music explodes into something energetic and dancing . Plus, the catchy chorus, makes you want to get up on your feet and start to jump, singing and dancing. \",\n",
              " \"This is fun although feels a bit familiar, would be keen to hear more, but we're only covering Scottish linked acts so I guess drop me a shout of you ever tour over here when that's a thing again.\",\n",
              " 'Thanks for the submission and hope you’re well. Pretty atmospheric track, I like the downtempo beats, crisp synth/string layers and the vocal has a beautifully emotive edge. Overall a contemplative sound but not contemporary enough for my core playlists unfortunately. Best of luck with the rest of your promo campaign.',\n",
              " \"Cool tune, but it doesn't fit the the music genre we play on RTB. \\nThere are great melodic ideas on the song but I think it needs more attention to the sound desing/production and to the English pronunciation.\\n\",\n",
              " 'Hey there, Really nice song and vocals but it feels too pop for my playlists to be honest. I wish you the best of luck with the release!',\n",
              " 'Hey! Nice strings, but I think the vocal should be more in focus :) Thanks and good luck!',\n",
              " 'Dear GENU,\\n\\nI have to admit I really liked how you changed from spoken to singing ! \\nAlthough \"Come Closer\" is a unique track (in a really nice way), I felt a few things could have been a bit different; if I may :\\n\\na) I would have really like for a more controlled low end. Also, maybe cutting also the highs of the bass could have made more space for the guitar body !\\nb) I would have also really liked for a bit of more chords progressions, as they sound felt a bit repetitive after a while.\\nc) Moreover, I would have really liked parts to come in go (i.e. 2nd verse if only the bass was present) !\\n\\nNot a bad track at all, but I felt production and arrangement wise it could have been a bit better.\\n\\nI\\'m really sorry I will have to pass on \"Come Closer\" for now.\\nCan\\'t but thank you for your submission and wish you all the success with this one !',\n",
              " 'interesting mix of sounds there , really like it  ! please send me the track when it release  , kind regards !  ',\n",
              " 'Hello,\\n\\nYour music is interesting but we are not seduced enough for a sharing.\\n\\nWe wish you good luck.\\n\\ncordially\\n\\nTrakmix.',\n",
              " \"Hi, i listen to your song and i like it but i don't see a Spotify link for your track. Thanks a lot for the interest and good luck with your project! \",\n",
              " 'MYMEMORY WARNING: YOU USED ALL AVAILABLE FREE TRANSLATIONS FOR TODAY. NEXT AVAILABLE IN  17 HOURS 07 MINUTES 49 SECONDSVISIT HTTPS://MYMEMORY.TRANSLATED.NET/DOC/USAGELIMITS.PHP TO TRANSLATE MORE',\n",
              " 'Hi,\\n\\nSome interesting sound designs in this one. Personally I am searching for something more melodic. I thought that also the mix could use some more variation. Especially the drums it feels that it are the same 4-5 drums playing over and over again. Maybe and added top loop, some automation... could help a lot. \\n\\nWish you all the best!\\n\\nCheers,\\n\\nJens',\n",
              " \"Hello Noom,\\n\\nThanks for sharing your track, we listened to it and it does not fit with our editorial line so it won't benefit from our networks. \\n\\nGood continuation\\nTeoxane Production\",\n",
              " \"Hi Noom,\\nthanks for your submission, your track is cool but it doesn't fit my taste. I feel the main melody is not enough catchy.\\nCheers\\n\",\n",
              " 'MYMEMORY WARNING: YOU USED ALL AVAILABLE FREE TRANSLATIONS FOR TODAY. NEXT AVAILABLE IN  17 HOURS 07 MINUTES 49 SECONDSVISIT HTTPS://MYMEMORY.TRANSLATED.NET/DOC/USAGELIMITS.PHP TO TRANSLATE MORE',\n",
              " 'MYMEMORY WARNING: YOU USED ALL AVAILABLE FREE TRANSLATIONS FOR TODAY. NEXT AVAILABLE IN  17 HOURS 07 MINUTES 49 SECONDSVISIT HTTPS://MYMEMORY.TRANSLATED.NET/DOC/USAGELIMITS.PHP TO TRANSLATE MORE',\n",
              " 'MYMEMORY WARNING: YOU USED ALL AVAILABLE FREE TRANSLATIONS FOR TODAY. NEXT AVAILABLE IN  17 HOURS 07 MINUTES 49 SECONDSVISIT HTTPS://MYMEMORY.TRANSLATED.NET/DOC/USAGELIMITS.PHP TO TRANSLATE MORE',\n",
              " 'MYMEMORY WARNING: YOU USED ALL AVAILABLE FREE TRANSLATIONS FOR TODAY. NEXT AVAILABLE IN  17 HOURS 07 MINUTES 49 SECONDSVISIT HTTPS://MYMEMORY.TRANSLATED.NET/DOC/USAGELIMITS.PHP TO TRANSLATE MORE',\n",
              " 'MYMEMORY WARNING: YOU USED ALL AVAILABLE FREE TRANSLATIONS FOR TODAY. NEXT AVAILABLE IN  17 HOURS 07 MINUTES 49 SECONDSVISIT HTTPS://MYMEMORY.TRANSLATED.NET/DOC/USAGELIMITS.PHP TO TRANSLATE MORE',\n",
              " 'QUERY LENGTH LIMIT EXCEDEED. MAX ALLOWED QUERY : 500 CHARS',\n",
              " 'MYMEMORY WARNING: YOU USED ALL AVAILABLE FREE TRANSLATIONS FOR TODAY. NEXT AVAILABLE IN  17 HOURS 07 MINUTES 49 SECONDSVISIT HTTPS://MYMEMORY.TRANSLATED.NET/DOC/USAGELIMITS.PHP TO TRANSLATE MORE',\n",
              " 'MYMEMORY WARNING: YOU USED ALL AVAILABLE FREE TRANSLATIONS FOR TODAY. NEXT AVAILABLE IN  17 HOURS 07 MINUTES 49 SECONDSVISIT HTTPS://MYMEMORY.TRANSLATED.NET/DOC/USAGELIMITS.PHP TO TRANSLATE MORE',\n",
              " 'MYMEMORY WARNING: YOU USED ALL AVAILABLE FREE TRANSLATIONS FOR TODAY. NEXT AVAILABLE IN  17 HOURS 07 MINUTES 49 SECONDSVISIT HTTPS://MYMEMORY.TRANSLATED.NET/DOC/USAGELIMITS.PHP TO TRANSLATE MORE',\n",
              " 'MYMEMORY WARNING: YOU USED ALL AVAILABLE FREE TRANSLATIONS FOR TODAY. NEXT AVAILABLE IN  17 HOURS 07 MINUTES 49 SECONDSVISIT HTTPS://MYMEMORY.TRANSLATED.NET/DOC/USAGELIMITS.PHP TO TRANSLATE MORE',\n",
              " 'QUERY LENGTH LIMIT EXCEDEED. MAX ALLOWED QUERY : 500 CHARS MYMEMORY WARNING: YOU USED ALL AVAILABLE FREE TRANSLATIONS FOR TODAY. NEXT AVAILABLE IN  17 HOURS 07 MINUTES 49 SECONDSVISIT HTTPS://MYMEMORY.TRANSLATED.NET/DOC/USAGELIMITS.PHP TO TRANSLATE MORE',\n",
              " 'MYMEMORY WARNING: YOU USED ALL AVAILABLE FREE TRANSLATIONS FOR TODAY. NEXT AVAILABLE IN  17 HOURS 07 MINUTES 48 SECONDSVISIT HTTPS://MYMEMORY.TRANSLATED.NET/DOC/USAGELIMITS.PHP TO TRANSLATE MORE',\n",
              " 'MYMEMORY WARNING: YOU USED ALL AVAILABLE FREE TRANSLATIONS FOR TODAY. NEXT AVAILABLE IN  17 HOURS 07 MINUTES 48 SECONDSVISIT HTTPS://MYMEMORY.TRANSLATED.NET/DOC/USAGELIMITS.PHP TO TRANSLATE MORE',\n",
              " 'MYMEMORY WARNING: YOU USED ALL AVAILABLE FREE TRANSLATIONS FOR TODAY. NEXT AVAILABLE IN  17 HOURS 07 MINUTES 48 SECONDSVISIT HTTPS://MYMEMORY.TRANSLATED.NET/DOC/USAGELIMITS.PHP TO TRANSLATE MORE',\n",
              " 'MYMEMORY WARNING: YOU USED ALL AVAILABLE FREE TRANSLATIONS FOR TODAY. NEXT AVAILABLE IN  17 HOURS 07 MINUTES 48 SECONDSVISIT HTTPS://MYMEMORY.TRANSLATED.NET/DOC/USAGELIMITS.PHP TO TRANSLATE MORE',\n",
              " 'MYMEMORY WARNING: YOU USED ALL AVAILABLE FREE TRANSLATIONS FOR TODAY. NEXT AVAILABLE IN  17 HOURS 07 MINUTES 48 SECONDSVISIT HTTPS://MYMEMORY.TRANSLATED.NET/DOC/USAGELIMITS.PHP TO TRANSLATE MORE',\n",
              " 'MYMEMORY WARNING: YOU USED ALL AVAILABLE FREE TRANSLATIONS FOR TODAY. NEXT AVAILABLE IN  17 HOURS 07 MINUTES 48 SECONDSVISIT HTTPS://MYMEMORY.TRANSLATED.NET/DOC/USAGELIMITS.PHP TO TRANSLATE MORE',\n",
              " 'MYMEMORY WARNING: YOU USED ALL AVAILABLE FREE TRANSLATIONS FOR TODAY. NEXT AVAILABLE IN  17 HOURS 07 MINUTES 48 SECONDSVISIT HTTPS://MYMEMORY.TRANSLATED.NET/DOC/USAGELIMITS.PHP TO TRANSLATE MORE',\n",
              " 'QUERY LENGTH LIMIT EXCEDEED. MAX ALLOWED QUERY : 500 CHARS',\n",
              " 'MYMEMORY WARNING: YOU USED ALL AVAILABLE FREE TRANSLATIONS FOR TODAY. NEXT AVAILABLE IN  17 HOURS 07 MINUTES 48 SECONDSVISIT HTTPS://MYMEMORY.TRANSLATED.NET/DOC/USAGELIMITS.PHP TO TRANSLATE MORE',\n",
              " 'MYMEMORY WARNING: YOU USED ALL AVAILABLE FREE TRANSLATIONS FOR TODAY. NEXT AVAILABLE IN  17 HOURS 07 MINUTES 48 SECONDSVISIT HTTPS://MYMEMORY.TRANSLATED.NET/DOC/USAGELIMITS.PHP TO TRANSLATE MORE',\n",
              " 'MYMEMORY WARNING: YOU USED ALL AVAILABLE FREE TRANSLATIONS FOR TODAY. NEXT AVAILABLE IN  17 HOURS 07 MINUTES 48 SECONDSVISIT HTTPS://MYMEMORY.TRANSLATED.NET/DOC/USAGELIMITS.PHP TO TRANSLATE MORE',\n",
              " 'MYMEMORY WARNING: YOU USED ALL AVAILABLE FREE TRANSLATIONS FOR TODAY. NEXT AVAILABLE IN  17 HOURS 07 MINUTES 48 SECONDSVISIT HTTPS://MYMEMORY.TRANSLATED.NET/DOC/USAGELIMITS.PHP TO TRANSLATE MORE',\n",
              " 'MYMEMORY WARNING: YOU USED ALL AVAILABLE FREE TRANSLATIONS FOR TODAY. NEXT AVAILABLE IN  17 HOURS 07 MINUTES 48 SECONDSVISIT HTTPS://MYMEMORY.TRANSLATED.NET/DOC/USAGELIMITS.PHP TO TRANSLATE MORE',\n",
              " 'MYMEMORY WARNING: YOU USED ALL AVAILABLE FREE TRANSLATIONS FOR TODAY. NEXT AVAILABLE IN  17 HOURS 07 MINUTES 48 SECONDSVISIT HTTPS://MYMEMORY.TRANSLATED.NET/DOC/USAGELIMITS.PHP TO TRANSLATE MORE',\n",
              " 'MYMEMORY WARNING: YOU USED ALL AVAILABLE FREE TRANSLATIONS FOR TODAY. NEXT AVAILABLE IN  17 HOURS 07 MINUTES 48 SECONDSVISIT HTTPS://MYMEMORY.TRANSLATED.NET/DOC/USAGELIMITS.PHP TO TRANSLATE MORE',\n",
              " 'MYMEMORY WARNING: YOU USED ALL AVAILABLE FREE TRANSLATIONS FOR TODAY. NEXT AVAILABLE IN  17 HOURS 07 MINUTES 48 SECONDSVISIT HTTPS://MYMEMORY.TRANSLATED.NET/DOC/USAGELIMITS.PHP TO TRANSLATE MORE',\n",
              " 'MYMEMORY WARNING: YOU USED ALL AVAILABLE FREE TRANSLATIONS FOR TODAY. NEXT AVAILABLE IN  17 HOURS 07 MINUTES 48 SECONDSVISIT HTTPS://MYMEMORY.TRANSLATED.NET/DOC/USAGELIMITS.PHP TO TRANSLATE MORE',\n",
              " 'MYMEMORY WARNING: YOU USED ALL AVAILABLE FREE TRANSLATIONS FOR TODAY. NEXT AVAILABLE IN  17 HOURS 07 MINUTES 48 SECONDSVISIT HTTPS://MYMEMORY.TRANSLATED.NET/DOC/USAGELIMITS.PHP TO TRANSLATE MORE',\n",
              " 'MYMEMORY WARNING: YOU USED ALL AVAILABLE FREE TRANSLATIONS FOR TODAY. NEXT AVAILABLE IN  17 HOURS 07 MINUTES 48 SECONDSVISIT HTTPS://MYMEMORY.TRANSLATED.NET/DOC/USAGELIMITS.PHP TO TRANSLATE MORE',\n",
              " 'MYMEMORY WARNING: YOU USED ALL AVAILABLE FREE TRANSLATIONS FOR TODAY. NEXT AVAILABLE IN  17 HOURS 07 MINUTES 48 SECONDSVISIT HTTPS://MYMEMORY.TRANSLATED.NET/DOC/USAGELIMITS.PHP TO TRANSLATE MORE',\n",
              " 'MYMEMORY WARNING: YOU USED ALL AVAILABLE FREE TRANSLATIONS FOR TODAY. NEXT AVAILABLE IN  17 HOURS 07 MINUTES 48 SECONDSVISIT HTTPS://MYMEMORY.TRANSLATED.NET/DOC/USAGELIMITS.PHP TO TRANSLATE MORE',\n",
              " 'MYMEMORY WARNING: YOU USED ALL AVAILABLE FREE TRANSLATIONS FOR TODAY. NEXT AVAILABLE IN  17 HOURS 07 MINUTES 48 SECONDSVISIT HTTPS://MYMEMORY.TRANSLATED.NET/DOC/USAGELIMITS.PHP TO TRANSLATE MORE',\n",
              " 'MYMEMORY WARNING: YOU USED ALL AVAILABLE FREE TRANSLATIONS FOR TODAY. NEXT AVAILABLE IN  17 HOURS 07 MINUTES 48 SECONDSVISIT HTTPS://MYMEMORY.TRANSLATED.NET/DOC/USAGELIMITS.PHP TO TRANSLATE MORE',\n",
              " 'MYMEMORY WARNING: YOU USED ALL AVAILABLE FREE TRANSLATIONS FOR TODAY. NEXT AVAILABLE IN  17 HOURS 07 MINUTES 48 SECONDSVISIT HTTPS://MYMEMORY.TRANSLATED.NET/DOC/USAGELIMITS.PHP TO TRANSLATE MORE',\n",
              " 'MYMEMORY WARNING: YOU USED ALL AVAILABLE FREE TRANSLATIONS FOR TODAY. NEXT AVAILABLE IN  17 HOURS 07 MINUTES 48 SECONDSVISIT HTTPS://MYMEMORY.TRANSLATED.NET/DOC/USAGELIMITS.PHP TO TRANSLATE MORE',\n",
              " 'MYMEMORY WARNING: YOU USED ALL AVAILABLE FREE TRANSLATIONS FOR TODAY. NEXT AVAILABLE IN  17 HOURS 07 MINUTES 48 SECONDSVISIT HTTPS://MYMEMORY.TRANSLATED.NET/DOC/USAGELIMITS.PHP TO TRANSLATE MORE',\n",
              " 'MYMEMORY WARNING: YOU USED ALL AVAILABLE FREE TRANSLATIONS FOR TODAY. NEXT AVAILABLE IN  17 HOURS 07 MINUTES 48 SECONDSVISIT HTTPS://MYMEMORY.TRANSLATED.NET/DOC/USAGELIMITS.PHP TO TRANSLATE MORE',\n",
              " 'QUERY LENGTH LIMIT EXCEDEED. MAX ALLOWED QUERY : 500 CHARS',\n",
              " 'MYMEMORY WARNING: YOU USED ALL AVAILABLE FREE TRANSLATIONS FOR TODAY. NEXT AVAILABLE IN  17 HOURS 07 MINUTES 48 SECONDSVISIT HTTPS://MYMEMORY.TRANSLATED.NET/DOC/USAGELIMITS.PHP TO TRANSLATE MORE',\n",
              " 'MYMEMORY WARNING: YOU USED ALL AVAILABLE FREE TRANSLATIONS FOR TODAY. NEXT AVAILABLE IN  17 HOURS 07 MINUTES 48 SECONDSVISIT HTTPS://MYMEMORY.TRANSLATED.NET/DOC/USAGELIMITS.PHP TO TRANSLATE MORE',\n",
              " 'MYMEMORY WARNING: YOU USED ALL AVAILABLE FREE TRANSLATIONS FOR TODAY. NEXT AVAILABLE IN  17 HOURS 07 MINUTES 48 SECONDSVISIT HTTPS://MYMEMORY.TRANSLATED.NET/DOC/USAGELIMITS.PHP TO TRANSLATE MORE',\n",
              " 'MYMEMORY WARNING: YOU USED ALL AVAILABLE FREE TRANSLATIONS FOR TODAY. NEXT AVAILABLE IN  17 HOURS 07 MINUTES 47 SECONDSVISIT HTTPS://MYMEMORY.TRANSLATED.NET/DOC/USAGELIMITS.PHP TO TRANSLATE MORE',\n",
              " 'MYMEMORY WARNING: YOU USED ALL AVAILABLE FREE TRANSLATIONS FOR TODAY. NEXT AVAILABLE IN  17 HOURS 07 MINUTES 47 SECONDSVISIT HTTPS://MYMEMORY.TRANSLATED.NET/DOC/USAGELIMITS.PHP TO TRANSLATE MORE',\n",
              " 'MYMEMORY WARNING: YOU USED ALL AVAILABLE FREE TRANSLATIONS FOR TODAY. NEXT AVAILABLE IN  17 HOURS 07 MINUTES 47 SECONDSVISIT HTTPS://MYMEMORY.TRANSLATED.NET/DOC/USAGELIMITS.PHP TO TRANSLATE MORE',\n",
              " 'MYMEMORY WARNING: YOU USED ALL AVAILABLE FREE TRANSLATIONS FOR TODAY. NEXT AVAILABLE IN  17 HOURS 07 MINUTES 47 SECONDSVISIT HTTPS://MYMEMORY.TRANSLATED.NET/DOC/USAGELIMITS.PHP TO TRANSLATE MORE',\n",
              " 'MYMEMORY WARNING: YOU USED ALL AVAILABLE FREE TRANSLATIONS FOR TODAY. NEXT AVAILABLE IN  17 HOURS 07 MINUTES 47 SECONDSVISIT HTTPS://MYMEMORY.TRANSLATED.NET/DOC/USAGELIMITS.PHP TO TRANSLATE MORE',\n",
              " 'QUERY LENGTH LIMIT EXCEDEED. MAX ALLOWED QUERY : 500 CHARS',\n",
              " 'MYMEMORY WARNING: YOU USED ALL AVAILABLE FREE TRANSLATIONS FOR TODAY. NEXT AVAILABLE IN  17 HOURS 07 MINUTES 47 SECONDSVISIT HTTPS://MYMEMORY.TRANSLATED.NET/DOC/USAGELIMITS.PHP TO TRANSLATE MORE',\n",
              " 'nice production and verses here, i wish the main chorus stood out more in terms of melody and flow though, goodluck.',\n",
              " 'MYMEMORY WARNING: YOU USED ALL AVAILABLE FREE TRANSLATIONS FOR TODAY. NEXT AVAILABLE IN  17 HOURS 07 MINUTES 47 SECONDSVISIT HTTPS://MYMEMORY.TRANSLATED.NET/DOC/USAGELIMITS.PHP TO TRANSLATE MORE',\n",
              " 'MYMEMORY WARNING: YOU USED ALL AVAILABLE FREE TRANSLATIONS FOR TODAY. NEXT AVAILABLE IN  17 HOURS 07 MINUTES 47 SECONDSVISIT HTTPS://MYMEMORY.TRANSLATED.NET/DOC/USAGELIMITS.PHP TO TRANSLATE MORE',\n",
              " 'MYMEMORY WARNING: YOU USED ALL AVAILABLE FREE TRANSLATIONS FOR TODAY. NEXT AVAILABLE IN  17 HOURS 07 MINUTES 47 SECONDSVISIT HTTPS://MYMEMORY.TRANSLATED.NET/DOC/USAGELIMITS.PHP TO TRANSLATE MORE',\n",
              " \"Thanks for sharing your work with me.\\nNice production here.\\nUnfortunately I'm looking for beat-less ambient drone tracks though.,\\nBest regards\\nLauge\",\n",
              " 'Hello there,\\nThank you for sharing your beautiful music.\\nBeautiful sounds, nice production. I really enjoyed to listen to this song.\\nUnfortunately we work with another kind of instrumental music, mostly with piano solo and acoustic guitar, so we don’t have a proper playlist for your song.\\nThank you again \\nTake care',\n",
              " \"Enjoyed some of the beats on this but it is the incorrect style for our label and felt like it lacked some direction, however, it's difficult to judge as its not a genre we specialize in \",\n",
              " \"i thought that the sound design is real solid, it's all around a good production. thing is that there lack this huge and exuberant moment in the track that can perhaps give it that big big lift. thanks for sharing your music with me nonetheless\",\n",
              " \"While we really appreciated the Tycho vibe of this track, it's too upbeat and beat-heavy for our playlist. We tend to prefer more chill, laid back, neo-classical influenced tracks for our playlist. Thanks so much for sharing with us. Stay safe and best of luck!\",\n",
              " 'Cool synth work, I like the production but the arrangement is a little mellow to me. Just my opinion. Thank you for sharing.',\n",
              " \"Really cool track, liking the energy on this and the overall sound is good too. It's just not grabbing me enough though, best of luck \",\n",
              " 'MYMEMORY WARNING: YOU USED ALL AVAILABLE FREE TRANSLATIONS FOR TODAY. NEXT AVAILABLE IN  17 HOURS 07 MINUTES 47 SECONDSVISIT HTTPS://MYMEMORY.TRANSLATED.NET/DOC/USAGELIMITS.PHP TO TRANSLATE MORE',\n",
              " 'Greetings Thalos,\\nYour sound quality is really good. sadly the mood of this tune feels a bit to \"wild\" for my playlists. really sorry mate.',\n",
              " 'Hey! Thanks for sending your music! I truly enjoyed listening to this song specially the drum performance, I will listen to some of your other tracks on Spotify and definitely add some songs to my Spotify library. Even though I liked the sound I am afraid that the track is not the best fit for the vibe of my playlist. Sorry',\n",
              " \"Hi thanks for you submission, I really dig the artwork it's super cool. The instrumental is very nice but It's sad that the vocals aren't mixed so well. I will add your track to help you out, but you need to focus on 2 things for future releases. 1. mix your stuff better, or let it be mixed by someone 2. some songs you have have potential but the feel like you just doodle along try to have a bit more structure so that it will be recognized by other curators\",\n",
              " \"Hey guys, thanks for submitting the track, Gabriel from YMX here!\\n\\nLove the track, right up my street, I'm a retro lover, and the general lo-fi vibe adds so much texture. Will add the track to our playlist x\\n\\nWe would also appreciate it if you could subscribe to Wherefrom.org at this link: https://wherefrom.org/join/ymx\\xa0 🙏 This allows us to plant trees around the world for every article we publish!\\xa0\\n\\nThanks, Gabriel\\n\",\n",
              " \"Hello, thank you for submitting. The song is a bit too quirky for me tastes. Mix-wise, it's nice for a lo-fi song, but could do with a bit more power and clarity if looking for a slightly more popular audience.\",\n",
              " \"Hi Chillers inc!\\n\\nThank you for submitting!\\n\\nInteresting sound! I enjoyed the theremin-like sound of the intro, it had a really nice effect on the whole sound of the track.\\n\\nI enjoyed that you took the time to introduce the vocals, they really had an interesting effect on the whole sound and had a distinct vibe which I enjoyed.\\n\\nThe whole vibe of the track is interesting, I enjoy the arrangements, they assemble quite well and give the track a very nice identity.\\n\\nOverall I enjoyed the track, although I don't feel it really vibes that much with the sound of my playlist, but I'm sure it will fit quite nicely in lots of other lists.\\n\\nThank you again for submitting!\",\n",
              " 'Hey! Congratulations for the great work on this one, will share the track as soon as possible. Would you be so kind to share the list in your socials? Thanks! ',\n",
              " 'Hi\\nThank you for your song.\\nIt’s a bit too strange for me sound wise and the production sounds way too much like home studio made.\\nMore of a background track without any catchy hook lines.\\nThe vocals aren’t my thing \\nI pass on this one\\nKeep it up',\n",
              " 'Hi, thank you for submitting your song to me. Sorry, but this track not entertain me enough to add to my playlists and i dont want to have too many songs in them. Regards ',\n",
              " 'Hi guys,\\nThank you for sending us your music.\\n\\nThis is a nice track, we feel like floating when listening to it, the synths works very well and the slow tempo vibes creates a whole atmosphere that reminds of some shoegaze and psychedelic rock, the guitar solo was really something else, also I was not expecting the second part, thought it was another song, but it seems like a more slow version of the same song. We add the song to our Groover Discoveries on Spotify.',\n",
              " \"Hello there, thanks for sending this through. I like it, sounds cool. The drums sound really nice especially. I thought it was going to be an instrumental at first. I think would also make a really cool remix - could image sampling those drums and making it more of a dance track. Will keep an eye on what you're doing! Kurt \",\n",
              " \"Hello and thank you for sending your music. A joy of a track to listen to, captivating, soothing and refreshingly enchanting. Very reminiscent of Mac Demarco's best work, the piece provides a nonchalant anthem for these troubled times. Creatively composed and aptly put together. We will add it to our main playlist. Cheers!\",\n",
              " 'Hello Chillers Inc, thank you for sharing your track.\\n\\nIt sounds like The Adams Family would if they started a band, something a little spooky!\\n\\nI thought it was a pure instrumental at first such was the long intro. The vocals give the track an extra dynamic of course.\\n\\nThis is a little slow for me, i favour a catchy chorus on a snappier shorter song ideally. However those that prefer something a little quirky or different will no doubt find the unique soundscapes on offer here very unique and attractive.\\n\\nNot one for me on this occasion but all the very best for 2021.\\n',\n",
              " \"Really great vibe to this piece.\\nGood job with production and vocal delivery.\\n'The Music' is not quite a fit with our station, but we'd definitely like to hear more from Chillers INC!\",\n",
              " 'MYMEMORY WARNING: YOU USED ALL AVAILABLE FREE TRANSLATIONS FOR TODAY. NEXT AVAILABLE IN  17 HOURS 07 MINUTES 47 SECONDSVISIT HTTPS://MYMEMORY.TRANSLATED.NET/DOC/USAGELIMITS.PHP TO TRANSLATE MORE',\n",
              " 'QUERY LENGTH LIMIT EXCEDEED. MAX ALLOWED QUERY : 500 CHARS MYMEMORY WARNING: YOU USED ALL AVAILABLE FREE TRANSLATIONS FOR TODAY. NEXT AVAILABLE IN  17 HOURS 07 MINUTES 47 SECONDSVISIT HTTPS://MYMEMORY.TRANSLATED.NET/DOC/USAGELIMITS.PHP TO TRANSLATE MORE',\n",
              " 'MYMEMORY WARNING: YOU USED ALL AVAILABLE FREE TRANSLATIONS FOR TODAY. NEXT AVAILABLE IN  17 HOURS 07 MINUTES 47 SECONDSVISIT HTTPS://MYMEMORY.TRANSLATED.NET/DOC/USAGELIMITS.PHP TO TRANSLATE MORE',\n",
              " 'MYMEMORY WARNING: YOU USED ALL AVAILABLE FREE TRANSLATIONS FOR TODAY. NEXT AVAILABLE IN  17 HOURS 07 MINUTES 47 SECONDSVISIT HTTPS://MYMEMORY.TRANSLATED.NET/DOC/USAGELIMITS.PHP TO TRANSLATE MORE',\n",
              " 'MYMEMORY WARNING: YOU USED ALL AVAILABLE FREE TRANSLATIONS FOR TODAY. NEXT AVAILABLE IN  17 HOURS 07 MINUTES 47 SECONDSVISIT HTTPS://MYMEMORY.TRANSLATED.NET/DOC/USAGELIMITS.PHP TO TRANSLATE MORE',\n",
              " 'QUERY LENGTH LIMIT EXCEDEED. MAX ALLOWED QUERY : 500 CHARS',\n",
              " 'MYMEMORY WARNING: YOU USED ALL AVAILABLE FREE TRANSLATIONS FOR TODAY. NEXT AVAILABLE IN  17 HOURS 07 MINUTES 47 SECONDSVISIT HTTPS://MYMEMORY.TRANSLATED.NET/DOC/USAGELIMITS.PHP TO TRANSLATE MORE',\n",
              " 'MYMEMORY WARNING: YOU USED ALL AVAILABLE FREE TRANSLATIONS FOR TODAY. NEXT AVAILABLE IN  17 HOURS 07 MINUTES 47 SECONDSVISIT HTTPS://MYMEMORY.TRANSLATED.NET/DOC/USAGELIMITS.PHP TO TRANSLATE MORE',\n",
              " 'MYMEMORY WARNING: YOU USED ALL AVAILABLE FREE TRANSLATIONS FOR TODAY. NEXT AVAILABLE IN  17 HOURS 07 MINUTES 47 SECONDSVISIT HTTPS://MYMEMORY.TRANSLATED.NET/DOC/USAGELIMITS.PHP TO TRANSLATE MORE',\n",
              " 'Dear R-IK,\\n\\nAlthough \"Desole\" is a very solid production, I felt a few things could have been different; if I may :\\n\\na) Intro was a bit too big, especially for a song of your genre. I would have really liked it shorter !\\nb) I was not a big fan of the guitar and bass pad being panned so much to the left. I would have gone for a more balanced Left-Right mix.\\nc) Last but not least, I would have really liked for a more natural guitar sound !\\n\\nWith all these being, I\\'m really sorry I will have to pass on \"Desole\".\\nCan\\'t but thank you for your submission and wish you all the success in 2021 !',\n",
              " 'QUERY LENGTH LIMIT EXCEDEED. MAX ALLOWED QUERY : 500 CHARS',\n",
              " 'MYMEMORY WARNING: YOU USED ALL AVAILABLE FREE TRANSLATIONS FOR TODAY. NEXT AVAILABLE IN  17 HOURS 07 MINUTES 47 SECONDSVISIT HTTPS://MYMEMORY.TRANSLATED.NET/DOC/USAGELIMITS.PHP TO TRANSLATE MORE',\n",
              " 'MYMEMORY WARNING: YOU USED ALL AVAILABLE FREE TRANSLATIONS FOR TODAY. NEXT AVAILABLE IN  17 HOURS 07 MINUTES 47 SECONDSVISIT HTTPS://MYMEMORY.TRANSLATED.NET/DOC/USAGELIMITS.PHP TO TRANSLATE MORE',\n",
              " 'We would love to support  you on this track great work! Curious for more stuff in the future :)',\n",
              " 'MYMEMORY WARNING: YOU USED ALL AVAILABLE FREE TRANSLATIONS FOR TODAY. NEXT AVAILABLE IN  17 HOURS 07 MINUTES 47 SECONDSVISIT HTTPS://MYMEMORY.TRANSLATED.NET/DOC/USAGELIMITS.PHP TO TRANSLATE MORE',\n",
              " \"Overall a super solid song and I like the video on this one too, not a huge fan of the instrumental on the song though, vocals are great! I'm more looking for electronic dance music for my gaming playlist.\\n\\nHope you're doing good!\\nBeau.\",\n",
              " 'Hi,\\nReally nice production with a strong vocal. For my playlists however I am searching for slow guitar songs with less focus on vocals and more focus on instrumental parts.\\n\\nWish you all the best in the future!\\n\\nCheers,\\n\\nJens\\n',\n",
              " \"Hey Ykons,\\nWhat a nice song. Cool uplifting instrumental. Solid vocals. But the structure could be more unique sometimes. I'd liked to hear something like a guitar solo, for example. Try to add an element of surprise next time. All the best! :)\",\n",
              " 'Hi, thank you for submitting your song to me.  I like this track as well as music video to this.  After consideration i decided that this can be good match for my indie playlist. Regards ',\n",
              " 'Hey Ykons, nice project and i have to say that i enjoyed the beat unfortunately this is slightly uptempo for our channel. Keep sending stuff ! ',\n",
              " \"Hi there Ykons! A very creative and inspired song. I like the slight ambience on the guitar and the drum samples. Great production and a cool video as well. Unfortunately the track doesn't quite fit the genre of my playlists but keep it up!\",\n",
              " 'cool track! nice video clip! we would love to add this song into our pop news playlist! thank you!',\n",
              " 'Hi, Ykons,\\n\\nGreat intro! The vocal performance sounds clean and suits the atmosphere of the song! The vocal timbre suits the vibe of the song! The backing vocals are arranged very well! \\nThe instrumental sounds sick! I like that the drums sound very clean and clear. I like the sound of the guitar. \\nIn terms of mixing, the vocal mix works very well. \\nThe structure works well and contains a clear and memorable chorus. \\nAll in all, a great track! \\n\\nKind regards,\\nTap Water',\n",
              " 'MYMEMORY WARNING: YOU USED ALL AVAILABLE FREE TRANSLATIONS FOR TODAY. NEXT AVAILABLE IN  17 HOURS 07 MINUTES 47 SECONDSVISIT HTTPS://MYMEMORY.TRANSLATED.NET/DOC/USAGELIMITS.PHP TO TRANSLATE MORE',\n",
              " 'Hey!\\nA nice and catchy Track indeed.\\nThe main chorus is great.\\nI like the song structure and the well executed production.\\nOverall nothing new, but the song has certainly potential.\\nI will follow you in IG and Spotify and out the song on my playlist \\nGreetings from Germany ',\n",
              " 'MYMEMORY WARNING: YOU USED ALL AVAILABLE FREE TRANSLATIONS FOR TODAY. NEXT AVAILABLE IN  17 HOURS 07 MINUTES 47 SECONDSVISIT HTTPS://MYMEMORY.TRANSLATED.NET/DOC/USAGELIMITS.PHP TO TRANSLATE MORE',\n",
              " 'Really nice commercial pop-rock song. I believe it will have great demand potential and definitely is radio material. Awesome guitar play, superb vocals and really nice imagine dragons influence there. \\n\\nDoes not really fit the genre of our playlist but thank you for sending through your song!',\n",
              " 'One of my favourite track of the last months! With a proper marketing you could make it to a great worldwide success - I can only help just a bit with my small playlists...all the best!',\n",
              " 'MYMEMORY WARNING: YOU USED ALL AVAILABLE FREE TRANSLATIONS FOR TODAY. NEXT AVAILABLE IN  17 HOURS 07 MINUTES 47 SECONDSVISIT HTTPS://MYMEMORY.TRANSLATED.NET/DOC/USAGELIMITS.PHP TO TRANSLATE MORE',\n",
              " 'MYMEMORY WARNING: YOU USED ALL AVAILABLE FREE TRANSLATIONS FOR TODAY. NEXT AVAILABLE IN  17 HOURS 07 MINUTES 47 SECONDSVISIT HTTPS://MYMEMORY.TRANSLATED.NET/DOC/USAGELIMITS.PHP TO TRANSLATE MORE',\n",
              " \"That's really nice. Nice atmosphere. Super production. Nice video. All great. Thanks for the submission., Stefanos\",\n",
              " 'MYMEMORY WARNING: YOU USED ALL AVAILABLE FREE TRANSLATIONS FOR TODAY. NEXT AVAILABLE IN  17 HOURS 07 MINUTES 47 SECONDSVISIT HTTPS://MYMEMORY.TRANSLATED.NET/DOC/USAGELIMITS.PHP TO TRANSLATE MORE',\n",
              " 'MYMEMORY WARNING: YOU USED ALL AVAILABLE FREE TRANSLATIONS FOR TODAY. NEXT AVAILABLE IN  17 HOURS 07 MINUTES 47 SECONDSVISIT HTTPS://MYMEMORY.TRANSLATED.NET/DOC/USAGELIMITS.PHP TO TRANSLATE MORE',\n",
              " 'Very rich track nice and fully sounding, def has something, it didnt grab me enough in the drop to grab me, overall great production ,thanks for sharing it, ',\n",
              " 'Hey! thank you so much for your submission, I like the sound quality of this production, the idea is pretty nice and I like the vocals, they are well recorded and mixed with the instrumental but maybe I think the idea might be a little too normal, I would like to hear some more innovative and creatively unique, maybe you could try taking a bit more risk on the creative side. ',\n",
              " 'Hey,\\n\\nThank you for sending this track to us! We really enjoyed listening to the tune. I will add it to our Spotify playlist.\\n\\nHave a good day and stay safe!',\n",
              " 'MYMEMORY WARNING: YOU USED ALL AVAILABLE FREE TRANSLATIONS FOR TODAY. NEXT AVAILABLE IN  17 HOURS 07 MINUTES 46 SECONDSVISIT HTTPS://MYMEMORY.TRANSLATED.NET/DOC/USAGELIMITS.PHP TO TRANSLATE MORE',\n",
              " 'High quality cam though :) I like the style very much, it reminds me of Bastille quite a lot. Nice and clean overall production. Awesome vocals, nice lyrics. Definitely worth a placement on my \"Fresh Founds\" playlist, which actually is the most successful I have (1k followers). Congratulations on your placement. All the best!🚀',\n",
              " 'QUERY LENGTH LIMIT EXCEDEED. MAX ALLOWED QUERY : 500 CHARS',\n",
              " 'MYMEMORY WARNING: YOU USED ALL AVAILABLE FREE TRANSLATIONS FOR TODAY. NEXT AVAILABLE IN  17 HOURS 07 MINUTES 46 SECONDSVISIT HTTPS://MYMEMORY.TRANSLATED.NET/DOC/USAGELIMITS.PHP TO TRANSLATE MORE',\n",
              " 'MYMEMORY WARNING: YOU USED ALL AVAILABLE FREE TRANSLATIONS FOR TODAY. NEXT AVAILABLE IN  17 HOURS 07 MINUTES 46 SECONDSVISIT HTTPS://MYMEMORY.TRANSLATED.NET/DOC/USAGELIMITS.PHP TO TRANSLATE MORE',\n",
              " 'MYMEMORY WARNING: YOU USED ALL AVAILABLE FREE TRANSLATIONS FOR TODAY. NEXT AVAILABLE IN  17 HOURS 07 MINUTES 46 SECONDSVISIT HTTPS://MYMEMORY.TRANSLATED.NET/DOC/USAGELIMITS.PHP TO TRANSLATE MORE',\n",
              " 'MYMEMORY WARNING: YOU USED ALL AVAILABLE FREE TRANSLATIONS FOR TODAY. NEXT AVAILABLE IN  17 HOURS 07 MINUTES 46 SECONDSVISIT HTTPS://MYMEMORY.TRANSLATED.NET/DOC/USAGELIMITS.PHP TO TRANSLATE MORE',\n",
              " 'MYMEMORY WARNING: YOU USED ALL AVAILABLE FREE TRANSLATIONS FOR TODAY. NEXT AVAILABLE IN  17 HOURS 07 MINUTES 46 SECONDSVISIT HTTPS://MYMEMORY.TRANSLATED.NET/DOC/USAGELIMITS.PHP TO TRANSLATE MORE',\n",
              " 'MYMEMORY WARNING: YOU USED ALL AVAILABLE FREE TRANSLATIONS FOR TODAY. NEXT AVAILABLE IN  17 HOURS 07 MINUTES 46 SECONDSVISIT HTTPS://MYMEMORY.TRANSLATED.NET/DOC/USAGELIMITS.PHP TO TRANSLATE MORE',\n",
              " 'MYMEMORY WARNING: YOU USED ALL AVAILABLE FREE TRANSLATIONS FOR TODAY. NEXT AVAILABLE IN  17 HOURS 07 MINUTES 46 SECONDSVISIT HTTPS://MYMEMORY.TRANSLATED.NET/DOC/USAGELIMITS.PHP TO TRANSLATE MORE',\n",
              " 'MYMEMORY WARNING: YOU USED ALL AVAILABLE FREE TRANSLATIONS FOR TODAY. NEXT AVAILABLE IN  17 HOURS 07 MINUTES 46 SECONDSVISIT HTTPS://MYMEMORY.TRANSLATED.NET/DOC/USAGELIMITS.PHP TO TRANSLATE MORE',\n",
              " 'MYMEMORY WARNING: YOU USED ALL AVAILABLE FREE TRANSLATIONS FOR TODAY. NEXT AVAILABLE IN  17 HOURS 07 MINUTES 46 SECONDSVISIT HTTPS://MYMEMORY.TRANSLATED.NET/DOC/USAGELIMITS.PHP TO TRANSLATE MORE',\n",
              " 'MYMEMORY WARNING: YOU USED ALL AVAILABLE FREE TRANSLATIONS FOR TODAY. NEXT AVAILABLE IN  17 HOURS 07 MINUTES 46 SECONDSVISIT HTTPS://MYMEMORY.TRANSLATED.NET/DOC/USAGELIMITS.PHP TO TRANSLATE MORE',\n",
              " 'QUERY LENGTH LIMIT EXCEDEED. MAX ALLOWED QUERY : 500 CHARS',\n",
              " 'MYMEMORY WARNING: YOU USED ALL AVAILABLE FREE TRANSLATIONS FOR TODAY. NEXT AVAILABLE IN  17 HOURS 07 MINUTES 46 SECONDSVISIT HTTPS://MYMEMORY.TRANSLATED.NET/DOC/USAGELIMITS.PHP TO TRANSLATE MORE',\n",
              " 'MYMEMORY WARNING: YOU USED ALL AVAILABLE FREE TRANSLATIONS FOR TODAY. NEXT AVAILABLE IN  17 HOURS 07 MINUTES 46 SECONDSVISIT HTTPS://MYMEMORY.TRANSLATED.NET/DOC/USAGELIMITS.PHP TO TRANSLATE MORE',\n",
              " 'MYMEMORY WARNING: YOU USED ALL AVAILABLE FREE TRANSLATIONS FOR TODAY. NEXT AVAILABLE IN  17 HOURS 07 MINUTES 46 SECONDSVISIT HTTPS://MYMEMORY.TRANSLATED.NET/DOC/USAGELIMITS.PHP TO TRANSLATE MORE',\n",
              " 'MYMEMORY WARNING: YOU USED ALL AVAILABLE FREE TRANSLATIONS FOR TODAY. NEXT AVAILABLE IN  17 HOURS 07 MINUTES 46 SECONDSVISIT HTTPS://MYMEMORY.TRANSLATED.NET/DOC/USAGELIMITS.PHP TO TRANSLATE MORE',\n",
              " 'Hi Boorook, great song, again! Love the mood, the vocals and the arrangements! See you soon :)',\n",
              " \"Hello Boorook.\\n\\nThe whole concept behind the song is really well made, and that production is everything, feels urban but vintage and pop/folk at the same time. Vocals are a bit too 'foggy'. it's a bit hard to understand a few things. Overall we really enjoyed the instrumental/beat.\\n\\nEveryday we get tons os tracks to feedback and decide what to work with. At this time we've choosen to pick new artists that we have not previously introduced our audience to, or simply try out sounds and genres that may be a bit out of the box for our public. We thank you for sending us your work and allowing this feedback to happen.\\n\\nEscutai.com\",\n",
              " 'MYMEMORY WARNING: YOU USED ALL AVAILABLE FREE TRANSLATIONS FOR TODAY. NEXT AVAILABLE IN  17 HOURS 07 MINUTES 46 SECONDSVISIT HTTPS://MYMEMORY.TRANSLATED.NET/DOC/USAGELIMITS.PHP TO TRANSLATE MORE',\n",
              " \"Thanks for your submission. I'll share your track on my next Tinnitist playlist. I'll send you the confirmation and a link when it's done. Cheers / Darryl\",\n",
              " \"omg beautiful song send by an amazing artist I'm a subscriber to your channel  and I really like your songs bro keep it up\\nI'm going to share in playlist popular on the channel <3 \",\n",
              " 'Hey man! Thanks for always keeping me in mind with you releases. I love the production but I cannot hear the vocals, so I am going to have to pass on this one.',\n",
              " 'Of all the songs on your album, this may be the best. Look at the playlist and you will see what I did with it. Thanks for sharing.',\n",
              " 'Hello, how are you?\\n\\nYour music is very well recorded and mixed. The vocal work is excellent and the instrumental work is also very good. Congratulations for the good work.\\n\\nWe will insert your music in one of our playlists to keep it on our radar. I wish you good luck.',\n",
              " 'Hi, we feel the chill atmosphere, but overall the melody is a little monotonous for us..\\nNonetheless, amazing work here!\\n',\n",
              " 'There is a great folk feeling to the music with a mix of Americana. The easy ride of the music combines wonderfully with the layered vocals. You can easily sit back and let the music wash over you.',\n",
              " \"Hey, good indiefolk record. Honestly, for a review on indietapes it wasn't that outstanding to me, cause it sounds a little bit monotonous in some parts to me. I'm really sorry and wish you a lot of success!\",\n",
              " \"Hey, a very well produced record. Honestly, the melody didn't catch me enough while listening, it's a little bit sad and for my taste, too mystic. :- ( Big sorry this time. \",\n",
              " \"thanks for contacting me about this,. unfortunately, i'm going to pass. i'm afraid that this isn't a great fit for JOVM. \",\n",
              " 'MYMEMORY WARNING: YOU USED ALL AVAILABLE FREE TRANSLATIONS FOR TODAY. NEXT AVAILABLE IN  17 HOURS 07 MINUTES 46 SECONDSVISIT HTTPS://MYMEMORY.TRANSLATED.NET/DOC/USAGELIMITS.PHP TO TRANSLATE MORE',\n",
              " 'Hi friend! Nice track, we will share it to our main house and bass playlist on spotify. Keep goin on, best regards!',\n",
              " 'MYMEMORY WARNING: YOU USED ALL AVAILABLE FREE TRANSLATIONS FOR TODAY. NEXT AVAILABLE IN  17 HOURS 07 MINUTES 46 SECONDSVISIT HTTPS://MYMEMORY.TRANSLATED.NET/DOC/USAGELIMITS.PHP TO TRANSLATE MORE',\n",
              " 'Very groovy house / techno vibes <3 a bit too repetitive for me at times though and the sound quality / mixing needs to be a bit more polished & refined for us as well <3 sorry ',\n",
              " 'hey man, thanks for sending. Dope prod here, well done. Not a perfect cup of tea for us this time, but banger track. Best',\n",
              " 'MYMEMORY WARNING: YOU USED ALL AVAILABLE FREE TRANSLATIONS FOR TODAY. NEXT AVAILABLE IN  17 HOURS 07 MINUTES 46 SECONDSVISIT HTTPS://MYMEMORY.TRANSLATED.NET/DOC/USAGELIMITS.PHP TO TRANSLATE MORE',\n",
              " 'QUERY LENGTH LIMIT EXCEDEED. MAX ALLOWED QUERY : 500 CHARS QUERY LENGTH LIMIT EXCEDEED. MAX ALLOWED QUERY : 500 CHARS QUERY LENGTH LIMIT EXCEDEED. MAX ALLOWED QUERY : 500 CHARS QUERY LENGTH LIMIT EXCEDEED. MAX ALLOWED QUERY : 500 CHARS MYMEMORY WARNING: YOU USED ALL AVAILABLE FREE TRANSLATIONS FOR TODAY. NEXT AVAILABLE IN  17 HOURS 07 MINUTES 46 SECONDSVISIT HTTPS://MYMEMORY.TRANSLATED.NET/DOC/USAGELIMITS.PHP TO TRANSLATE MORE',\n",
              " 'There is interesting and powerful work here. I like this idea of minimalist electronic music, I think it makes perfect sense. I would like to hear this track, however, with more looping and less interventions, so that it becomes even more hypnotic.',\n",
              " 'MYMEMORY WARNING: YOU USED ALL AVAILABLE FREE TRANSLATIONS FOR TODAY. NEXT AVAILABLE IN  17 HOURS 07 MINUTES 46 SECONDSVISIT HTTPS://MYMEMORY.TRANSLATED.NET/DOC/USAGELIMITS.PHP TO TRANSLATE MORE',\n",
              " 'MYMEMORY WARNING: YOU USED ALL AVAILABLE FREE TRANSLATIONS FOR TODAY. NEXT AVAILABLE IN  17 HOURS 07 MINUTES 46 SECONDSVISIT HTTPS://MYMEMORY.TRANSLATED.NET/DOC/USAGELIMITS.PHP TO TRANSLATE MORE',\n",
              " 'MYMEMORY WARNING: YOU USED ALL AVAILABLE FREE TRANSLATIONS FOR TODAY. NEXT AVAILABLE IN  17 HOURS 07 MINUTES 46 SECONDSVISIT HTTPS://MYMEMORY.TRANSLATED.NET/DOC/USAGELIMITS.PHP TO TRANSLATE MORE',\n",
              " 'MYMEMORY WARNING: YOU USED ALL AVAILABLE FREE TRANSLATIONS FOR TODAY. NEXT AVAILABLE IN  17 HOURS 07 MINUTES 46 SECONDSVISIT HTTPS://MYMEMORY.TRANSLATED.NET/DOC/USAGELIMITS.PHP TO TRANSLATE MORE',\n",
              " 'MYMEMORY WARNING: YOU USED ALL AVAILABLE FREE TRANSLATIONS FOR TODAY. NEXT AVAILABLE IN  17 HOURS 07 MINUTES 45 SECONDSVISIT HTTPS://MYMEMORY.TRANSLATED.NET/DOC/USAGELIMITS.PHP TO TRANSLATE MORE',\n",
              " 'QUERY LENGTH LIMIT EXCEDEED. MAX ALLOWED QUERY : 500 CHARS',\n",
              " 'QUERY LENGTH LIMIT EXCEDEED. MAX ALLOWED QUERY : 500 CHARS',\n",
              " 'QUERY LENGTH LIMIT EXCEDEED. MAX ALLOWED QUERY : 500 CHARS',\n",
              " 'MYMEMORY WARNING: YOU USED ALL AVAILABLE FREE TRANSLATIONS FOR TODAY. NEXT AVAILABLE IN  17 HOURS 07 MINUTES 45 SECONDSVISIT HTTPS://MYMEMORY.TRANSLATED.NET/DOC/USAGELIMITS.PHP TO TRANSLATE MORE',\n",
              " 'QUERY LENGTH LIMIT EXCEDEED. MAX ALLOWED QUERY : 500 CHARS',\n",
              " 'MYMEMORY WARNING: YOU USED ALL AVAILABLE FREE TRANSLATIONS FOR TODAY. NEXT AVAILABLE IN  17 HOURS 07 MINUTES 45 SECONDSVISIT HTTPS://MYMEMORY.TRANSLATED.NET/DOC/USAGELIMITS.PHP TO TRANSLATE MORE',\n",
              " 'MYMEMORY WARNING: YOU USED ALL AVAILABLE FREE TRANSLATIONS FOR TODAY. NEXT AVAILABLE IN  17 HOURS 07 MINUTES 45 SECONDSVISIT HTTPS://MYMEMORY.TRANSLATED.NET/DOC/USAGELIMITS.PHP TO TRANSLATE MORE',\n",
              " 'MYMEMORY WARNING: YOU USED ALL AVAILABLE FREE TRANSLATIONS FOR TODAY. NEXT AVAILABLE IN  17 HOURS 07 MINUTES 45 SECONDSVISIT HTTPS://MYMEMORY.TRANSLATED.NET/DOC/USAGELIMITS.PHP TO TRANSLATE MORE',\n",
              " 'MYMEMORY WARNING: YOU USED ALL AVAILABLE FREE TRANSLATIONS FOR TODAY. NEXT AVAILABLE IN  17 HOURS 07 MINUTES 45 SECONDSVISIT HTTPS://MYMEMORY.TRANSLATED.NET/DOC/USAGELIMITS.PHP TO TRANSLATE MORE',\n",
              " 'MYMEMORY WARNING: YOU USED ALL AVAILABLE FREE TRANSLATIONS FOR TODAY. NEXT AVAILABLE IN  17 HOURS 07 MINUTES 45 SECONDSVISIT HTTPS://MYMEMORY.TRANSLATED.NET/DOC/USAGELIMITS.PHP TO TRANSLATE MORE',\n",
              " 'MYMEMORY WARNING: YOU USED ALL AVAILABLE FREE TRANSLATIONS FOR TODAY. NEXT AVAILABLE IN  17 HOURS 07 MINUTES 45 SECONDSVISIT HTTPS://MYMEMORY.TRANSLATED.NET/DOC/USAGELIMITS.PHP TO TRANSLATE MORE',\n",
              " 'MYMEMORY WARNING: YOU USED ALL AVAILABLE FREE TRANSLATIONS FOR TODAY. NEXT AVAILABLE IN  17 HOURS 07 MINUTES 45 SECONDSVISIT HTTPS://MYMEMORY.TRANSLATED.NET/DOC/USAGELIMITS.PHP TO TRANSLATE MORE',\n",
              " \"Great production and vocals, but it's too commercial for us, we gather only the lofi side of the spectrum\",\n",
              " \"Hey Djay I really liked your song, its very well produced, and maaaaan this girl singing with you made the perfect balance. Your voice is really unique, hard to find someone that sounds like you. You did a great job putting all this different types of voices together, some parts got a Rude Boy feeling but you can sing as well. The autotune really matches your voice. The only part that I think you can Improve is the lyrics. I don't know if English is your fist language but looks like you tryed your best but sometimes you can say the same thing you wanna say but with other words to make the song sound better. Try to connect with some song writers to help you make an even better song. If your listeners speak more french than english, try to do some songs in french too. Really good work man, congrats\",\n",
              " 'MYMEMORY WARNING: YOU USED ALL AVAILABLE FREE TRANSLATIONS FOR TODAY. NEXT AVAILABLE IN  17 HOURS 07 MINUTES 45 SECONDSVISIT HTTPS://MYMEMORY.TRANSLATED.NET/DOC/USAGELIMITS.PHP TO TRANSLATE MORE',\n",
              " 'MYMEMORY WARNING: YOU USED ALL AVAILABLE FREE TRANSLATIONS FOR TODAY. NEXT AVAILABLE IN  17 HOURS 07 MINUTES 45 SECONDSVISIT HTTPS://MYMEMORY.TRANSLATED.NET/DOC/USAGELIMITS.PHP TO TRANSLATE MORE',\n",
              " 'The vocals sounds good, they are good mixed.\\nI like the vibe, feels so chill.\\nThe flow is dope too.',\n",
              " 'When approving rap, we judge the vocals performance as well as the backing beats. The vocals started really energetic but then soon fallen so predictable as for the beats, it is so generic for the genre.',\n",
              " \"vocals sound amazing so catchy! Unfortunately, the vibe of this song isn't really a match for my playlist. I look for confident hot girl music, kind of a Britney spears or meg thee stallon vibe. Very fun and sexy music for listeners to feel confident in. Please listen to the playlist and read my about for some more background. Thanks for sending this in and I look forward to hearing more! :)\",\n",
              " \"A fun Valentine track ! I liked the fusion between electro and reggae! I like the duet, very envigorating ! The video is also fun to watch and gives a karaoke mood ! Maybe in terms of the mix, the freestyle part sounded a bit over the instrumental compared to the lady's voice. but overall well done\",\n",
              " 'QUERY LENGTH LIMIT EXCEDEED. MAX ALLOWED QUERY : 500 CHARS',\n",
              " 'MYMEMORY WARNING: YOU USED ALL AVAILABLE FREE TRANSLATIONS FOR TODAY. NEXT AVAILABLE IN  17 HOURS 07 MINUTES 45 SECONDSVISIT HTTPS://MYMEMORY.TRANSLATED.NET/DOC/USAGELIMITS.PHP TO TRANSLATE MORE',\n",
              " 'MYMEMORY WARNING: YOU USED ALL AVAILABLE FREE TRANSLATIONS FOR TODAY. NEXT AVAILABLE IN  17 HOURS 07 MINUTES 45 SECONDSVISIT HTTPS://MYMEMORY.TRANSLATED.NET/DOC/USAGELIMITS.PHP TO TRANSLATE MORE',\n",
              " 'MYMEMORY WARNING: YOU USED ALL AVAILABLE FREE TRANSLATIONS FOR TODAY. NEXT AVAILABLE IN  17 HOURS 07 MINUTES 45 SECONDSVISIT HTTPS://MYMEMORY.TRANSLATED.NET/DOC/USAGELIMITS.PHP TO TRANSLATE MORE',\n",
              " 'HOLY JESUS. What is this? I\\'m completely schocked. What a surprise.\\n\\nGuys, I\\'m not a big fan of Metal, but this is UNBELIEVABLE. In the beginning I thought I was ready to hear something like Daft Punk or Pet Shop Boys, but this track hits HARD!!!!!!!!!!!!\\n\\nIt reminds me a lot of names on the \"new scene\" of metal, like old songs by Killswitch Engage, Asking Alexandria, I See Stars, with a glimpse of prog metal, including one of the biggests bands here in Brazil: Angra.\\n\\nThis is sick. I\\'ll for sure write an article about you on our site and will share the song asap on our social media. \\n\\nPlease, be in touch and count on me for future releases. Send me this EP when it arrives! \\n\\nIZZO / ROCKNBOLD.COM',\n",
              " \"Hello guys! Thank you so much for sharing this amazing track! What incredible riffs !!! I particularly liked the way you chose to build the song's vocals through various backing vocals in addition to the main vocal. I feel that the result made the music much more intense, dark, engaging and energetic, as well as clear, very original. I also like the way the vocals dialogue with the equally intense and well-produced instrumentals. It's really cool how heavy metal finds some electronic elements here. Congratulations on the excellent work! Count on our support to spread the word!\",\n",
              " \"Crazy energy here! Drums sound crazy good, solid energetic and sit really well in the mix, but now we're looking for more electro style. Thanks for sharing!\",\n",
              " \"Hi Andre! Thanks so much for your submission!\\n\\nMy name's Joana and I'm from DØT MAGAZINE's team! I'm gonna be the one writing ♥\\n\\nI really enjoyed this tune! I'm mesmerise by your voice, what a precious vocal cord! I lost count on how many notes you nailed. The lyrics here are on point as well.\\n\\nOverall, it's a very interesting song and you did a really good job. Nice production!\\n\\nAs you know, our magazine stands out for having music written in Portuguese. With this said, that's why we will not be sharing your track. \\n\\nWishing you all the best!\\n\\nJoana\",\n",
              " \"Thank you for your submission.  While pleasant enough, I feel it's a bit too standard rock  and needs to do more to stand out. \",\n",
              " \"Hi there Andre, \\nThank you so much for sharing At the Station to me. Unfortunately, I didn't manage to get into the song here. I think I'm missing something in the instrument. There's a nice atmosphere but it isn't for me at the moment. Maybe next time.\\nCheers\\nLéa\",\n",
              " 'MYMEMORY WARNING: YOU USED ALL AVAILABLE FREE TRANSLATIONS FOR TODAY. NEXT AVAILABLE IN  17 HOURS 07 MINUTES 45 SECONDSVISIT HTTPS://MYMEMORY.TRANSLATED.NET/DOC/USAGELIMITS.PHP TO TRANSLATE MORE',\n",
              " 'MYMEMORY WARNING: YOU USED ALL AVAILABLE FREE TRANSLATIONS FOR TODAY. NEXT AVAILABLE IN  17 HOURS 07 MINUTES 45 SECONDSVISIT HTTPS://MYMEMORY.TRANSLATED.NET/DOC/USAGELIMITS.PHP TO TRANSLATE MORE',\n",
              " 'MYMEMORY WARNING: YOU USED ALL AVAILABLE FREE TRANSLATIONS FOR TODAY. NEXT AVAILABLE IN  17 HOURS 07 MINUTES 45 SECONDSVISIT HTTPS://MYMEMORY.TRANSLATED.NET/DOC/USAGELIMITS.PHP TO TRANSLATE MORE',\n",
              " \"Hi, thanks for the submission again.\\nI liked the post-punk, inorganic sounds and rhythm of this song.  It's a great new song.\\n\\nPlease let us feature it in our playlist “The Best of Under the Rader Indie”. Will you contact us again when this song is released on Spotify?\\nhttps://open.spotify.com/playlist/5YMTx1sHEhTQQqK6zXpAU3?si=qjCkxCtoSKOLieX7V_FN_Q\\n\",\n",
              " 'Great track. I will be adding your song to our Weekly Playlist x BaronMag.ca on our site, baronmag.ca. Have a great day. \\nNote: we will send you a link on Groover when it goes live. ',\n",
              " 'MYMEMORY WARNING: YOU USED ALL AVAILABLE FREE TRANSLATIONS FOR TODAY. NEXT AVAILABLE IN  17 HOURS 07 MINUTES 45 SECONDSVISIT HTTPS://MYMEMORY.TRANSLATED.NET/DOC/USAGELIMITS.PHP TO TRANSLATE MORE',\n",
              " \"Hi there! The piano progression gives me a mysterious vibe, it sounds interesting. I like the idea of having the vocal whispering, but it sounds unclear, it doesn't have enough presence, in addition, I would've preferred more variations and extra elements in the beat, I'm not really into the production of the song, I'll have to pass. \",\n",
              " 'MYMEMORY WARNING: YOU USED ALL AVAILABLE FREE TRANSLATIONS FOR TODAY. NEXT AVAILABLE IN  17 HOURS 07 MINUTES 45 SECONDSVISIT HTTPS://MYMEMORY.TRANSLATED.NET/DOC/USAGELIMITS.PHP TO TRANSLATE MORE',\n",
              " 'MYMEMORY WARNING: YOU USED ALL AVAILABLE FREE TRANSLATIONS FOR TODAY. NEXT AVAILABLE IN  17 HOURS 07 MINUTES 45 SECONDSVISIT HTTPS://MYMEMORY.TRANSLATED.NET/DOC/USAGELIMITS.PHP TO TRANSLATE MORE',\n",
              " 'MYMEMORY WARNING: YOU USED ALL AVAILABLE FREE TRANSLATIONS FOR TODAY. NEXT AVAILABLE IN  17 HOURS 07 MINUTES 45 SECONDSVISIT HTTPS://MYMEMORY.TRANSLATED.NET/DOC/USAGELIMITS.PHP TO TRANSLATE MORE',\n",
              " 'MYMEMORY WARNING: YOU USED ALL AVAILABLE FREE TRANSLATIONS FOR TODAY. NEXT AVAILABLE IN  17 HOURS 07 MINUTES 45 SECONDSVISIT HTTPS://MYMEMORY.TRANSLATED.NET/DOC/USAGELIMITS.PHP TO TRANSLATE MORE',\n",
              " 'MYMEMORY WARNING: YOU USED ALL AVAILABLE FREE TRANSLATIONS FOR TODAY. NEXT AVAILABLE IN  17 HOURS 07 MINUTES 45 SECONDSVISIT HTTPS://MYMEMORY.TRANSLATED.NET/DOC/USAGELIMITS.PHP TO TRANSLATE MORE',\n",
              " \"Hey, \\n\\nVery good beats, I like it ! I'm sorry we don't share beatmaker but maybe you can plug with rappers and make a tape. We will probably share it because your beats are very groovy. \\n\\nTake care,\",\n",
              " 'MYMEMORY WARNING: YOU USED ALL AVAILABLE FREE TRANSLATIONS FOR TODAY. NEXT AVAILABLE IN  17 HOURS 07 MINUTES 45 SECONDSVISIT HTTPS://MYMEMORY.TRANSLATED.NET/DOC/USAGELIMITS.PHP TO TRANSLATE MORE',\n",
              " \"Hello Sal ! \\n\\nThanks for reaching out ! I didn't know about your project but I really love the down tempo / hip hop vibe. \\n\\nThis is not our specialty here with Cracki but we will have an eye on your next releases with pleasure ! \\n\\nAll the best for the release and thanks again for reaching out ! \",\n",
              " 'Hey! Nice chops :) For me the mix and production is a bit cluttered. But the vibe is cool! However it’s not a good fit for my playlists. Thanks and good luck ',\n",
              " 'Very cool track man, I like the instrumental hip hop sections and nostalgic/soulful loops. It will be a great addition to my Alt Guide to Hip Hop playlist. Cheers 🤘🏻',\n",
              " 'QUERY LENGTH LIMIT EXCEDEED. MAX ALLOWED QUERY : 500 CHARS',\n",
              " 'MYMEMORY WARNING: YOU USED ALL AVAILABLE FREE TRANSLATIONS FOR TODAY. NEXT AVAILABLE IN  17 HOURS 07 MINUTES 45 SECONDSVISIT HTTPS://MYMEMORY.TRANSLATED.NET/DOC/USAGELIMITS.PHP TO TRANSLATE MORE',\n",
              " \"Hello ! thank you for this submission but we didn't get into the song that much. We hope you the best for the future.\\n\",\n",
              " 'Salut ! Thanks for sharing your music with us. If we broadcast effectively this kind of Beat on the radio (we are focus mostly on Boom Bap), this track specifically, is not adapted to what we play. We remain curious to your future tracks. Thanks !',\n",
              " 'Hi Sal Dulu !\\nThanks for sharing me a track again\\nBut not very fan of this one ! \\n\\nSorry !\\nSeeyou soon, ',\n",
              " \"Hi there, very cool sound. I really like the way that the vocals flow. The tone of your voice is amazing. I just wasn't a big fan of the way that the mix. I feel that there was a lack of presence and depth that I'm looking for. It felt a little too thin for my taste. I totally respect what you were going for. This is just my personal opinion. All the best with your music!\",\n",
              " \"Hi, thanks for the submission. The song's concept is ok and the production as well, I like the relaxed atmosphere and you also have an engaging instrumental but, I'm afraid I'm not feeling the song's vibe in the way I'd like to... I have to let it go for this time, my best wishes for the release, kind regards!\",\n",
              " 'MYMEMORY WARNING: YOU USED ALL AVAILABLE FREE TRANSLATIONS FOR TODAY. NEXT AVAILABLE IN  17 HOURS 07 MINUTES 45 SECONDSVISIT HTTPS://MYMEMORY.TRANSLATED.NET/DOC/USAGELIMITS.PHP TO TRANSLATE MORE',\n",
              " 'Hi, the song is cool and almost made it to my playlist.Just didn’t feel like it is the perfect fit.',\n",
              " 'MYMEMORY WARNING: YOU USED ALL AVAILABLE FREE TRANSLATIONS FOR TODAY. NEXT AVAILABLE IN  17 HOURS 07 MINUTES 44 SECONDSVISIT HTTPS://MYMEMORY.TRANSLATED.NET/DOC/USAGELIMITS.PHP TO TRANSLATE MORE',\n",
              " 'MYMEMORY WARNING: YOU USED ALL AVAILABLE FREE TRANSLATIONS FOR TODAY. NEXT AVAILABLE IN  17 HOURS 07 MINUTES 44 SECONDSVISIT HTTPS://MYMEMORY.TRANSLATED.NET/DOC/USAGELIMITS.PHP TO TRANSLATE MORE',\n",
              " 'hello interesting track but a bit too abstract for us. there are too much elements ina same times i think. sadly i pass best of luck',\n",
              " 'MYMEMORY WARNING: YOU USED ALL AVAILABLE FREE TRANSLATIONS FOR TODAY. NEXT AVAILABLE IN  17 HOURS 07 MINUTES 44 SECONDSVISIT HTTPS://MYMEMORY.TRANSLATED.NET/DOC/USAGELIMITS.PHP TO TRANSLATE MORE',\n",
              " \"Hey Sal Dulu, this is again a very nice production, very detailed and cool to listen to with all these rhythms breaks. It reminded me a bit of Wax Tailor, with a sweet and personal touch. I'll share it with pleasure! And I reposted it on Soundcloud ;)\",\n",
              " 'Hello,\\n\\nThanks for sending your track.\\nThis is great and well produced.\\nUnfortunately, it does not match what we are looking for at the moment.\\nWIsh you all the best,\\n\\nAlex from Get The Sound',\n",
              " 'Great track! Love the samples! However, i declined because the snare had a bit too much low end in it or made some sort of weird effect in the mix. Keep it up though! Thanks for sending',\n",
              " \"Hello, we only handle francophone music, so your song doesn't really fit, good vibe though, all the best\",\n",
              " 'Hi,\\n\\nVery chill vibe with a lot of interesting drum sounds and overall smooth mix. Personally not really the style I am searching for. More focused on songs with long stretched instrument/synth sounds to fit in my floating away playlist.\\n\\nWish you all the best with finding the right playlists!\\n\\nCheers,\\n\\nJens',\n",
              " 'Loved this! Great vibes, great structure. Love the references that can be heard along the way.\\n\\nAdded to our playlist.',\n",
              " 'Hello Sal Dulu,\\n\\nThank you for your message and for sharing your music.\\n\\nGirl song tried to seduce us but unfortunately FM 80 Radio does not play this genre.\\n\\nWishing you all the best for your musical career.\\n\\nGreetings,\\n\\nJC\\n\\nwww.fm80.fr',\n",
              " 'MYMEMORY WARNING: YOU USED ALL AVAILABLE FREE TRANSLATIONS FOR TODAY. NEXT AVAILABLE IN  17 HOURS 07 MINUTES 44 SECONDSVISIT HTTPS://MYMEMORY.TRANSLATED.NET/DOC/USAGELIMITS.PHP TO TRANSLATE MORE',\n",
              " 'This beat is cool but it\\'s too bad that you don\\'t rap on it, I was expecting for you to rap ! \\nI don\\'t know if it is an \"interlude\" or something else but the vibe is great\\n',\n",
              " 'MYMEMORY WARNING: YOU USED ALL AVAILABLE FREE TRANSLATIONS FOR TODAY. NEXT AVAILABLE IN  17 HOURS 07 MINUTES 44 SECONDSVISIT HTTPS://MYMEMORY.TRANSLATED.NET/DOC/USAGELIMITS.PHP TO TRANSLATE MORE',\n",
              " 'MYMEMORY WARNING: YOU USED ALL AVAILABLE FREE TRANSLATIONS FOR TODAY. NEXT AVAILABLE IN  17 HOURS 07 MINUTES 44 SECONDSVISIT HTTPS://MYMEMORY.TRANSLATED.NET/DOC/USAGELIMITS.PHP TO TRANSLATE MORE',\n",
              " 'MYMEMORY WARNING: YOU USED ALL AVAILABLE FREE TRANSLATIONS FOR TODAY. NEXT AVAILABLE IN  17 HOURS 07 MINUTES 44 SECONDSVISIT HTTPS://MYMEMORY.TRANSLATED.NET/DOC/USAGELIMITS.PHP TO TRANSLATE MORE',\n",
              " 'MYMEMORY WARNING: YOU USED ALL AVAILABLE FREE TRANSLATIONS FOR TODAY. NEXT AVAILABLE IN  17 HOURS 07 MINUTES 44 SECONDSVISIT HTTPS://MYMEMORY.TRANSLATED.NET/DOC/USAGELIMITS.PHP TO TRANSLATE MORE',\n",
              " 'MYMEMORY WARNING: YOU USED ALL AVAILABLE FREE TRANSLATIONS FOR TODAY. NEXT AVAILABLE IN  17 HOURS 07 MINUTES 44 SECONDSVISIT HTTPS://MYMEMORY.TRANSLATED.NET/DOC/USAGELIMITS.PHP TO TRANSLATE MORE',\n",
              " 'QUERY LENGTH LIMIT EXCEDEED. MAX ALLOWED QUERY : 500 CHARS',\n",
              " 'Hi,\\n\\nChill atmosphere and very soothing vocal! For my slow guitar/indie playlists I am however mainly focused on songs with a lot of instrumental parts and less focus on the vocal upfront.\\n\\nHope you find the right playlists for this song!\\n\\nCheers,\\n\\nJens',\n",
              " \"Hi Pecq, how are you doing? \\nThanks for sharing with us your music, I'm Mattia (founder).\\nI really like your song! Unluckly our website is very strong just with Italian music, but... :)\\n ....if you don't mind we decided to insert your YouTube Video in our playlist and your Spotify song in our playlist too. AMAZING! \\nWe also shared your music on our website and social media channels as well. Here the web proof https://www.facebook.com/musicaliveufficiale/posts/3792118374189021\\nInsert yuor music on our Collaborative Playlist on Spotify! It’s free!\\nFull respect for your art, you have a beautiful sound and the music is so cool, we really like it and hope to help you out in reaching italian music market as well. \\nMattia Pavanetto\\nMusicAlive.net\\n\",\n",
              " 'MYMEMORY WARNING: YOU USED ALL AVAILABLE FREE TRANSLATIONS FOR TODAY. NEXT AVAILABLE IN  17 HOURS 07 MINUTES 44 SECONDSVISIT HTTPS://MYMEMORY.TRANSLATED.NET/DOC/USAGELIMITS.PHP TO TRANSLATE MORE',\n",
              " 'MYMEMORY WARNING: YOU USED ALL AVAILABLE FREE TRANSLATIONS FOR TODAY. NEXT AVAILABLE IN  17 HOURS 07 MINUTES 44 SECONDSVISIT HTTPS://MYMEMORY.TRANSLATED.NET/DOC/USAGELIMITS.PHP TO TRANSLATE MORE',\n",
              " 'A really aerial song. Your voice is really beautiful and the song is well produced. The instrumental is really good, either pop, either electro, either a bit rock.\\nWe really like the different voices that create one.\\nKeep it up !\\n',\n",
              " \"Hey pecq, a sense of Unknown Mortal Orchestra in the production, love the drums!!! This is a beautiful melody, the singing is amazing, super professional. Probably one of the best tracks I've received on Groover recently, well done 😍 I'll share it in a playlist soon\",\n",
              " \"Hi pecq, love your song! The arrangements, the mood and the voice, everything is great we'll broadcast your track with pleasure :) You can send us the mp3 file and a visual. Can't wait to hear more, see you soon!\",\n",
              " \"Really cool genre of music but I don't feel totally this type of mix of sounds in some parts. I think that your voice is really beautiful\",\n",
              " 'MYMEMORY WARNING: YOU USED ALL AVAILABLE FREE TRANSLATIONS FOR TODAY. NEXT AVAILABLE IN  17 HOURS 07 MINUTES 44 SECONDSVISIT HTTPS://MYMEMORY.TRANSLATED.NET/DOC/USAGELIMITS.PHP TO TRANSLATE MORE',\n",
              " 'Hi,\\nthank you for sending us this one.\\nVoices are beautiful and dreamy, the bridge with no bass in the middle of the song touch me a lot.\\nSo yes, we will add it to our \"Dreamy Lo Fi\" spotify playlist in the next update.\\n\\nCheers',\n",
              " 'MYMEMORY WARNING: YOU USED ALL AVAILABLE FREE TRANSLATIONS FOR TODAY. NEXT AVAILABLE IN  17 HOURS 07 MINUTES 44 SECONDSVISIT HTTPS://MYMEMORY.TRANSLATED.NET/DOC/USAGELIMITS.PHP TO TRANSLATE MORE',\n",
              " 'MYMEMORY WARNING: YOU USED ALL AVAILABLE FREE TRANSLATIONS FOR TODAY. NEXT AVAILABLE IN  17 HOURS 07 MINUTES 44 SECONDSVISIT HTTPS://MYMEMORY.TRANSLATED.NET/DOC/USAGELIMITS.PHP TO TRANSLATE MORE',\n",
              " 'Hello\\nThanks for having shared \"Stranger\" with us.\\nUnfortunately not really my kind of stuff sorry, like a \"déjà entendu\" feeling.\\nTake care.',\n",
              " 'Thanks for the proposal.\\nThe track is really good but don\\'t match with my main playlist so I will put in my \"rainy day\" playlist soon.\\nCheers',\n",
              " 'MYMEMORY WARNING: YOU USED ALL AVAILABLE FREE TRANSLATIONS FOR TODAY. NEXT AVAILABLE IN  17 HOURS 07 MINUTES 44 SECONDSVISIT HTTPS://MYMEMORY.TRANSLATED.NET/DOC/USAGELIMITS.PHP TO TRANSLATE MORE',\n",
              " \"Dear Pecq, thank you for your music. We want to add it to our playlist for a week. We will send you the link when the playlist is ready, here via groover. We change the tracks every week\\nDon't forget to follow us here:\\n\\nSpotify: https://bit.ly/LeaveSP\\nInstagram: @leavemusic \\nYoutube: https://www.youtube.com/c/leavemusicofficial\\nFacebook: Facebook: https://www.facebook.com/leavemusic/\\n\",\n",
              " 'Hello thank you so much for sending me your music. I have another playlist of English indie where this one can fit well. Thank you!',\n",
              " \"Hey fam. Thanks for your submission. Vocals are smooth warm and have an intimate feel. I dig the atmospheric vibes in the music too, but I'm wanting a more engaging groove and the general feel of the song is a bit mellow for what we're looking to feature in our weekly reviews and playlists.\",\n",
              " 'Wow - what a gorgeous soundscape from the start, then that vocal just gorgeous as is the melody and the progression of the track. ',\n",
              " 'MYMEMORY WARNING: YOU USED ALL AVAILABLE FREE TRANSLATIONS FOR TODAY. NEXT AVAILABLE IN  17 HOURS 07 MINUTES 44 SECONDSVISIT HTTPS://MYMEMORY.TRANSLATED.NET/DOC/USAGELIMITS.PHP TO TRANSLATE MORE',\n",
              " 'QUERY LENGTH LIMIT EXCEDEED. MAX ALLOWED QUERY : 500 CHARS',\n",
              " 'MYMEMORY WARNING: YOU USED ALL AVAILABLE FREE TRANSLATIONS FOR TODAY. NEXT AVAILABLE IN  17 HOURS 07 MINUTES 44 SECONDSVISIT HTTPS://MYMEMORY.TRANSLATED.NET/DOC/USAGELIMITS.PHP TO TRANSLATE MORE',\n",
              " 'MYMEMORY WARNING: YOU USED ALL AVAILABLE FREE TRANSLATIONS FOR TODAY. NEXT AVAILABLE IN  17 HOURS 07 MINUTES 44 SECONDSVISIT HTTPS://MYMEMORY.TRANSLATED.NET/DOC/USAGELIMITS.PHP TO TRANSLATE MORE',\n",
              " 'QUERY LENGTH LIMIT EXCEDEED. MAX ALLOWED QUERY : 500 CHARS',\n",
              " 'QUERY LENGTH LIMIT EXCEDEED. MAX ALLOWED QUERY : 500 CHARS',\n",
              " 'MYMEMORY WARNING: YOU USED ALL AVAILABLE FREE TRANSLATIONS FOR TODAY. NEXT AVAILABLE IN  17 HOURS 07 MINUTES 44 SECONDSVISIT HTTPS://MYMEMORY.TRANSLATED.NET/DOC/USAGELIMITS.PHP TO TRANSLATE MORE',\n",
              " 'MYMEMORY WARNING: YOU USED ALL AVAILABLE FREE TRANSLATIONS FOR TODAY. NEXT AVAILABLE IN  17 HOURS 07 MINUTES 44 SECONDSVISIT HTTPS://MYMEMORY.TRANSLATED.NET/DOC/USAGELIMITS.PHP TO TRANSLATE MORE',\n",
              " 'QUERY LENGTH LIMIT EXCEDEED. MAX ALLOWED QUERY : 500 CHARS',\n",
              " 'MYMEMORY WARNING: YOU USED ALL AVAILABLE FREE TRANSLATIONS FOR TODAY. NEXT AVAILABLE IN  17 HOURS 07 MINUTES 44 SECONDSVISIT HTTPS://MYMEMORY.TRANSLATED.NET/DOC/USAGELIMITS.PHP TO TRANSLATE MORE',\n",
              " 'MYMEMORY WARNING: YOU USED ALL AVAILABLE FREE TRANSLATIONS FOR TODAY. NEXT AVAILABLE IN  17 HOURS 07 MINUTES 44 SECONDSVISIT HTTPS://MYMEMORY.TRANSLATED.NET/DOC/USAGELIMITS.PHP TO TRANSLATE MORE',\n",
              " 'MYMEMORY WARNING: YOU USED ALL AVAILABLE FREE TRANSLATIONS FOR TODAY. NEXT AVAILABLE IN  17 HOURS 07 MINUTES 44 SECONDSVISIT HTTPS://MYMEMORY.TRANSLATED.NET/DOC/USAGELIMITS.PHP TO TRANSLATE MORE',\n",
              " 'MYMEMORY WARNING: YOU USED ALL AVAILABLE FREE TRANSLATIONS FOR TODAY. NEXT AVAILABLE IN  17 HOURS 07 MINUTES 44 SECONDSVISIT HTTPS://MYMEMORY.TRANSLATED.NET/DOC/USAGELIMITS.PHP TO TRANSLATE MORE',\n",
              " 'QUERY LENGTH LIMIT EXCEDEED. MAX ALLOWED QUERY : 500 CHARS',\n",
              " 'MYMEMORY WARNING: YOU USED ALL AVAILABLE FREE TRANSLATIONS FOR TODAY. NEXT AVAILABLE IN  17 HOURS 07 MINUTES 44 SECONDSVISIT HTTPS://MYMEMORY.TRANSLATED.NET/DOC/USAGELIMITS.PHP TO TRANSLATE MORE',\n",
              " 'QUERY LENGTH LIMIT EXCEDEED. MAX ALLOWED QUERY : 500 CHARS MYMEMORY WARNING: YOU USED ALL AVAILABLE FREE TRANSLATIONS FOR TODAY. NEXT AVAILABLE IN  17 HOURS 07 MINUTES 43 SECONDSVISIT HTTPS://MYMEMORY.TRANSLATED.NET/DOC/USAGELIMITS.PHP TO TRANSLATE MORE',\n",
              " 'MYMEMORY WARNING: YOU USED ALL AVAILABLE FREE TRANSLATIONS FOR TODAY. NEXT AVAILABLE IN  17 HOURS 07 MINUTES 43 SECONDSVISIT HTTPS://MYMEMORY.TRANSLATED.NET/DOC/USAGELIMITS.PHP TO TRANSLATE MORE',\n",
              " 'Great singing on this one but I was anticipating some more melodic elements onto the backing instrumentals alongside that guitar lead',\n",
              " 'Indeed, this is a very groovy song, more because of the drums and bass.The guitar is nice too, so as the vocals, especially the backing vocals. In my opinion, the effects on the main vocal, like on the chorus (around 2:03), doesn’t fit to the song, it gets kind of strange to me when comparing with the “clean” one on the beginning.\\n\\nCongratulations and greetings from Brazil,\\nBruno',\n",
              " \"Amazing visuals here! Solid beat with organic drums and clean bassline to sit with melodic bright vocals, but now we're looking for more electro style. Thanks for sharing!\",\n",
              " \"Hey, thanks for submitting the track! It has a great vibe, very creative melody and video, the vocals are good, the production is awesome! Great job :)\\n\\nps: tried to find your twitter but couldn't, promoted in there anyways. \",\n",
              " \"Hello,\\n\\nHope you are doing well and thank you for reaching out!\\n\\nI just finished listening but unfortunately it's not the kind of song I'm looking for the channel.\\n\\nDespite that it is a good song and you are going in the right direction.\\n\\nThank you for considering the SN/SG as a choice to share the song.\\n\\nKeep up the good work!!\\n\\nCheers,\\n\\nFlorin Ignat\\n\",\n",
              " 'Thank you for the submission! This is very well produced and the vocal work is definitely on point,  but we are currently looking for something a bit slower paced. Nonetheless, amazing work here!',\n",
              " 'QUERY LENGTH LIMIT EXCEDEED. MAX ALLOWED QUERY : 500 CHARS',\n",
              " 'MYMEMORY WARNING: YOU USED ALL AVAILABLE FREE TRANSLATIONS FOR TODAY. NEXT AVAILABLE IN  17 HOURS 07 MINUTES 43 SECONDSVISIT HTTPS://MYMEMORY.TRANSLATED.NET/DOC/USAGELIMITS.PHP TO TRANSLATE MORE',\n",
              " 'Hello thank you so much for your interest. I think it’s nice! But I’m looking for another kind of vibe for this playlist, however I’ll find a place in my other playlists for you music. Thanks!',\n",
              " 'MYMEMORY WARNING: YOU USED ALL AVAILABLE FREE TRANSLATIONS FOR TODAY. NEXT AVAILABLE IN  17 HOURS 07 MINUTES 43 SECONDSVISIT HTTPS://MYMEMORY.TRANSLATED.NET/DOC/USAGELIMITS.PHP TO TRANSLATE MORE',\n",
              " 'QUERY LENGTH LIMIT EXCEDEED. MAX ALLOWED QUERY : 500 CHARS',\n",
              " 'MYMEMORY WARNING: YOU USED ALL AVAILABLE FREE TRANSLATIONS FOR TODAY. NEXT AVAILABLE IN  17 HOURS 07 MINUTES 43 SECONDSVISIT HTTPS://MYMEMORY.TRANSLATED.NET/DOC/USAGELIMITS.PHP TO TRANSLATE MORE',\n",
              " 'MYMEMORY WARNING: YOU USED ALL AVAILABLE FREE TRANSLATIONS FOR TODAY. NEXT AVAILABLE IN  17 HOURS 07 MINUTES 43 SECONDSVISIT HTTPS://MYMEMORY.TRANSLATED.NET/DOC/USAGELIMITS.PHP TO TRANSLATE MORE',\n",
              " 'MYMEMORY WARNING: YOU USED ALL AVAILABLE FREE TRANSLATIONS FOR TODAY. NEXT AVAILABLE IN  17 HOURS 07 MINUTES 43 SECONDSVISIT HTTPS://MYMEMORY.TRANSLATED.NET/DOC/USAGELIMITS.PHP TO TRANSLATE MORE',\n",
              " 'MYMEMORY WARNING: YOU USED ALL AVAILABLE FREE TRANSLATIONS FOR TODAY. NEXT AVAILABLE IN  17 HOURS 07 MINUTES 43 SECONDSVISIT HTTPS://MYMEMORY.TRANSLATED.NET/DOC/USAGELIMITS.PHP TO TRANSLATE MORE',\n",
              " 'MYMEMORY WARNING: YOU USED ALL AVAILABLE FREE TRANSLATIONS FOR TODAY. NEXT AVAILABLE IN  17 HOURS 07 MINUTES 43 SECONDSVISIT HTTPS://MYMEMORY.TRANSLATED.NET/DOC/USAGELIMITS.PHP TO TRANSLATE MORE',\n",
              " \"Hey, a very good electro pop record here. Honestly, the vibe is pretty cool, but the effects on the vocals didn't catch me here :- ( So this time I'm sorry.\",\n",
              " \"Great production and overall sound. Enjoyed listening. A little fast for the lists we currently have. Mainly looking for organic / acoustic hip hop / Lo-fi / Nu Jazz. Don't tend to add too many tracks above 100bpm. Cool stuff though. All the best with this release.\",\n",
              " \"HI Laurent, \\n\\nThanks for the submission. I enjoyed the quality production but felt that the arrangement didn't really grab me. Consider further honing overall song structure and verse/chorus transitions. Also be sure to consider listener engagement and overall narrative as things feel a bit repetitive as some parts on the tracks, cheers\",\n",
              " 'MYMEMORY WARNING: YOU USED ALL AVAILABLE FREE TRANSLATIONS FOR TODAY. NEXT AVAILABLE IN  17 HOURS 07 MINUTES 43 SECONDSVISIT HTTPS://MYMEMORY.TRANSLATED.NET/DOC/USAGELIMITS.PHP TO TRANSLATE MORE',\n",
              " 'Hi! I really liked your song. I think the lyrics could really fit my playlist and even though the genre doesn’t fit my playlist I’ll give it a try. Thank you!',\n",
              " \"I like your interesting tone, nice flow, however the song didn't grab my attention melody wise. Thank you for sharing.\",\n",
              " 'Thank you so much for sending me this cool song, and I’ve added it here: https://open.spotify.com/playlist/0hsLLFaADDjU54tFqaImFh?si=S3irYp5PQTyj8MKo2m-jCw\\nBest, \\nEric\\n',\n",
              " 'MYMEMORY WARNING: YOU USED ALL AVAILABLE FREE TRANSLATIONS FOR TODAY. NEXT AVAILABLE IN  17 HOURS 07 MINUTES 43 SECONDSVISIT HTTPS://MYMEMORY.TRANSLATED.NET/DOC/USAGELIMITS.PHP TO TRANSLATE MORE',\n",
              " 'QUERY LENGTH LIMIT EXCEDEED. MAX ALLOWED QUERY : 500 CHARS QUERY LENGTH LIMIT EXCEDEED. MAX ALLOWED QUERY : 500 CHARS MYMEMORY WARNING: YOU USED ALL AVAILABLE FREE TRANSLATIONS FOR TODAY. NEXT AVAILABLE IN  17 HOURS 07 MINUTES 43 SECONDSVISIT HTTPS://MYMEMORY.TRANSLATED.NET/DOC/USAGELIMITS.PHP TO TRANSLATE MORE',\n",
              " 'MYMEMORY WARNING: YOU USED ALL AVAILABLE FREE TRANSLATIONS FOR TODAY. NEXT AVAILABLE IN  17 HOURS 07 MINUTES 43 SECONDSVISIT HTTPS://MYMEMORY.TRANSLATED.NET/DOC/USAGELIMITS.PHP TO TRANSLATE MORE',\n",
              " \"This is allright, there's a kind of Depeche Mode vibe to this music, but I don't like all the voice samples, which I found a bit bull and repetitive.\",\n",
              " \"Good Evening,\\n\\nInteresting music but we unfortunately don't speak, read italian.\\n\\nYour groover profil is also incomplete (no bio).\\n\\nArchie\\n#RKC Team\\n\",\n",
              " \"Hey there! Pretty interesting vibes here! The overall rhythms and textures feel very original and fit in great with beats and synths! Unfortunately we're looking for a bit more commercial kind of track. Thanks so much for sharing! All the best! \",\n",
              " 'MYMEMORY WARNING: YOU USED ALL AVAILABLE FREE TRANSLATIONS FOR TODAY. NEXT AVAILABLE IN  17 HOURS 07 MINUTES 43 SECONDSVISIT HTTPS://MYMEMORY.TRANSLATED.NET/DOC/USAGELIMITS.PHP TO TRANSLATE MORE',\n",
              " 'Hey, thanks for the proposition. Nice music, but this isn’t really the kind of stuff we are broadcasting on our radio. Maybe on some other project. Cheers\\n',\n",
              " \"Hello,\\nthe atmosphere is pretty cool, dark and catchy at the same time !\\nUnfortunatly, we don't broadcast any instrumental music, except in our jazz and world music radio shows, and the clubbing section on saturday night. But this original tune doesn't fit in these radio shows.\\nRegards,\",\n",
              " 'MYMEMORY WARNING: YOU USED ALL AVAILABLE FREE TRANSLATIONS FOR TODAY. NEXT AVAILABLE IN  17 HOURS 07 MINUTES 43 SECONDSVISIT HTTPS://MYMEMORY.TRANSLATED.NET/DOC/USAGELIMITS.PHP TO TRANSLATE MORE',\n",
              " \"Hello. Thanks for your submission. You have an interesting mix of genres in this track, but I think that the guitars and voice does not work that well with the electronics, in my humble opinion. Well, for my taste, I mean. Because the track has its value, of course. But it is just not a kind of music that I like to listen, I'm sorry. Wish a great success for your project!\",\n",
              " 'MYMEMORY WARNING: YOU USED ALL AVAILABLE FREE TRANSLATIONS FOR TODAY. NEXT AVAILABLE IN  17 HOURS 07 MINUTES 43 SECONDSVISIT HTTPS://MYMEMORY.TRANSLATED.NET/DOC/USAGELIMITS.PHP TO TRANSLATE MORE',\n",
              " 'MYMEMORY WARNING: YOU USED ALL AVAILABLE FREE TRANSLATIONS FOR TODAY. NEXT AVAILABLE IN  17 HOURS 07 MINUTES 43 SECONDSVISIT HTTPS://MYMEMORY.TRANSLATED.NET/DOC/USAGELIMITS.PHP TO TRANSLATE MORE',\n",
              " 'We are ecstatic with the beats in the music. The production is fantastic. We went right to the channel to hear more from you. Congratulations!',\n",
              " 'MYMEMORY WARNING: YOU USED ALL AVAILABLE FREE TRANSLATIONS FOR TODAY. NEXT AVAILABLE IN  17 HOURS 07 MINUTES 43 SECONDSVISIT HTTPS://MYMEMORY.TRANSLATED.NET/DOC/USAGELIMITS.PHP TO TRANSLATE MORE',\n",
              " 'MYMEMORY WARNING: YOU USED ALL AVAILABLE FREE TRANSLATIONS FOR TODAY. NEXT AVAILABLE IN  17 HOURS 07 MINUTES 43 SECONDSVISIT HTTPS://MYMEMORY.TRANSLATED.NET/DOC/USAGELIMITS.PHP TO TRANSLATE MORE',\n",
              " 'MYMEMORY WARNING: YOU USED ALL AVAILABLE FREE TRANSLATIONS FOR TODAY. NEXT AVAILABLE IN  17 HOURS 07 MINUTES 43 SECONDSVISIT HTTPS://MYMEMORY.TRANSLATED.NET/DOC/USAGELIMITS.PHP TO TRANSLATE MORE',\n",
              " 'MYMEMORY WARNING: YOU USED ALL AVAILABLE FREE TRANSLATIONS FOR TODAY. NEXT AVAILABLE IN  17 HOURS 07 MINUTES 43 SECONDSVISIT HTTPS://MYMEMORY.TRANSLATED.NET/DOC/USAGELIMITS.PHP TO TRANSLATE MORE',\n",
              " 'QUERY LENGTH LIMIT EXCEDEED. MAX ALLOWED QUERY : 500 CHARS',\n",
              " 'MYMEMORY WARNING: YOU USED ALL AVAILABLE FREE TRANSLATIONS FOR TODAY. NEXT AVAILABLE IN  17 HOURS 07 MINUTES 43 SECONDSVISIT HTTPS://MYMEMORY.TRANSLATED.NET/DOC/USAGELIMITS.PHP TO TRANSLATE MORE',\n",
              " 'MYMEMORY WARNING: YOU USED ALL AVAILABLE FREE TRANSLATIONS FOR TODAY. NEXT AVAILABLE IN  17 HOURS 07 MINUTES 43 SECONDSVISIT HTTPS://MYMEMORY.TRANSLATED.NET/DOC/USAGELIMITS.PHP TO TRANSLATE MORE',\n",
              " 'Thanks for your submission! First off, the visuals are really cool. The banging beat is great and fits perfectly with your great flow. You definitely did your thing on the verses and we love the vibes on the tune. We only expected a little bit more from the chorus. A catchier, more outstanding hook would have given the tune much more hit potential.\\n\\nPlease send over some more music, because you have so much talent!',\n",
              " 'MYMEMORY WARNING: YOU USED ALL AVAILABLE FREE TRANSLATIONS FOR TODAY. NEXT AVAILABLE IN  17 HOURS 07 MINUTES 43 SECONDSVISIT HTTPS://MYMEMORY.TRANSLATED.NET/DOC/USAGELIMITS.PHP TO TRANSLATE MORE',\n",
              " 'QUERY LENGTH LIMIT EXCEDEED. MAX ALLOWED QUERY : 500 CHARS',\n",
              " 'MYMEMORY WARNING: YOU USED ALL AVAILABLE FREE TRANSLATIONS FOR TODAY. NEXT AVAILABLE IN  17 HOURS 07 MINUTES 43 SECONDSVISIT HTTPS://MYMEMORY.TRANSLATED.NET/DOC/USAGELIMITS.PHP TO TRANSLATE MORE',\n",
              " 'Hello Sam, thanks for sending me your music I’ll find a place for it in my playlists. Thank you so much!',\n",
              " 'MYMEMORY WARNING: YOU USED ALL AVAILABLE FREE TRANSLATIONS FOR TODAY. NEXT AVAILABLE IN  17 HOURS 07 MINUTES 42 SECONDSVISIT HTTPS://MYMEMORY.TRANSLATED.NET/DOC/USAGELIMITS.PHP TO TRANSLATE MORE',\n",
              " 'MYMEMORY WARNING: YOU USED ALL AVAILABLE FREE TRANSLATIONS FOR TODAY. NEXT AVAILABLE IN  17 HOURS 07 MINUTES 42 SECONDSVISIT HTTPS://MYMEMORY.TRANSLATED.NET/DOC/USAGELIMITS.PHP TO TRANSLATE MORE',\n",
              " 'MYMEMORY WARNING: YOU USED ALL AVAILABLE FREE TRANSLATIONS FOR TODAY. NEXT AVAILABLE IN  17 HOURS 07 MINUTES 42 SECONDSVISIT HTTPS://MYMEMORY.TRANSLATED.NET/DOC/USAGELIMITS.PHP TO TRANSLATE MORE',\n",
              " 'MYMEMORY WARNING: YOU USED ALL AVAILABLE FREE TRANSLATIONS FOR TODAY. NEXT AVAILABLE IN  17 HOURS 07 MINUTES 42 SECONDSVISIT HTTPS://MYMEMORY.TRANSLATED.NET/DOC/USAGELIMITS.PHP TO TRANSLATE MORE',\n",
              " 'Hey Sam Dian! Thanks so much for sending this track. It sounded really nice, but it is not a genre match with our sound. ',\n",
              " 'MYMEMORY WARNING: YOU USED ALL AVAILABLE FREE TRANSLATIONS FOR TODAY. NEXT AVAILABLE IN  17 HOURS 07 MINUTES 42 SECONDSVISIT HTTPS://MYMEMORY.TRANSLATED.NET/DOC/USAGELIMITS.PHP TO TRANSLATE MORE',\n",
              " \"Hello mate, it's not so much my style, a bit too acoustic, but the sound is very original and tasty. Keep it up!\",\n",
              " 'MYMEMORY WARNING: YOU USED ALL AVAILABLE FREE TRANSLATIONS FOR TODAY. NEXT AVAILABLE IN  17 HOURS 07 MINUTES 42 SECONDSVISIT HTTPS://MYMEMORY.TRANSLATED.NET/DOC/USAGELIMITS.PHP TO TRANSLATE MORE',\n",
              " 'Great dark atmosphere achieved in here! but I was anticipating some more melodic elements to be introduced along the progression',\n",
              " 'QUERY LENGTH LIMIT EXCEDEED. MAX ALLOWED QUERY : 500 CHARS',\n",
              " 'QUERY LENGTH LIMIT EXCEDEED. MAX ALLOWED QUERY : 500 CHARS',\n",
              " 'MYMEMORY WARNING: YOU USED ALL AVAILABLE FREE TRANSLATIONS FOR TODAY. NEXT AVAILABLE IN  17 HOURS 07 MINUTES 42 SECONDSVISIT HTTPS://MYMEMORY.TRANSLATED.NET/DOC/USAGELIMITS.PHP TO TRANSLATE MORE',\n",
              " 'MYMEMORY WARNING: YOU USED ALL AVAILABLE FREE TRANSLATIONS FOR TODAY. NEXT AVAILABLE IN  17 HOURS 07 MINUTES 42 SECONDSVISIT HTTPS://MYMEMORY.TRANSLATED.NET/DOC/USAGELIMITS.PHP TO TRANSLATE MORE',\n",
              " 'QUERY LENGTH LIMIT EXCEDEED. MAX ALLOWED QUERY : 500 CHARS',\n",
              " 'MYMEMORY WARNING: YOU USED ALL AVAILABLE FREE TRANSLATIONS FOR TODAY. NEXT AVAILABLE IN  17 HOURS 07 MINUTES 42 SECONDSVISIT HTTPS://MYMEMORY.TRANSLATED.NET/DOC/USAGELIMITS.PHP TO TRANSLATE MORE',\n",
              " 'MYMEMORY WARNING: YOU USED ALL AVAILABLE FREE TRANSLATIONS FOR TODAY. NEXT AVAILABLE IN  17 HOURS 07 MINUTES 42 SECONDSVISIT HTTPS://MYMEMORY.TRANSLATED.NET/DOC/USAGELIMITS.PHP TO TRANSLATE MORE',\n",
              " 'MYMEMORY WARNING: YOU USED ALL AVAILABLE FREE TRANSLATIONS FOR TODAY. NEXT AVAILABLE IN  17 HOURS 07 MINUTES 42 SECONDSVISIT HTTPS://MYMEMORY.TRANSLATED.NET/DOC/USAGELIMITS.PHP TO TRANSLATE MORE',\n",
              " 'QUERY LENGTH LIMIT EXCEDEED. MAX ALLOWED QUERY : 500 CHARS MYMEMORY WARNING: YOU USED ALL AVAILABLE FREE TRANSLATIONS FOR TODAY. NEXT AVAILABLE IN  17 HOURS 07 MINUTES 42 SECONDSVISIT HTTPS://MYMEMORY.TRANSLATED.NET/DOC/USAGELIMITS.PHP TO TRANSLATE MORE',\n",
              " 'MYMEMORY WARNING: YOU USED ALL AVAILABLE FREE TRANSLATIONS FOR TODAY. NEXT AVAILABLE IN  17 HOURS 07 MINUTES 42 SECONDSVISIT HTTPS://MYMEMORY.TRANSLATED.NET/DOC/USAGELIMITS.PHP TO TRANSLATE MORE',\n",
              " 'MYMEMORY WARNING: YOU USED ALL AVAILABLE FREE TRANSLATIONS FOR TODAY. NEXT AVAILABLE IN  17 HOURS 07 MINUTES 42 SECONDSVISIT HTTPS://MYMEMORY.TRANSLATED.NET/DOC/USAGELIMITS.PHP TO TRANSLATE MORE',\n",
              " 'MYMEMORY WARNING: YOU USED ALL AVAILABLE FREE TRANSLATIONS FOR TODAY. NEXT AVAILABLE IN  17 HOURS 07 MINUTES 42 SECONDSVISIT HTTPS://MYMEMORY.TRANSLATED.NET/DOC/USAGELIMITS.PHP TO TRANSLATE MORE',\n",
              " 'QUERY LENGTH LIMIT EXCEDEED. MAX ALLOWED QUERY : 500 CHARS',\n",
              " 'MYMEMORY WARNING: YOU USED ALL AVAILABLE FREE TRANSLATIONS FOR TODAY. NEXT AVAILABLE IN  17 HOURS 07 MINUTES 42 SECONDSVISIT HTTPS://MYMEMORY.TRANSLATED.NET/DOC/USAGELIMITS.PHP TO TRANSLATE MORE',\n",
              " \"Good stuff! You've listened well to Odesza, I think :)\\nThere's some really cool ideas in the song and I like the energy. \\nUnfortunately, the track wouldn't be a great fit for the playlist I'm currently promoting.\\nBut well done, I'm looking forward to checking out the rest of the EP. Sounds really good this one.\\nGood luck with the release and with future projects! \\nCheers, S.\",\n",
              " \"Hi MADSUN, thanks for sending us your track. We really like it and fits our Deep House Playlist. We'll add your track on the next playlist refresh (this weekend). \\n\\nPlease, let us know if you may have other tracks in the future that you may want to send us for release consideration as well! \\n\\nCheers\",\n",
              " 'MYMEMORY WARNING: YOU USED ALL AVAILABLE FREE TRANSLATIONS FOR TODAY. NEXT AVAILABLE IN  17 HOURS 07 MINUTES 42 SECONDSVISIT HTTPS://MYMEMORY.TRANSLATED.NET/DOC/USAGELIMITS.PHP TO TRANSLATE MORE',\n",
              " 'hey, we can put that in our playlist, can you send me the link to the song?, btw we have a service of streamings on Spotify if you are interested tell me',\n",
              " 'MYMEMORY WARNING: YOU USED ALL AVAILABLE FREE TRANSLATIONS FOR TODAY. NEXT AVAILABLE IN  17 HOURS 07 MINUTES 42 SECONDSVISIT HTTPS://MYMEMORY.TRANSLATED.NET/DOC/USAGELIMITS.PHP TO TRANSLATE MORE',\n",
              " 'Hey MADSUN,\\nWhat a nice production. Sound is crisp. Unique structure, but too uplifting for our blog. Not balanced enough. I will pass, unfortunately. All the best! :)',\n",
              " \"Hi,\\nnice to meet you and thanks for sending your music.\\nWe listened and unfortunately this style doesn't fit well with our current mood.\\nFeel free to send us more music, hope to listen more :)\\n\\nBest,\\nThe team.\",\n",
              " 'I think its a sweet track. I like the development and the choice of sounds and the drum programming - the video is extraordinary! will be happy to share this on our playlist of Groover faves.  Thanks for thinking of us!  ',\n",
              " 'Hey! Cool video and nice voice :) However it’s not a good fit for my playlists unfortunately. Thanks and good luck!',\n",
              " 'Hi\\xa0 MADSUN :)\\n\\nMy name is Paige, from GNH Records. Thank you so much for submitting Discovery to us to consider for our Apple Music + Spotify playlist, Futurepop. It\\'s our home for\\xa0 \"cutting-edge pop acts who nimbly genre-blend with clever, subversive sound design, ultramodern hip-hop or pioneering alternative R&B.\" Here are the links to follow / share it:\\n- Spotify: urlgeni.us/spotify/NgzB\\xa0\\n- Apple Music: urlgeni.us/applemusic/7jUt\\xa0\\n\\nI realise it\\'s a valuable use of credits to do this here, so we\\'ve taken a very close listen to Discovery and want to provide you this constructive feedback on your submission.\\n\\xa0\\nThere\\'s heaps we love about this track. Sound design is top notch; the little stereo-ping-ponged bells in the breakdown. The tasteful sub bass underscoring the pads. The vibrant percussion keeping the groove throughout the builds. The emotive strings, and the mid-tempo heavily sidechained kick-snare beat of the \"drop\". The dancing octave strings.\\n\\nUltimately, while it impressed us, unfortunately the main thing this missed to be a Futurepop track was enough vocal. It was quite minimal on lyrics, with no verse/chorus vocal to hold it to the pop category. As such, it\\'s more of an electronic track, not a pop track and therefore not an appropriate match. For Futurepop, we\\'re consciously trying to be a real point of difference, looking for singles that push themselves into a bolder niche, taking innovative risks with more synthetic sound design or atypical arrangements, while still being grounded by very strong pop fundamentals. When you play through the first few artists we\\'ve selected for the playlist, you\\'ll hear what we mean. We try to elevate the playlist beyond systemic commercial R&B/pop. I think you will easily find some major success with playlists and blogs that do focus on electronic music more broadly, though.\\n\\nOne other thing I can offer you, is a bit of an industry connection. One of our managed artists is Spectoral (@spectoral on Instagram) who co-curates the playlist with us. In fact, it lives on his artist account. So while I can\\'t offer you a placement on the playlist, if you\\'re an artist who is interested in creating music for the bleeding-edge, an artist who is a music addict like us, who shares our tastes, and always aspires to keep tabs on the most current sounds, then I\\'d strongly encourage you to DM @spectoral - on Instagram. Introduce yourself to him and send him your link. Tell him you spoke to Paige on Groover. He\\'s real nice, a well connected producer and curator from Australia who is a true passionate new music addict himself. He\\'s also a committee member of a not-for-profit (free) organisation called Beat Collective (beatcollective.net) that is one of the biggest artist-producer communities in the world. So he meets a LOT of artists and it\\'s very valuable to be connected. So even if that doesn\\'t result in you getting added to a playlist, you should still get some good value out of at least talking to him, a like-minded artist who values building good industry connections.\\n\\nGo for it! :)\\n\\nPaige R\\nGNH',\n",
              " 'MYMEMORY WARNING: YOU USED ALL AVAILABLE FREE TRANSLATIONS FOR TODAY. NEXT AVAILABLE IN  17 HOURS 07 MINUTES 42 SECONDSVISIT HTTPS://MYMEMORY.TRANSLATED.NET/DOC/USAGELIMITS.PHP TO TRANSLATE MORE',\n",
              " 'MYMEMORY WARNING: YOU USED ALL AVAILABLE FREE TRANSLATIONS FOR TODAY. NEXT AVAILABLE IN  17 HOURS 07 MINUTES 42 SECONDSVISIT HTTPS://MYMEMORY.TRANSLATED.NET/DOC/USAGELIMITS.PHP TO TRANSLATE MORE',\n",
              " 'MYMEMORY WARNING: YOU USED ALL AVAILABLE FREE TRANSLATIONS FOR TODAY. NEXT AVAILABLE IN  17 HOURS 07 MINUTES 42 SECONDSVISIT HTTPS://MYMEMORY.TRANSLATED.NET/DOC/USAGELIMITS.PHP TO TRANSLATE MORE',\n",
              " 'MYMEMORY WARNING: YOU USED ALL AVAILABLE FREE TRANSLATIONS FOR TODAY. NEXT AVAILABLE IN  17 HOURS 07 MINUTES 42 SECONDSVISIT HTTPS://MYMEMORY.TRANSLATED.NET/DOC/USAGELIMITS.PHP TO TRANSLATE MORE',\n",
              " 'MYMEMORY WARNING: YOU USED ALL AVAILABLE FREE TRANSLATIONS FOR TODAY. NEXT AVAILABLE IN  17 HOURS 07 MINUTES 42 SECONDSVISIT HTTPS://MYMEMORY.TRANSLATED.NET/DOC/USAGELIMITS.PHP TO TRANSLATE MORE',\n",
              " 'MYMEMORY WARNING: YOU USED ALL AVAILABLE FREE TRANSLATIONS FOR TODAY. NEXT AVAILABLE IN  17 HOURS 07 MINUTES 42 SECONDSVISIT HTTPS://MYMEMORY.TRANSLATED.NET/DOC/USAGELIMITS.PHP TO TRANSLATE MORE',\n",
              " 'MYMEMORY WARNING: YOU USED ALL AVAILABLE FREE TRANSLATIONS FOR TODAY. NEXT AVAILABLE IN  17 HOURS 07 MINUTES 42 SECONDSVISIT HTTPS://MYMEMORY.TRANSLATED.NET/DOC/USAGELIMITS.PHP TO TRANSLATE MORE',\n",
              " 'MYMEMORY WARNING: YOU USED ALL AVAILABLE FREE TRANSLATIONS FOR TODAY. NEXT AVAILABLE IN  17 HOURS 07 MINUTES 42 SECONDSVISIT HTTPS://MYMEMORY.TRANSLATED.NET/DOC/USAGELIMITS.PHP TO TRANSLATE MORE',\n",
              " \"Hi there,\\n\\nThanks for sending me the track! I loved the song, but I don't really have a proper playlist to place it atm.\\n\\nHowever, if you ever want to promote your work in Brazil, feel free to reach me on contato@agenciamilk.com\\n\\nBest!\",\n",
              " 'MYMEMORY WARNING: YOU USED ALL AVAILABLE FREE TRANSLATIONS FOR TODAY. NEXT AVAILABLE IN  17 HOURS 07 MINUTES 41 SECONDSVISIT HTTPS://MYMEMORY.TRANSLATED.NET/DOC/USAGELIMITS.PHP TO TRANSLATE MORE',\n",
              " 'MYMEMORY WARNING: YOU USED ALL AVAILABLE FREE TRANSLATIONS FOR TODAY. NEXT AVAILABLE IN  17 HOURS 07 MINUTES 41 SECONDSVISIT HTTPS://MYMEMORY.TRANSLATED.NET/DOC/USAGELIMITS.PHP TO TRANSLATE MORE',\n",
              " 'MYMEMORY WARNING: YOU USED ALL AVAILABLE FREE TRANSLATIONS FOR TODAY. NEXT AVAILABLE IN  17 HOURS 07 MINUTES 41 SECONDSVISIT HTTPS://MYMEMORY.TRANSLATED.NET/DOC/USAGELIMITS.PHP TO TRANSLATE MORE',\n",
              " 'MYMEMORY WARNING: YOU USED ALL AVAILABLE FREE TRANSLATIONS FOR TODAY. NEXT AVAILABLE IN  17 HOURS 07 MINUTES 41 SECONDSVISIT HTTPS://MYMEMORY.TRANSLATED.NET/DOC/USAGELIMITS.PHP TO TRANSLATE MORE',\n",
              " 'QUERY LENGTH LIMIT EXCEDEED. MAX ALLOWED QUERY : 500 CHARS',\n",
              " \"The video / instrumentals are great on this ! I just wasn't quite into the vocals throughout this one, sorry. Thanks for sharing, though.\",\n",
              " 'MYMEMORY WARNING: YOU USED ALL AVAILABLE FREE TRANSLATIONS FOR TODAY. NEXT AVAILABLE IN  17 HOURS 07 MINUTES 41 SECONDSVISIT HTTPS://MYMEMORY.TRANSLATED.NET/DOC/USAGELIMITS.PHP TO TRANSLATE MORE',\n",
              " 'The vocals were really fun here but overall the melody was rather dark for us looking for a litle brighter electro pop feels',\n",
              " \"Hello :) \\n\\nGreat jazz vibes! \\n\\nI liked the instrumental... the textures, mixing... it sounds really nice. Congrats on the beautiful track. \\n\\nIt just isn't a good fit for my lo-fi playlists. \\n\\nThanks for your submission.\\nHope to hear more from you in the future. \\n\\nAll the best!\",\n",
              " 'Hi \\nit`s an interesting sound you create. But honestly we prefer strong and melodius voices  and lyrics in our tracks. \\nThanks for submitting ',\n",
              " 'Greetings Woxow,\\nYour sound quality is really good. sadly the mood of this tune feels bit to \"ambient\" for my more raw playlsits.\\nReally sorry mate.',\n",
              " 'I like the vibe, feels so chill.\\nThe drumkit is really dope.\\nAnd i like the melodies.\\nBut im searching other type of songs for my playlist.',\n",
              " \"Great jazzy vibe on this one! However when it comes to Urban we're not really into lofi or jazztronica.\",\n",
              " \"Will add the track to the playlist. Real nice drum groove and dope piano sample. For my taste the track is a little bit too long for an instrument track but on the other hand it has very nice variations so it doesn't bore the listener. Also nice vocals. Overall a pretty dope track. If you have more tracks in this style please send them my way, I am happy to add them to my playlist! All the best, Max \",\n",
              " 'QUERY LENGTH LIMIT EXCEDEED. MAX ALLOWED QUERY : 500 CHARS',\n",
              " \"Olá Ivy Ash, Tudo bem com você?\\nGostei muito de sua composição e do seu timbre.\\nRealmente você é muito talentosa e essa composição nos conecta bastante. A musica tem esse poder de conectar as pessoas  e é dessa forma que me sinto.\\nDesejo sucesso pra você e em breve irei compartilhar o seu som em minha plataforma.\\nSe for o seu desejo e quiser gravar um pequeno vídeo para a story, falar sobre o seu trabalho e musicalizar. Gostaríamos de compartilhá-lo em nossas plataformas. \\nemail: contatomusicalizar@gmail.com\\nAtt\\nJonas Souza.\\nCeo. Plataforma Musicalizar.\\n\\nEnglish:\\nHello Ivy Ash, how are you?\\nI really liked your composition and your timbre.\\nYou really are very talented and this composition connects us a lot. Music has this power to connect people and that's how I feel.\\nI wish you success and soon I will share your sound in my platform.\\nIf it is your wish and you want to record a small video for the story, talk about your work and make music. We would like to share it on our platforms. \\nemail: contatomusicalizar@gmail.com\\nAtt\\nJonas Souza.\\nCeo. Music Platform.\\n\\n\\n\",\n",
              " 'Hello\\nThanks a lot for having shared \"Oops\" with us.\\nNice energy but i feel like i have already heard this before sorry.\\nTake care.',\n",
              " 'MYMEMORY WARNING: YOU USED ALL AVAILABLE FREE TRANSLATIONS FOR TODAY. NEXT AVAILABLE IN  17 HOURS 07 MINUTES 41 SECONDSVISIT HTTPS://MYMEMORY.TRANSLATED.NET/DOC/USAGELIMITS.PHP TO TRANSLATE MORE',\n",
              " \"Yo, I'm digging this joint. Good swing and nice chopped samples throughout to keep the listener engaged. My playlists are all on Spotify, so if you can send me a link to the track there, I'll get it added. Peace. \",\n",
              " 'Hi there,\\n\\nthank you so much for the submission, I really like you creativity and the beat is quite but unfortunately we are looking more for joji vibe at the moment thats why we have to kindly decline your submission. Keep up the good work nevertheless!',\n",
              " \"Hey Dillo, thanks for sharing, cool production and vibe ! seems heavily sampled though :) Anyway, we recently launched a new project called DIG IT that consists in releasing and promoting digital and unreleased single tracks (licence on a single track). If you're interested, you can submit tracks on this link https://www.chinesemanrecords.com/dig-it-submit/ and the listening comitee might get back to you if a track make it through ! Thanks again for sharing the cool vibe !\",\n",
              " \"Hi, we like the beat, it's harmonious and nice but maybe we would have liked it more with at least another sound, maybe alternated with the others\",\n",
              " \"Hi Majeena, thanks for sharing your track. We liked your voice and the vibe, the production of the track sounds good. You really are genuine. What can be improved are the visuals: professional pictures, good artworks etc. We'd love to keep in touch with you, if you want to send us more of your works. We are on Instagram: @beautifullosersrecords and Facebook (same), feel free to write anytime. My name is Andrea\",\n",
              " \"Hi \\n\\nThank you for submitting your demo. We believe your track doesn't completely fit Hoop Records.\\n\\nIn the future, don't hesitate to send more tracks that could fit us.\\n\\nAll the best\\n\\nStaff\",\n",
              " 'MYMEMORY WARNING: YOU USED ALL AVAILABLE FREE TRANSLATIONS FOR TODAY. NEXT AVAILABLE IN  17 HOURS 07 MINUTES 41 SECONDSVISIT HTTPS://MYMEMORY.TRANSLATED.NET/DOC/USAGELIMITS.PHP TO TRANSLATE MORE',\n",
              " 'QUERY LENGTH LIMIT EXCEDEED. MAX ALLOWED QUERY : 500 CHARS QUERY LENGTH LIMIT EXCEDEED. MAX ALLOWED QUERY : 500 CHARS',\n",
              " 'MYMEMORY WARNING: YOU USED ALL AVAILABLE FREE TRANSLATIONS FOR TODAY. NEXT AVAILABLE IN  17 HOURS 07 MINUTES 41 SECONDSVISIT HTTPS://MYMEMORY.TRANSLATED.NET/DOC/USAGELIMITS.PHP TO TRANSLATE MORE',\n",
              " \"Hi there, \\n\\nThe video is not available. We listen through the Spotify link...\\n\\nUnfortunately, we are focus on French Urban songs. Sorry... \\n\\nWe hope this doesn't discourage you. \\n\\nKeep it up.\\n\\nHave a good day. \",\n",
              " 'MYMEMORY WARNING: YOU USED ALL AVAILABLE FREE TRANSLATIONS FOR TODAY. NEXT AVAILABLE IN  17 HOURS 07 MINUTES 41 SECONDSVISIT HTTPS://MYMEMORY.TRANSLATED.NET/DOC/USAGELIMITS.PHP TO TRANSLATE MORE',\n",
              " 'MYMEMORY WARNING: YOU USED ALL AVAILABLE FREE TRANSLATIONS FOR TODAY. NEXT AVAILABLE IN  17 HOURS 07 MINUTES 41 SECONDSVISIT HTTPS://MYMEMORY.TRANSLATED.NET/DOC/USAGELIMITS.PHP TO TRANSLATE MORE',\n",
              " 'MYMEMORY WARNING: YOU USED ALL AVAILABLE FREE TRANSLATIONS FOR TODAY. NEXT AVAILABLE IN  17 HOURS 07 MINUTES 41 SECONDSVISIT HTTPS://MYMEMORY.TRANSLATED.NET/DOC/USAGELIMITS.PHP TO TRANSLATE MORE',\n",
              " 'QUERY LENGTH LIMIT EXCEDEED. MAX ALLOWED QUERY : 500 CHARS',\n",
              " 'MYMEMORY WARNING: YOU USED ALL AVAILABLE FREE TRANSLATIONS FOR TODAY. NEXT AVAILABLE IN  17 HOURS 07 MINUTES 41 SECONDSVISIT HTTPS://MYMEMORY.TRANSLATED.NET/DOC/USAGELIMITS.PHP TO TRANSLATE MORE',\n",
              " \"hey guys, thanks for submitting your tune! Pretty dope song but slightly too nostalgic for the playlists with this production and the synth involved. I really dig the vocals and the melodies in the chorus tho. Definitely kudos for mixing genres, that's the way forward! I still have one of your songs featured in my 'Smells Like New Grunge' playlist and I'm gonna keep it that way. - Ben // C22\",\n",
              " 'Hello Love Ghost,\\n\\nThank you for your message and for sharing your music.\\n\\nStep In The Arena has some good rock vibes but unfortunately FM 80 Radio does not play this genre.\\n\\nWishing you all the best for your musical career.\\n\\nGreetings,\\n\\nJC\\n\\nwww.fm80.fr',\n",
              " \"interesting mix between metal and electronic music. Although it's not exactly the kind of music we talk about at Rock Culture\\n\\n\",\n",
              " \"Very engaging sound. It's not the rock style I like the most, but it caught my attention. Flawless mixing and mastering. It is not the style of the MBV portal, but I will share it with the team.\",\n",
              " \"Hey there! Massive sounding here! Very neat and edgy instrumental patterns that fit in great with energetic vocals! Unfortunately we're looking for more commercial kind of rock tracks. Thanks so much for sharing! All the best! \",\n",
              " \"Good job with production.\\n'Step In The Arena' is definitely movie  soundtrack worthy.\\nAnd I'd be surprised if it doesn't make it onto a commercial/film etc real soon.\\nBest of luck with your song!\",\n",
              " \"The techno tendencies in this make it a captivating track! It's strong and punchy musically! Vocally I can hear the emo influences! Unfortunately this isn't the sound we tend to cover on the site and because of this I feel we'd be unable to do it justice! Thank you so much for sending us your music though! :) \",\n",
              " 'Hey Love Ghost thanks for sharing your track with me.\\n\\nAlthough this track is not to my personal tastes i think it will appeal to fans of Awolnation, 100 gecs etc.\\n\\nProbably 20 years ago the landscape was perhaps more ideal for this sound with Limp Bizkit and Linkin Park gaining great popularity.\\n\\nNot one for me but if someone told me this was number 1 in the USA charts, i wouldnt be at all surprised, great job.\\n',\n",
              " 'Hi, thanks for trusting in our work.\\n\\nI loved the music, I really like alternative sound and with a footprint, well produced. what caught my attention in music besides the great lyrics, is the way it surprises, we don’t know if the next verse comes with a trap, rock, rap or electronic, I like this surprise when the music’s identity is as good as it is.',\n",
              " \"Hello, all right? Happy to receive your banner. Let's get feedback?\\n\\nThe setting of the song is very interesting, reaffirming itself through the arrangements.\\n\\nThe song has a lot of potential given the surrounding atmosphere and satisfying vocals.\\n\\nI leave our contact channels open for future releases.\\n\\nThank you!\",\n",
              " 'That started well, nice musical development... and then someone sang. And then someone used autotune. Music is not bad, I like this kind of slow rock, but, in my opinion, the singing ruined it',\n",
              " \"\\nWOW. The lead vocalist's voice is priceless, each individual member has a unique voice and mixes so well. We were delighted with the guitars and the mix. Congratulations!\",\n",
              " 'Thank you very much for submitting your work.\\nI think your work has a lot of potential.\\nI think you could invest in higher quality recording, mixing and mastering. This will expand your talent.\\nI hope to hear more of you soon.\\nI wish you success.',\n",
              " 'While this is nice and done in a nice way, i feel like my audience isnt so ready for us ',\n",
              " \"Hi Love Ghost,\\n\\nwe thank you for sharing us your new single.\\n\\nYou will find below the link of the news we've just published.\\nhttps://www.unitedrocknations.com/news-love-ghost-nouveau-titre-nouvel-ep-8791\\n\\nCheers\\n\\nUnited Rock Nations\",\n",
              " \"Thank you for your submission. While it is dark, I'm not keen on the heavy synths and I clearly state I'm NOT looking for voice alteration Urban please. \",\n",
              " 'Hello! How are you? Thanks for sharing your track with me! \\nYour song really impressed me by your great quality! You did such a great job with those instruments and lyrics. \\nGo on for it, you have a great potential and go far with your music. \\nPlease let me know if you need something. Stay safe! ',\n",
              " \"A hard-hitting rock track. Lyrically edgy and musically aggressive although I would have preferred a stronger drum sound. Very clever use of varied vocal techniques enhance the song's impact on the listener. Never boring; always something a little unexpected lyrically, vocally and musically throughout the number.\",\n",
              " 'Hi!\\n\\n\"Step in the Arena\" is a good track, it combines elements of rock, alternative metal, hip hop and electronic music, and it also has some interesting vocals added to this very eclectic instrumental.\\n\\nI\\'ve listened to the song a few times and to my ears it sounds like a very confusing mix of various distinct elements that didn\\'t really work out together. As we\\'ve seen before, with Linkin Park and other acts that blended electronic elements with hip hop and alternative metal, it can be done, it\\'s not impossible but it\\'s not an easy trick to pull off. Unfortunately, all the elements used in your track are absolutely great on their own, but when put together, they lose their impact almost entirely. It\\'s like a bunch of non-related tracks laid onto another without much thought given to it.\\n\\nThanks for sending the track, be safe and keep on!',\n",
              " \"Hi there, thanks for sending this through. It's just not for me sorry, but I wish you all the best with your release. Kurt\",\n",
              " 'Remember a little bit of Incubus and some bands from 2010. Hi, my name is Gabriel and we are from Musicando, Brazil page and we heard your track Reminds a little well synthesized bands or some artists who use this sound, we really like',\n",
              " \"Some nice ideas on this, I'm sure my 16-year-old son would really like this, However, it isn't for our audience I'm afraid\",\n",
              " 'Hello, guys! Very good music. It mixes well the two aspects: rock and electronic music. And it pays a nice tribute to the grunge pioneers of the 90s. Solid and strong bases, along with vocal elements by distorted or, it became a very interesting mix! Congratulations on the release.',\n",
              " 'Hey, hope you are ok!\\n\\nCongrats for this great song! The beginning reminded me of the intro of Stranger Things hahaha. The mix of garage rock with the electronic elements turn out to be beautiful. This sounds like Bring Me The Horizon and Falling In Reverse had a child. Also, I’m in love with how the bass sounds in this songs, it’s my favorite instrument so... hahaha Congrats again!!! Can’t wait to hear more from you.\\n\\nStay safe.\\n',\n",
              " ' LA-based rock band, Love Ghost announces a 4-song EP dropping February 5th\\n\\nLove Ghost is an indie/alternative/hard rock band consisting of Finnegan Bell (guitar and vocals), Daniel Alcala (Guitar), Ryan Stevens (Bass and background vocals) Samson Young (drums and background vocals) and Cory Batchler (keyboards).\\nTheir new EP \\'Sabertoothed\\' is the work of the band  and producer Danny Saber (Rolling Stones, Marilyn Manson, David Bowie). The songs, written pre-pandemic, mix Emo feels, and guitar-driven alternative rock.\\n\"Step In The Arena\"  is about standing up for yourself when people try to tear you down.\\nhttps://www.facebook.com/loveghost.official\\n \\nPC: @robertreddphoto\\nStyled by: @paqage\\n\\n\\nhttp://www.concertmonkey.be/news/la-based-rock-band-love-ghost-announces-4-song-ep-dropping-february-5th\\nhttps://www.facebook.com/concertmonkey',\n",
              " \"Considero a faixa regular, está tudo lugar, mas ela não marca. Me soa muito comum, apesar de alguns acertos. Sinto que falta de mais força. Um refrão mais marcante, um arranjo mais ousado, uma alternância no riff, enfim. Há um caminho interessante para se trilhar. As interferências que surgem em meio à faixa são bons, mas no todo é repetitivo. \\n\\nI consider the track regular, everything is in place, but it doesn't score. It sounds very common to me, despite some successes. I feel a lack of strength. A more striking chorus, a more daring arrangement, an alternation in the riff, in short. There is an interesting path to take. The interferences that appear in the middle of the track are good, but on the whole it is repetitive.\",\n",
              " 'QUERY LENGTH LIMIT EXCEDEED. MAX ALLOWED QUERY : 500 CHARS MYMEMORY WARNING: YOU USED ALL AVAILABLE FREE TRANSLATIONS FOR TODAY. NEXT AVAILABLE IN  17 HOURS 07 MINUTES 41 SECONDSVISIT HTTPS://MYMEMORY.TRANSLATED.NET/DOC/USAGELIMITS.PHP TO TRANSLATE MORE',\n",
              " \"Hello!\\n\\nThanks so much for requesting us to review your track. We really enjoyed how you're sort of breaking the mold of traditional rock here. Mixing up the sounds of alternative and emo with surprises thrown in here and there made for a really nice listen. This song features a little bit of everything which was really great, we'll definitely be checking out the EP once it's released.\\n\\nAdditionally, we'd love to check you out on Instagram if you have one. Feel free to follow us at ours: @wewriteaboutmusic\\n\\nTake care!\",\n",
              " \"You got me intrigued in the intro, once you started sing i was surprised!\\nDidn't thought to hear autotune in a track of this genre but here you are!\\nThe songs feels modern and why not, pretty 21pilots-esque, i really enjoyed the small tweaks to the musical line around 3.25 as well.\\nThe lyrics brings you to another dimension, and your voice is fine, even though maybe the autotune itself was not essential. \\nOverall a good track, i feel like you album will worth a listen!\",\n",
              " \"Welcome on Dynamic Radio.\\nI will promoteur your track on my spécial playlist of futur Top section Groover.\\nS'il informe you about diffusion of your track very soon.\\nSincerely, Jacques \\n\",\n",
              " \"Hello,\\n\\nHope you are doing well and thank you for reaching out!\\n\\nI just finished listening but unfortunately it's not the kind of song I'm looking for the channel.\\n\\nDespite that it is a good song and you are going in the right direction.\\n\\nThank you for considering the SN/SG as a choice to share the song.\\n\\nKeep up the good work!!\\n\\nCheers,\\n\\nFlorin Ignat\\n\",\n",
              " 'We would say the production quality is 9/10, the instrumentals are fire, the harmony is pleasing, but we think you could\\'ve use reduced the use of autotunes in it.\\n\\nThe lyrics don\\'t really say anything to us, it is not relatable, and of course, to be relatable is not a rule to be followed in the music universe, people sing about the most unusual things we all can imagine, but the problem here is that we also didn\\'t get involved by what you\\'re suggesting in \"Step In The Arena\" specifically. It is so metaphoric that makes it really hard to be touched by it.\\n\\nThe idea for a lyric video is nice, but it is hard to read the inicial and last word of each line because they kind of blend with the dark background.\\n\\nAt 3:28 minutes there\\'s also this editing problem with the lyrics on top of each other, we cant read what\\'s written.\\n\\nWe know it\\'s hard to listen some negative feedback over something we really care, but here we must be sincere to our experience as listeners of the songs that come for us, we hope you understand and don\\'t be mad.',\n",
              " \"Hey guys! Nice work!!! Loved the beggining! Also the guitar! Damn! Sweet rock'n roll! Our page is dadicated to alternative music from Latin America, but still, we really appreciate your submission! Greetings from Brasil, wish you the best for your career! ❤\\n\\n\",\n",
              " \"Hi Love Ghost! Thanks so much for your submission.\\n\\nMy name's Joana and I'm from DØT MAGAZINE's team! I'm gonna be the one writing ♥\\n\\nI really enjoyed this loud but clear tune! The lyrics here are on point as well. Overall, it's a very interesting song and you did a really good job. Nice production!\\n\\nRegarding the videoclip: it goes perfectly with the track! Loved the touch of the reed on the letters.  \\n\\nAs you know, our magazine stands out for having music written in Portuguese. With this said, that's why we will not be sharing your track.\\n\\nWishing you all the best! \\n\\nJoana\",\n",
              " \"thanks for submitting but there are some funk / hip-hop elements to your song that doesn't appeal to my personal taste. Sorry\",\n",
              " 'Hey thanks for sending the track over, sadly it is not something we are looking for right now.',\n",
              " 'Hello man, thank you again to sending us your work. I like this track, I prefer this one to \"Breathe\": here there is a more relaxing atmosphere, is jazzy and it has an interesting texture. You have combined  different instruments and style and I like it. This is not my favourite kind of music but It is listenable and quite enjoyable. I like how the track end: from 4 minutes it is very sweet and peaceful and I love it.  I\\'m not very expert of word music because we\\'re a megazine focus on techno music but I had appreciate your work. Thank you so much and good luck.',\n",
              " 'this song has a really nice unique production sound to it, I like the vibe, just not for my personal style',\n",
              " \"We liked the ambiance on this one however the arrangement and the melodies unfortunately didn't appeal us much this time\",\n",
              " \"Awesome tune really nice one to do yoga with I think! Unfortunately I'm missing a few organic and earthy percussions for my list. But I'm sure you'll find some nice playlists that will support. send me more tracks though as I really like the style <3 \",\n",
              " 'Hey there, very much appreciate the submission from you! But the melody is a too experimental for our playlist. Anyway, good luck pushing this one ',\n",
              " 'nice vibe and smooth sound here, loving the flow and melody of this, a little soft for my adderall playlsit but nice relaxing energy :)',\n",
              " \"I'm not quite looking for drone sounds for the radio show. Looking for a bit more uptempo tunes for that\",\n",
              " \"Hi Nthnl, \\n\\nThanks for the submission. I enjoyed the quality production but felt that the arrangement didn't really grab me. Consider further honing overall song structure and verse/chorus transitions. cc\",\n",
              " \"Hi NTHNL ! Very very beautiful track. It's very soothing and enjoyable to listen to! There are possibilities in the field of sound relaxation! As always it is very well mixed, very well produced overall! If this was accompanied by a video, it will be possible to have more impact ;) ! I write your name in the list of artists to follow! Thanks to you for your solicitation on this new track. Musically Woogie (Weta Records)\",\n",
              " 'nice flow and melody here, really smooth peaceful vibes all around, a little soft for my adderall playlist',\n",
              " 'Hey!\\n\\nThanks for sending your tune over. Unfortunately, this is not quite the format, which we are looking for. But keep creating!\\n\\nBest regards\\nSoho Music Team',\n",
              " \"I'm not quite looking for drone sounds for the radio show. Looking for a bit more uptempo tunes for that\",\n",
              " 'Hi Nthnl, \\n\\nThanks for the submission. I enjoyed the quality production but felt that the aesthetic was a bit new age leaning for us as we tend to focus on fairly electronic focused sounds. cc',\n",
              " 'Hello NTHNL, thank you for sending us your track. I like the idea of the \"breathe\" and I try to sync myself with the track. In my opinion this is a classic \"ouverture\" track, the first track of a LP or the B-side of a EP. There is a lot of tension in this work and when the flute coming, it give a special acid touch at the track. The sound of flute, combined with the breath (that is like an OM-inidian sound) give more tension at the track. Normally the flute is a sweet and simple sound but, in this track, it is hard and rough. I don\\'t know how to categorize your track and I\\'m not sure i like it, It is a very good introduction to other music but...',\n",
              " 'MYMEMORY WARNING: YOU USED ALL AVAILABLE FREE TRANSLATIONS FOR TODAY. NEXT AVAILABLE IN  17 HOURS 07 MINUTES 41 SECONDSVISIT HTTPS://MYMEMORY.TRANSLATED.NET/DOC/USAGELIMITS.PHP TO TRANSLATE MORE',\n",
              " 'MYMEMORY WARNING: YOU USED ALL AVAILABLE FREE TRANSLATIONS FOR TODAY. NEXT AVAILABLE IN  17 HOURS 07 MINUTES 41 SECONDSVISIT HTTPS://MYMEMORY.TRANSLATED.NET/DOC/USAGELIMITS.PHP TO TRANSLATE MORE',\n",
              " 'QUERY LENGTH LIMIT EXCEDEED. MAX ALLOWED QUERY : 500 CHARS',\n",
              " 'MYMEMORY WARNING: YOU USED ALL AVAILABLE FREE TRANSLATIONS FOR TODAY. NEXT AVAILABLE IN  17 HOURS 07 MINUTES 41 SECONDSVISIT HTTPS://MYMEMORY.TRANSLATED.NET/DOC/USAGELIMITS.PHP TO TRANSLATE MORE',\n",
              " 'QUERY LENGTH LIMIT EXCEDEED. MAX ALLOWED QUERY : 500 CHARS',\n",
              " 'MYMEMORY WARNING: YOU USED ALL AVAILABLE FREE TRANSLATIONS FOR TODAY. NEXT AVAILABLE IN  17 HOURS 07 MINUTES 41 SECONDSVISIT HTTPS://MYMEMORY.TRANSLATED.NET/DOC/USAGELIMITS.PHP TO TRANSLATE MORE',\n",
              " 'MYMEMORY WARNING: YOU USED ALL AVAILABLE FREE TRANSLATIONS FOR TODAY. NEXT AVAILABLE IN  17 HOURS 07 MINUTES 41 SECONDSVISIT HTTPS://MYMEMORY.TRANSLATED.NET/DOC/USAGELIMITS.PHP TO TRANSLATE MORE',\n",
              " 'MYMEMORY WARNING: YOU USED ALL AVAILABLE FREE TRANSLATIONS FOR TODAY. NEXT AVAILABLE IN  17 HOURS 07 MINUTES 41 SECONDSVISIT HTTPS://MYMEMORY.TRANSLATED.NET/DOC/USAGELIMITS.PHP TO TRANSLATE MORE',\n",
              " 'MYMEMORY WARNING: YOU USED ALL AVAILABLE FREE TRANSLATIONS FOR TODAY. NEXT AVAILABLE IN  17 HOURS 07 MINUTES 41 SECONDSVISIT HTTPS://MYMEMORY.TRANSLATED.NET/DOC/USAGELIMITS.PHP TO TRANSLATE MORE',\n",
              " 'MYMEMORY WARNING: YOU USED ALL AVAILABLE FREE TRANSLATIONS FOR TODAY. NEXT AVAILABLE IN  17 HOURS 07 MINUTES 41 SECONDSVISIT HTTPS://MYMEMORY.TRANSLATED.NET/DOC/USAGELIMITS.PHP TO TRANSLATE MORE',\n",
              " 'MYMEMORY WARNING: YOU USED ALL AVAILABLE FREE TRANSLATIONS FOR TODAY. NEXT AVAILABLE IN  17 HOURS 07 MINUTES 41 SECONDSVISIT HTTPS://MYMEMORY.TRANSLATED.NET/DOC/USAGELIMITS.PHP TO TRANSLATE MORE',\n",
              " 'QUERY LENGTH LIMIT EXCEDEED. MAX ALLOWED QUERY : 500 CHARS',\n",
              " 'MYMEMORY WARNING: YOU USED ALL AVAILABLE FREE TRANSLATIONS FOR TODAY. NEXT AVAILABLE IN  17 HOURS 07 MINUTES 40 SECONDSVISIT HTTPS://MYMEMORY.TRANSLATED.NET/DOC/USAGELIMITS.PHP TO TRANSLATE MORE',\n",
              " 'MYMEMORY WARNING: YOU USED ALL AVAILABLE FREE TRANSLATIONS FOR TODAY. NEXT AVAILABLE IN  17 HOURS 07 MINUTES 40 SECONDSVISIT HTTPS://MYMEMORY.TRANSLATED.NET/DOC/USAGELIMITS.PHP TO TRANSLATE MORE',\n",
              " 'MYMEMORY WARNING: YOU USED ALL AVAILABLE FREE TRANSLATIONS FOR TODAY. NEXT AVAILABLE IN  17 HOURS 07 MINUTES 40 SECONDSVISIT HTTPS://MYMEMORY.TRANSLATED.NET/DOC/USAGELIMITS.PHP TO TRANSLATE MORE',\n",
              " 'MYMEMORY WARNING: YOU USED ALL AVAILABLE FREE TRANSLATIONS FOR TODAY. NEXT AVAILABLE IN  17 HOURS 07 MINUTES 40 SECONDSVISIT HTTPS://MYMEMORY.TRANSLATED.NET/DOC/USAGELIMITS.PHP TO TRANSLATE MORE',\n",
              " 'MYMEMORY WARNING: YOU USED ALL AVAILABLE FREE TRANSLATIONS FOR TODAY. NEXT AVAILABLE IN  17 HOURS 07 MINUTES 40 SECONDSVISIT HTTPS://MYMEMORY.TRANSLATED.NET/DOC/USAGELIMITS.PHP TO TRANSLATE MORE',\n",
              " 'MYMEMORY WARNING: YOU USED ALL AVAILABLE FREE TRANSLATIONS FOR TODAY. NEXT AVAILABLE IN  17 HOURS 07 MINUTES 40 SECONDSVISIT HTTPS://MYMEMORY.TRANSLATED.NET/DOC/USAGELIMITS.PHP TO TRANSLATE MORE',\n",
              " 'MYMEMORY WARNING: YOU USED ALL AVAILABLE FREE TRANSLATIONS FOR TODAY. NEXT AVAILABLE IN  17 HOURS 07 MINUTES 40 SECONDSVISIT HTTPS://MYMEMORY.TRANSLATED.NET/DOC/USAGELIMITS.PHP TO TRANSLATE MORE',\n",
              " 'QUERY LENGTH LIMIT EXCEDEED. MAX ALLOWED QUERY : 500 CHARS',\n",
              " 'MYMEMORY WARNING: YOU USED ALL AVAILABLE FREE TRANSLATIONS FOR TODAY. NEXT AVAILABLE IN  17 HOURS 07 MINUTES 40 SECONDSVISIT HTTPS://MYMEMORY.TRANSLATED.NET/DOC/USAGELIMITS.PHP TO TRANSLATE MORE',\n",
              " 'MYMEMORY WARNING: YOU USED ALL AVAILABLE FREE TRANSLATIONS FOR TODAY. NEXT AVAILABLE IN  17 HOURS 07 MINUTES 40 SECONDSVISIT HTTPS://MYMEMORY.TRANSLATED.NET/DOC/USAGELIMITS.PHP TO TRANSLATE MORE',\n",
              " 'MYMEMORY WARNING: YOU USED ALL AVAILABLE FREE TRANSLATIONS FOR TODAY. NEXT AVAILABLE IN  17 HOURS 07 MINUTES 40 SECONDSVISIT HTTPS://MYMEMORY.TRANSLATED.NET/DOC/USAGELIMITS.PHP TO TRANSLATE MORE',\n",
              " 'QUERY LENGTH LIMIT EXCEDEED. MAX ALLOWED QUERY : 500 CHARS',\n",
              " 'MYMEMORY WARNING: YOU USED ALL AVAILABLE FREE TRANSLATIONS FOR TODAY. NEXT AVAILABLE IN  17 HOURS 07 MINUTES 40 SECONDSVISIT HTTPS://MYMEMORY.TRANSLATED.NET/DOC/USAGELIMITS.PHP TO TRANSLATE MORE',\n",
              " 'MYMEMORY WARNING: YOU USED ALL AVAILABLE FREE TRANSLATIONS FOR TODAY. NEXT AVAILABLE IN  17 HOURS 07 MINUTES 40 SECONDSVISIT HTTPS://MYMEMORY.TRANSLATED.NET/DOC/USAGELIMITS.PHP TO TRANSLATE MORE',\n",
              " 'MYMEMORY WARNING: YOU USED ALL AVAILABLE FREE TRANSLATIONS FOR TODAY. NEXT AVAILABLE IN  17 HOURS 07 MINUTES 40 SECONDSVISIT HTTPS://MYMEMORY.TRANSLATED.NET/DOC/USAGELIMITS.PHP TO TRANSLATE MORE',\n",
              " 'MYMEMORY WARNING: YOU USED ALL AVAILABLE FREE TRANSLATIONS FOR TODAY. NEXT AVAILABLE IN  17 HOURS 07 MINUTES 40 SECONDSVISIT HTTPS://MYMEMORY.TRANSLATED.NET/DOC/USAGELIMITS.PHP TO TRANSLATE MORE',\n",
              " 'MYMEMORY WARNING: YOU USED ALL AVAILABLE FREE TRANSLATIONS FOR TODAY. NEXT AVAILABLE IN  17 HOURS 07 MINUTES 40 SECONDSVISIT HTTPS://MYMEMORY.TRANSLATED.NET/DOC/USAGELIMITS.PHP TO TRANSLATE MORE',\n",
              " 'MYMEMORY WARNING: YOU USED ALL AVAILABLE FREE TRANSLATIONS FOR TODAY. NEXT AVAILABLE IN  17 HOURS 07 MINUTES 40 SECONDSVISIT HTTPS://MYMEMORY.TRANSLATED.NET/DOC/USAGELIMITS.PHP TO TRANSLATE MORE',\n",
              " 'QUERY LENGTH LIMIT EXCEDEED. MAX ALLOWED QUERY : 500 CHARS',\n",
              " 'MYMEMORY WARNING: YOU USED ALL AVAILABLE FREE TRANSLATIONS FOR TODAY. NEXT AVAILABLE IN  17 HOURS 07 MINUTES 40 SECONDSVISIT HTTPS://MYMEMORY.TRANSLATED.NET/DOC/USAGELIMITS.PHP TO TRANSLATE MORE',\n",
              " 'MYMEMORY WARNING: YOU USED ALL AVAILABLE FREE TRANSLATIONS FOR TODAY. NEXT AVAILABLE IN  17 HOURS 07 MINUTES 40 SECONDSVISIT HTTPS://MYMEMORY.TRANSLATED.NET/DOC/USAGELIMITS.PHP TO TRANSLATE MORE',\n",
              " 'MYMEMORY WARNING: YOU USED ALL AVAILABLE FREE TRANSLATIONS FOR TODAY. NEXT AVAILABLE IN  17 HOURS 07 MINUTES 40 SECONDSVISIT HTTPS://MYMEMORY.TRANSLATED.NET/DOC/USAGELIMITS.PHP TO TRANSLATE MORE',\n",
              " 'MYMEMORY WARNING: YOU USED ALL AVAILABLE FREE TRANSLATIONS FOR TODAY. NEXT AVAILABLE IN  17 HOURS 07 MINUTES 40 SECONDSVISIT HTTPS://MYMEMORY.TRANSLATED.NET/DOC/USAGELIMITS.PHP TO TRANSLATE MORE',\n",
              " 'MYMEMORY WARNING: YOU USED ALL AVAILABLE FREE TRANSLATIONS FOR TODAY. NEXT AVAILABLE IN  17 HOURS 07 MINUTES 40 SECONDSVISIT HTTPS://MYMEMORY.TRANSLATED.NET/DOC/USAGELIMITS.PHP TO TRANSLATE MORE',\n",
              " 'MYMEMORY WARNING: YOU USED ALL AVAILABLE FREE TRANSLATIONS FOR TODAY. NEXT AVAILABLE IN  17 HOURS 07 MINUTES 40 SECONDSVISIT HTTPS://MYMEMORY.TRANSLATED.NET/DOC/USAGELIMITS.PHP TO TRANSLATE MORE',\n",
              " 'MYMEMORY WARNING: YOU USED ALL AVAILABLE FREE TRANSLATIONS FOR TODAY. NEXT AVAILABLE IN  17 HOURS 07 MINUTES 40 SECONDSVISIT HTTPS://MYMEMORY.TRANSLATED.NET/DOC/USAGELIMITS.PHP TO TRANSLATE MORE',\n",
              " 'MYMEMORY WARNING: YOU USED ALL AVAILABLE FREE TRANSLATIONS FOR TODAY. NEXT AVAILABLE IN  17 HOURS 07 MINUTES 40 SECONDSVISIT HTTPS://MYMEMORY.TRANSLATED.NET/DOC/USAGELIMITS.PHP TO TRANSLATE MORE',\n",
              " 'MYMEMORY WARNING: YOU USED ALL AVAILABLE FREE TRANSLATIONS FOR TODAY. NEXT AVAILABLE IN  17 HOURS 07 MINUTES 40 SECONDSVISIT HTTPS://MYMEMORY.TRANSLATED.NET/DOC/USAGELIMITS.PHP TO TRANSLATE MORE',\n",
              " 'MYMEMORY WARNING: YOU USED ALL AVAILABLE FREE TRANSLATIONS FOR TODAY. NEXT AVAILABLE IN  17 HOURS 07 MINUTES 40 SECONDSVISIT HTTPS://MYMEMORY.TRANSLATED.NET/DOC/USAGELIMITS.PHP TO TRANSLATE MORE',\n",
              " 'MYMEMORY WARNING: YOU USED ALL AVAILABLE FREE TRANSLATIONS FOR TODAY. NEXT AVAILABLE IN  17 HOURS 07 MINUTES 39 SECONDSVISIT HTTPS://MYMEMORY.TRANSLATED.NET/DOC/USAGELIMITS.PHP TO TRANSLATE MORE',\n",
              " 'MYMEMORY WARNING: YOU USED ALL AVAILABLE FREE TRANSLATIONS FOR TODAY. NEXT AVAILABLE IN  17 HOURS 07 MINUTES 39 SECONDSVISIT HTTPS://MYMEMORY.TRANSLATED.NET/DOC/USAGELIMITS.PHP TO TRANSLATE MORE',\n",
              " 'MYMEMORY WARNING: YOU USED ALL AVAILABLE FREE TRANSLATIONS FOR TODAY. NEXT AVAILABLE IN  17 HOURS 07 MINUTES 39 SECONDSVISIT HTTPS://MYMEMORY.TRANSLATED.NET/DOC/USAGELIMITS.PHP TO TRANSLATE MORE',\n",
              " 'MYMEMORY WARNING: YOU USED ALL AVAILABLE FREE TRANSLATIONS FOR TODAY. NEXT AVAILABLE IN  17 HOURS 07 MINUTES 39 SECONDSVISIT HTTPS://MYMEMORY.TRANSLATED.NET/DOC/USAGELIMITS.PHP TO TRANSLATE MORE',\n",
              " 'QUERY LENGTH LIMIT EXCEDEED. MAX ALLOWED QUERY : 500 CHARS',\n",
              " 'MYMEMORY WARNING: YOU USED ALL AVAILABLE FREE TRANSLATIONS FOR TODAY. NEXT AVAILABLE IN  17 HOURS 07 MINUTES 39 SECONDSVISIT HTTPS://MYMEMORY.TRANSLATED.NET/DOC/USAGELIMITS.PHP TO TRANSLATE MORE',\n",
              " 'MYMEMORY WARNING: YOU USED ALL AVAILABLE FREE TRANSLATIONS FOR TODAY. NEXT AVAILABLE IN  17 HOURS 07 MINUTES 39 SECONDSVISIT HTTPS://MYMEMORY.TRANSLATED.NET/DOC/USAGELIMITS.PHP TO TRANSLATE MORE',\n",
              " 'MYMEMORY WARNING: YOU USED ALL AVAILABLE FREE TRANSLATIONS FOR TODAY. NEXT AVAILABLE IN  17 HOURS 07 MINUTES 39 SECONDSVISIT HTTPS://MYMEMORY.TRANSLATED.NET/DOC/USAGELIMITS.PHP TO TRANSLATE MORE',\n",
              " 'QUERY LENGTH LIMIT EXCEDEED. MAX ALLOWED QUERY : 500 CHARS',\n",
              " 'MYMEMORY WARNING: YOU USED ALL AVAILABLE FREE TRANSLATIONS FOR TODAY. NEXT AVAILABLE IN  17 HOURS 07 MINUTES 39 SECONDSVISIT HTTPS://MYMEMORY.TRANSLATED.NET/DOC/USAGELIMITS.PHP TO TRANSLATE MORE',\n",
              " 'MYMEMORY WARNING: YOU USED ALL AVAILABLE FREE TRANSLATIONS FOR TODAY. NEXT AVAILABLE IN  17 HOURS 07 MINUTES 39 SECONDSVISIT HTTPS://MYMEMORY.TRANSLATED.NET/DOC/USAGELIMITS.PHP TO TRANSLATE MORE',\n",
              " 'MYMEMORY WARNING: YOU USED ALL AVAILABLE FREE TRANSLATIONS FOR TODAY. NEXT AVAILABLE IN  17 HOURS 07 MINUTES 39 SECONDSVISIT HTTPS://MYMEMORY.TRANSLATED.NET/DOC/USAGELIMITS.PHP TO TRANSLATE MORE',\n",
              " 'MYMEMORY WARNING: YOU USED ALL AVAILABLE FREE TRANSLATIONS FOR TODAY. NEXT AVAILABLE IN  17 HOURS 07 MINUTES 39 SECONDSVISIT HTTPS://MYMEMORY.TRANSLATED.NET/DOC/USAGELIMITS.PHP TO TRANSLATE MORE',\n",
              " 'MYMEMORY WARNING: YOU USED ALL AVAILABLE FREE TRANSLATIONS FOR TODAY. NEXT AVAILABLE IN  17 HOURS 07 MINUTES 39 SECONDSVISIT HTTPS://MYMEMORY.TRANSLATED.NET/DOC/USAGELIMITS.PHP TO TRANSLATE MORE',\n",
              " 'QUERY LENGTH LIMIT EXCEDEED. MAX ALLOWED QUERY : 500 CHARS',\n",
              " 'MYMEMORY WARNING: YOU USED ALL AVAILABLE FREE TRANSLATIONS FOR TODAY. NEXT AVAILABLE IN  17 HOURS 07 MINUTES 39 SECONDSVISIT HTTPS://MYMEMORY.TRANSLATED.NET/DOC/USAGELIMITS.PHP TO TRANSLATE MORE',\n",
              " 'MYMEMORY WARNING: YOU USED ALL AVAILABLE FREE TRANSLATIONS FOR TODAY. NEXT AVAILABLE IN  17 HOURS 07 MINUTES 39 SECONDSVISIT HTTPS://MYMEMORY.TRANSLATED.NET/DOC/USAGELIMITS.PHP TO TRANSLATE MORE',\n",
              " 'QUERY LENGTH LIMIT EXCEDEED. MAX ALLOWED QUERY : 500 CHARS',\n",
              " 'MYMEMORY WARNING: YOU USED ALL AVAILABLE FREE TRANSLATIONS FOR TODAY. NEXT AVAILABLE IN  17 HOURS 07 MINUTES 39 SECONDSVISIT HTTPS://MYMEMORY.TRANSLATED.NET/DOC/USAGELIMITS.PHP TO TRANSLATE MORE',\n",
              " 'MYMEMORY WARNING: YOU USED ALL AVAILABLE FREE TRANSLATIONS FOR TODAY. NEXT AVAILABLE IN  17 HOURS 07 MINUTES 39 SECONDSVISIT HTTPS://MYMEMORY.TRANSLATED.NET/DOC/USAGELIMITS.PHP TO TRANSLATE MORE',\n",
              " 'MYMEMORY WARNING: YOU USED ALL AVAILABLE FREE TRANSLATIONS FOR TODAY. NEXT AVAILABLE IN  17 HOURS 07 MINUTES 39 SECONDSVISIT HTTPS://MYMEMORY.TRANSLATED.NET/DOC/USAGELIMITS.PHP TO TRANSLATE MORE',\n",
              " 'MYMEMORY WARNING: YOU USED ALL AVAILABLE FREE TRANSLATIONS FOR TODAY. NEXT AVAILABLE IN  17 HOURS 07 MINUTES 39 SECONDSVISIT HTTPS://MYMEMORY.TRANSLATED.NET/DOC/USAGELIMITS.PHP TO TRANSLATE MORE',\n",
              " 'MYMEMORY WARNING: YOU USED ALL AVAILABLE FREE TRANSLATIONS FOR TODAY. NEXT AVAILABLE IN  17 HOURS 07 MINUTES 39 SECONDSVISIT HTTPS://MYMEMORY.TRANSLATED.NET/DOC/USAGELIMITS.PHP TO TRANSLATE MORE',\n",
              " 'MYMEMORY WARNING: YOU USED ALL AVAILABLE FREE TRANSLATIONS FOR TODAY. NEXT AVAILABLE IN  17 HOURS 07 MINUTES 39 SECONDSVISIT HTTPS://MYMEMORY.TRANSLATED.NET/DOC/USAGELIMITS.PHP TO TRANSLATE MORE',\n",
              " 'MYMEMORY WARNING: YOU USED ALL AVAILABLE FREE TRANSLATIONS FOR TODAY. NEXT AVAILABLE IN  17 HOURS 07 MINUTES 39 SECONDSVISIT HTTPS://MYMEMORY.TRANSLATED.NET/DOC/USAGELIMITS.PHP TO TRANSLATE MORE',\n",
              " 'MYMEMORY WARNING: YOU USED ALL AVAILABLE FREE TRANSLATIONS FOR TODAY. NEXT AVAILABLE IN  17 HOURS 07 MINUTES 39 SECONDSVISIT HTTPS://MYMEMORY.TRANSLATED.NET/DOC/USAGELIMITS.PHP TO TRANSLATE MORE',\n",
              " 'MYMEMORY WARNING: YOU USED ALL AVAILABLE FREE TRANSLATIONS FOR TODAY. NEXT AVAILABLE IN  17 HOURS 07 MINUTES 39 SECONDSVISIT HTTPS://MYMEMORY.TRANSLATED.NET/DOC/USAGELIMITS.PHP TO TRANSLATE MORE',\n",
              " 'MYMEMORY WARNING: YOU USED ALL AVAILABLE FREE TRANSLATIONS FOR TODAY. NEXT AVAILABLE IN  17 HOURS 07 MINUTES 39 SECONDSVISIT HTTPS://MYMEMORY.TRANSLATED.NET/DOC/USAGELIMITS.PHP TO TRANSLATE MORE',\n",
              " 'QUERY LENGTH LIMIT EXCEDEED. MAX ALLOWED QUERY : 500 CHARS',\n",
              " 'This should have been tagged Ambient rather Jazz and Electorinc. Please label your music right so you reach  out the right media for your track ',\n",
              " 'Amazing! Loved the sax part. Reminds me of a Portuguese group called Paisiel. You should check them out. However your music is more calm and peaceful than them. Good job, really made my day hearing this!',\n",
              " \"Hello!\\n\\nThanks so much for requesting us to review your track. Really enjoyed how the track evolved throughout. Your sax and flute skills are off the charts! This is absolutely the definition of world music, it features a little bit of everything to be honest. It had us intrigued from the moment it started to the finish, would really like to hear more tunes up this alley. Fantastic production as well!\\n\\nAdditionally, we'd love to check you out on Instagram if you have one. Feel free to follow us at ours: @wewriteaboutmusic\\n\\nTake care!\",\n",
              " 'Hi, NTHNL,\\n\\nNice vibe! \\nThe instrumental sounds sick! Your sound is unique. I love the sound-design! \\nRegarding mixing, you make the instrumental sound very good. \\nThe structure is very unique. However, it is difficult to follow the structure. Make sure to define clear sections. The chorus is difficult to understand as the chorus. \\nAll in all, a good track! Make sure to work on the structure. \\n\\nKind regards,\\nTap Water',\n",
              " 'A sumptuous instrumental work which reminds a little of Floating Points, Anenon and Nils Petter Molvaer for the approach to Ambient with meditative qualities. The organic arrangements, with environmental sound recordings, juxtaposed to the Japanese-inspired flute and the electronic sounds, gracefully depart from the usual New-Age music. A simply uplifting track!\\n\\nThe publication is scheduled via the Facebook page on February 9 at 5 pm, Montreal time. Meanwhile, here are the playlist links:\\nhttps://soundcloud.com/boulimiquedemusique/sets/histoires-sans-mots-wordless\\n\\nhttps://open.spotify.com/playlist/2zS1lgWcWwXuzwDMQT7FDW\\n\\nhttps://deezer.page.link/ZGZrPfJRahSZEnWW6\\n\\nhttps://www.youtube.com/playlist?list=PLQQEx2JoJCJtnPC0gNuxZIBi8FwRAZhVy',\n",
              " 'Hello. interesting song very relaxing that we could be airplayed in our webradio in our jazz playlists',\n",
              " 'Thank you NTHNL for sharing this piece of original music.\\n\\nThank you for your interest in Couleurs Jazz Media and Couleurs Jazz Radio. We would like to know more about your work.\\n\\nCould you kindly send us the album to our postal address in Paris with a press kit please? You can check it here: www.couleursjazz.fr/contact\\n\\nHappy new year listening to Couleurs Jazz Radio!\\nThe current worldwide 100% Jazz radio. guarantee 0% advs, 0% virus and 0% dyes.\\nwww.couleursjazzradio.fr\\nDid you upload the Apps on your smartphone? Your opinion matters to us\\nApps Couleurs Jazz Radio GooglePlay : https://bit.ly/CJRGooglePlay\\nApps Couleurs Jazz Radio iOS  Appstore : https://bit.ly/CJRAppstore\\n\\n',\n",
              " 'This is a very nice track, beautifully composed and played but not what we are looking for in La Montaña Rusa Radio Jazz. But yes, congratulations, very cool.',\n",
              " 'MYMEMORY WARNING: YOU USED ALL AVAILABLE FREE TRANSLATIONS FOR TODAY. NEXT AVAILABLE IN  17 HOURS 07 MINUTES 39 SECONDSVISIT HTTPS://MYMEMORY.TRANSLATED.NET/DOC/USAGELIMITS.PHP TO TRANSLATE MORE',\n",
              " 'MYMEMORY WARNING: YOU USED ALL AVAILABLE FREE TRANSLATIONS FOR TODAY. NEXT AVAILABLE IN  17 HOURS 07 MINUTES 39 SECONDSVISIT HTTPS://MYMEMORY.TRANSLATED.NET/DOC/USAGELIMITS.PHP TO TRANSLATE MORE',\n",
              " 'MYMEMORY WARNING: YOU USED ALL AVAILABLE FREE TRANSLATIONS FOR TODAY. NEXT AVAILABLE IN  17 HOURS 07 MINUTES 38 SECONDSVISIT HTTPS://MYMEMORY.TRANSLATED.NET/DOC/USAGELIMITS.PHP TO TRANSLATE MORE',\n",
              " 'MYMEMORY WARNING: YOU USED ALL AVAILABLE FREE TRANSLATIONS FOR TODAY. NEXT AVAILABLE IN  17 HOURS 07 MINUTES 38 SECONDSVISIT HTTPS://MYMEMORY.TRANSLATED.NET/DOC/USAGELIMITS.PHP TO TRANSLATE MORE',\n",
              " 'MYMEMORY WARNING: YOU USED ALL AVAILABLE FREE TRANSLATIONS FOR TODAY. NEXT AVAILABLE IN  17 HOURS 07 MINUTES 38 SECONDSVISIT HTTPS://MYMEMORY.TRANSLATED.NET/DOC/USAGELIMITS.PHP TO TRANSLATE MORE',\n",
              " 'MYMEMORY WARNING: YOU USED ALL AVAILABLE FREE TRANSLATIONS FOR TODAY. NEXT AVAILABLE IN  17 HOURS 07 MINUTES 38 SECONDSVISIT HTTPS://MYMEMORY.TRANSLATED.NET/DOC/USAGELIMITS.PHP TO TRANSLATE MORE',\n",
              " 'MYMEMORY WARNING: YOU USED ALL AVAILABLE FREE TRANSLATIONS FOR TODAY. NEXT AVAILABLE IN  17 HOURS 07 MINUTES 38 SECONDSVISIT HTTPS://MYMEMORY.TRANSLATED.NET/DOC/USAGELIMITS.PHP TO TRANSLATE MORE',\n",
              " 'MYMEMORY WARNING: YOU USED ALL AVAILABLE FREE TRANSLATIONS FOR TODAY. NEXT AVAILABLE IN  17 HOURS 07 MINUTES 38 SECONDSVISIT HTTPS://MYMEMORY.TRANSLATED.NET/DOC/USAGELIMITS.PHP TO TRANSLATE MORE',\n",
              " 'QUERY LENGTH LIMIT EXCEDEED. MAX ALLOWED QUERY : 500 CHARS',\n",
              " 'MYMEMORY WARNING: YOU USED ALL AVAILABLE FREE TRANSLATIONS FOR TODAY. NEXT AVAILABLE IN  17 HOURS 07 MINUTES 38 SECONDSVISIT HTTPS://MYMEMORY.TRANSLATED.NET/DOC/USAGELIMITS.PHP TO TRANSLATE MORE',\n",
              " 'QUERY LENGTH LIMIT EXCEDEED. MAX ALLOWED QUERY : 500 CHARS',\n",
              " 'MYMEMORY WARNING: YOU USED ALL AVAILABLE FREE TRANSLATIONS FOR TODAY. NEXT AVAILABLE IN  17 HOURS 07 MINUTES 38 SECONDSVISIT HTTPS://MYMEMORY.TRANSLATED.NET/DOC/USAGELIMITS.PHP TO TRANSLATE MORE',\n",
              " 'MYMEMORY WARNING: YOU USED ALL AVAILABLE FREE TRANSLATIONS FOR TODAY. NEXT AVAILABLE IN  17 HOURS 07 MINUTES 38 SECONDSVISIT HTTPS://MYMEMORY.TRANSLATED.NET/DOC/USAGELIMITS.PHP TO TRANSLATE MORE',\n",
              " 'MYMEMORY WARNING: YOU USED ALL AVAILABLE FREE TRANSLATIONS FOR TODAY. NEXT AVAILABLE IN  17 HOURS 07 MINUTES 38 SECONDSVISIT HTTPS://MYMEMORY.TRANSLATED.NET/DOC/USAGELIMITS.PHP TO TRANSLATE MORE',\n",
              " 'MYMEMORY WARNING: YOU USED ALL AVAILABLE FREE TRANSLATIONS FOR TODAY. NEXT AVAILABLE IN  17 HOURS 07 MINUTES 38 SECONDSVISIT HTTPS://MYMEMORY.TRANSLATED.NET/DOC/USAGELIMITS.PHP TO TRANSLATE MORE',\n",
              " 'QUERY LENGTH LIMIT EXCEDEED. MAX ALLOWED QUERY : 500 CHARS',\n",
              " 'MYMEMORY WARNING: YOU USED ALL AVAILABLE FREE TRANSLATIONS FOR TODAY. NEXT AVAILABLE IN  17 HOURS 07 MINUTES 38 SECONDSVISIT HTTPS://MYMEMORY.TRANSLATED.NET/DOC/USAGELIMITS.PHP TO TRANSLATE MORE',\n",
              " 'MYMEMORY WARNING: YOU USED ALL AVAILABLE FREE TRANSLATIONS FOR TODAY. NEXT AVAILABLE IN  17 HOURS 07 MINUTES 38 SECONDSVISIT HTTPS://MYMEMORY.TRANSLATED.NET/DOC/USAGELIMITS.PHP TO TRANSLATE MORE',\n",
              " 'MYMEMORY WARNING: YOU USED ALL AVAILABLE FREE TRANSLATIONS FOR TODAY. NEXT AVAILABLE IN  17 HOURS 07 MINUTES 38 SECONDSVISIT HTTPS://MYMEMORY.TRANSLATED.NET/DOC/USAGELIMITS.PHP TO TRANSLATE MORE',\n",
              " 'MYMEMORY WARNING: YOU USED ALL AVAILABLE FREE TRANSLATIONS FOR TODAY. NEXT AVAILABLE IN  17 HOURS 07 MINUTES 38 SECONDSVISIT HTTPS://MYMEMORY.TRANSLATED.NET/DOC/USAGELIMITS.PHP TO TRANSLATE MORE',\n",
              " 'MYMEMORY WARNING: YOU USED ALL AVAILABLE FREE TRANSLATIONS FOR TODAY. NEXT AVAILABLE IN  17 HOURS 07 MINUTES 38 SECONDSVISIT HTTPS://MYMEMORY.TRANSLATED.NET/DOC/USAGELIMITS.PHP TO TRANSLATE MORE',\n",
              " 'MYMEMORY WARNING: YOU USED ALL AVAILABLE FREE TRANSLATIONS FOR TODAY. NEXT AVAILABLE IN  17 HOURS 07 MINUTES 38 SECONDSVISIT HTTPS://MYMEMORY.TRANSLATED.NET/DOC/USAGELIMITS.PHP TO TRANSLATE MORE',\n",
              " 'MYMEMORY WARNING: YOU USED ALL AVAILABLE FREE TRANSLATIONS FOR TODAY. NEXT AVAILABLE IN  17 HOURS 07 MINUTES 38 SECONDSVISIT HTTPS://MYMEMORY.TRANSLATED.NET/DOC/USAGELIMITS.PHP TO TRANSLATE MORE',\n",
              " 'MYMEMORY WARNING: YOU USED ALL AVAILABLE FREE TRANSLATIONS FOR TODAY. NEXT AVAILABLE IN  17 HOURS 07 MINUTES 38 SECONDSVISIT HTTPS://MYMEMORY.TRANSLATED.NET/DOC/USAGELIMITS.PHP TO TRANSLATE MORE',\n",
              " 'MYMEMORY WARNING: YOU USED ALL AVAILABLE FREE TRANSLATIONS FOR TODAY. NEXT AVAILABLE IN  17 HOURS 07 MINUTES 38 SECONDSVISIT HTTPS://MYMEMORY.TRANSLATED.NET/DOC/USAGELIMITS.PHP TO TRANSLATE MORE',\n",
              " 'MYMEMORY WARNING: YOU USED ALL AVAILABLE FREE TRANSLATIONS FOR TODAY. NEXT AVAILABLE IN  17 HOURS 07 MINUTES 38 SECONDSVISIT HTTPS://MYMEMORY.TRANSLATED.NET/DOC/USAGELIMITS.PHP TO TRANSLATE MORE',\n",
              " 'MYMEMORY WARNING: YOU USED ALL AVAILABLE FREE TRANSLATIONS FOR TODAY. NEXT AVAILABLE IN  17 HOURS 07 MINUTES 38 SECONDSVISIT HTTPS://MYMEMORY.TRANSLATED.NET/DOC/USAGELIMITS.PHP TO TRANSLATE MORE',\n",
              " 'MYMEMORY WARNING: YOU USED ALL AVAILABLE FREE TRANSLATIONS FOR TODAY. NEXT AVAILABLE IN  17 HOURS 07 MINUTES 38 SECONDSVISIT HTTPS://MYMEMORY.TRANSLATED.NET/DOC/USAGELIMITS.PHP TO TRANSLATE MORE',\n",
              " 'QUERY LENGTH LIMIT EXCEDEED. MAX ALLOWED QUERY : 500 CHARS MYMEMORY WARNING: YOU USED ALL AVAILABLE FREE TRANSLATIONS FOR TODAY. NEXT AVAILABLE IN  17 HOURS 07 MINUTES 38 SECONDSVISIT HTTPS://MYMEMORY.TRANSLATED.NET/DOC/USAGELIMITS.PHP TO TRANSLATE MORE',\n",
              " 'Nice vocals! Really pleasant and top quality, not a fan so much of the track as it is not my personal taste. however I can see others really enjoying this, hope it does well',\n",
              " 'Hey, thanks for sending out. Unfortunately it doesn’t really fit with the kind of music we are broadcasting on the radio. Maybe next time!\\n',\n",
              " \"Hello Abi, thanks for sending this through. Sorry it's not for me, but you're obviously very talented and I wish you the best with the release. Thanks, Kurt\",\n",
              " \"A heartfelt personal statement from the performer. There are moments in this track when the power of the singer's voice surges and demands the listener's attention. If this 'power' could be sustained throughout the song, this would indeed be an outstanding performance. A valiant effort.\",\n",
              " \"Hi Mike, love this song! The arrangements, the groove, the voice, everything is great. We'll broadcast it with pleasure :) I'll let you send us the mp3 file and a visual. See you soon!\",\n",
              " 'Thanks for sharing your positive vibes! I can certainly suggest how to position your music for further reach, so I shall email you to discuss ',\n",
              " 'Hello Moodssupply,\\n\\nThank you for your message and for sharing your music.\\n\\nHot For You is a nice jazzy song but unfortunately FM 80 Radio does not play this genre.\\n\\nWishing you all the best for your musical career.\\n\\nGreetings,\\n\\nJC\\n\\nwww.fm80.fr',\n",
              " 'MYMEMORY WARNING: YOU USED ALL AVAILABLE FREE TRANSLATIONS FOR TODAY. NEXT AVAILABLE IN  17 HOURS 07 MINUTES 38 SECONDSVISIT HTTPS://MYMEMORY.TRANSLATED.NET/DOC/USAGELIMITS.PHP TO TRANSLATE MORE',\n",
              " '\\nHello, we have listened to your track. Unfortunately we did not have the crush. Good continuation!',\n",
              " 'Hi Moodssupply!\\n\\n\"Hot For You\" is a very nice song, thank for sharing it with us!\\n\\nGood luck,\\nTIS Team',\n",
              " \"Thanks for your submission. I'll share your track on my next Tinnitist playlist. I'll send you the confirmation and a link when it's done. Cheers / Darryl\",\n",
              " 'Hi, thanks for the submission.\\nI loved the light rhythm and the high groove that naturally made me want to start dancing.\\n\\nLet me include your songs in this playlist to be updated in March 1st. https://open.spotify.com/playlist/5YMTx1sHEhTQQqK6zXpAU3?si=qjCkxCtoSKOLieX7V_FN_Q\\n',\n",
              " 'The vocals sounds good, but i think that they sounds little bit empty, try to work more on the vocal mixing, maybe make sone addlips.\\nThe flow i cool.\\nAlso i like the chill vibe.',\n",
              " 'Interesting and authentic song. Stylistically too much on the Rock side of things for our playlists.',\n",
              " \"please make sure you read our bio prior to sending. we're a rap and old school hip hop podcast.\",\n",
              " 'Hi \\nCool track , please send mp3 for airplay on musicexpo radio and shared on socials\\nThaks\\nMike',\n",
              " \"Hi George, cheers for the track.\\n\\nGot some real charm to it this has.\\n\\nI know what you mean about it being similar to The La's, reminds me of a few bands which youll see when i post the track on twitter over the weekend.\\n\\nTrack length is perfect, like you voice, its simple but effective and the 'falling away' section gives a really nice injection of something extra and stops the track being overly simple. \\n\\nYouve nailed it here pal, i really like it.\\n\\nWill also feature on my podcast could be 2 or 3 weeks away but i will post the link on here when its out.\\n\\nGreat work mate.\\n\\nRich \",\n",
              " 'MYMEMORY WARNING: YOU USED ALL AVAILABLE FREE TRANSLATIONS FOR TODAY. NEXT AVAILABLE IN  17 HOURS 07 MINUTES 38 SECONDSVISIT HTTPS://MYMEMORY.TRANSLATED.NET/DOC/USAGELIMITS.PHP TO TRANSLATE MORE',\n",
              " 'MYMEMORY WARNING: YOU USED ALL AVAILABLE FREE TRANSLATIONS FOR TODAY. NEXT AVAILABLE IN  17 HOURS 07 MINUTES 37 SECONDSVISIT HTTPS://MYMEMORY.TRANSLATED.NET/DOC/USAGELIMITS.PHP TO TRANSLATE MORE',\n",
              " 'MYMEMORY WARNING: YOU USED ALL AVAILABLE FREE TRANSLATIONS FOR TODAY. NEXT AVAILABLE IN  17 HOURS 07 MINUTES 37 SECONDSVISIT HTTPS://MYMEMORY.TRANSLATED.NET/DOC/USAGELIMITS.PHP TO TRANSLATE MORE',\n",
              " 'MYMEMORY WARNING: YOU USED ALL AVAILABLE FREE TRANSLATIONS FOR TODAY. NEXT AVAILABLE IN  17 HOURS 07 MINUTES 37 SECONDSVISIT HTTPS://MYMEMORY.TRANSLATED.NET/DOC/USAGELIMITS.PHP TO TRANSLATE MORE',\n",
              " 'MYMEMORY WARNING: YOU USED ALL AVAILABLE FREE TRANSLATIONS FOR TODAY. NEXT AVAILABLE IN  17 HOURS 07 MINUTES 37 SECONDSVISIT HTTPS://MYMEMORY.TRANSLATED.NET/DOC/USAGELIMITS.PHP TO TRANSLATE MORE',\n",
              " '\\nAmazing how that song made us dance, here in the studio. She is ready to play on the radio and make a lot of people swing around. Congratulations!',\n",
              " 'Good tune, with a firm and forceful sound. When does it debut on Spotify? When this happens, please let me know to include it in my playlist of notable songs received through Groover. Thanks for sharing.',\n",
              " 'MYMEMORY WARNING: YOU USED ALL AVAILABLE FREE TRANSLATIONS FOR TODAY. NEXT AVAILABLE IN  17 HOURS 07 MINUTES 37 SECONDSVISIT HTTPS://MYMEMORY.TRANSLATED.NET/DOC/USAGELIMITS.PHP TO TRANSLATE MORE',\n",
              " \"Hay, \\n\\nThanks for sharing. Unfortunately, we're gonna pass this time.\\n\\nWishing you all the best, \\n\\nSam\",\n",
              " 'The music arrives after two years of maturation and reflects the maturity as an artist and as a person, after a difficult relationship, Sílvia presents with the song “Quisera”, her new musical phase. With a cello in the background to give all the drama that the song calls for, the percussion marks the bar that resembles a modern tango. Sílvia Tardin, who plans to release other singles in 2021.',\n",
              " 'MYMEMORY WARNING: YOU USED ALL AVAILABLE FREE TRANSLATIONS FOR TODAY. NEXT AVAILABLE IN  17 HOURS 07 MINUTES 37 SECONDSVISIT HTTPS://MYMEMORY.TRANSLATED.NET/DOC/USAGELIMITS.PHP TO TRANSLATE MORE',\n",
              " 'MYMEMORY WARNING: YOU USED ALL AVAILABLE FREE TRANSLATIONS FOR TODAY. NEXT AVAILABLE IN  17 HOURS 07 MINUTES 37 SECONDSVISIT HTTPS://MYMEMORY.TRANSLATED.NET/DOC/USAGELIMITS.PHP TO TRANSLATE MORE',\n",
              " 'QUERY LENGTH LIMIT EXCEDEED. MAX ALLOWED QUERY : 500 CHARS',\n",
              " 'MYMEMORY WARNING: YOU USED ALL AVAILABLE FREE TRANSLATIONS FOR TODAY. NEXT AVAILABLE IN  17 HOURS 07 MINUTES 37 SECONDSVISIT HTTPS://MYMEMORY.TRANSLATED.NET/DOC/USAGELIMITS.PHP TO TRANSLATE MORE',\n",
              " 'QUERY LENGTH LIMIT EXCEDEED. MAX ALLOWED QUERY : 500 CHARS',\n",
              " \"Hi! I liked the song, it has a nice beat. The lyrics are also interesting. Unfortunately, I still don't have a list with that mood! Good luck!\",\n",
              " 'MYMEMORY WARNING: YOU USED ALL AVAILABLE FREE TRANSLATIONS FOR TODAY. NEXT AVAILABLE IN  17 HOURS 07 MINUTES 37 SECONDSVISIT HTTPS://MYMEMORY.TRANSLATED.NET/DOC/USAGELIMITS.PHP TO TRANSLATE MORE',\n",
              " 'MYMEMORY WARNING: YOU USED ALL AVAILABLE FREE TRANSLATIONS FOR TODAY. NEXT AVAILABLE IN  17 HOURS 07 MINUTES 37 SECONDSVISIT HTTPS://MYMEMORY.TRANSLATED.NET/DOC/USAGELIMITS.PHP TO TRANSLATE MORE',\n",
              " 'MYMEMORY WARNING: YOU USED ALL AVAILABLE FREE TRANSLATIONS FOR TODAY. NEXT AVAILABLE IN  17 HOURS 07 MINUTES 37 SECONDSVISIT HTTPS://MYMEMORY.TRANSLATED.NET/DOC/USAGELIMITS.PHP TO TRANSLATE MORE',\n",
              " 'MYMEMORY WARNING: YOU USED ALL AVAILABLE FREE TRANSLATIONS FOR TODAY. NEXT AVAILABLE IN  17 HOURS 07 MINUTES 37 SECONDSVISIT HTTPS://MYMEMORY.TRANSLATED.NET/DOC/USAGELIMITS.PHP TO TRANSLATE MORE',\n",
              " 'MYMEMORY WARNING: YOU USED ALL AVAILABLE FREE TRANSLATIONS FOR TODAY. NEXT AVAILABLE IN  17 HOURS 07 MINUTES 37 SECONDSVISIT HTTPS://MYMEMORY.TRANSLATED.NET/DOC/USAGELIMITS.PHP TO TRANSLATE MORE',\n",
              " 'MYMEMORY WARNING: YOU USED ALL AVAILABLE FREE TRANSLATIONS FOR TODAY. NEXT AVAILABLE IN  17 HOURS 07 MINUTES 37 SECONDSVISIT HTTPS://MYMEMORY.TRANSLATED.NET/DOC/USAGELIMITS.PHP TO TRANSLATE MORE',\n",
              " 'MYMEMORY WARNING: YOU USED ALL AVAILABLE FREE TRANSLATIONS FOR TODAY. NEXT AVAILABLE IN  17 HOURS 07 MINUTES 37 SECONDSVISIT HTTPS://MYMEMORY.TRANSLATED.NET/DOC/USAGELIMITS.PHP TO TRANSLATE MORE',\n",
              " 'MYMEMORY WARNING: YOU USED ALL AVAILABLE FREE TRANSLATIONS FOR TODAY. NEXT AVAILABLE IN  17 HOURS 07 MINUTES 37 SECONDSVISIT HTTPS://MYMEMORY.TRANSLATED.NET/DOC/USAGELIMITS.PHP TO TRANSLATE MORE',\n",
              " 'MYMEMORY WARNING: YOU USED ALL AVAILABLE FREE TRANSLATIONS FOR TODAY. NEXT AVAILABLE IN  17 HOURS 07 MINUTES 37 SECONDSVISIT HTTPS://MYMEMORY.TRANSLATED.NET/DOC/USAGELIMITS.PHP TO TRANSLATE MORE',\n",
              " 'MYMEMORY WARNING: YOU USED ALL AVAILABLE FREE TRANSLATIONS FOR TODAY. NEXT AVAILABLE IN  17 HOURS 07 MINUTES 37 SECONDSVISIT HTTPS://MYMEMORY.TRANSLATED.NET/DOC/USAGELIMITS.PHP TO TRANSLATE MORE',\n",
              " 'MYMEMORY WARNING: YOU USED ALL AVAILABLE FREE TRANSLATIONS FOR TODAY. NEXT AVAILABLE IN  17 HOURS 07 MINUTES 37 SECONDSVISIT HTTPS://MYMEMORY.TRANSLATED.NET/DOC/USAGELIMITS.PHP TO TRANSLATE MORE',\n",
              " 'MYMEMORY WARNING: YOU USED ALL AVAILABLE FREE TRANSLATIONS FOR TODAY. NEXT AVAILABLE IN  17 HOURS 07 MINUTES 37 SECONDSVISIT HTTPS://MYMEMORY.TRANSLATED.NET/DOC/USAGELIMITS.PHP TO TRANSLATE MORE',\n",
              " 'MYMEMORY WARNING: YOU USED ALL AVAILABLE FREE TRANSLATIONS FOR TODAY. NEXT AVAILABLE IN  17 HOURS 07 MINUTES 37 SECONDSVISIT HTTPS://MYMEMORY.TRANSLATED.NET/DOC/USAGELIMITS.PHP TO TRANSLATE MORE',\n",
              " 'QUERY LENGTH LIMIT EXCEDEED. MAX ALLOWED QUERY : 500 CHARS QUERY LENGTH LIMIT EXCEDEED. MAX ALLOWED QUERY : 500 CHARS',\n",
              " 'MYMEMORY WARNING: YOU USED ALL AVAILABLE FREE TRANSLATIONS FOR TODAY. NEXT AVAILABLE IN  17 HOURS 07 MINUTES 37 SECONDSVISIT HTTPS://MYMEMORY.TRANSLATED.NET/DOC/USAGELIMITS.PHP TO TRANSLATE MORE',\n",
              " 'Very good, I really liked the music, and the whole production, we will certainly include it in our playlist on Spotify!',\n",
              " 'MYMEMORY WARNING: YOU USED ALL AVAILABLE FREE TRANSLATIONS FOR TODAY. NEXT AVAILABLE IN  17 HOURS 07 MINUTES 37 SECONDSVISIT HTTPS://MYMEMORY.TRANSLATED.NET/DOC/USAGELIMITS.PHP TO TRANSLATE MORE',\n",
              " 'MYMEMORY WARNING: YOU USED ALL AVAILABLE FREE TRANSLATIONS FOR TODAY. NEXT AVAILABLE IN  17 HOURS 07 MINUTES 37 SECONDSVISIT HTTPS://MYMEMORY.TRANSLATED.NET/DOC/USAGELIMITS.PHP TO TRANSLATE MORE',\n",
              " 'MYMEMORY WARNING: YOU USED ALL AVAILABLE FREE TRANSLATIONS FOR TODAY. NEXT AVAILABLE IN  17 HOURS 07 MINUTES 37 SECONDSVISIT HTTPS://MYMEMORY.TRANSLATED.NET/DOC/USAGELIMITS.PHP TO TRANSLATE MORE',\n",
              " 'Hi, thanks for the demo. I think the song takes a lot of time to build an intro and I lose my interest during that. I think the energy is too low at the beginning. It also sounds a bit repetitive, but that is just my vision. I hope this helps improving!',\n",
              " \"Hey there, thanks for sharing your new music with us! The building has a professional touch but unfortunately, we won't be able to support it in our channels, as we look for more commercial tracks. Good luck!\",\n",
              " \"Hi John, thanks for reaching out, but we're a classical instrumental label so don't have a place for this. Good luck!\",\n",
              " \"Thank you for sharing this! I really dig the overall aesthetic and I think you have some pretty cool moments. I like the meditative aspect and how the structure is unpredictable and keeps things interesting. I'm not sure where to guide this song or genre in particular but I can hear a lot of elements in this song that if they were reorganized and more layers of hard-hitting sound design were added, and other musical elements integrated, it could fit into the trailer genre. Very well done, nice sound and original approach!\",\n",
              " 'MYMEMORY WARNING: YOU USED ALL AVAILABLE FREE TRANSLATIONS FOR TODAY. NEXT AVAILABLE IN  17 HOURS 07 MINUTES 37 SECONDSVISIT HTTPS://MYMEMORY.TRANSLATED.NET/DOC/USAGELIMITS.PHP TO TRANSLATE MORE',\n",
              " 'QUERY LENGTH LIMIT EXCEDEED. MAX ALLOWED QUERY : 500 CHARS MYMEMORY WARNING: YOU USED ALL AVAILABLE FREE TRANSLATIONS FOR TODAY. NEXT AVAILABLE IN  17 HOURS 07 MINUTES 37 SECONDSVISIT HTTPS://MYMEMORY.TRANSLATED.NET/DOC/USAGELIMITS.PHP TO TRANSLATE MORE',\n",
              " 'Crazy and cool. Diva seems to have some sun reservered in this cold crazy days. Hope there will be an album out soon. Let us know more about the artist and music project. \\n\\n',\n",
              " 'QUERY LENGTH LIMIT EXCEDEED. MAX ALLOWED QUERY : 500 CHARS',\n",
              " 'MYMEMORY WARNING: YOU USED ALL AVAILABLE FREE TRANSLATIONS FOR TODAY. NEXT AVAILABLE IN  17 HOURS 07 MINUTES 36 SECONDSVISIT HTTPS://MYMEMORY.TRANSLATED.NET/DOC/USAGELIMITS.PHP TO TRANSLATE MORE',\n",
              " 'MYMEMORY WARNING: YOU USED ALL AVAILABLE FREE TRANSLATIONS FOR TODAY. NEXT AVAILABLE IN  17 HOURS 07 MINUTES 36 SECONDSVISIT HTTPS://MYMEMORY.TRANSLATED.NET/DOC/USAGELIMITS.PHP TO TRANSLATE MORE',\n",
              " 'MYMEMORY WARNING: YOU USED ALL AVAILABLE FREE TRANSLATIONS FOR TODAY. NEXT AVAILABLE IN  17 HOURS 07 MINUTES 36 SECONDSVISIT HTTPS://MYMEMORY.TRANSLATED.NET/DOC/USAGELIMITS.PHP TO TRANSLATE MORE',\n",
              " \"Hello, Thank you for your track, as you know, music is a very subjective experience, and in this case it seems there wasn't a match. we broadcast international music, not french song, sorry about that! We hope you are not discouraged! All the best.\",\n",
              " \"I really enjoyed this track, it had a mainstream vibe and the whole composition was very well done. The artists skills are diverse and she can sing as well as rap and perform for the camera which is a great talent. The video was good, keep experimenting with ideas, the scenes were very expected for the genre and I hope we can see more of the artists tastes and style in the future. Because I couldn't understand the lyrics I hope I didn't misunderstand any context but overall it sounded like a very well made song, well performed and enjoyable. I would like to share this on a playlist if  this is on Spotify? Let me know and I will share this on my IG as well. Thank you\",\n",
              " 'MYMEMORY WARNING: YOU USED ALL AVAILABLE FREE TRANSLATIONS FOR TODAY. NEXT AVAILABLE IN  17 HOURS 07 MINUTES 36 SECONDSVISIT HTTPS://MYMEMORY.TRANSLATED.NET/DOC/USAGELIMITS.PHP TO TRANSLATE MORE',\n",
              " 'MYMEMORY WARNING: YOU USED ALL AVAILABLE FREE TRANSLATIONS FOR TODAY. NEXT AVAILABLE IN  17 HOURS 07 MINUTES 36 SECONDSVISIT HTTPS://MYMEMORY.TRANSLATED.NET/DOC/USAGELIMITS.PHP TO TRANSLATE MORE',\n",
              " 'MYMEMORY WARNING: YOU USED ALL AVAILABLE FREE TRANSLATIONS FOR TODAY. NEXT AVAILABLE IN  17 HOURS 07 MINUTES 36 SECONDSVISIT HTTPS://MYMEMORY.TRANSLATED.NET/DOC/USAGELIMITS.PHP TO TRANSLATE MORE',\n",
              " 'MYMEMORY WARNING: YOU USED ALL AVAILABLE FREE TRANSLATIONS FOR TODAY. NEXT AVAILABLE IN  17 HOURS 07 MINUTES 36 SECONDSVISIT HTTPS://MYMEMORY.TRANSLATED.NET/DOC/USAGELIMITS.PHP TO TRANSLATE MORE',\n",
              " 'QUERY LENGTH LIMIT EXCEDEED. MAX ALLOWED QUERY : 500 CHARS',\n",
              " \"Hi guys, the track is well produced but it doesn't fit our musical choises: our station only air Contemporary Christian Music.\\n\",\n",
              " 'MYMEMORY WARNING: YOU USED ALL AVAILABLE FREE TRANSLATIONS FOR TODAY. NEXT AVAILABLE IN  17 HOURS 07 MINUTES 36 SECONDSVISIT HTTPS://MYMEMORY.TRANSLATED.NET/DOC/USAGELIMITS.PHP TO TRANSLATE MORE',\n",
              " 'MYMEMORY WARNING: YOU USED ALL AVAILABLE FREE TRANSLATIONS FOR TODAY. NEXT AVAILABLE IN  17 HOURS 07 MINUTES 36 SECONDSVISIT HTTPS://MYMEMORY.TRANSLATED.NET/DOC/USAGELIMITS.PHP TO TRANSLATE MORE',\n",
              " 'MYMEMORY WARNING: YOU USED ALL AVAILABLE FREE TRANSLATIONS FOR TODAY. NEXT AVAILABLE IN  17 HOURS 07 MINUTES 36 SECONDSVISIT HTTPS://MYMEMORY.TRANSLATED.NET/DOC/USAGELIMITS.PHP TO TRANSLATE MORE',\n",
              " \"Hey,\\nI think it's a great track. Catchy sound. Unique vocal. But not really impressed by the instrumental. Could be more refreshing in some way. Structure isn't surprising enough, for example. I will pass, unfortunately. All the best!\",\n",
              " 'MYMEMORY WARNING: YOU USED ALL AVAILABLE FREE TRANSLATIONS FOR TODAY. NEXT AVAILABLE IN  17 HOURS 07 MINUTES 36 SECONDSVISIT HTTPS://MYMEMORY.TRANSLATED.NET/DOC/USAGELIMITS.PHP TO TRANSLATE MORE',\n",
              " 'MYMEMORY WARNING: YOU USED ALL AVAILABLE FREE TRANSLATIONS FOR TODAY. NEXT AVAILABLE IN  17 HOURS 07 MINUTES 36 SECONDSVISIT HTTPS://MYMEMORY.TRANSLATED.NET/DOC/USAGELIMITS.PHP TO TRANSLATE MORE',\n",
              " 'MYMEMORY WARNING: YOU USED ALL AVAILABLE FREE TRANSLATIONS FOR TODAY. NEXT AVAILABLE IN  17 HOURS 07 MINUTES 36 SECONDSVISIT HTTPS://MYMEMORY.TRANSLATED.NET/DOC/USAGELIMITS.PHP TO TRANSLATE MORE',\n",
              " 'MYMEMORY WARNING: YOU USED ALL AVAILABLE FREE TRANSLATIONS FOR TODAY. NEXT AVAILABLE IN  17 HOURS 07 MINUTES 36 SECONDSVISIT HTTPS://MYMEMORY.TRANSLATED.NET/DOC/USAGELIMITS.PHP TO TRANSLATE MORE',\n",
              " 'MYMEMORY WARNING: YOU USED ALL AVAILABLE FREE TRANSLATIONS FOR TODAY. NEXT AVAILABLE IN  17 HOURS 07 MINUTES 36 SECONDSVISIT HTTPS://MYMEMORY.TRANSLATED.NET/DOC/USAGELIMITS.PHP TO TRANSLATE MORE',\n",
              " 'MYMEMORY WARNING: YOU USED ALL AVAILABLE FREE TRANSLATIONS FOR TODAY. NEXT AVAILABLE IN  17 HOURS 07 MINUTES 36 SECONDSVISIT HTTPS://MYMEMORY.TRANSLATED.NET/DOC/USAGELIMITS.PHP TO TRANSLATE MORE',\n",
              " \"vocals sound amazing so catchy! Unfortunately, the vibe of this song isn't really a match for my playlist. I look for confident hot girl music, kind of a Britney spears or meg thee stallon vibe. Very fun and sexy music for listeners to feel confident in. Please listen to the playlist and read my about for some more background. Thanks for sending this in and I look forward to hearing more! :)\",\n",
              " 'MYMEMORY WARNING: YOU USED ALL AVAILABLE FREE TRANSLATIONS FOR TODAY. NEXT AVAILABLE IN  17 HOURS 07 MINUTES 36 SECONDSVISIT HTTPS://MYMEMORY.TRANSLATED.NET/DOC/USAGELIMITS.PHP TO TRANSLATE MORE',\n",
              " 'MYMEMORY WARNING: YOU USED ALL AVAILABLE FREE TRANSLATIONS FOR TODAY. NEXT AVAILABLE IN  17 HOURS 07 MINUTES 36 SECONDSVISIT HTTPS://MYMEMORY.TRANSLATED.NET/DOC/USAGELIMITS.PHP TO TRANSLATE MORE',\n",
              " 'MYMEMORY WARNING: YOU USED ALL AVAILABLE FREE TRANSLATIONS FOR TODAY. NEXT AVAILABLE IN  17 HOURS 07 MINUTES 36 SECONDSVISIT HTTPS://MYMEMORY.TRANSLATED.NET/DOC/USAGELIMITS.PHP TO TRANSLATE MORE',\n",
              " 'MYMEMORY WARNING: YOU USED ALL AVAILABLE FREE TRANSLATIONS FOR TODAY. NEXT AVAILABLE IN  17 HOURS 07 MINUTES 36 SECONDSVISIT HTTPS://MYMEMORY.TRANSLATED.NET/DOC/USAGELIMITS.PHP TO TRANSLATE MORE',\n",
              " 'MYMEMORY WARNING: YOU USED ALL AVAILABLE FREE TRANSLATIONS FOR TODAY. NEXT AVAILABLE IN  17 HOURS 07 MINUTES 36 SECONDSVISIT HTTPS://MYMEMORY.TRANSLATED.NET/DOC/USAGELIMITS.PHP TO TRANSLATE MORE',\n",
              " 'MYMEMORY WARNING: YOU USED ALL AVAILABLE FREE TRANSLATIONS FOR TODAY. NEXT AVAILABLE IN  17 HOURS 07 MINUTES 36 SECONDSVISIT HTTPS://MYMEMORY.TRANSLATED.NET/DOC/USAGELIMITS.PHP TO TRANSLATE MORE',\n",
              " 'MYMEMORY WARNING: YOU USED ALL AVAILABLE FREE TRANSLATIONS FOR TODAY. NEXT AVAILABLE IN  17 HOURS 07 MINUTES 36 SECONDSVISIT HTTPS://MYMEMORY.TRANSLATED.NET/DOC/USAGELIMITS.PHP TO TRANSLATE MORE',\n",
              " 'MYMEMORY WARNING: YOU USED ALL AVAILABLE FREE TRANSLATIONS FOR TODAY. NEXT AVAILABLE IN  17 HOURS 07 MINUTES 36 SECONDSVISIT HTTPS://MYMEMORY.TRANSLATED.NET/DOC/USAGELIMITS.PHP TO TRANSLATE MORE',\n",
              " 'MYMEMORY WARNING: YOU USED ALL AVAILABLE FREE TRANSLATIONS FOR TODAY. NEXT AVAILABLE IN  17 HOURS 07 MINUTES 36 SECONDSVISIT HTTPS://MYMEMORY.TRANSLATED.NET/DOC/USAGELIMITS.PHP TO TRANSLATE MORE',\n",
              " 'Cool stuff! Some dope sounds in here, vocals are nice. There could be some edits done to make it better and some overall polishing but still cool! Not loving it 10/10 but still some good work',\n",
              " 'Hello. Entertaining development throughout the song, good work done here! Sorry, but not quite sure if this one might be a good fit to my Electronic Music playlist which is more focused on IDM and Alternative Electronic sounds and this sounds more like progressive trance... Best of luck and thanks for sending! ',\n",
              " 'Hi Mnexsis,\\nWe think that the song is well produced, well made but in the same time we did not find here something new, sething unique that we write about',\n",
              " 'Very cool melodic techno / house vibes <3 a bit too repetitive for me at times though and the sound quality / mixing needs to be a bit tighter and more polished / refined for us as well <3 sorry ',\n",
              " 'MYMEMORY WARNING: YOU USED ALL AVAILABLE FREE TRANSLATIONS FOR TODAY. NEXT AVAILABLE IN  17 HOURS 07 MINUTES 36 SECONDSVISIT HTTPS://MYMEMORY.TRANSLATED.NET/DOC/USAGELIMITS.PHP TO TRANSLATE MORE',\n",
              " 'Thanks for the submission, we feel this is good but not quite a match for us im afraid, good luck! ',\n",
              " 'Dudes such an underrated band you are. Amazing athmosphere! Just added one of your tracks to my playlist. Cheers!',\n",
              " 'QUERY LENGTH LIMIT EXCEDEED. MAX ALLOWED QUERY : 500 CHARS',\n",
              " \"Some epic sounds on this one, really capture the sense of dread and tension on the track, It's not suitable for us to release a a single but a great listen all the same./\",\n",
              " 'Love the drone synth intro. Nice pulse that is exciting. Could have been a bit shorter, intro is too long to my taste. Vocals are kind of drowned in, kind of reminds me of how Joy Division vocals were recorded, also the singing style. Very interesting.\\nYou can sign up for my playlists here (and an interview/review):\\ncampsite.bio/hardnheavy',\n",
              " 'Hello, i listened to your song and i like it but i cannot find the Spotify link. Thanks for your submission and good luck!',\n",
              " 'Hi ALex,\\nI like your track I will add it in another playlist more synthwave :)\\nCheers',\n",
              " 'Hi, we feel the chill atmosphere, but overall the melody is a little monotonous for us..\\nNonetheless, amazing work here!\\n',\n",
              " 'really nice synthwave tones here beautiful leads and great crisp drums happy to add this one',\n",
              " 'Hello there, thank you for this wonderful song that you submitted! It seems like this song has to tell a story! I believe that you worked a lot on this track, because it sounds really creative! I would love to hear this track in some kind of film, I think your track is really suitable for a cinema! Unfortunately, we have to decline your submission, since we are looking for songs that are slightly more energetic at the moment. Your song is wonderful, keep up the good work!',\n",
              " 'MYMEMORY WARNING: YOU USED ALL AVAILABLE FREE TRANSLATIONS FOR TODAY. NEXT AVAILABLE IN  17 HOURS 07 MINUTES 36 SECONDSVISIT HTTPS://MYMEMORY.TRANSLATED.NET/DOC/USAGELIMITS.PHP TO TRANSLATE MORE',\n",
              " 'i like the calming feel of this, but i personally found the choice of synths and lead instruments a little bit more suited to a more ambient psychodelic curation, where as i am after music with  a more lofi/hip hop texture to it or a more heavy trap sound',\n",
              " \"I love the concept of this album! I'd love to do something similar. It's very exotic sounding, but I'm afraid it's quite skittery and synthetic for my particular lists. :/ Sorry I can't help with a placement this time!\",\n",
              " 'The vocals sounds good, they are good mixed.\\nI like the vibe, feels so dark and chill.\\nThe flow is cool.\\nAlso i like the beat, combines good with the flow.',\n",
              " \"Good stuff, Elcee. Let's get you sharing your music across multiple channels for new fans to reach you. I will email you to discuss this more.\",\n",
              " \"Hi Elcee,\\n\\nYou like to get involved in all aspects of the music which is good and will help you improve and know what you want. You definitely have talent and I did enjoy listening to your song however I really don't see it as a good fit for 'Fire In the Booth - UK Rap' playlist.\\n\\nall the best!\\n\\n@maticgov\",\n",
              " 'MYMEMORY WARNING: YOU USED ALL AVAILABLE FREE TRANSLATIONS FOR TODAY. NEXT AVAILABLE IN  17 HOURS 07 MINUTES 35 SECONDSVISIT HTTPS://MYMEMORY.TRANSLATED.NET/DOC/USAGELIMITS.PHP TO TRANSLATE MORE',\n",
              " 'MYMEMORY WARNING: YOU USED ALL AVAILABLE FREE TRANSLATIONS FOR TODAY. NEXT AVAILABLE IN  17 HOURS 07 MINUTES 35 SECONDSVISIT HTTPS://MYMEMORY.TRANSLATED.NET/DOC/USAGELIMITS.PHP TO TRANSLATE MORE',\n",
              " 'MYMEMORY WARNING: YOU USED ALL AVAILABLE FREE TRANSLATIONS FOR TODAY. NEXT AVAILABLE IN  17 HOURS 07 MINUTES 35 SECONDSVISIT HTTPS://MYMEMORY.TRANSLATED.NET/DOC/USAGELIMITS.PHP TO TRANSLATE MORE',\n",
              " 'MYMEMORY WARNING: YOU USED ALL AVAILABLE FREE TRANSLATIONS FOR TODAY. NEXT AVAILABLE IN  17 HOURS 07 MINUTES 35 SECONDSVISIT HTTPS://MYMEMORY.TRANSLATED.NET/DOC/USAGELIMITS.PHP TO TRANSLATE MORE',\n",
              " 'MYMEMORY WARNING: YOU USED ALL AVAILABLE FREE TRANSLATIONS FOR TODAY. NEXT AVAILABLE IN  17 HOURS 07 MINUTES 35 SECONDSVISIT HTTPS://MYMEMORY.TRANSLATED.NET/DOC/USAGELIMITS.PHP TO TRANSLATE MORE',\n",
              " 'QUERY LENGTH LIMIT EXCEDEED. MAX ALLOWED QUERY : 500 CHARS',\n",
              " 'MYMEMORY WARNING: YOU USED ALL AVAILABLE FREE TRANSLATIONS FOR TODAY. NEXT AVAILABLE IN  17 HOURS 07 MINUTES 35 SECONDSVISIT HTTPS://MYMEMORY.TRANSLATED.NET/DOC/USAGELIMITS.PHP TO TRANSLATE MORE',\n",
              " 'MYMEMORY WARNING: YOU USED ALL AVAILABLE FREE TRANSLATIONS FOR TODAY. NEXT AVAILABLE IN  17 HOURS 07 MINUTES 35 SECONDSVISIT HTTPS://MYMEMORY.TRANSLATED.NET/DOC/USAGELIMITS.PHP TO TRANSLATE MORE',\n",
              " 'MYMEMORY WARNING: YOU USED ALL AVAILABLE FREE TRANSLATIONS FOR TODAY. NEXT AVAILABLE IN  17 HOURS 07 MINUTES 35 SECONDSVISIT HTTPS://MYMEMORY.TRANSLATED.NET/DOC/USAGELIMITS.PHP TO TRANSLATE MORE',\n",
              " 'MYMEMORY WARNING: YOU USED ALL AVAILABLE FREE TRANSLATIONS FOR TODAY. NEXT AVAILABLE IN  17 HOURS 07 MINUTES 35 SECONDSVISIT HTTPS://MYMEMORY.TRANSLATED.NET/DOC/USAGELIMITS.PHP TO TRANSLATE MORE',\n",
              " 'MYMEMORY WARNING: YOU USED ALL AVAILABLE FREE TRANSLATIONS FOR TODAY. NEXT AVAILABLE IN  17 HOURS 07 MINUTES 35 SECONDSVISIT HTTPS://MYMEMORY.TRANSLATED.NET/DOC/USAGELIMITS.PHP TO TRANSLATE MORE',\n",
              " 'QUERY LENGTH LIMIT EXCEDEED. MAX ALLOWED QUERY : 500 CHARS',\n",
              " 'MYMEMORY WARNING: YOU USED ALL AVAILABLE FREE TRANSLATIONS FOR TODAY. NEXT AVAILABLE IN  17 HOURS 07 MINUTES 35 SECONDSVISIT HTTPS://MYMEMORY.TRANSLATED.NET/DOC/USAGELIMITS.PHP TO TRANSLATE MORE',\n",
              " 'QUERY LENGTH LIMIT EXCEDEED. MAX ALLOWED QUERY : 500 CHARS QUERY LENGTH LIMIT EXCEDEED. MAX ALLOWED QUERY : 500 CHARS QUERY LENGTH LIMIT EXCEDEED. MAX ALLOWED QUERY : 500 CHARS',\n",
              " \"Hello Muna,\\n\\nthis track is really a good starting point. I like the voices and the mixing a lot. A thing I don't like too much are the changes in the drum patterns, and the drum sounds themselves. I would dare with more modern sounds: even if this takes a lot from the tradition I would experimentate a bit with the sounds. Everyone is doing that at the moment, even in the World music genre. I would change the piano sound as well, but that's personal taste. Let it trigger! Maybe the track needs a better chorus, but this is another sleeve.\\n\\nThanks a lot! Great effort! Want to listen more of you.\",\n",
              " 'Hey, nice project nevertheless the song doesn\\'t suit too our \"chill\". It\\'s a beat too uptempo for our channel. Keep sending stuff ! ',\n",
              " 'Hello Bachot, we focus on francophone music, so it doesnt fit to what we do, especially because the song name is in english ! good luck',\n",
              " \"Hello Bachot Muna, thank you for sending your song, I love African music very much but I miss the authentic and original side that I usually look for in your music. Your voice is really good, the vocal melody is very good ...but the instrumentation leaves something to be desired as far as I'm concerned I find that you fall into a musical ease on the arrangement side that I find a pity ...Very good continuation in any case ...musically Fred\",\n",
              " 'MYMEMORY WARNING: YOU USED ALL AVAILABLE FREE TRANSLATIONS FOR TODAY. NEXT AVAILABLE IN  17 HOURS 07 MINUTES 35 SECONDSVISIT HTTPS://MYMEMORY.TRANSLATED.NET/DOC/USAGELIMITS.PHP TO TRANSLATE MORE',\n",
              " \"Hi,\\n\\nFull respect for your art, however it's not the genre we focus on.\\n\\nThe style of your song is not the genre i search to my playlists.\\n\\nNevertheless, i appreciate your submission.\\n\\nThank You and good luck.\",\n",
              " 'MYMEMORY WARNING: YOU USED ALL AVAILABLE FREE TRANSLATIONS FOR TODAY. NEXT AVAILABLE IN  17 HOURS 07 MINUTES 35 SECONDSVISIT HTTPS://MYMEMORY.TRANSLATED.NET/DOC/USAGELIMITS.PHP TO TRANSLATE MORE',\n",
              " \"Thank you for the submission. It's a nice song for dancing, it spreads a happy mood. However, we did not enjoy the melody that much this time. \",\n",
              " 'MYMEMORY WARNING: YOU USED ALL AVAILABLE FREE TRANSLATIONS FOR TODAY. NEXT AVAILABLE IN  17 HOURS 07 MINUTES 35 SECONDSVISIT HTTPS://MYMEMORY.TRANSLATED.NET/DOC/USAGELIMITS.PHP TO TRANSLATE MORE',\n",
              " 'MYMEMORY WARNING: YOU USED ALL AVAILABLE FREE TRANSLATIONS FOR TODAY. NEXT AVAILABLE IN  17 HOURS 07 MINUTES 35 SECONDSVISIT HTTPS://MYMEMORY.TRANSLATED.NET/DOC/USAGELIMITS.PHP TO TRANSLATE MORE',\n",
              " \"Thanks for your submission. I'd be happy to share your track on an upcoming Tinnitist playlist when it's released. I'll send you the confirmation and a link when it's done. Cheers / Darryl\\n\",\n",
              " 'MYMEMORY WARNING: YOU USED ALL AVAILABLE FREE TRANSLATIONS FOR TODAY. NEXT AVAILABLE IN  17 HOURS 07 MINUTES 35 SECONDSVISIT HTTPS://MYMEMORY.TRANSLATED.NET/DOC/USAGELIMITS.PHP TO TRANSLATE MORE',\n",
              " 'professional quality and unique style ! \\nthe bass-line change constantly and keep the track with an unique energy . .\\n the mix of instrument and beats sounds very ncie for the ears. we will try ! welcome !',\n",
              " \"Overall i think that the track is pretty good. I like the uplifting vibe of the track and the rythm is nice! Good chord progression, i like the mix of sounds used for the production! Good lead melody, i like the piano :) The vocals are good, unfortunately i don't understand the lyrics but that is the beauty of music; It's universal! I can feel it and vibe to it anyway! Good arrengement of the track and the production sounds good with a clean mix & master. Unfortunately i'm afraid that the track does not really match the style & vibe of my playlist tho. Personally i like the track, but as a playlist curator i must always consider that a track perfectly matches my playlist. Therefore i am kindly declining your submission this time. I wish you the best and good luck with the track nonetheless!\",\n",
              " 'hello your track is very catchy but a bit too much for us.  the beat is too fast... sadly i pass best of luck',\n",
              " \"Hi there! I like the house beat on this song, I enjoy the combination of genres, it's interesting, but if I'm completely honest, the mixdown sounds unbalanced, I can't hear with clarity all the elements, unfortunately I'll have to pass, thanks for sharing!\",\n",
              " 'MYMEMORY WARNING: YOU USED ALL AVAILABLE FREE TRANSLATIONS FOR TODAY. NEXT AVAILABLE IN  17 HOURS 07 MINUTES 35 SECONDSVISIT HTTPS://MYMEMORY.TRANSLATED.NET/DOC/USAGELIMITS.PHP TO TRANSLATE MORE',\n",
              " 'MYMEMORY WARNING: YOU USED ALL AVAILABLE FREE TRANSLATIONS FOR TODAY. NEXT AVAILABLE IN  17 HOURS 07 MINUTES 35 SECONDSVISIT HTTPS://MYMEMORY.TRANSLATED.NET/DOC/USAGELIMITS.PHP TO TRANSLATE MORE',\n",
              " \"Hi, Bachot! :)\\nI love this song. Unfortunately, I don't understand the lyrics, but it seems like a very happy song and it makes me feel like dancing and moving my body in any way I can! Great work. We'll share your song with our followers!\",\n",
              " \"hi Bachot, the song is good, but the production didn't strike us as a single. Just our opinion. Thank you for sharing! \",\n",
              " 'sounds good just not the style I would play. wish you bets of luck. cheers sut',\n",
              " 'hey Bachot Muna, thanks for submitting Fire Lady Dance. \\nSolid work on here but sadly not fitting our club tunes :( keep it up! ',\n",
              " \"Hello Bacho Nuna , thanks for sharing . I'm sorry but it's not the music i loved and used to listen. too much programmation , it's not my taste. Regards\",\n",
              " 'MYMEMORY WARNING: YOU USED ALL AVAILABLE FREE TRANSLATIONS FOR TODAY. NEXT AVAILABLE IN  17 HOURS 07 MINUTES 35 SECONDSVISIT HTTPS://MYMEMORY.TRANSLATED.NET/DOC/USAGELIMITS.PHP TO TRANSLATE MORE',\n",
              " 'MYMEMORY WARNING: YOU USED ALL AVAILABLE FREE TRANSLATIONS FOR TODAY. NEXT AVAILABLE IN  17 HOURS 07 MINUTES 35 SECONDSVISIT HTTPS://MYMEMORY.TRANSLATED.NET/DOC/USAGELIMITS.PHP TO TRANSLATE MORE',\n",
              " '\\nAwesome,I really liked this track, therefore I would like to add this to our database for daily rotation. To play this on our radio, we will need to download a copy of the song. You can attach it to this chat\\n',\n",
              " 'Hey, thanks a ton for the submission! This was super fresh and energetic, enjoyed it personally but it was way too far from the kind of music we tend to feature, sorry... Cheers! ',\n",
              " 'Dope track, its will be broadcasted on www.radiokrimi.com around 7 to 10 days maximum. Thanks ! Team. Radio Krimi ',\n",
              " 'Hello there! Thanks for submitting your track to us. Unfortunately, this is not really what we highlight through our media. The best for the next step! Bless up',\n",
              " 'QUERY LENGTH LIMIT EXCEDEED. MAX ALLOWED QUERY : 500 CHARS',\n",
              " 'Hi,\\nThanks for your proposition but the mix between dance music, this kind of voice mix and \"makosa\" influence is not on our edition line. We appreciate traditionnal music or electronic music.\\n\\nWe\\'ve not the feeling with your track sorry.\\n\\nReady to hear something else.\\n\\nHave a good night',\n",
              " 'Thank you very much Bachot for sharing your music.\\n\\nIt is very cool and idea for dancing and feeling happy.\\n\\nAccording to our esthetic criteria, it is a little bit far from jazz requirements.\\nTo illustrate our words, we invite you to listen to Couleurs jazz Radio. If in the near future you go more in this direction, we would love to listen more of your music. \\nHappy new year listening to Couleurs Jazz Radio!\\nThe current worldwide 100% Jazz radio. guarantee 0% advs, 0% virus and 0% dyes.\\nwww.couleursjazzradio.fr\\nDid you upload the Apps on your smartphone? Your opinion matters to us\\nApps Couleurs Jazz Radio GooglePlay : https://bit.ly/CJRGooglePlay\\nApps Couleurs Jazz Radio iOS  Appstore : https://bit.ly/CJRAppstore\\n',\n",
              " 'Hi dear\\nYour music is high quality I appreciate your submission and your trust and I have a small question which is why u are not popular ??? really u deserve to be heard by many people <3\\n\\nCheers',\n",
              " 'MYMEMORY WARNING: YOU USED ALL AVAILABLE FREE TRANSLATIONS FOR TODAY. NEXT AVAILABLE IN  17 HOURS 07 MINUTES 35 SECONDSVISIT HTTPS://MYMEMORY.TRANSLATED.NET/DOC/USAGELIMITS.PHP TO TRANSLATE MORE',\n",
              " 'Even though the instrument selection is amazing and transmits a super catchy and danceable rhythm, Im feeling the song has a different style from my playlist',\n",
              " 'MYMEMORY WARNING: YOU USED ALL AVAILABLE FREE TRANSLATIONS FOR TODAY. NEXT AVAILABLE IN  17 HOURS 07 MINUTES 35 SECONDSVISIT HTTPS://MYMEMORY.TRANSLATED.NET/DOC/USAGELIMITS.PHP TO TRANSLATE MORE',\n",
              " \"Hi ,\\n\\nThank you for contacting me for the title Fire Lady Dance I like the sound quality mix and mastering \\n\\nI admit having more preference for recent Hip hop rap Underground clips while your project is audio and other in nature but I find that your music deserves to be listened to, especially in streaming (because the mood lends itself really well)\\n\\nIf you ever want to integrate our playlist with this track, please respect the following conditions:\\n\\n1.invite 10 people around you to like the playlist\\n2.Send us a message on instagram when it's done\\n\\nhttps://open.spotify.com/playlist/6EMjyKbqCYVlLwiDBz4QX5\\n\\nHope to read you again\",\n",
              " 'Great track. I will be adding your song to our Weekly Playlist x BaronMag.ca on our site, baronmag.ca. Have a great day. \\nNote: we will send you a link on Groover when it goes live. ',\n",
              " 'Not what we are looking for in La Montaña Rusa Radio Jazz. Nothing about Jazz here, sorry.',\n",
              " 'Very good melody, the voice are very beatiful, and the lyrics is good, good job and keep working!\\n\\n',\n",
              " \"Hi Bachota Muna, thank you for contact us and send your track, we really liked the song and the vibes it has are really amazing, however we think it doesn't fit our page. Thank you for contacting us, we hope to work together in the future\",\n",
              " \"Hi there,\\xa0\\n\\nThanks for sending your track our way.\\xa0\\n\\nTo be honest It's is very original. we like it. \\n\\nWe won't share\\xa0it on our social media cause we are only sharing Urban French songs but we will add it to our international playlist.\\xa0\\n\\n\\nHave a good day. \",\n",
              " 'MYMEMORY WARNING: YOU USED ALL AVAILABLE FREE TRANSLATIONS FOR TODAY. NEXT AVAILABLE IN  17 HOURS 07 MINUTES 35 SECONDSVISIT HTTPS://MYMEMORY.TRANSLATED.NET/DOC/USAGELIMITS.PHP TO TRANSLATE MORE',\n",
              " 'Very nice and interesting track fully EQs used, def has something, it didnt grab me enough in the drop , overall great tune though ,thanks for sharing it',\n",
              " 'MYMEMORY WARNING: YOU USED ALL AVAILABLE FREE TRANSLATIONS FOR TODAY. NEXT AVAILABLE IN  17 HOURS 07 MINUTES 35 SECONDSVISIT HTTPS://MYMEMORY.TRANSLATED.NET/DOC/USAGELIMITS.PHP TO TRANSLATE MORE',\n",
              " \"Hello!\\nthanks for sending your music.\\nWe like the vibes but unfortunately doesn't fit well with our style so we'll decline for now.\\nFeel free to send us more music, hope to listen more :)\\n\\nKind Regards!\",\n",
              " 'Hi thanks for sharing your track, overall it’s a high quality production with both strong instrumentation and vocal, however the sound or style isn’t one I share to my blog or associated playlists ',\n",
              " \"Hi Bachot, \\n\\nHow are you doing  ?\\n\\nThis is very original, never heard such a track before. That's why I'm going to support it in a playlist. \\n\\nKeep it up !\\n\\nHave a good day. \",\n",
              " \"Hi man, cool song. I like the piano chords. Very funky. Unfortunately, it's not EDM enough for us to share. Good luck with promoting and finding the right channels!\",\n",
              " 'Hi bachot, we listened to the track. we appreciate it! we will consider to add it in our spotify playlist dedicated to good proposals on groover. thank you for writing us. best',\n",
              " 'QUERY LENGTH LIMIT EXCEDEED. MAX ALLOWED QUERY : 500 CHARS',\n",
              " \"Hey guys, cheers for sharing your track with me! Sounds great. Love the energy.  I'll get it played on my Co-op Radio show in all 4000 stores in a couple of weeks and added to the spotify playlist too. I'll inform you when it's up so you can share on socials. Cheers! \",\n",
              " \"Really interesting vibe and some good talent here! I'll add it to our 'Indie Right MEOW!' list. \\n\\nCool track!\",\n",
              " 'The guitar leads are so on point! However the vocals felt so generic to the genre I must say ',\n",
              " 'This is awesome! really like the vibe - great energy and fantastic indie aspects making this a great example of the genre',\n",
              " \"Nice overall sound on this and the writing is cool. I just wasn't into the lyrics enough personally, best of luck \",\n",
              " \"Hi there Palma Louca,\\nThank you so much for sending Stationary Life to me. Unfortunately, the song doesn't make it for me. I've struggled to get into its construction and mix. I find the drums a bit high and the synths are too heavy for me. Maybe another time.\\nCheers\\nLéa\",\n",
              " \"Hey! Thanks for sending the track over. Love it! It will be featured on our 'Bringing You What's New Article' this week! \",\n",
              " 'Good Afternoon\\n\\nThanks for sending your music through, its the first time i think i have heard your sound and i really enoyed that! Definitely off to check out some more of you and i will share on my Twitter feed and add to a playlist i maintain. Best of luck \\n\\n',\n",
              " \"Well isnt this a delight!\\n\\nAs you may or may not be aware I shared your track Billions in April last year and I shared this track yesterday (on Twitter).  Big big fan of this track, best song of the year so far.  That may not mean much as its still Jan but Ive listened to hundreds!!\\n\\nI am very excited for your prospects as a band.\\n\\nHard to articulate why I love this so much.  I guess its the old cliche, youve just got 'it', whatever that may be.\\n\\nLike The Maccabees and Foals rolled into one, unreal behaviour.\\n\\nWill get on a forthcoming podcast and share the link on here.\\n\\nHuge well done from me gang.\\n\\nRich\",\n",
              " \"Thank you for your submission. While I like the dreaminess of the track, over all I feel it's a bit lack luster musically and needs more development. \",\n",
              " 'MYMEMORY WARNING: YOU USED ALL AVAILABLE FREE TRANSLATIONS FOR TODAY. NEXT AVAILABLE IN  17 HOURS 07 MINUTES 34 SECONDSVISIT HTTPS://MYMEMORY.TRANSLATED.NET/DOC/USAGELIMITS.PHP TO TRANSLATE MORE',\n",
              " 'MYMEMORY WARNING: YOU USED ALL AVAILABLE FREE TRANSLATIONS FOR TODAY. NEXT AVAILABLE IN  17 HOURS 07 MINUTES 34 SECONDSVISIT HTTPS://MYMEMORY.TRANSLATED.NET/DOC/USAGELIMITS.PHP TO TRANSLATE MORE',\n",
              " 'QUERY LENGTH LIMIT EXCEDEED. MAX ALLOWED QUERY : 500 CHARS',\n",
              " 'MYMEMORY WARNING: YOU USED ALL AVAILABLE FREE TRANSLATIONS FOR TODAY. NEXT AVAILABLE IN  17 HOURS 07 MINUTES 34 SECONDSVISIT HTTPS://MYMEMORY.TRANSLATED.NET/DOC/USAGELIMITS.PHP TO TRANSLATE MORE',\n",
              " 'MYMEMORY WARNING: YOU USED ALL AVAILABLE FREE TRANSLATIONS FOR TODAY. NEXT AVAILABLE IN  17 HOURS 07 MINUTES 34 SECONDSVISIT HTTPS://MYMEMORY.TRANSLATED.NET/DOC/USAGELIMITS.PHP TO TRANSLATE MORE',\n",
              " \"Cool track, liking the overall sound on this. It's just not grabbing me enough though, best of luck \",\n",
              " 'Hello there, thank you for the submission! I really love the guitar and drum sounds, they are so catchy and the vocal is soo energetic and clean sounding! The production level of this track is really high! It seems like you put a lot of your time to produce this track! This track definetly goes to my personal playlist! Unfortunately, I must decline your song, since Im looking for slightly slower and more lofi sounding tracks at the moment. Have a nice day!',\n",
              " \"Thanks for the very nice piece but a little too slow and melodic for me, I always tend to insert very dynamic pieces with an electronic vein, the piano and the voice are very beautiful, keep it up, it's just my opinion, hello and thanks, see you soon\",\n",
              " 'Thank you for sharing your music with us. \\n\\n\\nWe are pleased to announce that your track got accepted and added to our playlist.\\n\\nPlaylist Name: Fresh rizers \\nDuration time:  15 Days\\n\\n\\n\\n\\nFeedback: Really good job guys! You have done it again. Keep that standard. \\n\\n\\n\\nDon’t forget to share the news on your socials!\\n\\nYour friends at\\nRizing Playlists\\nWww.Rizingplaylists.com',\n",
              " \"hello Emmrose,\\nfirst of really congrats for this track, nice instrumental and cool vocals.\\nWe're happy to share via our socials and playlist, so feel free to send us all materials (HD PICS, official music video download link and more).\\n\\nGreetings,\\nEleven team.\",\n",
              " 'Hey, I really enjoyed Tonight You have catchy vocals with a sweet and smooth tone to your voice - top left booking',\n",
              " 'Hey. Nice tune you have there, unfortunately we all managed to get bored sometimes, especially on 2020 where we started to see lots of people dying and lots of friends of ours being separated from us due to Covid, this is what your song remembered me of, and I confess I got quite impressed with the melody, especially with the chorus.',\n",
              " \"Hi Emmrose, thank you for your track Tonight.\\n\\nI cant fault your voice, impressive range.\\n\\nThis is a slower track than I would normally listen to if Im honest.  I definitely have an appreciation for it though, especially the final delivery of the chorus, very emotive and genuine. \\n\\nI would say it has tremendous potential though, if a Bond film ever has 'tonight' anywhere in the title I suggest you make yourself known!\\n\\nCan see fans of Lana Del Ray falling for this big time.\\n\\nYou have such obvious quality which I ultimately can't fault, its just not my style of music is all.\\n\\nI wish you the very best for 2021.\",\n",
              " \"Hello,\\nThanks you much for the proposal.\\nBut the song is great but doesn't match with the universe of our playlist. As said it's a perfect James bond song.\\nCheers\",\n",
              " 'Hi,\\n\\nYou have a beautiful vocal that fits well with the atmosphere the piano creates. I am however mainly focused on slow guitar songs with a lot of instrumental parts and less focus on the vocal.\\n\\nWish you all the best in the future!\\n\\nCheers,\\n\\nJens',\n",
              " \"Hi! I liked the song, it has a nice beat. The lyrics are also interesting. Unfortunately, I still don't have a list with that mood! Good luck!\",\n",
              " 'Hi, thank you for submitting your song to me. I listened to this track couple times and really liked sound of this, so i decided that can add this somewhere to my playlists. Regards',\n",
              " 'QUERY LENGTH LIMIT EXCEDEED. MAX ALLOWED QUERY : 500 CHARS',\n",
              " \"Thanks for the very nice piece but a little too slow and melodic for me, I always tend to insert very dynamic pieces with an electronic vein, the piano and the voice are very beautiful, keep it up, it's just my opinion, hello and thanks, see you soon\",\n",
              " 'very pretty vocals here but overall the song was too minimal for my playlist i need more of a groove besides just the bassline',\n",
              " 'A definite YES! Beautiful song, more than happy to add this to our playlist very shortly.',\n",
              " 'Hey,\\n\\nThank you for sending another track to us! Loving the tune. I will add it to our Spotify playlist.\\n\\nHave a good day and stay safe!',\n",
              " \"A melancholic pop song with a feminine vocal approach from which emanates great sensitivity, vaguely reminiscent of Fiona Apple's depth of soul for palpable emotions. This ballad with a catchy chorus will strike a chord with any listener in search of sweetness and appeasement.\\n\\nThe publication is scheduled via the Facebook page on February 11 at 5 pm, Montreal time. Meanwhile, here are the playlist links:\\nhttps://www.youtube.com/playlist?list=PLQQEx2JoJCJvkQq7A0f2Tvn9SjfsrF0qq\\n\\nhttps://open.spotify.com/playlist/6CY8ck8HbzJi3hztQuhEeM\\n\\nhttps://deezer.page.link/Bre9StbEogV8PJaW6\\n\\nhttps://soundcloud.com/boulimiquedemusique/sets/douce-melancolie-sweet\",\n",
              " \"Dear Emmrose,\\nthank you for your music. We want to add it to our playlist for a week. We will send you the link when the playlist is ready, here via groover. We change the tracks every week\\nDon't forget to follow us here:\\n\\nSpotify: https://bit.ly/LeaveSP\\nInstagram: @leavemusic \\nYoutube: https://www.youtube.com/c/leavemusicofficial\\nFacebook: Facebook: https://www.facebook.com/leavemusic/\\n\",\n",
              " 'Hi! I really liked your song. I think the lyrics is really beautiful and could really fit my playlist so I will be adding your song to my playlist. Thank you.',\n",
              " 'Hi, your song is fantastic, I must say thank you for the submission! As I heard the song I was amazed by your voice, it is soo calm and sweet! I have never heard something like that before! I must say you invest a lot of your time to the tracks you produce! Unfortunately, I must decline your submittted song, because I look for slower lofi vibe songs. Your song is truly amazing! Have a wonderful day! With best Regards!',\n",
              " 'MYMEMORY WARNING: YOU USED ALL AVAILABLE FREE TRANSLATIONS FOR TODAY. NEXT AVAILABLE IN  17 HOURS 07 MINUTES 34 SECONDSVISIT HTTPS://MYMEMORY.TRANSLATED.NET/DOC/USAGELIMITS.PHP TO TRANSLATE MORE',\n",
              " 'MYMEMORY WARNING: YOU USED ALL AVAILABLE FREE TRANSLATIONS FOR TODAY. NEXT AVAILABLE IN  17 HOURS 07 MINUTES 34 SECONDSVISIT HTTPS://MYMEMORY.TRANSLATED.NET/DOC/USAGELIMITS.PHP TO TRANSLATE MORE',\n",
              " 'MYMEMORY WARNING: YOU USED ALL AVAILABLE FREE TRANSLATIONS FOR TODAY. NEXT AVAILABLE IN  17 HOURS 07 MINUTES 34 SECONDSVISIT HTTPS://MYMEMORY.TRANSLATED.NET/DOC/USAGELIMITS.PHP TO TRANSLATE MORE',\n",
              " 'MYMEMORY WARNING: YOU USED ALL AVAILABLE FREE TRANSLATIONS FOR TODAY. NEXT AVAILABLE IN  17 HOURS 07 MINUTES 34 SECONDSVISIT HTTPS://MYMEMORY.TRANSLATED.NET/DOC/USAGELIMITS.PHP TO TRANSLATE MORE',\n",
              " 'MYMEMORY WARNING: YOU USED ALL AVAILABLE FREE TRANSLATIONS FOR TODAY. NEXT AVAILABLE IN  17 HOURS 07 MINUTES 34 SECONDSVISIT HTTPS://MYMEMORY.TRANSLATED.NET/DOC/USAGELIMITS.PHP TO TRANSLATE MORE',\n",
              " 'QUERY LENGTH LIMIT EXCEDEED. MAX ALLOWED QUERY : 500 CHARS',\n",
              " 'Very rich track nice and fully sounding, def has something, it didnt grab me enough in the drop it misses a bit more dynamic, the kick is sounding a bit muddy., overall great tune though ,thanks for sharing it, ',\n",
              " 'MYMEMORY WARNING: YOU USED ALL AVAILABLE FREE TRANSLATIONS FOR TODAY. NEXT AVAILABLE IN  17 HOURS 07 MINUTES 34 SECONDSVISIT HTTPS://MYMEMORY.TRANSLATED.NET/DOC/USAGELIMITS.PHP TO TRANSLATE MORE',\n",
              " 'MYMEMORY WARNING: YOU USED ALL AVAILABLE FREE TRANSLATIONS FOR TODAY. NEXT AVAILABLE IN  17 HOURS 07 MINUTES 34 SECONDSVISIT HTTPS://MYMEMORY.TRANSLATED.NET/DOC/USAGELIMITS.PHP TO TRANSLATE MORE',\n",
              " 'MYMEMORY WARNING: YOU USED ALL AVAILABLE FREE TRANSLATIONS FOR TODAY. NEXT AVAILABLE IN  17 HOURS 07 MINUTES 34 SECONDSVISIT HTTPS://MYMEMORY.TRANSLATED.NET/DOC/USAGELIMITS.PHP TO TRANSLATE MORE',\n",
              " 'MYMEMORY WARNING: YOU USED ALL AVAILABLE FREE TRANSLATIONS FOR TODAY. NEXT AVAILABLE IN  17 HOURS 07 MINUTES 34 SECONDSVISIT HTTPS://MYMEMORY.TRANSLATED.NET/DOC/USAGELIMITS.PHP TO TRANSLATE MORE',\n",
              " 'MYMEMORY WARNING: YOU USED ALL AVAILABLE FREE TRANSLATIONS FOR TODAY. NEXT AVAILABLE IN  17 HOURS 07 MINUTES 34 SECONDSVISIT HTTPS://MYMEMORY.TRANSLATED.NET/DOC/USAGELIMITS.PHP TO TRANSLATE MORE',\n",
              " 'MYMEMORY WARNING: YOU USED ALL AVAILABLE FREE TRANSLATIONS FOR TODAY. NEXT AVAILABLE IN  17 HOURS 07 MINUTES 34 SECONDSVISIT HTTPS://MYMEMORY.TRANSLATED.NET/DOC/USAGELIMITS.PHP TO TRANSLATE MORE',\n",
              " 'MYMEMORY WARNING: YOU USED ALL AVAILABLE FREE TRANSLATIONS FOR TODAY. NEXT AVAILABLE IN  17 HOURS 07 MINUTES 34 SECONDSVISIT HTTPS://MYMEMORY.TRANSLATED.NET/DOC/USAGELIMITS.PHP TO TRANSLATE MORE',\n",
              " 'QUERY LENGTH LIMIT EXCEDEED. MAX ALLOWED QUERY : 500 CHARS',\n",
              " 'MYMEMORY WARNING: YOU USED ALL AVAILABLE FREE TRANSLATIONS FOR TODAY. NEXT AVAILABLE IN  17 HOURS 07 MINUTES 34 SECONDSVISIT HTTPS://MYMEMORY.TRANSLATED.NET/DOC/USAGELIMITS.PHP TO TRANSLATE MORE',\n",
              " 'MYMEMORY WARNING: YOU USED ALL AVAILABLE FREE TRANSLATIONS FOR TODAY. NEXT AVAILABLE IN  17 HOURS 07 MINUTES 34 SECONDSVISIT HTTPS://MYMEMORY.TRANSLATED.NET/DOC/USAGELIMITS.PHP TO TRANSLATE MORE',\n",
              " 'MYMEMORY WARNING: YOU USED ALL AVAILABLE FREE TRANSLATIONS FOR TODAY. NEXT AVAILABLE IN  17 HOURS 07 MINUTES 34 SECONDSVISIT HTTPS://MYMEMORY.TRANSLATED.NET/DOC/USAGELIMITS.PHP TO TRANSLATE MORE',\n",
              " 'MYMEMORY WARNING: YOU USED ALL AVAILABLE FREE TRANSLATIONS FOR TODAY. NEXT AVAILABLE IN  17 HOURS 07 MINUTES 34 SECONDSVISIT HTTPS://MYMEMORY.TRANSLATED.NET/DOC/USAGELIMITS.PHP TO TRANSLATE MORE',\n",
              " 'Hi Charlie,\\n\\nReally lovely song! I love the lyrical references here; lots of clever lines. The \"riptide\" and \"under-toe\" lines come in at a great time as the song progresses. The music creates a rip tide / undertoe feel at the same time. In general, the track builds nicely and there are a lot of pleasant stringed instruments mixed well together filling in all the frequency gaps. We\\'ll definitely find a place for this when it\\'s released. ',\n",
              " 'MYMEMORY WARNING: YOU USED ALL AVAILABLE FREE TRANSLATIONS FOR TODAY. NEXT AVAILABLE IN  17 HOURS 07 MINUTES 34 SECONDSVISIT HTTPS://MYMEMORY.TRANSLATED.NET/DOC/USAGELIMITS.PHP TO TRANSLATE MORE',\n",
              " 'MYMEMORY WARNING: YOU USED ALL AVAILABLE FREE TRANSLATIONS FOR TODAY. NEXT AVAILABLE IN  17 HOURS 07 MINUTES 34 SECONDSVISIT HTTPS://MYMEMORY.TRANSLATED.NET/DOC/USAGELIMITS.PHP TO TRANSLATE MORE',\n",
              " \"Really beautiful voice. I like the experimental track you create. I don't feel totally some instrumental parts matching your voice in some parts\",\n",
              " 'Hey Proksima! This has some cool ideas, but we are looking for music that is more edm or pop. I think this is too experimental for a playlist',\n",
              " 'Hello there, thank you for this wonderful song that you submitted! It seems like this song has to tell a story! I believe that you worked a lot on this track, because it sounds really creative! I would love to hear this track in some kind of film, I think your track is really suitable for a cinema! Unfortunately, we have to decline your submission, since we are looking for songs that are slightly more energetic at the moment. Your song is wonderful, keep up the good work!',\n",
              " 'Great track. I will be adding your song to our Weekly Playlist x BaronMag.ca on our site, baronmag.ca. Have a great day. \\nNote: we will send you a link on Groover when it goes live. ',\n",
              " 'MYMEMORY WARNING: YOU USED ALL AVAILABLE FREE TRANSLATIONS FOR TODAY. NEXT AVAILABLE IN  17 HOURS 07 MINUTES 34 SECONDSVISIT HTTPS://MYMEMORY.TRANSLATED.NET/DOC/USAGELIMITS.PHP TO TRANSLATE MORE',\n",
              " 'MYMEMORY WARNING: YOU USED ALL AVAILABLE FREE TRANSLATIONS FOR TODAY. NEXT AVAILABLE IN  17 HOURS 07 MINUTES 34 SECONDSVISIT HTTPS://MYMEMORY.TRANSLATED.NET/DOC/USAGELIMITS.PHP TO TRANSLATE MORE',\n",
              " 'MYMEMORY WARNING: YOU USED ALL AVAILABLE FREE TRANSLATIONS FOR TODAY. NEXT AVAILABLE IN  17 HOURS 07 MINUTES 34 SECONDSVISIT HTTPS://MYMEMORY.TRANSLATED.NET/DOC/USAGELIMITS.PHP TO TRANSLATE MORE',\n",
              " 'MYMEMORY WARNING: YOU USED ALL AVAILABLE FREE TRANSLATIONS FOR TODAY. NEXT AVAILABLE IN  17 HOURS 07 MINUTES 34 SECONDSVISIT HTTPS://MYMEMORY.TRANSLATED.NET/DOC/USAGELIMITS.PHP TO TRANSLATE MORE',\n",
              " \"It's a great experimental track. I like the mood of track. Can't fit totally with my biggest indie road-trip playlist but fit perfect for my fresh finds playlist.\",\n",
              " 'QUERY LENGTH LIMIT EXCEDEED. MAX ALLOWED QUERY : 500 CHARS',\n",
              " 'Hello, thank you for contacting us!\\n\\nYour work is very good, the music is well-produced and your voice fits perfectly with the arrangement.\\nWe will share your song as soon as possible.',\n",
              " 'MYMEMORY WARNING: YOU USED ALL AVAILABLE FREE TRANSLATIONS FOR TODAY. NEXT AVAILABLE IN  17 HOURS 07 MINUTES 33 SECONDSVISIT HTTPS://MYMEMORY.TRANSLATED.NET/DOC/USAGELIMITS.PHP TO TRANSLATE MORE',\n",
              " 'Hi _telemaque_, thanks for sending us your track \"June\" again. Like I mentioned, I really enjoy the passionate singing along with the songwriting. It gives me Nirvana vibes which I love. Will be sharing with my team :)',\n",
              " 'MYMEMORY WARNING: YOU USED ALL AVAILABLE FREE TRANSLATIONS FOR TODAY. NEXT AVAILABLE IN  17 HOURS 07 MINUTES 33 SECONDSVISIT HTTPS://MYMEMORY.TRANSLATED.NET/DOC/USAGELIMITS.PHP TO TRANSLATE MORE',\n",
              " 'MYMEMORY WARNING: YOU USED ALL AVAILABLE FREE TRANSLATIONS FOR TODAY. NEXT AVAILABLE IN  17 HOURS 07 MINUTES 33 SECONDSVISIT HTTPS://MYMEMORY.TRANSLATED.NET/DOC/USAGELIMITS.PHP TO TRANSLATE MORE',\n",
              " \"Hey Pierre!\\n\\nThanks for submitting your music, it's a really interesting single. The melody is energetic and your voice is great. For now, it isn't exactly  what fits to my blog, but I'll be happy to hear your album as soon as it's released, please keep me updated.\\n\\nWish you all the success,\\n\\nAmanda B.\",\n",
              " 'MYMEMORY WARNING: YOU USED ALL AVAILABLE FREE TRANSLATIONS FOR TODAY. NEXT AVAILABLE IN  17 HOURS 07 MINUTES 33 SECONDSVISIT HTTPS://MYMEMORY.TRANSLATED.NET/DOC/USAGELIMITS.PHP TO TRANSLATE MORE',\n",
              " 'Thanks for sending over, a good production! However, we mostly share tracks with more harmonic variations and more difference between verse and chorus...all the best!',\n",
              " 'MYMEMORY WARNING: YOU USED ALL AVAILABLE FREE TRANSLATIONS FOR TODAY. NEXT AVAILABLE IN  17 HOURS 07 MINUTES 33 SECONDSVISIT HTTPS://MYMEMORY.TRANSLATED.NET/DOC/USAGELIMITS.PHP TO TRANSLATE MORE',\n",
              " 'Hello! Thank you so much for sharing this track! I like the way she mixes a relaxed, simple, yet intense instrumental that fits very well with her vocals, which are also very good! I particularly like the way the shy guitar instrumental evolves to a greater and more complex intensity throughout the song. I believe that the result is a very captivating, engaging and intense song. Congratulations on the great job!',\n",
              " \"Hi, thank you for sending me your track.\\n\\nI really enjoyed it. Although I think the mix and master are not perfect, I really liked the string instruments and the percussion. It reminded me a little of Brazilian MPB music, in addition to certain influences by Bob Dylan.\\n\\nI'll share your track as soon as possible. The links will be send. \\n\\nPlease, count on me for future releases!\\n\\nIZZO / ROCKNBOLD.COM\",\n",
              " 'Hi _telemaque_, we love \"June\". Your track with precious personal and instrumental tones won us over for its authenticity, strength and smoothness. We also highlight the contagious and true harmony throughout the production. Congratulations, we will be happy to indicate your art in our magazine.\\n\\nRegards,\\n\\neolor team.',\n",
              " 'Hello, how are you?\\n\\nYour music is very well recorded and mixed. The vocal work is excellent and the instrumental work is also very good. Congratulations for the good work.\\n\\nWe are not currently playing this type of music on our radio. However, we will insert your music in one of our playlists to keep it on our radar. If you have plans to come to Brazil let us know. I wish you good luck.',\n",
              " 'MYMEMORY WARNING: YOU USED ALL AVAILABLE FREE TRANSLATIONS FOR TODAY. NEXT AVAILABLE IN  17 HOURS 07 MINUTES 33 SECONDSVISIT HTTPS://MYMEMORY.TRANSLATED.NET/DOC/USAGELIMITS.PHP TO TRANSLATE MORE',\n",
              " 'the drums were soft and engaging but overall the vocals didnt quite engage me enough and hte lyrics were quite repetitive',\n",
              " \"Your voice is perfect for genre of music you create but I don't feel totally the guitar parts matching your voice/style. I think that overall is a great work!\",\n",
              " \"Hi! Thanks for submitting your track! I think is a very interesting song, love the rhythms. The lyrics are not telling me a lot, but I love the voice and the overall result!! I'll share it on my Instagram Stories! \",\n",
              " 'MYMEMORY WARNING: YOU USED ALL AVAILABLE FREE TRANSLATIONS FOR TODAY. NEXT AVAILABLE IN  17 HOURS 07 MINUTES 33 SECONDSVISIT HTTPS://MYMEMORY.TRANSLATED.NET/DOC/USAGELIMITS.PHP TO TRANSLATE MORE',\n",
              " 'MYMEMORY WARNING: YOU USED ALL AVAILABLE FREE TRANSLATIONS FOR TODAY. NEXT AVAILABLE IN  17 HOURS 07 MINUTES 33 SECONDSVISIT HTTPS://MYMEMORY.TRANSLATED.NET/DOC/USAGELIMITS.PHP TO TRANSLATE MORE',\n",
              " 'MYMEMORY WARNING: YOU USED ALL AVAILABLE FREE TRANSLATIONS FOR TODAY. NEXT AVAILABLE IN  17 HOURS 07 MINUTES 33 SECONDSVISIT HTTPS://MYMEMORY.TRANSLATED.NET/DOC/USAGELIMITS.PHP TO TRANSLATE MORE',\n",
              " \"Hey. I'm in love with this track! love how it is produced and like the mood! especially like the clear sounding vocals. good work and well done! we are mostly looking for commercial sounding tracks\\nwith a straight electronic beat! i'm pretty sure this track will made much success but i think its not exactly that sound we are looking for our playlists. next time!\\n\\n\",\n",
              " 'MYMEMORY WARNING: YOU USED ALL AVAILABLE FREE TRANSLATIONS FOR TODAY. NEXT AVAILABLE IN  17 HOURS 07 MINUTES 33 SECONDSVISIT HTTPS://MYMEMORY.TRANSLATED.NET/DOC/USAGELIMITS.PHP TO TRANSLATE MORE',\n",
              " 'Great track. I will be adding your song to our Weekly Playlist x BaronMag.ca on our site, baronmag.ca. Have a great day. \\nNote: we will send you a link on Groover when it goes live. ',\n",
              " 'Thanks for sharing with me. Unfortunately, I\\'m going to have to pass. I\\'m specifically looking for instrumental lofi tracks for my \"lo-fi/chillhop\" playlist. This track just doesn\\'t suit the theme of the playlist. Thanks again for sharing with me. Stay safe, and best of luck.',\n",
              " 'Hello there ,\\nThank you for sharing your beautiful song.\\nNice voice, nice sound and melodies. I really enjoyed it!\\nUnfortunately we work mostly with instrumental music, so we don’t have a proper playlist for your song.\\n\\nThank you again \\nTake care',\n",
              " \"I really like your voice (really particular) but I don't feel totally guitar instrumental parts matching your voice\",\n",
              " 'The songs vibe didn\\'t fully fit the playlists as they\\'re geared more towards \"emo rap / sad r&b\" keep it up tho ! ',\n",
              " 'Nice production. The vocal deserves more development as the composition. The instru is skilled.  Thanks for sharing your music. ',\n",
              " 'thank you for your submission, i love the acoustic melody on this and the vocals were pretty nice too but there was a lack of enthusiasm especially during the chorus, I was hoping for more of a build up and a more powerfully delivered chorus ',\n",
              " 'Damn this song is litt man!! Everything sounds soo good and aesthetic! I love your voice and the beat is soo pleasant to listen! It seems like you worked a lot on this project! I would love to add this song to the playlist, but I look for slightly slower and less energetic songs at the moment, thats why I have to decline your submitted song this time! Keep up the good work and have a good day nevertheless!',\n",
              " 'June Is like a breath, this track puts us in the present moment, your melody and drum beat , charged with energy, make’s the song to a next level of symmetry  folk s essence. June was made for enthusiastic audience',\n",
              " 'MYMEMORY WARNING: YOU USED ALL AVAILABLE FREE TRANSLATIONS FOR TODAY. NEXT AVAILABLE IN  17 HOURS 07 MINUTES 33 SECONDSVISIT HTTPS://MYMEMORY.TRANSLATED.NET/DOC/USAGELIMITS.PHP TO TRANSLATE MORE',\n",
              " 'MYMEMORY WARNING: YOU USED ALL AVAILABLE FREE TRANSLATIONS FOR TODAY. NEXT AVAILABLE IN  17 HOURS 07 MINUTES 33 SECONDSVISIT HTTPS://MYMEMORY.TRANSLATED.NET/DOC/USAGELIMITS.PHP TO TRANSLATE MORE',\n",
              " 'Hey, I really enjoyed June, You have catchy vocals with a sweet and smooth tone to your voice - top left booking',\n",
              " 'QUERY LENGTH LIMIT EXCEDEED. MAX ALLOWED QUERY : 500 CHARS',\n",
              " 'MYMEMORY WARNING: YOU USED ALL AVAILABLE FREE TRANSLATIONS FOR TODAY. NEXT AVAILABLE IN  17 HOURS 07 MINUTES 33 SECONDSVISIT HTTPS://MYMEMORY.TRANSLATED.NET/DOC/USAGELIMITS.PHP TO TRANSLATE MORE',\n",
              " \"hello,\\nThanks a lot for share with us your music, we appreciate the work on it but unfortunately this sound doesn't match with our taste, so we'll decline.\\nFeel free to share with us more music soon, hope to listen more :)\\n\\nGreetings,\\nEleven team.\",\n",
              " \"Personally I like the tone of your voice however the song isn't very appealing to me melody wise. Just my opinion. Thank you for sharing.\",\n",
              " 'MYMEMORY WARNING: YOU USED ALL AVAILABLE FREE TRANSLATIONS FOR TODAY. NEXT AVAILABLE IN  17 HOURS 07 MINUTES 33 SECONDSVISIT HTTPS://MYMEMORY.TRANSLATED.NET/DOC/USAGELIMITS.PHP TO TRANSLATE MORE',\n",
              " 'MYMEMORY WARNING: YOU USED ALL AVAILABLE FREE TRANSLATIONS FOR TODAY. NEXT AVAILABLE IN  17 HOURS 07 MINUTES 33 SECONDSVISIT HTTPS://MYMEMORY.TRANSLATED.NET/DOC/USAGELIMITS.PHP TO TRANSLATE MORE',\n",
              " 'MYMEMORY WARNING: YOU USED ALL AVAILABLE FREE TRANSLATIONS FOR TODAY. NEXT AVAILABLE IN  17 HOURS 07 MINUTES 33 SECONDSVISIT HTTPS://MYMEMORY.TRANSLATED.NET/DOC/USAGELIMITS.PHP TO TRANSLATE MORE',\n",
              " \"Wery good Song, your style It's very original and you are very talented.\\nThe mix of differenti influences, soft giutar make this song delicate but powerful.\\nKeep to send us your music!\\n\",\n",
              " \"Hello Telemaque, thanks for reaching out. The song sounds quite nice on the technical side, no complaints about the sound quality , really good work. Loved the bassline in this one too. Sadly, the main top melodies and the vocals in this one didn't hook me that much personally. I'm sorry. Keep it up!\",\n",
              " 'Hello there, thank you for the submission! I really love the guitar sounds, they are so catchy and the vocal is soo uplifting  and clean sounding! The production level of this track is really high! It seems like you put a lot of your time to produce this track! This track definetly goes to my personal playlist! Unfortunately, I must decline your song, since Im looking for slightly slower and more lofi sounding tracks at the moment. Have a nice day!',\n",
              " 'I heard a lot of potential from the project on this track. I still feel that there is a need for the lyrics to mature (repetition works to some extent, but not completely, you know?)',\n",
              " \"Hello! The song was interesting but I think there could be a little more refinement, adding a little more instrumentals so it doesn't look like a demo. But it has great potential, a good voice. Thanks for submitting!\",\n",
              " 'QUERY LENGTH LIMIT EXCEDEED. MAX ALLOWED QUERY : 500 CHARS MYMEMORY WARNING: YOU USED ALL AVAILABLE FREE TRANSLATIONS FOR TODAY. NEXT AVAILABLE IN  17 HOURS 07 MINUTES 33 SECONDSVISIT HTTPS://MYMEMORY.TRANSLATED.NET/DOC/USAGELIMITS.PHP TO TRANSLATE MORE',\n",
              " \"You are on the right track. Your music sounds like an acoustic version of Radiohead's cracked electronic on OK Computer. The raw and accelerated guitars, the expressive vocal and the accelerated beats reveals a great energy in a song that seems simple. Really, very beautiful. We really want to have news from your debut album.\\n\\nWe are going to add your track on our playlist for now. But want to have more news about you ASAP.\",\n",
              " 'Hey everyone!\\n\\nIn advance, thanks for sharing your material with us. \\n\\nSo nice to hear \"June\", unique as possible and got us feeling anxious for more!\\n\\nCan\\'t wait to see the whole material that u all are bringing next.\\n\\nWill be a pleasure to share it with our followers. \\n\\nThanks again for the contact! ',\n",
              " 'I really liked the ideas in June! The melodies were really good, but it is just got a genre fit for our playlists this month! Send more tracks in the future :)',\n",
              " \"Hey, a very well produced acoustic tune here, such a good vibe. Honestly the melody in the chorus didn't catch me enough while listening. Big sorry this time :- ( \",\n",
              " \"\\nhello and thanks for sending us the song. \\n\\nPierre the song works, the production is done well and I really like the guitars in this country / folk style. It's like taking a dip in the past in the 80s.\\n\\nThe only thing that did not fully convince me was the voice, I would work on it a little more because it is a pity that it is not exploited to the maximum. \\n\\nKeep it up and good luck for everything!\",\n",
              " 'MYMEMORY WARNING: YOU USED ALL AVAILABLE FREE TRANSLATIONS FOR TODAY. NEXT AVAILABLE IN  17 HOURS 07 MINUTES 33 SECONDSVISIT HTTPS://MYMEMORY.TRANSLATED.NET/DOC/USAGELIMITS.PHP TO TRANSLATE MORE',\n",
              " 'Thanks for your submission fam. The song has some nice chord progression but the vocals seem a bit forced at certain parts and I feel like the melody doesn’t grasp me as much as I hoped for.',\n",
              " 'A very very good track, with a good beat. A delicious song. Liked the chorus and the way the song runs. Maybe with a video the track could gain more visibility.',\n",
              " 'Dear telemaque,\\nI especially enjoyed the instrumental part of this song. The melody was beautiful. Sadly the overall mood of this song is too romantic and slow for my playlist \\nReally sorry ',\n",
              " 'It\\'s so nice when some tracks begin in a way and take unexpected paths as they develop. When the first notes of the acoustic guitar sounded, I thought it would take a different direction — and I was pleasantly surprised with how it went, especially when the drums arrived. It\\'s worth mentioning that the percussion here made all the difference, as it did a good job holding everything together and bringing some fast-paced rhythm to a subtle song, in a coherent way.\\n\\nSome of the genres you brought on the description are pretty apparent, but some others might not be that much, and that\\'s actually a good thing in my opinion. Personally, I enjoy it very much when the listener gradually starts discovering some references as I listen to the track. For example, there is definitely a rock vibe in the mood of the song, and there is one moment where it becomes most clear. At 1:48 minute, when there is only the acoustic guitar and subsequently the vocals, is a really good example of some formats used on some very famous rock hits. And, this one specifically reminded me so much of the song \"Drive\" from Incubus. Not to compare here, but not think of them was almost impossible.\\n\\nOverall it\\'s a really enjoyable song that many people with different music tastes might enjoy. It\\'s well-produced, well equalized and the volumes of the instrument seem well balanced as well. We are adding this to our playlist on Spotify! Cheers from Brazil and keep going!\\n',\n",
              " 'MYMEMORY WARNING: YOU USED ALL AVAILABLE FREE TRANSLATIONS FOR TODAY. NEXT AVAILABLE IN  17 HOURS 07 MINUTES 33 SECONDSVISIT HTTPS://MYMEMORY.TRANSLATED.NET/DOC/USAGELIMITS.PHP TO TRANSLATE MORE',\n",
              " 'MYMEMORY WARNING: YOU USED ALL AVAILABLE FREE TRANSLATIONS FOR TODAY. NEXT AVAILABLE IN  17 HOURS 07 MINUTES 33 SECONDSVISIT HTTPS://MYMEMORY.TRANSLATED.NET/DOC/USAGELIMITS.PHP TO TRANSLATE MORE',\n",
              " 'MYMEMORY WARNING: YOU USED ALL AVAILABLE FREE TRANSLATIONS FOR TODAY. NEXT AVAILABLE IN  17 HOURS 07 MINUTES 33 SECONDSVISIT HTTPS://MYMEMORY.TRANSLATED.NET/DOC/USAGELIMITS.PHP TO TRANSLATE MORE',\n",
              " 'Well recorded, produced and performed. I really liked the voice, it has a unique timbre. It is not the focus of the MBV portal, but I will share it with the team.',\n",
              " \"hello _telemaque_\\n\\nThat's a really fun folk pop track. We think you've started really well. That production is good, the guitar just gives it a very 'spring' vibe, it's chill and very calm. And that chorus is really catchy, the melody is really good. We are always happy to see new artists coming with good tunes like this more and more.\\n\\nAt this time we are getting tons of tracks daily, so we are always filtering what to introduce our audience to. We've reached our goal when it comes to your genre/style, but we thank you for allowing this feedback neverthless. We are happy that we have you on our radar.\\n\\nEscutai.com\",\n",
              " \"Really nice guitar picking here! The lyrics are also great and it's got an honest, genuine feel to it. I also like the choice of percussion in this track. However, it's just a little bit too indie DIY sounding to suit the slightly more polished sound we're going for. \",\n",
              " 'Dope track with a great vibe. I especially like the vocals  melody and the guitar line. Recordings are good as well but unfortunately it sounds a bit too acoustic for our playlists. \\nSorry & good luck. Stay safe!',\n",
              " \"Hi, thanks for the submission.\\nThis is very well done and you definitely have a lot of talent and potential.\\nBut we're currently looking for songs that are a little more chill music. Regardless, it was a great piece of work!\\n\",\n",
              " 'Hi there and thanks for the submission. I liked the atmosphere and the vibe. I just missed this little something that would make the track jump in this very busy genre to stand out in.. Apologies for that, very subjective of course.. Happy to hear more. Best, Stefanos',\n",
              " 'Hello! Thank you so much for sending me your track!\\n\"June\" is a soft and delicious song to listen to!\\nThe lyrics are simplistic, but have a clear message for the reader. The instrumental with the predominant guitar reminds me of the indie of the 2000s that was part of the soundtrack of The O.C ..\\nThe voice combines very well with the proposal of the song, it is in a tone that accompanies the melody of the song and is not conflicting, sounding pleasant to any listener.\\nThe mix was well done, I can distinguish all the elements and subtle variations in the melody, including the slight echo from 2\\'38 in your voice.\\nIt\\'s a good song, I loved it! You have done an excellent job!\\n\\nWish you good luck and success!',\n",
              " 'Dear _telemaque_,\\nThank you for sharing this track with us!\\n\\nThis is an interesting track. I liked the melodies a lot and you seem to know your voice well. It’s a soft track and it could develop more into the instrumental, but it sounds very nice the way it is as well. Hope you’re comfortable enough to explore a little more on future tracks. Anyway, we’ll be sharing this one through social media!\\n\\nWe wish you the best of luck with this release.\\n\\nGreetings from Brazil,\\nPedro Marinho @ Zimel.\\n',\n",
              " 'MYMEMORY WARNING: YOU USED ALL AVAILABLE FREE TRANSLATIONS FOR TODAY. NEXT AVAILABLE IN  17 HOURS 07 MINUTES 33 SECONDSVISIT HTTPS://MYMEMORY.TRANSLATED.NET/DOC/USAGELIMITS.PHP TO TRANSLATE MORE',\n",
              " 'Hello, thank you for sending us your work!\\n\\nBeautiful music with smooth fingering and a sweet voice, a lovely sound to listen to.\\nWe will share your song as soon as possible.',\n",
              " 'I like this song and i can definitely hear influences from artistas like Radiohead and Thom Yorke here. I just think it lacks a little bit of your own elements to make the song sound more like you and stand out among similar artists.',\n",
              " 'Hi! I really liked your song. I think it’s really beautiful and it feels kind of emotional too. However, I will not be adding it to my playlist because the genre doesn’t fit. Thank you.',\n",
              " \"Hi! I'm glad that you sent your track to us. Let's go to the feedback?\\n\\nI liked the atmosphere of the music, it has interesting elements during the audition.\\n\\nIn addition, the arrangements and vocals are well-produced, resulting in a great job.\\n\\nCongratulations!\",\n",
              " \"''JUNE'' reminds me of Thom Yorke and his Radiohead. I like the rhythm and the mood of this hypnotic song.\",\n",
              " \"Hello Telemaque, thank s to send use your track. I've listened it carefully. Do you ever think to sing in french language?\",\n",
              " 'This track sounds a lot like Travis and early Snow Patrol, even though you are from France, I could hear a lot of Britfolk influences on your tune.\\nThe well-played guitar is amazing and it talks really well with your voice in here.\\nYour vocalization has a great tuning too, which makes the track even more interesting – you are not afraid of your falsettos and high pitches.\\nFantastic debut for your new project; I am just not a fan of the way you are naming it; symbols makes it harder to be noticed.\\n',\n",
              " 'Hi Telemaque, thanks for sharing this nice track. Lovely guitars & deep bass! Unfortunately genre wise is quite far from what I usually share, so will have to pass on this one. Good luck with the promotion!',\n",
              " \"Hi _telemaque_ thank you so much for reaching out.  The melody is lovely.  The vocals for now are a bit too rough for me.  I feel like there needs to be a bit more practice vocally, but I can hear that you're so close!!!\",\n",
              " \"I quite enjoy the vibe and pacing here -- real relaxing listen.\\n\\nI also love the artwork! Maybe you could come up with some cool video following that same visual identity.\\n\\nHowever, I think the production might still need a bit of finessing before it can sound truly professional. You'll get there soon enough!\\n\\nThank you so much for submitting.\\nStay cool,\\nCoolia.\",\n",
              " 'MYMEMORY WARNING: YOU USED ALL AVAILABLE FREE TRANSLATIONS FOR TODAY. NEXT AVAILABLE IN  17 HOURS 07 MINUTES 33 SECONDSVISIT HTTPS://MYMEMORY.TRANSLATED.NET/DOC/USAGELIMITS.PHP TO TRANSLATE MORE',\n",
              " 'Thanks for sharing your music with us, Pierre. Really good pop indie song, really easy listening and very chilled. We are looking forward to your first album which will probably be released in 2021, right? Meanwhile, work on sharing your single with indie music blogs and radios, it will help you a lot when the album launches. It`s a great music to be added to a playlist too, so good to focus on those kinds of media too. It will be great to focus on a \"visual\" concept/visual identity for telemaque too, so people with recognize it quickly, share it on youtube too. It has great potential, just need to cover those first steps and you will be successful. Good luck and good job!',\n",
              " 'MYMEMORY WARNING: YOU USED ALL AVAILABLE FREE TRANSLATIONS FOR TODAY. NEXT AVAILABLE IN  17 HOURS 07 MINUTES 33 SECONDSVISIT HTTPS://MYMEMORY.TRANSLATED.NET/DOC/USAGELIMITS.PHP TO TRANSLATE MORE',\n",
              " \"the music is well produced. I loved your voice. but it's not the kind of sound I'm used to hearing\\n\\nanyway, congratulations on the work\",\n",
              " 'MYMEMORY WARNING: YOU USED ALL AVAILABLE FREE TRANSLATIONS FOR TODAY. NEXT AVAILABLE IN  17 HOURS 07 MINUTES 33 SECONDSVISIT HTTPS://MYMEMORY.TRANSLATED.NET/DOC/USAGELIMITS.PHP TO TRANSLATE MORE',\n",
              " 'First of all, I loved the cover art. I found the most intense beat for indie rock, and the melodies with an air of \"Radiohead music\" interesting. For a first EP, the result is impressive.',\n",
              " 'Thanks for sending! I apologize for the English feedback. I liked this track a lot, and am happy to add it to a Spotify playlist. Link coming shortly. Cheers!',\n",
              " 'Loveable folk-pop, beautiful melody and vocals – the subtle accent makes me think a little bit of Peter, Bjorn & John. Unfortunatelly not exactly the kind of music I’m looking for our playlists at the moment.',\n",
              " \"Hi Onur\\n\\nThanks for sending your works!\\n\\nReally cool track and vibe. Interesting instrumental and your vocal is spot on. Definitely a groovy track to enjoy in the day, kudos to that! Visuals are awesome aswell. \\n\\nHowever, I would love to hear the vocals as the focus point. I think the instrumental is overpowering the vocals way too much. That might be the intention but that's just my subjective opinion. It really bothered me cause I really wanted to vibe to the vocals more.\\n\\nOverall solid, strong majestic casual vibes and I love that. I have to pass on this, this time around. I am looking for different sound at this moment and the instrumental is just too strong sound level wise for me to support right now. \\n\\nGood luck with your promotion and I wish you all the best! //Nawy\",\n",
              " 'Cool video, the synths are kinda cool but the track seem a little too avant garde for my taste. Thank you for sharing.',\n",
              " 'Hi, your song is fantastic, I must say thank you for the submission! As I heard the song I was amazed by your voice, it is soo calm and sweet! I have never heard something like that before! I must say you invest a lot of your time to the tracks you produce! Unfortunately, I must decline your submittted song, because I look for slower lofi vibe songs. Your song is truly amazing! Have a wonderful day! With best Regards!',\n",
              " 'Hi! I really liked your song. I think it’s really original and different but I will not be adding it to my playlist because the genre doesn’t fit. Thank you.',\n",
              " \"Dear Onur, thank you for your music. We want to add it to our playlist for a week. We will send you the link when the playlist is ready, here via groover. We change the tracks every week\\nDon't forget to follow us here:\\n\\nSpotify: https://bit.ly/LeaveSP\\nInstagram: @leavemusic \\nYoutube: https://www.youtube.com/c/leavemusicofficial\\nFacebook: Facebook: https://www.facebook.com/leavemusic/\\n\",\n",
              " \"It's funny how the pandemic has re-signified a lot of things that were banal, even ordinary, before. I felt almost triggered by the kind of homemade images of the moments of party and friends gathered in the street of the clip. It is really precious. As for the music, I really liked the beat and the weight of some electronic layers.\",\n",
              " \"Hi,\\n\\nFull respect for your art, however it's not the genre we focus on.\\n\\nThe style of your song is not the genre i search to my playlists.\\n\\nNevertheless, i appreciate your submission.\\n\\nThank You and good luck.\",\n",
              " 'MYMEMORY WARNING: YOU USED ALL AVAILABLE FREE TRANSLATIONS FOR TODAY. NEXT AVAILABLE IN  17 HOURS 07 MINUTES 33 SECONDSVISIT HTTPS://MYMEMORY.TRANSLATED.NET/DOC/USAGELIMITS.PHP TO TRANSLATE MORE',\n",
              " 'great jam on this track! however our outlet is strictly tied to old school rap and hiphop. Thanks for sending!',\n",
              " 'MYMEMORY WARNING: YOU USED ALL AVAILABLE FREE TRANSLATIONS FOR TODAY. NEXT AVAILABLE IN  17 HOURS 07 MINUTES 33 SECONDSVISIT HTTPS://MYMEMORY.TRANSLATED.NET/DOC/USAGELIMITS.PHP TO TRANSLATE MORE',\n",
              " \"the over use of pitch correction / autotuned has killed the vibe for us. we'd love some realistic vocals on the tracks we approve. Great beats however!\",\n",
              " 'MYMEMORY WARNING: YOU USED ALL AVAILABLE FREE TRANSLATIONS FOR TODAY. NEXT AVAILABLE IN  17 HOURS 07 MINUTES 32 SECONDSVISIT HTTPS://MYMEMORY.TRANSLATED.NET/DOC/USAGELIMITS.PHP TO TRANSLATE MORE',\n",
              " 'MYMEMORY WARNING: YOU USED ALL AVAILABLE FREE TRANSLATIONS FOR TODAY. NEXT AVAILABLE IN  17 HOURS 07 MINUTES 32 SECONDSVISIT HTTPS://MYMEMORY.TRANSLATED.NET/DOC/USAGELIMITS.PHP TO TRANSLATE MORE',\n",
              " 'MYMEMORY WARNING: YOU USED ALL AVAILABLE FREE TRANSLATIONS FOR TODAY. NEXT AVAILABLE IN  17 HOURS 07 MINUTES 32 SECONDSVISIT HTTPS://MYMEMORY.TRANSLATED.NET/DOC/USAGELIMITS.PHP TO TRANSLATE MORE',\n",
              " 'Hi Ramiro Pinheiro, really nice track but i only share free downloal tracks, sorry. All the best. Pierre',\n",
              " 'QUERY LENGTH LIMIT EXCEDEED. MAX ALLOWED QUERY : 500 CHARS',\n",
              " 'MYMEMORY WARNING: YOU USED ALL AVAILABLE FREE TRANSLATIONS FOR TODAY. NEXT AVAILABLE IN  17 HOURS 07 MINUTES 32 SECONDSVISIT HTTPS://MYMEMORY.TRANSLATED.NET/DOC/USAGELIMITS.PHP TO TRANSLATE MORE',\n",
              " 'MYMEMORY WARNING: YOU USED ALL AVAILABLE FREE TRANSLATIONS FOR TODAY. NEXT AVAILABLE IN  17 HOURS 07 MINUTES 32 SECONDSVISIT HTTPS://MYMEMORY.TRANSLATED.NET/DOC/USAGELIMITS.PHP TO TRANSLATE MORE',\n",
              " 'QUERY LENGTH LIMIT EXCEDEED. MAX ALLOWED QUERY : 500 CHARS',\n",
              " 'MYMEMORY WARNING: YOU USED ALL AVAILABLE FREE TRANSLATIONS FOR TODAY. NEXT AVAILABLE IN  17 HOURS 07 MINUTES 32 SECONDSVISIT HTTPS://MYMEMORY.TRANSLATED.NET/DOC/USAGELIMITS.PHP TO TRANSLATE MORE',\n",
              " 'MYMEMORY WARNING: YOU USED ALL AVAILABLE FREE TRANSLATIONS FOR TODAY. NEXT AVAILABLE IN  17 HOURS 07 MINUTES 32 SECONDSVISIT HTTPS://MYMEMORY.TRANSLATED.NET/DOC/USAGELIMITS.PHP TO TRANSLATE MORE',\n",
              " 'MYMEMORY WARNING: YOU USED ALL AVAILABLE FREE TRANSLATIONS FOR TODAY. NEXT AVAILABLE IN  17 HOURS 07 MINUTES 32 SECONDSVISIT HTTPS://MYMEMORY.TRANSLATED.NET/DOC/USAGELIMITS.PHP TO TRANSLATE MORE',\n",
              " 'MYMEMORY WARNING: YOU USED ALL AVAILABLE FREE TRANSLATIONS FOR TODAY. NEXT AVAILABLE IN  17 HOURS 07 MINUTES 32 SECONDSVISIT HTTPS://MYMEMORY.TRANSLATED.NET/DOC/USAGELIMITS.PHP TO TRANSLATE MORE',\n",
              " 'MYMEMORY WARNING: YOU USED ALL AVAILABLE FREE TRANSLATIONS FOR TODAY. NEXT AVAILABLE IN  17 HOURS 07 MINUTES 32 SECONDSVISIT HTTPS://MYMEMORY.TRANSLATED.NET/DOC/USAGELIMITS.PHP TO TRANSLATE MORE',\n",
              " 'MYMEMORY WARNING: YOU USED ALL AVAILABLE FREE TRANSLATIONS FOR TODAY. NEXT AVAILABLE IN  17 HOURS 07 MINUTES 32 SECONDSVISIT HTTPS://MYMEMORY.TRANSLATED.NET/DOC/USAGELIMITS.PHP TO TRANSLATE MORE',\n",
              " 'MYMEMORY WARNING: YOU USED ALL AVAILABLE FREE TRANSLATIONS FOR TODAY. NEXT AVAILABLE IN  17 HOURS 07 MINUTES 32 SECONDSVISIT HTTPS://MYMEMORY.TRANSLATED.NET/DOC/USAGELIMITS.PHP TO TRANSLATE MORE',\n",
              " 'MYMEMORY WARNING: YOU USED ALL AVAILABLE FREE TRANSLATIONS FOR TODAY. NEXT AVAILABLE IN  17 HOURS 07 MINUTES 32 SECONDSVISIT HTTPS://MYMEMORY.TRANSLATED.NET/DOC/USAGELIMITS.PHP TO TRANSLATE MORE',\n",
              " \"The video is made beautifully and I love your vocals too but I don't have any rock playlists at all, I'm not sure how can I add this to my playlist. I'm sorry but I'll pass \",\n",
              " 'MYMEMORY WARNING: YOU USED ALL AVAILABLE FREE TRANSLATIONS FOR TODAY. NEXT AVAILABLE IN  17 HOURS 07 MINUTES 32 SECONDSVISIT HTTPS://MYMEMORY.TRANSLATED.NET/DOC/USAGELIMITS.PHP TO TRANSLATE MORE',\n",
              " \"Dear Magon,\\n\\nthe track is pretty ok but it doesn't really differ too much from the other two you've sent previously, one of which we also broadcast on our station a month or two ago. Sorry, we'll skip on this one.\\n\\nGood luck!\\n\",\n",
              " 'MYMEMORY WARNING: YOU USED ALL AVAILABLE FREE TRANSLATIONS FOR TODAY. NEXT AVAILABLE IN  17 HOURS 07 MINUTES 32 SECONDSVISIT HTTPS://MYMEMORY.TRANSLATED.NET/DOC/USAGELIMITS.PHP TO TRANSLATE MORE',\n",
              " 'Hello! \\nI liked your music, it is very good. It resembles a lot Gorillaz\\'s track \"Kids With Guns\", especially on the bass line, and on the voice, which resembles Damon Albarn\\'s. The funky guitar really pleased me. The chorus is very good, it sticks to the head. I just had difficulty to appreciate the spoken verse in the first auditions, but after listening to the song more times, I started to like it too. \\n',\n",
              " 'MYMEMORY WARNING: YOU USED ALL AVAILABLE FREE TRANSLATIONS FOR TODAY. NEXT AVAILABLE IN  17 HOURS 07 MINUTES 32 SECONDSVISIT HTTPS://MYMEMORY.TRANSLATED.NET/DOC/USAGELIMITS.PHP TO TRANSLATE MORE',\n",
              " \"I loved the animation / video for this ! I just wasn't quite into the melody or verses on this song, sorry. Thanks for sharing it with us, though. \",\n",
              " 'Cool song, original theme and vocals! A really unique signature into the writing, was a good moment :) Liked the guitars riff behind, a little bit groovy/funky. Congrats',\n",
              " 'Hey there, Nice backing track and vibes overall but unfortunately   the spoken word style would be out of the scope of my playlists. I wish you the best of luck with the release!',\n",
              " \"Hi Magon, the track is well produced but it doesn't fit our musical choises: our station only air Contemporary Christian Music in any music genre, but we prefer mainstream pop sound.\\nMaybe I'm wrong but it seems to me that the lyrics of this song aren't about christian faith/values.\\nThank you\",\n",
              " 'Thanks for the submission and hope you’re well. Pretty cool track, I like the growling bass guitar riffs fused with the seriously catchy lead guitar riffs and the vocal is effortlessly cool with a poetic vibe. Overall a well crafted sound with a hint of LCD Soundsystem but not one that quite grabs my attention enough to feature if I’m honest.',\n",
              " 'Hello Magon great music and I loved the bass very well placed. I really enjoyed the great video clip to watch. The vocals were perfect for music .. congratulations. I have a new playlist that I am promoting for Indie music and I believe your music is great for her.',\n",
              " 'I like the vocals and the soundscape and will share this on our Twitter! Thank you for sharing.',\n",
              " \"The song reminds me of later Pixies songs, it's a well-performed song overall, however, it's just not really an earworm of a hook that really draws me in as a listener. \",\n",
              " 'MYMEMORY WARNING: YOU USED ALL AVAILABLE FREE TRANSLATIONS FOR TODAY. NEXT AVAILABLE IN  17 HOURS 07 MINUTES 32 SECONDSVISIT HTTPS://MYMEMORY.TRANSLATED.NET/DOC/USAGELIMITS.PHP TO TRANSLATE MORE',\n",
              " 'QUERY LENGTH LIMIT EXCEDEED. MAX ALLOWED QUERY : 500 CHARS',\n",
              " 'MYMEMORY WARNING: YOU USED ALL AVAILABLE FREE TRANSLATIONS FOR TODAY. NEXT AVAILABLE IN  17 HOURS 07 MINUTES 32 SECONDSVISIT HTTPS://MYMEMORY.TRANSLATED.NET/DOC/USAGELIMITS.PHP TO TRANSLATE MORE',\n",
              " 'MYMEMORY WARNING: YOU USED ALL AVAILABLE FREE TRANSLATIONS FOR TODAY. NEXT AVAILABLE IN  17 HOURS 07 MINUTES 32 SECONDSVISIT HTTPS://MYMEMORY.TRANSLATED.NET/DOC/USAGELIMITS.PHP TO TRANSLATE MORE',\n",
              " 'MYMEMORY WARNING: YOU USED ALL AVAILABLE FREE TRANSLATIONS FOR TODAY. NEXT AVAILABLE IN  17 HOURS 07 MINUTES 32 SECONDSVISIT HTTPS://MYMEMORY.TRANSLATED.NET/DOC/USAGELIMITS.PHP TO TRANSLATE MORE',\n",
              " \"Hi thanks for this song I feel a good commercial composition it doesn't seem very original but I think the sounds are very good and experimental it could work, let's try, in any case you are good keep it up thanks see you soon\\n\",\n",
              " 'MYMEMORY WARNING: YOU USED ALL AVAILABLE FREE TRANSLATIONS FOR TODAY. NEXT AVAILABLE IN  17 HOURS 07 MINUTES 32 SECONDSVISIT HTTPS://MYMEMORY.TRANSLATED.NET/DOC/USAGELIMITS.PHP TO TRANSLATE MORE',\n",
              " 'Yes! Magon is becoming such a great artist. Complete, very visual, very innovative. I really like it. ',\n",
              " \"Hey Magon, thanks for sharing your latest single with me! Great to hear from you. Love this follow up track. Will get it played on my show and updated on my playlist which I'll share with you in due course. Cheers!\",\n",
              " \"No doubts about the fact that you're a creative Artist but I don't feel totally guitar instrumental parts matching your great style/voice.\",\n",
              " \"I really liked your previous songs but this one didn't speak to me like the others. It's good, but I don't think it stands out among your work, unfortunately.\",\n",
              " 'Hey, I really enjoyed Hour After Hour, You have flexible vocals with amazing variations and control over your pitch - top left booking',\n",
              " \"Nice performance, rich clear instruments and nice vocals but I personally wasn't totally into the melody that much\",\n",
              " 'MYMEMORY WARNING: YOU USED ALL AVAILABLE FREE TRANSLATIONS FOR TODAY. NEXT AVAILABLE IN  17 HOURS 07 MINUTES 32 SECONDSVISIT HTTPS://MYMEMORY.TRANSLATED.NET/DOC/USAGELIMITS.PHP TO TRANSLATE MORE',\n",
              " 'MYMEMORY WARNING: YOU USED ALL AVAILABLE FREE TRANSLATIONS FOR TODAY. NEXT AVAILABLE IN  17 HOURS 07 MINUTES 32 SECONDSVISIT HTTPS://MYMEMORY.TRANSLATED.NET/DOC/USAGELIMITS.PHP TO TRANSLATE MORE',\n",
              " 'MYMEMORY WARNING: YOU USED ALL AVAILABLE FREE TRANSLATIONS FOR TODAY. NEXT AVAILABLE IN  17 HOURS 07 MINUTES 32 SECONDSVISIT HTTPS://MYMEMORY.TRANSLATED.NET/DOC/USAGELIMITS.PHP TO TRANSLATE MORE',\n",
              " 'MYMEMORY WARNING: YOU USED ALL AVAILABLE FREE TRANSLATIONS FOR TODAY. NEXT AVAILABLE IN  17 HOURS 07 MINUTES 32 SECONDSVISIT HTTPS://MYMEMORY.TRANSLATED.NET/DOC/USAGELIMITS.PHP TO TRANSLATE MORE',\n",
              " 'A most unusual track, quite theatrical in its presentation, lyrically, musically and visually (via the cartoon clip). Echoes of Lou Reed and \"Walk on the Wild Side\". Might appeal to radio station programmers  and presenters of experimental music shows. Enigmatic!',\n",
              " 'Hi,\\nReally chill overall vibe in this song. For my playlists however I am searching for slow guitar songs with less focus on vocals and more focus on instrumental parts.\\n\\nWish you all the best in the future!\\n\\nCheers,\\n\\nJens\\n',\n",
              " 'MYMEMORY WARNING: YOU USED ALL AVAILABLE FREE TRANSLATIONS FOR TODAY. NEXT AVAILABLE IN  17 HOURS 07 MINUTES 32 SECONDSVISIT HTTPS://MYMEMORY.TRANSLATED.NET/DOC/USAGELIMITS.PHP TO TRANSLATE MORE',\n",
              " 'Cool psych offering but we mostly focus on ethereal, aerial, dreamy soundscapes and here I think it was somehow too grounded for us.',\n",
              " 'Hour After Hour reveals how alternative rock, indie rock, art-rock psych-pop are articulating in perfect harmony but also demonstrates how the independent and underground music scene will develop in the nearest future. Everything about this number is delicate enough to keep your uttermost attention at the profoundly detailed musicianship and the dominant chants, which are certainly fulfilling the atmosphere with unique vibes. The guitars sound like a charm throughout the composition, while the bass guitar provides massiveness to both melodies and the overall atmosphere. The drums could be more detailed, but this is what these particular genres are demanding from the rhythm section, so everything sounds fine. I look forward to seeing how this artist will develop throughout the years. Excellent work!',\n",
              " 'Hi how are you? Thanks for sending your music for us! It is a good song, we will share. Best regards!',\n",
              " 'MYMEMORY WARNING: YOU USED ALL AVAILABLE FREE TRANSLATIONS FOR TODAY. NEXT AVAILABLE IN  17 HOURS 07 MINUTES 32 SECONDSVISIT HTTPS://MYMEMORY.TRANSLATED.NET/DOC/USAGELIMITS.PHP TO TRANSLATE MORE',\n",
              " \"Hi thanks for it,\\nI don't have the time to write about it for the moment but I will follow your activity and listen to your album !\\nThx\\nCaroline\",\n",
              " 'Hey Magon!\\n\\nThanks for contacting us again, always a pleasure to hear from you!\\n\\nAs always, amazing job. We are truly in love with your album and the whole visuals that u created for it.\\n\\nWill be such a honor to share it with our followers, ok?\\n\\nThank so much again for sharing. \\n\\nSee u! ',\n",
              " \"I found it interesting the way you sang the lyrics in that more questioning and spoken way. The guitar and drums do a good job of driving and it's a nice listening experience. Congratulations\",\n",
              " 'QUERY LENGTH LIMIT EXCEDEED. MAX ALLOWED QUERY : 500 CHARS QUERY LENGTH LIMIT EXCEDEED. MAX ALLOWED QUERY : 500 CHARS',\n",
              " 'already fã of the music will update the interview with this videoclip.  congratulations for the great album\\n\\n\\n',\n",
              " 'Cool video but I would prefer more energy with more contagious guitars and less spoken vocals.',\n",
              " 'Cool groove here! I decided to share your video as a news post on our blog. Hope you like it. Cheers ',\n",
              " 'MYMEMORY WARNING: YOU USED ALL AVAILABLE FREE TRANSLATIONS FOR TODAY. NEXT AVAILABLE IN  17 HOURS 07 MINUTES 31 SECONDSVISIT HTTPS://MYMEMORY.TRANSLATED.NET/DOC/USAGELIMITS.PHP TO TRANSLATE MORE',\n",
              " 'MYMEMORY WARNING: YOU USED ALL AVAILABLE FREE TRANSLATIONS FOR TODAY. NEXT AVAILABLE IN  17 HOURS 07 MINUTES 31 SECONDSVISIT HTTPS://MYMEMORY.TRANSLATED.NET/DOC/USAGELIMITS.PHP TO TRANSLATE MORE',\n",
              " 'MYMEMORY WARNING: YOU USED ALL AVAILABLE FREE TRANSLATIONS FOR TODAY. NEXT AVAILABLE IN  17 HOURS 07 MINUTES 31 SECONDSVISIT HTTPS://MYMEMORY.TRANSLATED.NET/DOC/USAGELIMITS.PHP TO TRANSLATE MORE',\n",
              " 'We really like the mix of modern and nostalgic rock sound of your band. This tune is very catchy on the guitars, hands clapping and the percussion. And the vocals are very good too. We are going to write about your album next friday on our website.\\n\\nBest\\nTECO APPLE',\n",
              " 'MYMEMORY WARNING: YOU USED ALL AVAILABLE FREE TRANSLATIONS FOR TODAY. NEXT AVAILABLE IN  17 HOURS 07 MINUTES 31 SECONDSVISIT HTTPS://MYMEMORY.TRANSLATED.NET/DOC/USAGELIMITS.PHP TO TRANSLATE MORE',\n",
              " 'MYMEMORY WARNING: YOU USED ALL AVAILABLE FREE TRANSLATIONS FOR TODAY. NEXT AVAILABLE IN  17 HOURS 07 MINUTES 31 SECONDSVISIT HTTPS://MYMEMORY.TRANSLATED.NET/DOC/USAGELIMITS.PHP TO TRANSLATE MORE',\n",
              " 'Once more delighted by Magon’s music nonchalant coolness. I’ve placed this tune on my hot January playlist!',\n",
              " 'Hi Magon, we love \"Hour After Hour\". Your music sounded truly incredible to us and with an addictive and contagious harmonic tone. The emphatic instrumental of the guitar mixed with the lyricism projected in your voice built an authentic and original music. We will be pleased to indicate it in our magazine.\\n\\nRegards,\\n\\neolor team.\\n\\n___________________________________________________________\\n\\nSalut Magon, on adore \"Hour After Hour\". Votre musique nous a semblé vraiment incroyable et avec un ton harmonique addictif et contagieux. L\\'instrumental emphatique de la guitare mélangé au lyrisme projeté dans votre voix a construit une musique authentique et originale. Nous nous ferons un plaisir de l\\'indiquer dans notre magazine.\\n\\nCordialement,\\n\\néquipe eolor.',\n",
              " 'MYMEMORY WARNING: YOU USED ALL AVAILABLE FREE TRANSLATIONS FOR TODAY. NEXT AVAILABLE IN  17 HOURS 07 MINUTES 31 SECONDSVISIT HTTPS://MYMEMORY.TRANSLATED.NET/DOC/USAGELIMITS.PHP TO TRANSLATE MORE',\n",
              " ...]"
            ]
          },
          "metadata": {
            "tags": []
          },
          "execution_count": 44
        }
      ]
    },
    {
      "cell_type": "markdown",
      "metadata": {
        "id": "aAX-xZlaoQiO"
      },
      "source": [
        "I could'nt translate the whole dataset because i have a number of translations per day limited (Like seen in the shell above)(it would take more than a week to translate the whole thing). Also for some reason the google translation api didn't work.\n"
      ]
    },
    {
      "cell_type": "markdown",
      "metadata": {
        "id": "YyxLwNn1om5r"
      },
      "source": [
        "From now on i'll only use the english feedbacks since all the feedbacks could be translated to english and so I can continue the challenge."
      ]
    },
    {
      "cell_type": "code",
      "metadata": {
        "id": "D6ai2-pGol8N"
      },
      "source": [
        "data_eng=data[data.lang=='en']"
      ],
      "execution_count": null,
      "outputs": []
    },
    {
      "cell_type": "code",
      "metadata": {
        "colab": {
          "base_uri": "https://localhost:8080/",
          "height": 204
        },
        "id": "_QgreyNroNFM",
        "outputId": "1e582b30-c856-43c4-e62b-8b384b419c9f"
      },
      "source": [
        "data_eng.head()"
      ],
      "execution_count": null,
      "outputs": [
        {
          "output_type": "execute_result",
          "data": {
            "text/html": [
              "<div>\n",
              "<style scoped>\n",
              "    .dataframe tbody tr th:only-of-type {\n",
              "        vertical-align: middle;\n",
              "    }\n",
              "\n",
              "    .dataframe tbody tr th {\n",
              "        vertical-align: top;\n",
              "    }\n",
              "\n",
              "    .dataframe thead th {\n",
              "        text-align: right;\n",
              "    }\n",
              "</style>\n",
              "<table border=\"1\" class=\"dataframe\">\n",
              "  <thead>\n",
              "    <tr style=\"text-align: right;\">\n",
              "      <th></th>\n",
              "      <th>id</th>\n",
              "      <th>band_id</th>\n",
              "      <th>influencer_id</th>\n",
              "      <th>feedback</th>\n",
              "      <th>score</th>\n",
              "      <th>lang</th>\n",
              "    </tr>\n",
              "  </thead>\n",
              "  <tbody>\n",
              "    <tr>\n",
              "      <th>10</th>\n",
              "      <td>920648</td>\n",
              "      <td>24665</td>\n",
              "      <td>1406</td>\n",
              "      <td>Hello and thanks for sharing your music with u...</td>\n",
              "      <td>0.0</td>\n",
              "      <td>en</td>\n",
              "    </tr>\n",
              "    <tr>\n",
              "      <th>11</th>\n",
              "      <td>920649</td>\n",
              "      <td>24665</td>\n",
              "      <td>1644</td>\n",
              "      <td>\\nHello, we have listened to your track. Unfor...</td>\n",
              "      <td>0.0</td>\n",
              "      <td>en</td>\n",
              "    </tr>\n",
              "    <tr>\n",
              "      <th>12</th>\n",
              "      <td>920650</td>\n",
              "      <td>24665</td>\n",
              "      <td>3212</td>\n",
              "      <td>Hi! I liked the song, it has a nice beat. The ...</td>\n",
              "      <td>0.0</td>\n",
              "      <td>en</td>\n",
              "    </tr>\n",
              "    <tr>\n",
              "      <th>14</th>\n",
              "      <td>920653</td>\n",
              "      <td>24665</td>\n",
              "      <td>1672</td>\n",
              "      <td>Hi\\n\\nGood News \"Liberté je t'aime\" as been ad...</td>\n",
              "      <td>1.0</td>\n",
              "      <td>en</td>\n",
              "    </tr>\n",
              "    <tr>\n",
              "      <th>17</th>\n",
              "      <td>920656</td>\n",
              "      <td>24665</td>\n",
              "      <td>2417</td>\n",
              "      <td>Hey, thanks for sending out. We’ll pass on tha...</td>\n",
              "      <td>0.0</td>\n",
              "      <td>en</td>\n",
              "    </tr>\n",
              "  </tbody>\n",
              "</table>\n",
              "</div>"
            ],
            "text/plain": [
              "        id  band_id  ...  score lang\n",
              "10  920648    24665  ...    0.0   en\n",
              "11  920649    24665  ...    0.0   en\n",
              "12  920650    24665  ...    0.0   en\n",
              "14  920653    24665  ...    1.0   en\n",
              "17  920656    24665  ...    0.0   en\n",
              "\n",
              "[5 rows x 6 columns]"
            ]
          },
          "metadata": {
            "tags": []
          },
          "execution_count": 27
        }
      ]
    },
    {
      "cell_type": "code",
      "metadata": {
        "colab": {
          "base_uri": "https://localhost:8080/"
        },
        "id": "hjn5oXkygO8b",
        "outputId": "86388939-ce1d-49dc-e6e4-bb2e87b08443"
      },
      "source": [
        "data_eng.shape"
      ],
      "execution_count": null,
      "outputs": [
        {
          "output_type": "execute_result",
          "data": {
            "text/plain": [
              "(4836, 6)"
            ]
          },
          "metadata": {
            "tags": []
          },
          "execution_count": 28
        }
      ]
    },
    {
      "cell_type": "code",
      "metadata": {
        "id": "dFuhNXZ7pncu"
      },
      "source": [
        "data_eng=data_eng.drop(['id','band_id','influencer_id','lang'],axis=1)"
      ],
      "execution_count": null,
      "outputs": []
    },
    {
      "cell_type": "markdown",
      "metadata": {
        "id": "-IigzERQ0ZB0"
      },
      "source": [
        "### Cleaning of the dataset"
      ]
    },
    {
      "cell_type": "code",
      "metadata": {
        "id": "jvMJNHTuvE1O"
      },
      "source": [
        "def clean_text(text):\n",
        "    text = text.lower()\n",
        "    text = re.sub('\\[.*?\\]', '', text)\n",
        "    text = re.sub('https?://\\S+|www\\.\\S+', '', text)\n",
        "    text = re.sub('<.*?>+', '', text)\n",
        "    text = re.sub('[%s]' % re.escape(string.punctuation), '',text)\n",
        "    text = re.sub('\\n', '', text)\n",
        "    text = re.sub('\\w*\\d\\w*', '', text)\n",
        "    return text"
      ],
      "execution_count": null,
      "outputs": []
    },
    {
      "cell_type": "code",
      "metadata": {
        "colab": {
          "base_uri": "https://localhost:8080/",
          "height": 204
        },
        "id": "2gZN7H_R2DRX",
        "outputId": "b6c01456-3f7b-48b9-e49b-18aa38109825"
      },
      "source": [
        "data_eng.head()"
      ],
      "execution_count": null,
      "outputs": [
        {
          "output_type": "execute_result",
          "data": {
            "text/html": [
              "<div>\n",
              "<style scoped>\n",
              "    .dataframe tbody tr th:only-of-type {\n",
              "        vertical-align: middle;\n",
              "    }\n",
              "\n",
              "    .dataframe tbody tr th {\n",
              "        vertical-align: top;\n",
              "    }\n",
              "\n",
              "    .dataframe thead th {\n",
              "        text-align: right;\n",
              "    }\n",
              "</style>\n",
              "<table border=\"1\" class=\"dataframe\">\n",
              "  <thead>\n",
              "    <tr style=\"text-align: right;\">\n",
              "      <th></th>\n",
              "      <th>feedback</th>\n",
              "      <th>score</th>\n",
              "    </tr>\n",
              "  </thead>\n",
              "  <tbody>\n",
              "    <tr>\n",
              "      <th>10</th>\n",
              "      <td>Hello and thanks for sharing your music with u...</td>\n",
              "      <td>0.0</td>\n",
              "    </tr>\n",
              "    <tr>\n",
              "      <th>11</th>\n",
              "      <td>\\nHello, we have listened to your track. Unfor...</td>\n",
              "      <td>0.0</td>\n",
              "    </tr>\n",
              "    <tr>\n",
              "      <th>12</th>\n",
              "      <td>Hi! I liked the song, it has a nice beat. The ...</td>\n",
              "      <td>0.0</td>\n",
              "    </tr>\n",
              "    <tr>\n",
              "      <th>14</th>\n",
              "      <td>Hi\\n\\nGood News \"Liberté je t'aime\" as been ad...</td>\n",
              "      <td>1.0</td>\n",
              "    </tr>\n",
              "    <tr>\n",
              "      <th>17</th>\n",
              "      <td>Hey, thanks for sending out. We’ll pass on tha...</td>\n",
              "      <td>0.0</td>\n",
              "    </tr>\n",
              "  </tbody>\n",
              "</table>\n",
              "</div>"
            ],
            "text/plain": [
              "                                             feedback  score\n",
              "10  Hello and thanks for sharing your music with u...    0.0\n",
              "11  \\nHello, we have listened to your track. Unfor...    0.0\n",
              "12  Hi! I liked the song, it has a nice beat. The ...    0.0\n",
              "14  Hi\\n\\nGood News \"Liberté je t'aime\" as been ad...    1.0\n",
              "17  Hey, thanks for sending out. We’ll pass on tha...    0.0"
            ]
          },
          "metadata": {
            "tags": []
          },
          "execution_count": 31
        }
      ]
    },
    {
      "cell_type": "code",
      "metadata": {
        "id": "s8O_VDYSe-7Z"
      },
      "source": [
        "data_eng['feedback'] = data['feedback'].apply(lambda x: clean_text(x))"
      ],
      "execution_count": null,
      "outputs": []
    },
    {
      "cell_type": "code",
      "metadata": {
        "colab": {
          "base_uri": "https://localhost:8080/",
          "height": 204
        },
        "id": "TeIbgtrq2VJf",
        "outputId": "677d543d-7a12-4bcb-c9af-c97fdbf53e9c"
      },
      "source": [
        "data_eng.head()"
      ],
      "execution_count": null,
      "outputs": [
        {
          "output_type": "execute_result",
          "data": {
            "text/html": [
              "<div>\n",
              "<style scoped>\n",
              "    .dataframe tbody tr th:only-of-type {\n",
              "        vertical-align: middle;\n",
              "    }\n",
              "\n",
              "    .dataframe tbody tr th {\n",
              "        vertical-align: top;\n",
              "    }\n",
              "\n",
              "    .dataframe thead th {\n",
              "        text-align: right;\n",
              "    }\n",
              "</style>\n",
              "<table border=\"1\" class=\"dataframe\">\n",
              "  <thead>\n",
              "    <tr style=\"text-align: right;\">\n",
              "      <th></th>\n",
              "      <th>feedback</th>\n",
              "      <th>score</th>\n",
              "    </tr>\n",
              "  </thead>\n",
              "  <tbody>\n",
              "    <tr>\n",
              "      <th>10</th>\n",
              "      <td>hello and thanks for sharing your music with u...</td>\n",
              "      <td>0.0</td>\n",
              "    </tr>\n",
              "    <tr>\n",
              "      <th>11</th>\n",
              "      <td>hello we have listened to your track unfortuna...</td>\n",
              "      <td>0.0</td>\n",
              "    </tr>\n",
              "    <tr>\n",
              "      <th>12</th>\n",
              "      <td>hi i liked the song it has a nice beat the lyr...</td>\n",
              "      <td>0.0</td>\n",
              "    </tr>\n",
              "    <tr>\n",
              "      <th>14</th>\n",
              "      <td>higood news liberté je taime as been added to ...</td>\n",
              "      <td>1.0</td>\n",
              "    </tr>\n",
              "    <tr>\n",
              "      <th>17</th>\n",
              "      <td>hey thanks for sending out we’ll pass on that ...</td>\n",
              "      <td>0.0</td>\n",
              "    </tr>\n",
              "  </tbody>\n",
              "</table>\n",
              "</div>"
            ],
            "text/plain": [
              "                                             feedback  score\n",
              "10  hello and thanks for sharing your music with u...    0.0\n",
              "11  hello we have listened to your track unfortuna...    0.0\n",
              "12  hi i liked the song it has a nice beat the lyr...    0.0\n",
              "14  higood news liberté je taime as been added to ...    1.0\n",
              "17  hey thanks for sending out we’ll pass on that ...    0.0"
            ]
          },
          "metadata": {
            "tags": []
          },
          "execution_count": 33
        }
      ]
    },
    {
      "cell_type": "code",
      "metadata": {
        "colab": {
          "base_uri": "https://localhost:8080/"
        },
        "id": "mqsD3-rnX5Sx",
        "outputId": "b5e67638-9612-4c22-a94a-95c62aeeded1"
      },
      "source": [
        "import nltk\n",
        "nltk.download('stopwords')"
      ],
      "execution_count": null,
      "outputs": [
        {
          "output_type": "stream",
          "text": [
            "[nltk_data] Downloading package stopwords to /root/nltk_data...\n",
            "[nltk_data]   Unzipping corpora/stopwords.zip.\n"
          ],
          "name": "stdout"
        },
        {
          "output_type": "execute_result",
          "data": {
            "text/plain": [
              "True"
            ]
          },
          "metadata": {
            "tags": []
          },
          "execution_count": 34
        }
      ]
    },
    {
      "cell_type": "code",
      "metadata": {
        "colab": {
          "base_uri": "https://localhost:8080/"
        },
        "id": "cRrZBmzqYQeo",
        "outputId": "587db483-7e6d-46bd-c1bf-0aaaafe4706d"
      },
      "source": [
        "nltk.download('punkt')"
      ],
      "execution_count": null,
      "outputs": [
        {
          "output_type": "stream",
          "text": [
            "[nltk_data] Downloading package punkt to /root/nltk_data...\n",
            "[nltk_data]   Unzipping tokenizers/punkt.zip.\n"
          ],
          "name": "stdout"
        },
        {
          "output_type": "execute_result",
          "data": {
            "text/plain": [
              "True"
            ]
          },
          "metadata": {
            "tags": []
          },
          "execution_count": 35
        }
      ]
    },
    {
      "cell_type": "code",
      "metadata": {
        "id": "PXpdDpN6Uds7"
      },
      "source": [
        "from nltk.corpus import stopwords\n",
        "from nltk.tokenize import word_tokenize \n",
        "def process(input_text):  #removing stop words\n",
        "  stop_words = set(stopwords.words('english')) \n",
        "  word_tokens = word_tokenize(input_text) \n",
        "  output_text = [w for w in word_tokens if not w in stop_words] \n",
        "  output = ''\n",
        "  for w in word_tokens: \n",
        "    if w not in stop_words: \n",
        "        output=output+' '+ w\n",
        "  return output"
      ],
      "execution_count": null,
      "outputs": []
    },
    {
      "cell_type": "code",
      "metadata": {
        "id": "zHyu8NYPZqB4"
      },
      "source": [
        "data_eng['feedback']=data_eng['feedback'].apply(process)"
      ],
      "execution_count": null,
      "outputs": []
    },
    {
      "cell_type": "code",
      "metadata": {
        "colab": {
          "base_uri": "https://localhost:8080/"
        },
        "id": "VYLURdiLZ2Is",
        "outputId": "975fb302-1da7-4844-fc35-7f4fbb9514c0"
      },
      "source": [
        "data_eng.shape"
      ],
      "execution_count": null,
      "outputs": [
        {
          "output_type": "execute_result",
          "data": {
            "text/plain": [
              "(4836, 2)"
            ]
          },
          "metadata": {
            "tags": []
          },
          "execution_count": 38
        }
      ]
    },
    {
      "cell_type": "code",
      "metadata": {
        "colab": {
          "base_uri": "https://localhost:8080/",
          "height": 204
        },
        "id": "AVgLsH82dXg8",
        "outputId": "7ac3f7a2-6f75-462f-eabd-7e8c5c093ab8"
      },
      "source": [
        "data_eng.head()"
      ],
      "execution_count": null,
      "outputs": [
        {
          "output_type": "execute_result",
          "data": {
            "text/html": [
              "<div>\n",
              "<style scoped>\n",
              "    .dataframe tbody tr th:only-of-type {\n",
              "        vertical-align: middle;\n",
              "    }\n",
              "\n",
              "    .dataframe tbody tr th {\n",
              "        vertical-align: top;\n",
              "    }\n",
              "\n",
              "    .dataframe thead th {\n",
              "        text-align: right;\n",
              "    }\n",
              "</style>\n",
              "<table border=\"1\" class=\"dataframe\">\n",
              "  <thead>\n",
              "    <tr style=\"text-align: right;\">\n",
              "      <th></th>\n",
              "      <th>feedback</th>\n",
              "      <th>score</th>\n",
              "    </tr>\n",
              "  </thead>\n",
              "  <tbody>\n",
              "    <tr>\n",
              "      <th>10</th>\n",
              "      <td>hello thanks sharing music us honestly beauti...</td>\n",
              "      <td>0.0</td>\n",
              "    </tr>\n",
              "    <tr>\n",
              "      <th>11</th>\n",
              "      <td>hello listened track unfortunately crush good...</td>\n",
              "      <td>0.0</td>\n",
              "    </tr>\n",
              "    <tr>\n",
              "      <th>12</th>\n",
              "      <td>hi liked song nice beat lyrics also interesti...</td>\n",
              "      <td>0.0</td>\n",
              "    </tr>\n",
              "    <tr>\n",
              "      <th>14</th>\n",
              "      <td>higood news liberté je taime added playlist t...</td>\n",
              "      <td>1.0</td>\n",
              "    </tr>\n",
              "    <tr>\n",
              "      <th>17</th>\n",
              "      <td>hey thanks sending ’ pass one unfortunately r...</td>\n",
              "      <td>0.0</td>\n",
              "    </tr>\n",
              "  </tbody>\n",
              "</table>\n",
              "</div>"
            ],
            "text/plain": [
              "                                             feedback  score\n",
              "10   hello thanks sharing music us honestly beauti...    0.0\n",
              "11   hello listened track unfortunately crush good...    0.0\n",
              "12   hi liked song nice beat lyrics also interesti...    0.0\n",
              "14   higood news liberté je taime added playlist t...    1.0\n",
              "17   hey thanks sending ’ pass one unfortunately r...    0.0"
            ]
          },
          "metadata": {
            "tags": []
          },
          "execution_count": 39
        }
      ]
    },
    {
      "cell_type": "markdown",
      "metadata": {
        "id": "Wx744_c-gaJD"
      },
      "source": [
        "### Fitting into analysis"
      ]
    },
    {
      "cell_type": "markdown",
      "metadata": {
        "id": "43OvZevqi4ZV"
      },
      "source": [
        "In this part, I plan to use a tfidf transformation then use the result to train  a neural network."
      ]
    },
    {
      "cell_type": "code",
      "metadata": {
        "id": "vUvNFHSojKf7"
      },
      "source": [
        "from sklearn.feature_extraction.text import TfidfVectorizer"
      ],
      "execution_count": null,
      "outputs": []
    },
    {
      "cell_type": "code",
      "metadata": {
        "colab": {
          "base_uri": "https://localhost:8080/"
        },
        "id": "yiw0VJh_jf82",
        "outputId": "70eebae4-d8c7-4290-f588-3dc1f34b869a"
      },
      "source": [
        "corpus=data_eng.feedback\n",
        "corpus"
      ],
      "execution_count": null,
      "outputs": [
        {
          "output_type": "execute_result",
          "data": {
            "text/plain": [
              "10       hello thanks sharing music us honestly beauti...\n",
              "11       hello listened track unfortunately crush good...\n",
              "12       hi liked song nice beat lyrics also interesti...\n",
              "14       higood news liberté je taime added playlist t...\n",
              "17       hey thanks sending ’ pass one unfortunately r...\n",
              "                              ...                        \n",
              "9994     hi ödethank much submitting musicgreat track ...\n",
              "9995     hey guys thanks sharing great sound although ...\n",
              "9996     hello md one thank track bombe ai certainly h...\n",
              "9997     hi thanks sharing track really like song real...\n",
              "9998     exceptionally produced electropop composition...\n",
              "Name: feedback, Length: 4836, dtype: object"
            ]
          },
          "metadata": {
            "tags": []
          },
          "execution_count": 44
        }
      ]
    },
    {
      "cell_type": "code",
      "metadata": {
        "colab": {
          "base_uri": "https://localhost:8080/"
        },
        "id": "RSepmz0wjw0X",
        "outputId": "f2903859-be28-42ba-c2b6-a6f2515f2664"
      },
      "source": [
        "vectorizer = TfidfVectorizer()\n",
        "X = vectorizer.fit_transform(corpus)\n",
        "vocab=vectorizer.get_feature_names()\n",
        "X.shape"
      ],
      "execution_count": null,
      "outputs": [
        {
          "output_type": "execute_result",
          "data": {
            "text/plain": [
              "(4836, 10288)"
            ]
          },
          "metadata": {
            "tags": []
          },
          "execution_count": 47
        }
      ]
    },
    {
      "cell_type": "code",
      "metadata": {
        "colab": {
          "base_uri": "https://localhost:8080/"
        },
        "id": "I8ax_Xr8kY-Z",
        "outputId": "dc5dd661-7d14-41e0-84fd-ff34e9a8b708"
      },
      "source": [
        "len(vocab)"
      ],
      "execution_count": null,
      "outputs": [
        {
          "output_type": "execute_result",
          "data": {
            "text/plain": [
              "10288"
            ]
          },
          "metadata": {
            "tags": []
          },
          "execution_count": 49
        }
      ]
    },
    {
      "cell_type": "markdown",
      "metadata": {
        "id": "iIaSlEZLkpqa"
      },
      "source": [
        "The dimension is too high, we can use a PCA (dimensionality reduction)"
      ]
    },
    {
      "cell_type": "code",
      "metadata": {
        "id": "NhoHCIkJkmmi"
      },
      "source": [
        "D=X.todense()"
      ],
      "execution_count": null,
      "outputs": []
    },
    {
      "cell_type": "code",
      "metadata": {
        "colab": {
          "base_uri": "https://localhost:8080/"
        },
        "id": "YIc4ogtVldOK",
        "outputId": "8fed18bd-7506-4db0-b458-f9cf10d9abdd"
      },
      "source": [
        "from sklearn.decomposition import PCA\n",
        "pca=PCA(3000)\n",
        "pca.fit(D)\n",
        "print(sum(pca.explained_variance_ratio_))"
      ],
      "execution_count": null,
      "outputs": [
        {
          "output_type": "stream",
          "text": [
            "0.981970375728137\n"
          ],
          "name": "stdout"
        }
      ]
    },
    {
      "cell_type": "markdown",
      "metadata": {
        "id": "sbCsfNDon3iE"
      },
      "source": [
        "With 3000 variables we have more that 98% of the information\n",
        "so we're only using 3000 variables"
      ]
    },
    {
      "cell_type": "code",
      "metadata": {
        "id": "szonHtdAqmSD"
      },
      "source": [
        "def RN_trans(Y):\n",
        "  L=[]\n",
        "  for y in Y:\n",
        "    if y==0:\n",
        "      L.append([1,0,0,0])\n",
        "    elif y==0.25:\n",
        "      L.append([0,1,0,0])\n",
        "    elif y==0.5:\n",
        "      L.append([0,0,1,0])\n",
        "    else:\n",
        "      L.append([0,0,0,1])\n",
        "  return L\n"
      ],
      "execution_count": null,
      "outputs": []
    },
    {
      "cell_type": "code",
      "metadata": {
        "id": "VNnxx3jGn2aJ"
      },
      "source": [
        "X=pca.transform(D)"
      ],
      "execution_count": null,
      "outputs": []
    },
    {
      "cell_type": "code",
      "metadata": {
        "id": "bkcirceXozG2"
      },
      "source": [
        "Y=RN_trans(np.array(data_eng['score']))"
      ],
      "execution_count": null,
      "outputs": []
    },
    {
      "cell_type": "code",
      "metadata": {
        "colab": {
          "base_uri": "https://localhost:8080/"
        },
        "id": "BgwM-ZDIry2c",
        "outputId": "168e23bd-85d6-4be1-e921-7ac4fbcac0f8"
      },
      "source": [
        "Y"
      ],
      "execution_count": null,
      "outputs": [
        {
          "output_type": "execute_result",
          "data": {
            "text/plain": [
              "[[1, 0, 0, 0],\n",
              " [1, 0, 0, 0],\n",
              " [1, 0, 0, 0],\n",
              " [0, 0, 0, 1],\n",
              " [1, 0, 0, 0],\n",
              " [1, 0, 0, 0],\n",
              " [1, 0, 0, 0],\n",
              " [1, 0, 0, 0],\n",
              " [1, 0, 0, 0],\n",
              " [0, 1, 0, 0],\n",
              " [0, 0, 0, 1],\n",
              " [0, 0, 0, 1],\n",
              " [1, 0, 0, 0],\n",
              " [0, 0, 0, 1],\n",
              " [1, 0, 0, 0],\n",
              " [1, 0, 0, 0],\n",
              " [0, 1, 0, 0],\n",
              " [1, 0, 0, 0],\n",
              " [1, 0, 0, 0],\n",
              " [1, 0, 0, 0],\n",
              " [0, 0, 0, 1],\n",
              " [1, 0, 0, 0],\n",
              " [1, 0, 0, 0],\n",
              " [0, 1, 0, 0],\n",
              " [1, 0, 0, 0],\n",
              " [1, 0, 0, 0],\n",
              " [1, 0, 0, 0],\n",
              " [1, 0, 0, 0],\n",
              " [1, 0, 0, 0],\n",
              " [1, 0, 0, 0],\n",
              " [1, 0, 0, 0],\n",
              " [1, 0, 0, 0],\n",
              " [1, 0, 0, 0],\n",
              " [1, 0, 0, 0],\n",
              " [1, 0, 0, 0],\n",
              " [1, 0, 0, 0],\n",
              " [1, 0, 0, 0],\n",
              " [0, 0, 0, 1],\n",
              " [1, 0, 0, 0],\n",
              " [1, 0, 0, 0],\n",
              " [0, 0, 0, 1],\n",
              " [1, 0, 0, 0],\n",
              " [1, 0, 0, 0],\n",
              " [0, 0, 1, 0],\n",
              " [0, 1, 0, 0],\n",
              " [0, 0, 0, 1],\n",
              " [1, 0, 0, 0],\n",
              " [1, 0, 0, 0],\n",
              " [1, 0, 0, 0],\n",
              " [0, 0, 0, 1],\n",
              " [1, 0, 0, 0],\n",
              " [0, 1, 0, 0],\n",
              " [1, 0, 0, 0],\n",
              " [0, 0, 0, 1],\n",
              " [1, 0, 0, 0],\n",
              " [1, 0, 0, 0],\n",
              " [0, 0, 0, 1],\n",
              " [1, 0, 0, 0],\n",
              " [0, 0, 0, 1],\n",
              " [1, 0, 0, 0],\n",
              " [0, 0, 0, 1],\n",
              " [0, 0, 0, 1],\n",
              " [1, 0, 0, 0],\n",
              " [1, 0, 0, 0],\n",
              " [0, 0, 0, 1],\n",
              " [0, 0, 0, 1],\n",
              " [0, 0, 0, 1],\n",
              " [1, 0, 0, 0],\n",
              " [0, 0, 0, 1],\n",
              " [0, 0, 0, 1],\n",
              " [1, 0, 0, 0],\n",
              " [0, 0, 0, 1],\n",
              " [0, 0, 0, 1],\n",
              " [1, 0, 0, 0],\n",
              " [1, 0, 0, 0],\n",
              " [1, 0, 0, 0],\n",
              " [1, 0, 0, 0],\n",
              " [1, 0, 0, 0],\n",
              " [0, 0, 0, 1],\n",
              " [1, 0, 0, 0],\n",
              " [1, 0, 0, 0],\n",
              " [1, 0, 0, 0],\n",
              " [0, 1, 0, 0],\n",
              " [0, 1, 0, 0],\n",
              " [1, 0, 0, 0],\n",
              " [1, 0, 0, 0],\n",
              " [1, 0, 0, 0],\n",
              " [1, 0, 0, 0],\n",
              " [0, 0, 0, 1],\n",
              " [0, 0, 0, 1],\n",
              " [1, 0, 0, 0],\n",
              " [1, 0, 0, 0],\n",
              " [1, 0, 0, 0],\n",
              " [0, 1, 0, 0],\n",
              " [0, 0, 0, 1],\n",
              " [0, 0, 0, 1],\n",
              " [1, 0, 0, 0],\n",
              " [1, 0, 0, 0],\n",
              " [1, 0, 0, 0],\n",
              " [1, 0, 0, 0],\n",
              " [0, 0, 0, 1],\n",
              " [1, 0, 0, 0],\n",
              " [1, 0, 0, 0],\n",
              " [1, 0, 0, 0],\n",
              " [1, 0, 0, 0],\n",
              " [1, 0, 0, 0],\n",
              " [1, 0, 0, 0],\n",
              " [1, 0, 0, 0],\n",
              " [0, 0, 0, 1],\n",
              " [1, 0, 0, 0],\n",
              " [1, 0, 0, 0],\n",
              " [1, 0, 0, 0],\n",
              " [0, 1, 0, 0],\n",
              " [0, 0, 0, 1],\n",
              " [1, 0, 0, 0],\n",
              " [0, 1, 0, 0],\n",
              " [0, 1, 0, 0],\n",
              " [0, 0, 0, 1],\n",
              " [1, 0, 0, 0],\n",
              " [0, 0, 0, 1],\n",
              " [0, 0, 0, 1],\n",
              " [0, 1, 0, 0],\n",
              " [0, 0, 0, 1],\n",
              " [1, 0, 0, 0],\n",
              " [0, 0, 0, 1],\n",
              " [0, 0, 0, 1],\n",
              " [1, 0, 0, 0],\n",
              " [1, 0, 0, 0],\n",
              " [0, 0, 0, 1],\n",
              " [1, 0, 0, 0],\n",
              " [0, 1, 0, 0],\n",
              " [1, 0, 0, 0],\n",
              " [0, 1, 0, 0],\n",
              " [1, 0, 0, 0],\n",
              " [1, 0, 0, 0],\n",
              " [1, 0, 0, 0],\n",
              " [1, 0, 0, 0],\n",
              " [1, 0, 0, 0],\n",
              " [1, 0, 0, 0],\n",
              " [0, 0, 0, 1],\n",
              " [1, 0, 0, 0],\n",
              " [0, 0, 0, 1],\n",
              " [1, 0, 0, 0],\n",
              " [1, 0, 0, 0],\n",
              " [1, 0, 0, 0],\n",
              " [1, 0, 0, 0],\n",
              " [1, 0, 0, 0],\n",
              " [1, 0, 0, 0],\n",
              " [1, 0, 0, 0],\n",
              " [1, 0, 0, 0],\n",
              " [0, 0, 0, 1],\n",
              " [1, 0, 0, 0],\n",
              " [1, 0, 0, 0],\n",
              " [1, 0, 0, 0],\n",
              " [0, 1, 0, 0],\n",
              " [0, 0, 0, 1],\n",
              " [0, 0, 0, 1],\n",
              " [1, 0, 0, 0],\n",
              " [1, 0, 0, 0],\n",
              " [0, 0, 0, 1],\n",
              " [1, 0, 0, 0],\n",
              " [1, 0, 0, 0],\n",
              " [1, 0, 0, 0],\n",
              " [1, 0, 0, 0],\n",
              " [1, 0, 0, 0],\n",
              " [1, 0, 0, 0],\n",
              " [1, 0, 0, 0],\n",
              " [1, 0, 0, 0],\n",
              " [1, 0, 0, 0],\n",
              " [1, 0, 0, 0],\n",
              " [0, 0, 0, 1],\n",
              " [0, 0, 0, 1],\n",
              " [1, 0, 0, 0],\n",
              " [0, 0, 0, 1],\n",
              " [0, 1, 0, 0],\n",
              " [1, 0, 0, 0],\n",
              " [1, 0, 0, 0],\n",
              " [0, 1, 0, 0],\n",
              " [1, 0, 0, 0],\n",
              " [1, 0, 0, 0],\n",
              " [1, 0, 0, 0],\n",
              " [1, 0, 0, 0],\n",
              " [1, 0, 0, 0],\n",
              " [1, 0, 0, 0],\n",
              " [1, 0, 0, 0],\n",
              " [1, 0, 0, 0],\n",
              " [0, 1, 0, 0],\n",
              " [1, 0, 0, 0],\n",
              " [1, 0, 0, 0],\n",
              " [0, 1, 0, 0],\n",
              " [1, 0, 0, 0],\n",
              " [1, 0, 0, 0],\n",
              " [1, 0, 0, 0],\n",
              " [1, 0, 0, 0],\n",
              " [0, 0, 0, 1],\n",
              " [1, 0, 0, 0],\n",
              " [1, 0, 0, 0],\n",
              " [1, 0, 0, 0],\n",
              " [1, 0, 0, 0],\n",
              " [0, 1, 0, 0],\n",
              " [1, 0, 0, 0],\n",
              " [1, 0, 0, 0],\n",
              " [1, 0, 0, 0],\n",
              " [0, 0, 0, 1],\n",
              " [1, 0, 0, 0],\n",
              " [1, 0, 0, 0],\n",
              " [0, 1, 0, 0],\n",
              " [0, 1, 0, 0],\n",
              " [0, 0, 0, 1],\n",
              " [1, 0, 0, 0],\n",
              " [1, 0, 0, 0],\n",
              " [1, 0, 0, 0],\n",
              " [1, 0, 0, 0],\n",
              " [1, 0, 0, 0],\n",
              " [1, 0, 0, 0],\n",
              " [1, 0, 0, 0],\n",
              " [1, 0, 0, 0],\n",
              " [1, 0, 0, 0],\n",
              " [1, 0, 0, 0],\n",
              " [1, 0, 0, 0],\n",
              " [1, 0, 0, 0],\n",
              " [1, 0, 0, 0],\n",
              " [1, 0, 0, 0],\n",
              " [1, 0, 0, 0],\n",
              " [1, 0, 0, 0],\n",
              " [1, 0, 0, 0],\n",
              " [1, 0, 0, 0],\n",
              " [1, 0, 0, 0],\n",
              " [1, 0, 0, 0],\n",
              " [1, 0, 0, 0],\n",
              " [1, 0, 0, 0],\n",
              " [0, 1, 0, 0],\n",
              " [1, 0, 0, 0],\n",
              " [0, 0, 0, 1],\n",
              " [0, 0, 0, 1],\n",
              " [1, 0, 0, 0],\n",
              " [1, 0, 0, 0],\n",
              " [1, 0, 0, 0],\n",
              " [1, 0, 0, 0],\n",
              " [0, 1, 0, 0],\n",
              " [1, 0, 0, 0],\n",
              " [0, 0, 0, 1],\n",
              " [0, 1, 0, 0],\n",
              " [1, 0, 0, 0],\n",
              " [1, 0, 0, 0],\n",
              " [0, 0, 1, 0],\n",
              " [0, 0, 0, 1],\n",
              " [0, 0, 0, 1],\n",
              " [1, 0, 0, 0],\n",
              " [1, 0, 0, 0],\n",
              " [1, 0, 0, 0],\n",
              " [0, 0, 0, 1],\n",
              " [0, 0, 0, 1],\n",
              " [1, 0, 0, 0],\n",
              " [0, 1, 0, 0],\n",
              " [1, 0, 0, 0],\n",
              " [0, 0, 0, 1],\n",
              " [1, 0, 0, 0],\n",
              " [0, 0, 0, 1],\n",
              " [1, 0, 0, 0],\n",
              " [1, 0, 0, 0],\n",
              " [1, 0, 0, 0],\n",
              " [0, 1, 0, 0],\n",
              " [0, 1, 0, 0],\n",
              " [0, 1, 0, 0],\n",
              " [0, 0, 0, 1],\n",
              " [1, 0, 0, 0],\n",
              " [1, 0, 0, 0],\n",
              " [1, 0, 0, 0],\n",
              " [1, 0, 0, 0],\n",
              " [1, 0, 0, 0],\n",
              " [1, 0, 0, 0],\n",
              " [1, 0, 0, 0],\n",
              " [1, 0, 0, 0],\n",
              " [0, 0, 0, 1],\n",
              " [1, 0, 0, 0],\n",
              " [1, 0, 0, 0],\n",
              " [1, 0, 0, 0],\n",
              " [1, 0, 0, 0],\n",
              " [1, 0, 0, 0],\n",
              " [0, 0, 0, 1],\n",
              " [0, 1, 0, 0],\n",
              " [1, 0, 0, 0],\n",
              " [1, 0, 0, 0],\n",
              " [1, 0, 0, 0],\n",
              " [0, 0, 1, 0],\n",
              " [1, 0, 0, 0],\n",
              " [1, 0, 0, 0],\n",
              " [1, 0, 0, 0],\n",
              " [1, 0, 0, 0],\n",
              " [1, 0, 0, 0],\n",
              " [1, 0, 0, 0],\n",
              " [1, 0, 0, 0],\n",
              " [0, 0, 0, 1],\n",
              " [0, 0, 0, 1],\n",
              " [1, 0, 0, 0],\n",
              " [1, 0, 0, 0],\n",
              " [1, 0, 0, 0],\n",
              " [0, 1, 0, 0],\n",
              " [1, 0, 0, 0],\n",
              " [1, 0, 0, 0],\n",
              " [1, 0, 0, 0],\n",
              " [1, 0, 0, 0],\n",
              " [0, 0, 0, 1],\n",
              " [1, 0, 0, 0],\n",
              " [0, 0, 0, 1],\n",
              " [1, 0, 0, 0],\n",
              " [1, 0, 0, 0],\n",
              " [1, 0, 0, 0],\n",
              " [1, 0, 0, 0],\n",
              " [1, 0, 0, 0],\n",
              " [1, 0, 0, 0],\n",
              " [0, 0, 0, 1],\n",
              " [1, 0, 0, 0],\n",
              " [1, 0, 0, 0],\n",
              " [1, 0, 0, 0],\n",
              " [0, 0, 0, 1],\n",
              " [1, 0, 0, 0],\n",
              " [1, 0, 0, 0],\n",
              " [1, 0, 0, 0],\n",
              " [0, 0, 0, 1],\n",
              " [1, 0, 0, 0],\n",
              " [1, 0, 0, 0],\n",
              " [0, 0, 0, 1],\n",
              " [0, 0, 0, 1],\n",
              " [1, 0, 0, 0],\n",
              " [0, 0, 0, 1],\n",
              " [1, 0, 0, 0],\n",
              " [0, 1, 0, 0],\n",
              " [0, 0, 0, 1],\n",
              " [0, 0, 0, 1],\n",
              " [0, 0, 0, 1],\n",
              " [1, 0, 0, 0],\n",
              " [1, 0, 0, 0],\n",
              " [0, 1, 0, 0],\n",
              " [1, 0, 0, 0],\n",
              " [0, 0, 0, 1],\n",
              " [0, 0, 0, 1],\n",
              " [0, 1, 0, 0],\n",
              " [0, 1, 0, 0],\n",
              " [1, 0, 0, 0],\n",
              " [1, 0, 0, 0],\n",
              " [0, 1, 0, 0],\n",
              " [1, 0, 0, 0],\n",
              " [0, 0, 0, 1],\n",
              " [1, 0, 0, 0],\n",
              " [1, 0, 0, 0],\n",
              " [0, 0, 0, 1],\n",
              " [0, 0, 0, 1],\n",
              " [0, 0, 0, 1],\n",
              " [0, 0, 0, 1],\n",
              " [0, 0, 0, 1],\n",
              " [0, 1, 0, 0],\n",
              " [1, 0, 0, 0],\n",
              " [0, 0, 0, 1],\n",
              " [0, 1, 0, 0],\n",
              " [1, 0, 0, 0],\n",
              " [0, 1, 0, 0],\n",
              " [0, 0, 0, 1],\n",
              " [0, 0, 0, 1],\n",
              " [0, 0, 0, 1],\n",
              " [1, 0, 0, 0],\n",
              " [0, 1, 0, 0],\n",
              " [1, 0, 0, 0],\n",
              " [0, 0, 0, 1],\n",
              " [0, 0, 0, 1],\n",
              " [0, 0, 0, 1],\n",
              " [0, 0, 0, 1],\n",
              " [1, 0, 0, 0],\n",
              " [0, 1, 0, 0],\n",
              " [0, 0, 0, 1],\n",
              " [1, 0, 0, 0],\n",
              " [0, 0, 0, 1],\n",
              " [1, 0, 0, 0],\n",
              " [1, 0, 0, 0],\n",
              " [0, 1, 0, 0],\n",
              " [1, 0, 0, 0],\n",
              " [1, 0, 0, 0],\n",
              " [1, 0, 0, 0],\n",
              " [0, 1, 0, 0],\n",
              " [0, 0, 0, 1],\n",
              " [0, 1, 0, 0],\n",
              " [1, 0, 0, 0],\n",
              " [1, 0, 0, 0],\n",
              " [1, 0, 0, 0],\n",
              " [1, 0, 0, 0],\n",
              " [0, 1, 0, 0],\n",
              " [1, 0, 0, 0],\n",
              " [1, 0, 0, 0],\n",
              " [0, 0, 0, 1],\n",
              " [1, 0, 0, 0],\n",
              " [1, 0, 0, 0],\n",
              " [1, 0, 0, 0],\n",
              " [1, 0, 0, 0],\n",
              " [1, 0, 0, 0],\n",
              " [0, 0, 0, 1],\n",
              " [1, 0, 0, 0],\n",
              " [0, 0, 0, 1],\n",
              " [1, 0, 0, 0],\n",
              " [1, 0, 0, 0],\n",
              " [1, 0, 0, 0],\n",
              " [1, 0, 0, 0],\n",
              " [1, 0, 0, 0],\n",
              " [1, 0, 0, 0],\n",
              " [0, 0, 0, 1],\n",
              " [0, 0, 0, 1],\n",
              " [0, 0, 0, 1],\n",
              " [1, 0, 0, 0],\n",
              " [1, 0, 0, 0],\n",
              " [1, 0, 0, 0],\n",
              " [0, 0, 0, 1],\n",
              " [1, 0, 0, 0],\n",
              " [1, 0, 0, 0],\n",
              " [1, 0, 0, 0],\n",
              " [1, 0, 0, 0],\n",
              " [1, 0, 0, 0],\n",
              " [0, 0, 1, 0],\n",
              " [1, 0, 0, 0],\n",
              " [0, 1, 0, 0],\n",
              " [0, 0, 0, 1],\n",
              " [1, 0, 0, 0],\n",
              " [1, 0, 0, 0],\n",
              " [1, 0, 0, 0],\n",
              " [0, 1, 0, 0],\n",
              " [1, 0, 0, 0],\n",
              " [0, 0, 0, 1],\n",
              " [0, 1, 0, 0],\n",
              " [1, 0, 0, 0],\n",
              " [1, 0, 0, 0],\n",
              " [1, 0, 0, 0],\n",
              " [1, 0, 0, 0],\n",
              " [0, 1, 0, 0],\n",
              " [1, 0, 0, 0],\n",
              " [0, 1, 0, 0],\n",
              " [1, 0, 0, 0],\n",
              " [1, 0, 0, 0],\n",
              " [1, 0, 0, 0],\n",
              " [0, 1, 0, 0],\n",
              " [1, 0, 0, 0],\n",
              " [0, 0, 0, 1],\n",
              " [0, 0, 0, 1],\n",
              " [1, 0, 0, 0],\n",
              " [0, 0, 0, 1],\n",
              " [0, 0, 0, 1],\n",
              " [0, 0, 0, 1],\n",
              " [0, 1, 0, 0],\n",
              " [1, 0, 0, 0],\n",
              " [0, 0, 0, 1],\n",
              " [1, 0, 0, 0],\n",
              " [1, 0, 0, 0],\n",
              " [0, 1, 0, 0],\n",
              " [1, 0, 0, 0],\n",
              " [0, 1, 0, 0],\n",
              " [0, 0, 0, 1],\n",
              " [0, 1, 0, 0],\n",
              " [0, 0, 0, 1],\n",
              " [0, 0, 0, 1],\n",
              " [1, 0, 0, 0],\n",
              " [1, 0, 0, 0],\n",
              " [0, 0, 0, 1],\n",
              " [0, 0, 0, 1],\n",
              " [0, 0, 0, 1],\n",
              " [1, 0, 0, 0],\n",
              " [1, 0, 0, 0],\n",
              " [0, 0, 0, 1],\n",
              " [1, 0, 0, 0],\n",
              " [1, 0, 0, 0],\n",
              " [0, 0, 0, 1],\n",
              " [1, 0, 0, 0],\n",
              " [0, 0, 0, 1],\n",
              " [1, 0, 0, 0],\n",
              " [0, 0, 0, 1],\n",
              " [0, 0, 0, 1],\n",
              " [0, 0, 0, 1],\n",
              " [0, 0, 0, 1],\n",
              " [0, 0, 0, 1],\n",
              " [1, 0, 0, 0],\n",
              " [0, 0, 0, 1],\n",
              " [0, 0, 0, 1],\n",
              " [1, 0, 0, 0],\n",
              " [0, 0, 0, 1],\n",
              " [1, 0, 0, 0],\n",
              " [1, 0, 0, 0],\n",
              " [1, 0, 0, 0],\n",
              " [1, 0, 0, 0],\n",
              " [1, 0, 0, 0],\n",
              " [0, 0, 0, 1],\n",
              " [1, 0, 0, 0],\n",
              " [0, 0, 0, 1],\n",
              " [0, 0, 0, 1],\n",
              " [0, 0, 0, 1],\n",
              " [1, 0, 0, 0],\n",
              " [0, 0, 0, 1],\n",
              " [0, 0, 0, 1],\n",
              " [0, 0, 0, 1],\n",
              " [1, 0, 0, 0],\n",
              " [1, 0, 0, 0],\n",
              " [0, 0, 0, 1],\n",
              " [0, 0, 0, 1],\n",
              " [0, 0, 0, 1],\n",
              " [0, 0, 0, 1],\n",
              " [0, 0, 0, 1],\n",
              " [0, 0, 0, 1],\n",
              " [1, 0, 0, 0],\n",
              " [0, 1, 0, 0],\n",
              " [1, 0, 0, 0],\n",
              " [0, 0, 1, 0],\n",
              " [1, 0, 0, 0],\n",
              " [0, 0, 0, 1],\n",
              " [1, 0, 0, 0],\n",
              " [0, 0, 0, 1],\n",
              " [1, 0, 0, 0],\n",
              " [0, 0, 0, 1],\n",
              " [0, 0, 1, 0],\n",
              " [0, 1, 0, 0],\n",
              " [0, 0, 0, 1],\n",
              " [0, 0, 0, 1],\n",
              " [1, 0, 0, 0],\n",
              " [1, 0, 0, 0],\n",
              " [1, 0, 0, 0],\n",
              " [0, 0, 0, 1],\n",
              " [0, 0, 0, 1],\n",
              " [1, 0, 0, 0],\n",
              " [0, 0, 0, 1],\n",
              " [0, 1, 0, 0],\n",
              " [1, 0, 0, 0],\n",
              " [1, 0, 0, 0],\n",
              " [1, 0, 0, 0],\n",
              " [1, 0, 0, 0],\n",
              " [1, 0, 0, 0],\n",
              " [0, 0, 0, 1],\n",
              " [0, 1, 0, 0],\n",
              " [1, 0, 0, 0],\n",
              " [1, 0, 0, 0],\n",
              " [1, 0, 0, 0],\n",
              " [1, 0, 0, 0],\n",
              " [0, 0, 0, 1],\n",
              " [1, 0, 0, 0],\n",
              " [0, 0, 0, 1],\n",
              " [1, 0, 0, 0],\n",
              " [1, 0, 0, 0],\n",
              " [1, 0, 0, 0],\n",
              " [1, 0, 0, 0],\n",
              " [1, 0, 0, 0],\n",
              " [1, 0, 0, 0],\n",
              " [1, 0, 0, 0],\n",
              " [0, 0, 0, 1],\n",
              " [1, 0, 0, 0],\n",
              " [0, 0, 0, 1],\n",
              " [0, 0, 1, 0],\n",
              " [1, 0, 0, 0],\n",
              " [0, 0, 0, 1],\n",
              " [0, 1, 0, 0],\n",
              " [0, 0, 0, 1],\n",
              " [0, 1, 0, 0],\n",
              " [0, 1, 0, 0],\n",
              " [0, 0, 0, 1],\n",
              " [1, 0, 0, 0],\n",
              " [0, 0, 0, 1],\n",
              " [1, 0, 0, 0],\n",
              " [0, 0, 0, 1],\n",
              " [1, 0, 0, 0],\n",
              " [1, 0, 0, 0],\n",
              " [1, 0, 0, 0],\n",
              " [0, 0, 0, 1],\n",
              " [1, 0, 0, 0],\n",
              " [1, 0, 0, 0],\n",
              " [1, 0, 0, 0],\n",
              " [0, 0, 0, 1],\n",
              " [1, 0, 0, 0],\n",
              " [1, 0, 0, 0],\n",
              " [1, 0, 0, 0],\n",
              " [1, 0, 0, 0],\n",
              " [1, 0, 0, 0],\n",
              " [1, 0, 0, 0],\n",
              " [1, 0, 0, 0],\n",
              " [1, 0, 0, 0],\n",
              " [1, 0, 0, 0],\n",
              " [1, 0, 0, 0],\n",
              " [1, 0, 0, 0],\n",
              " [1, 0, 0, 0],\n",
              " [1, 0, 0, 0],\n",
              " [1, 0, 0, 0],\n",
              " [1, 0, 0, 0],\n",
              " [1, 0, 0, 0],\n",
              " [1, 0, 0, 0],\n",
              " [1, 0, 0, 0],\n",
              " [1, 0, 0, 0],\n",
              " [1, 0, 0, 0],\n",
              " [0, 0, 0, 1],\n",
              " [1, 0, 0, 0],\n",
              " [0, 0, 0, 1],\n",
              " [1, 0, 0, 0],\n",
              " [1, 0, 0, 0],\n",
              " [1, 0, 0, 0],\n",
              " [0, 1, 0, 0],\n",
              " [1, 0, 0, 0],\n",
              " [0, 0, 0, 1],\n",
              " [1, 0, 0, 0],\n",
              " [1, 0, 0, 0],\n",
              " [0, 0, 0, 1],\n",
              " [1, 0, 0, 0],\n",
              " [0, 0, 0, 1],\n",
              " [0, 0, 0, 1],\n",
              " [0, 1, 0, 0],\n",
              " [0, 0, 0, 1],\n",
              " [0, 0, 0, 1],\n",
              " [0, 1, 0, 0],\n",
              " [0, 0, 0, 1],\n",
              " [0, 0, 0, 1],\n",
              " [1, 0, 0, 0],\n",
              " [0, 0, 0, 1],\n",
              " [1, 0, 0, 0],\n",
              " [0, 1, 0, 0],\n",
              " [1, 0, 0, 0],\n",
              " [1, 0, 0, 0],\n",
              " [1, 0, 0, 0],\n",
              " [0, 0, 0, 1],\n",
              " [0, 1, 0, 0],\n",
              " [1, 0, 0, 0],\n",
              " [1, 0, 0, 0],\n",
              " [1, 0, 0, 0],\n",
              " [1, 0, 0, 0],\n",
              " [1, 0, 0, 0],\n",
              " [1, 0, 0, 0],\n",
              " [1, 0, 0, 0],\n",
              " [1, 0, 0, 0],\n",
              " [1, 0, 0, 0],\n",
              " [1, 0, 0, 0],\n",
              " [1, 0, 0, 0],\n",
              " [0, 1, 0, 0],\n",
              " [1, 0, 0, 0],\n",
              " [1, 0, 0, 0],\n",
              " [0, 0, 0, 1],\n",
              " [0, 0, 0, 1],\n",
              " [1, 0, 0, 0],\n",
              " [1, 0, 0, 0],\n",
              " [1, 0, 0, 0],\n",
              " [1, 0, 0, 0],\n",
              " [0, 0, 0, 1],\n",
              " [1, 0, 0, 0],\n",
              " [0, 0, 0, 1],\n",
              " [0, 1, 0, 0],\n",
              " [1, 0, 0, 0],\n",
              " [1, 0, 0, 0],\n",
              " [0, 0, 0, 1],\n",
              " [1, 0, 0, 0],\n",
              " [1, 0, 0, 0],\n",
              " [0, 0, 0, 1],\n",
              " [1, 0, 0, 0],\n",
              " [1, 0, 0, 0],\n",
              " [0, 0, 0, 1],\n",
              " [0, 1, 0, 0],\n",
              " [1, 0, 0, 0],\n",
              " [0, 0, 0, 1],\n",
              " [0, 1, 0, 0],\n",
              " [1, 0, 0, 0],\n",
              " [1, 0, 0, 0],\n",
              " [0, 1, 0, 0],\n",
              " [0, 0, 0, 1],\n",
              " [0, 0, 0, 1],\n",
              " [0, 0, 0, 1],\n",
              " [0, 0, 0, 1],\n",
              " [0, 0, 0, 1],\n",
              " [0, 0, 0, 1],\n",
              " [0, 1, 0, 0],\n",
              " [1, 0, 0, 0],\n",
              " [0, 0, 0, 1],\n",
              " [1, 0, 0, 0],\n",
              " [1, 0, 0, 0],\n",
              " [0, 0, 0, 1],\n",
              " [0, 0, 0, 1],\n",
              " [0, 0, 0, 1],\n",
              " [1, 0, 0, 0],\n",
              " [0, 1, 0, 0],\n",
              " [1, 0, 0, 0],\n",
              " [1, 0, 0, 0],\n",
              " [0, 1, 0, 0],\n",
              " [0, 0, 0, 1],\n",
              " [1, 0, 0, 0],\n",
              " [0, 0, 1, 0],\n",
              " [0, 0, 0, 1],\n",
              " [1, 0, 0, 0],\n",
              " [0, 0, 0, 1],\n",
              " [1, 0, 0, 0],\n",
              " [1, 0, 0, 0],\n",
              " [1, 0, 0, 0],\n",
              " [0, 0, 0, 1],\n",
              " [1, 0, 0, 0],\n",
              " [1, 0, 0, 0],\n",
              " [1, 0, 0, 0],\n",
              " [0, 0, 0, 1],\n",
              " [0, 0, 0, 1],\n",
              " [1, 0, 0, 0],\n",
              " [1, 0, 0, 0],\n",
              " [0, 1, 0, 0],\n",
              " [0, 0, 0, 1],\n",
              " [1, 0, 0, 0],\n",
              " [1, 0, 0, 0],\n",
              " [1, 0, 0, 0],\n",
              " [1, 0, 0, 0],\n",
              " [1, 0, 0, 0],\n",
              " [1, 0, 0, 0],\n",
              " [1, 0, 0, 0],\n",
              " [1, 0, 0, 0],\n",
              " [1, 0, 0, 0],\n",
              " [0, 0, 0, 1],\n",
              " [1, 0, 0, 0],\n",
              " [0, 0, 0, 1],\n",
              " [1, 0, 0, 0],\n",
              " [1, 0, 0, 0],\n",
              " [0, 1, 0, 0],\n",
              " [0, 0, 1, 0],\n",
              " [1, 0, 0, 0],\n",
              " [0, 0, 0, 1],\n",
              " [1, 0, 0, 0],\n",
              " [1, 0, 0, 0],\n",
              " [1, 0, 0, 0],\n",
              " [1, 0, 0, 0],\n",
              " [0, 0, 0, 1],\n",
              " [1, 0, 0, 0],\n",
              " [0, 1, 0, 0],\n",
              " [1, 0, 0, 0],\n",
              " [1, 0, 0, 0],\n",
              " [0, 0, 0, 1],\n",
              " [0, 0, 0, 1],\n",
              " [1, 0, 0, 0],\n",
              " [1, 0, 0, 0],\n",
              " [1, 0, 0, 0],\n",
              " [1, 0, 0, 0],\n",
              " [0, 1, 0, 0],\n",
              " [1, 0, 0, 0],\n",
              " [1, 0, 0, 0],\n",
              " [1, 0, 0, 0],\n",
              " [0, 0, 0, 1],\n",
              " [1, 0, 0, 0],\n",
              " [1, 0, 0, 0],\n",
              " [1, 0, 0, 0],\n",
              " [1, 0, 0, 0],\n",
              " [1, 0, 0, 0],\n",
              " [1, 0, 0, 0],\n",
              " [0, 1, 0, 0],\n",
              " [1, 0, 0, 0],\n",
              " [0, 1, 0, 0],\n",
              " [1, 0, 0, 0],\n",
              " [1, 0, 0, 0],\n",
              " [1, 0, 0, 0],\n",
              " [0, 0, 0, 1],\n",
              " [1, 0, 0, 0],\n",
              " [0, 0, 0, 1],\n",
              " [0, 1, 0, 0],\n",
              " [0, 0, 0, 1],\n",
              " [1, 0, 0, 0],\n",
              " [1, 0, 0, 0],\n",
              " [1, 0, 0, 0],\n",
              " [1, 0, 0, 0],\n",
              " [1, 0, 0, 0],\n",
              " [1, 0, 0, 0],\n",
              " [1, 0, 0, 0],\n",
              " [1, 0, 0, 0],\n",
              " [1, 0, 0, 0],\n",
              " [1, 0, 0, 0],\n",
              " [1, 0, 0, 0],\n",
              " [0, 0, 0, 1],\n",
              " [0, 0, 0, 1],\n",
              " [1, 0, 0, 0],\n",
              " [1, 0, 0, 0],\n",
              " [0, 0, 0, 1],\n",
              " [1, 0, 0, 0],\n",
              " [1, 0, 0, 0],\n",
              " [1, 0, 0, 0],\n",
              " [1, 0, 0, 0],\n",
              " [1, 0, 0, 0],\n",
              " [0, 0, 0, 1],\n",
              " [1, 0, 0, 0],\n",
              " [0, 1, 0, 0],\n",
              " [0, 0, 0, 1],\n",
              " [0, 1, 0, 0],\n",
              " [1, 0, 0, 0],\n",
              " [1, 0, 0, 0],\n",
              " [0, 0, 0, 1],\n",
              " [1, 0, 0, 0],\n",
              " [1, 0, 0, 0],\n",
              " [1, 0, 0, 0],\n",
              " [1, 0, 0, 0],\n",
              " [1, 0, 0, 0],\n",
              " [1, 0, 0, 0],\n",
              " [0, 1, 0, 0],\n",
              " [0, 0, 0, 1],\n",
              " [0, 0, 0, 1],\n",
              " [1, 0, 0, 0],\n",
              " [0, 1, 0, 0],\n",
              " [1, 0, 0, 0],\n",
              " [1, 0, 0, 0],\n",
              " [1, 0, 0, 0],\n",
              " [0, 1, 0, 0],\n",
              " [1, 0, 0, 0],\n",
              " [1, 0, 0, 0],\n",
              " [0, 0, 0, 1],\n",
              " [0, 0, 0, 1],\n",
              " [1, 0, 0, 0],\n",
              " [1, 0, 0, 0],\n",
              " [0, 1, 0, 0],\n",
              " [1, 0, 0, 0],\n",
              " [1, 0, 0, 0],\n",
              " [1, 0, 0, 0],\n",
              " [1, 0, 0, 0],\n",
              " [0, 0, 0, 1],\n",
              " [1, 0, 0, 0],\n",
              " [1, 0, 0, 0],\n",
              " [1, 0, 0, 0],\n",
              " [0, 1, 0, 0],\n",
              " [1, 0, 0, 0],\n",
              " [1, 0, 0, 0],\n",
              " [0, 0, 0, 1],\n",
              " [1, 0, 0, 0],\n",
              " [0, 0, 0, 1],\n",
              " [1, 0, 0, 0],\n",
              " [1, 0, 0, 0],\n",
              " [0, 0, 0, 1],\n",
              " [1, 0, 0, 0],\n",
              " [1, 0, 0, 0],\n",
              " [1, 0, 0, 0],\n",
              " [0, 0, 0, 1],\n",
              " [1, 0, 0, 0],\n",
              " [1, 0, 0, 0],\n",
              " [1, 0, 0, 0],\n",
              " [1, 0, 0, 0],\n",
              " [1, 0, 0, 0],\n",
              " [1, 0, 0, 0],\n",
              " [0, 0, 0, 1],\n",
              " [0, 1, 0, 0],\n",
              " [1, 0, 0, 0],\n",
              " [1, 0, 0, 0],\n",
              " [1, 0, 0, 0],\n",
              " [0, 1, 0, 0],\n",
              " [0, 0, 0, 1],\n",
              " [1, 0, 0, 0],\n",
              " [0, 1, 0, 0],\n",
              " [1, 0, 0, 0],\n",
              " [0, 0, 0, 1],\n",
              " [0, 0, 0, 1],\n",
              " [0, 0, 0, 1],\n",
              " [0, 0, 1, 0],\n",
              " [0, 0, 0, 1],\n",
              " [0, 0, 0, 1],\n",
              " [0, 0, 0, 1],\n",
              " [1, 0, 0, 0],\n",
              " [0, 0, 0, 1],\n",
              " [0, 0, 0, 1],\n",
              " [0, 1, 0, 0],\n",
              " [1, 0, 0, 0],\n",
              " [0, 0, 0, 1],\n",
              " [1, 0, 0, 0],\n",
              " [1, 0, 0, 0],\n",
              " [0, 0, 0, 1],\n",
              " [1, 0, 0, 0],\n",
              " [0, 1, 0, 0],\n",
              " [1, 0, 0, 0],\n",
              " [0, 0, 0, 1],\n",
              " [0, 1, 0, 0],\n",
              " [0, 0, 0, 1],\n",
              " [1, 0, 0, 0],\n",
              " [1, 0, 0, 0],\n",
              " [0, 0, 0, 1],\n",
              " [1, 0, 0, 0],\n",
              " [1, 0, 0, 0],\n",
              " [1, 0, 0, 0],\n",
              " [1, 0, 0, 0],\n",
              " [0, 1, 0, 0],\n",
              " [0, 0, 0, 1],\n",
              " [0, 1, 0, 0],\n",
              " [1, 0, 0, 0],\n",
              " [0, 1, 0, 0],\n",
              " [1, 0, 0, 0],\n",
              " [1, 0, 0, 0],\n",
              " [0, 0, 0, 1],\n",
              " [1, 0, 0, 0],\n",
              " [1, 0, 0, 0],\n",
              " [1, 0, 0, 0],\n",
              " [1, 0, 0, 0],\n",
              " [1, 0, 0, 0],\n",
              " [0, 1, 0, 0],\n",
              " [0, 0, 0, 1],\n",
              " [1, 0, 0, 0],\n",
              " [1, 0, 0, 0],\n",
              " [0, 0, 0, 1],\n",
              " [1, 0, 0, 0],\n",
              " [1, 0, 0, 0],\n",
              " [1, 0, 0, 0],\n",
              " [0, 1, 0, 0],\n",
              " [1, 0, 0, 0],\n",
              " [0, 0, 0, 1],\n",
              " [0, 0, 0, 1],\n",
              " [1, 0, 0, 0],\n",
              " [1, 0, 0, 0],\n",
              " [1, 0, 0, 0],\n",
              " [1, 0, 0, 0],\n",
              " [0, 0, 0, 1],\n",
              " [1, 0, 0, 0],\n",
              " [1, 0, 0, 0],\n",
              " [1, 0, 0, 0],\n",
              " [1, 0, 0, 0],\n",
              " [0, 0, 0, 1],\n",
              " [0, 0, 0, 1],\n",
              " [0, 0, 0, 1],\n",
              " [0, 1, 0, 0],\n",
              " [0, 1, 0, 0],\n",
              " [0, 0, 0, 1],\n",
              " [0, 0, 0, 1],\n",
              " [1, 0, 0, 0],\n",
              " [0, 0, 0, 1],\n",
              " [1, 0, 0, 0],\n",
              " [1, 0, 0, 0],\n",
              " [0, 0, 0, 1],\n",
              " [1, 0, 0, 0],\n",
              " [1, 0, 0, 0],\n",
              " [0, 0, 0, 1],\n",
              " [1, 0, 0, 0],\n",
              " [0, 0, 0, 1],\n",
              " [1, 0, 0, 0],\n",
              " [0, 0, 0, 1],\n",
              " [0, 0, 0, 1],\n",
              " [1, 0, 0, 0],\n",
              " [1, 0, 0, 0],\n",
              " [1, 0, 0, 0],\n",
              " [0, 1, 0, 0],\n",
              " [0, 0, 0, 1],\n",
              " [1, 0, 0, 0],\n",
              " [1, 0, 0, 0],\n",
              " [1, 0, 0, 0],\n",
              " [1, 0, 0, 0],\n",
              " [0, 1, 0, 0],\n",
              " [1, 0, 0, 0],\n",
              " [1, 0, 0, 0],\n",
              " [1, 0, 0, 0],\n",
              " [1, 0, 0, 0],\n",
              " [1, 0, 0, 0],\n",
              " [1, 0, 0, 0],\n",
              " [1, 0, 0, 0],\n",
              " [0, 0, 0, 1],\n",
              " [1, 0, 0, 0],\n",
              " [0, 1, 0, 0],\n",
              " [1, 0, 0, 0],\n",
              " [0, 0, 0, 1],\n",
              " [1, 0, 0, 0],\n",
              " [0, 0, 0, 1],\n",
              " [0, 0, 0, 1],\n",
              " [1, 0, 0, 0],\n",
              " [0, 1, 0, 0],\n",
              " [0, 0, 0, 1],\n",
              " [0, 0, 0, 1],\n",
              " [1, 0, 0, 0],\n",
              " [1, 0, 0, 0],\n",
              " [0, 0, 0, 1],\n",
              " [1, 0, 0, 0],\n",
              " [0, 0, 0, 1],\n",
              " [1, 0, 0, 0],\n",
              " [1, 0, 0, 0],\n",
              " [0, 1, 0, 0],\n",
              " [0, 0, 0, 1],\n",
              " [0, 0, 0, 1],\n",
              " [0, 1, 0, 0],\n",
              " [1, 0, 0, 0],\n",
              " [0, 0, 0, 1],\n",
              " [1, 0, 0, 0],\n",
              " [1, 0, 0, 0],\n",
              " [0, 1, 0, 0],\n",
              " [0, 1, 0, 0],\n",
              " [1, 0, 0, 0],\n",
              " [1, 0, 0, 0],\n",
              " [0, 0, 0, 1],\n",
              " [1, 0, 0, 0],\n",
              " [1, 0, 0, 0],\n",
              " [1, 0, 0, 0],\n",
              " [1, 0, 0, 0],\n",
              " [0, 0, 0, 1],\n",
              " [1, 0, 0, 0],\n",
              " [1, 0, 0, 0],\n",
              " [0, 0, 0, 1],\n",
              " [1, 0, 0, 0],\n",
              " [0, 1, 0, 0],\n",
              " [1, 0, 0, 0],\n",
              " [1, 0, 0, 0],\n",
              " [1, 0, 0, 0],\n",
              " [0, 0, 0, 1],\n",
              " [1, 0, 0, 0],\n",
              " [1, 0, 0, 0],\n",
              " [1, 0, 0, 0],\n",
              " [0, 0, 0, 1],\n",
              " [1, 0, 0, 0],\n",
              " [0, 0, 0, 1],\n",
              " [0, 0, 0, 1],\n",
              " [1, 0, 0, 0],\n",
              " [1, 0, 0, 0],\n",
              " [1, 0, 0, 0],\n",
              " [1, 0, 0, 0],\n",
              " [0, 0, 0, 1],\n",
              " [1, 0, 0, 0],\n",
              " [1, 0, 0, 0],\n",
              " ...]"
            ]
          },
          "metadata": {
            "tags": []
          },
          "execution_count": 67
        }
      ]
    },
    {
      "cell_type": "code",
      "metadata": {
        "colab": {
          "base_uri": "https://localhost:8080/"
        },
        "id": "qavY83vOwJuI",
        "outputId": "0d6a3bb5-8b96-436d-e42c-2144a13127ef"
      },
      "source": [
        "X_train[1].shape"
      ],
      "execution_count": null,
      "outputs": [
        {
          "output_type": "execute_result",
          "data": {
            "text/plain": [
              "(3000,)"
            ]
          },
          "metadata": {
            "tags": []
          },
          "execution_count": 96
        }
      ]
    },
    {
      "cell_type": "markdown",
      "metadata": {
        "id": "wQaiHF-BoSuk"
      },
      "source": [
        "And now we'll use classification (0,0.25,0.5 and 1 or consider the labels as floats)"
      ]
    },
    {
      "cell_type": "code",
      "metadata": {
        "id": "GZ9rTgzBshug"
      },
      "source": [
        "from sklearn.model_selection import train_test_split\n",
        "X_train, X_test, y_train, y_test = train_test_split(X, Y, test_size=0.33, random_state=42)"
      ],
      "execution_count": null,
      "outputs": []
    },
    {
      "cell_type": "code",
      "metadata": {
        "id": "XmNU28s9w9aO"
      },
      "source": [
        "y_test=np.array(y_test)\n",
        "y_train=np.array(y_train)"
      ],
      "execution_count": null,
      "outputs": []
    },
    {
      "cell_type": "code",
      "metadata": {
        "colab": {
          "base_uri": "https://localhost:8080/"
        },
        "id": "_8NN1rFns0Eb",
        "outputId": "9fd95078-b774-4af1-e172-e4d9660e2490"
      },
      "source": [
        "X_train.shape"
      ],
      "execution_count": null,
      "outputs": [
        {
          "output_type": "execute_result",
          "data": {
            "text/plain": [
              "(3240, 3000)"
            ]
          },
          "metadata": {
            "tags": []
          },
          "execution_count": 71
        }
      ]
    },
    {
      "cell_type": "code",
      "metadata": {
        "id": "DxgIbrHHr-Xk"
      },
      "source": [
        "import keras\n",
        "from keras.layers.normalization import BatchNormalization\n",
        "from keras.layers import Activation, Flatten,Softmax\n",
        "from keras.layers import Dense\n",
        "from keras.layers import Dropout\n",
        "from keras.models import Sequential\n",
        "from keras import optimizers"
      ],
      "execution_count": null,
      "outputs": []
    },
    {
      "cell_type": "code",
      "metadata": {
        "id": "cWJHy87PsMco"
      },
      "source": [
        "def Model():\n",
        "  model=Sequential()\n",
        "  model.add(keras.Input(shape=(3000,)))\n",
        "  model.add(Dense(1500,activation='relu'))\n",
        "  model.add(Dropout(0.25))\n",
        "  model.add(Dense(750,activation='relu'))\n",
        "  model.add(Dropout(0.25))\n",
        "  model.add(Dense(4,activation='softmax'))\n",
        "  adam = optimizers.Adam(lr = 0.001)\n",
        "  model.compile(loss=keras.losses.categorical_crossentropy,\n",
        "                  optimizer= adam,\n",
        "                  metrics=['accuracy'])\n",
        "  return model"
      ],
      "execution_count": null,
      "outputs": []
    },
    {
      "cell_type": "code",
      "metadata": {
        "id": "WCR3WUiDu53D"
      },
      "source": [
        "model=Model()"
      ],
      "execution_count": null,
      "outputs": []
    },
    {
      "cell_type": "code",
      "metadata": {
        "colab": {
          "base_uri": "https://localhost:8080/"
        },
        "id": "g-cX7v0dwffM",
        "outputId": "f829f16a-a1a0-4621-e1b6-be24077038dd"
      },
      "source": [
        "model.summary()"
      ],
      "execution_count": null,
      "outputs": [
        {
          "output_type": "stream",
          "text": [
            "Model: \"sequential_5\"\n",
            "_________________________________________________________________\n",
            "Layer (type)                 Output Shape              Param #   \n",
            "=================================================================\n",
            "dense_14 (Dense)             (None, 1500)              4501500   \n",
            "_________________________________________________________________\n",
            "dropout_9 (Dropout)          (None, 1500)              0         \n",
            "_________________________________________________________________\n",
            "dense_15 (Dense)             (None, 750)               1125750   \n",
            "_________________________________________________________________\n",
            "dropout_10 (Dropout)         (None, 750)               0         \n",
            "_________________________________________________________________\n",
            "dense_16 (Dense)             (None, 4)                 3004      \n",
            "=================================================================\n",
            "Total params: 5,630,254\n",
            "Trainable params: 5,630,254\n",
            "Non-trainable params: 0\n",
            "_________________________________________________________________\n"
          ],
          "name": "stdout"
        }
      ]
    },
    {
      "cell_type": "code",
      "metadata": {
        "colab": {
          "base_uri": "https://localhost:8080/"
        },
        "id": "LPtbO9ufyTGX",
        "outputId": "9e024102-528d-4e11-e549-62a9687f0198"
      },
      "source": [
        "y_train.shape"
      ],
      "execution_count": null,
      "outputs": [
        {
          "output_type": "execute_result",
          "data": {
            "text/plain": [
              "(3240, 4)"
            ]
          },
          "metadata": {
            "tags": []
          },
          "execution_count": 114
        }
      ]
    },
    {
      "cell_type": "code",
      "metadata": {
        "colab": {
          "base_uri": "https://localhost:8080/"
        },
        "id": "Hs56P3PYwkMz",
        "outputId": "c0365b87-8da3-40ce-9f31-59ed5c10afb5"
      },
      "source": [
        "model.fit(X_train,y_train, validation_split=0.2 ,epochs=10, batch_size=128)"
      ],
      "execution_count": null,
      "outputs": [
        {
          "output_type": "stream",
          "text": [
            "Epoch 1/10\n",
            "21/21 [==============================] - 2s 98ms/step - loss: 0.0266 - accuracy: 0.9904 - val_loss: 0.6544 - val_accuracy: 0.8117\n",
            "Epoch 2/10\n",
            "21/21 [==============================] - 2s 95ms/step - loss: 0.0197 - accuracy: 0.9907 - val_loss: 0.6445 - val_accuracy: 0.8133\n",
            "Epoch 3/10\n",
            "21/21 [==============================] - 2s 95ms/step - loss: 0.0192 - accuracy: 0.9900 - val_loss: 0.6887 - val_accuracy: 0.8071\n",
            "Epoch 4/10\n",
            "21/21 [==============================] - 2s 94ms/step - loss: 0.0155 - accuracy: 0.9938 - val_loss: 0.6882 - val_accuracy: 0.8086\n",
            "Epoch 5/10\n",
            "21/21 [==============================] - 2s 93ms/step - loss: 0.0136 - accuracy: 0.9969 - val_loss: 0.7257 - val_accuracy: 0.8086\n",
            "Epoch 6/10\n",
            "21/21 [==============================] - 2s 93ms/step - loss: 0.0127 - accuracy: 0.9969 - val_loss: 0.7243 - val_accuracy: 0.8056\n",
            "Epoch 7/10\n",
            "21/21 [==============================] - 2s 94ms/step - loss: 0.0064 - accuracy: 0.9988 - val_loss: 0.7334 - val_accuracy: 0.8102\n",
            "Epoch 8/10\n",
            "21/21 [==============================] - 2s 95ms/step - loss: 0.0070 - accuracy: 0.9973 - val_loss: 0.7448 - val_accuracy: 0.8071\n",
            "Epoch 9/10\n",
            "21/21 [==============================] - 2s 94ms/step - loss: 0.0069 - accuracy: 0.9981 - val_loss: 0.7885 - val_accuracy: 0.8086\n",
            "Epoch 10/10\n",
            "21/21 [==============================] - 2s 95ms/step - loss: 0.0093 - accuracy: 0.9981 - val_loss: 0.7525 - val_accuracy: 0.8117\n"
          ],
          "name": "stdout"
        },
        {
          "output_type": "execute_result",
          "data": {
            "text/plain": [
              "<tensorflow.python.keras.callbacks.History at 0x7fd539150518>"
            ]
          },
          "metadata": {
            "tags": []
          },
          "execution_count": 107
        }
      ]
    },
    {
      "cell_type": "code",
      "metadata": {
        "colab": {
          "base_uri": "https://localhost:8080/"
        },
        "id": "wFix2uM2xsWk",
        "outputId": "293f7fde-194d-4771-e454-497f5620b24b"
      },
      "source": [
        "# Evaluate the model on the test data using `evaluate`\n",
        "print(\"Evaluate on test data\")\n",
        "results = model.evaluate(X_test, y_test, batch_size=128)\n",
        "print(\"test loss, test acc:\", results)"
      ],
      "execution_count": null,
      "outputs": [
        {
          "output_type": "stream",
          "text": [
            "Evaluate on test data\n",
            "13/13 [==============================] - 0s 31ms/step - loss: 0.6962 - accuracy: 0.8340\n",
            "test loss, test acc: [0.6962292790412903, 0.8339598774909973]\n"
          ],
          "name": "stdout"
        }
      ]
    },
    {
      "cell_type": "markdown",
      "metadata": {
        "id": "Xf8fuIlux7LZ"
      },
      "source": [
        "The accuracy of the model on the te is pretty good 0.83 \n",
        "\n",
        "It could get better with a larger dataset (Translate the whole dataset which would give us a dataset which is twice as big).\n",
        "Make a neural network with more hidden layers."
      ]
    }
  ]
}